{
 "cells": [
  {
   "attachments": {},
   "cell_type": "markdown",
   "metadata": {},
   "source": [
    "# Building our database"
   ]
  },
  {
   "attachments": {},
   "cell_type": "markdown",
   "metadata": {},
   "source": [
    "## Objective\n",
    "\n",
    "The main goal of this notebook is to build a database with the information we have scraped from the web. We will use the `sqlite3` library to create a database and the `pandas` library to create a dataframe with the information we have scraped.\n",
    "\n"
   ]
  },
  {
   "attachments": {},
   "cell_type": "markdown",
   "metadata": {},
   "source": [
    "### Methodology\n",
    "\n",
    "Initially, we are going to get the stats of the games that we saved in the /data/scores folder, manipulate it and save it in a dataframe, storing in a SQL database. But we also have to deal with new daily incoming data. This new data comes from the /data/actual_month_scores folder. So, we are going to create a function that will be able to update the database with the new data, on a dalily basis.\n",
    "\n"
   ]
  },
  {
   "cell_type": "code",
   "execution_count": 20,
   "metadata": {},
   "outputs": [],
   "source": [
    "import os \n",
    "import pandas as pd\n",
    "from bs4 import BeautifulSoup\n",
    "import re\n",
    "from datetime import date\n",
    "from tqdm import tqdm\n",
    "import sqlalchemy\n",
    "import pickle\n",
    "\n",
    "\n",
    "    \n",
    "\n",
    "pd.set_option('mode.chained_assignment', None)"
   ]
  },
  {
   "cell_type": "code",
   "execution_count": 21,
   "metadata": {},
   "outputs": [],
   "source": [
    "#setting our directoys paths\n",
    "DATA_DIR = os.path.join(os.getcwd(), 'data')\n",
    "SCORE_DIR = os.path.join(DATA_DIR, 'scores')\n",
    "SCORE_DIR_ACTUAL = os.path.join(DATA_DIR, 'actual_month_scores')"
   ]
  },
  {
   "attachments": {},
   "cell_type": "markdown",
   "metadata": {},
   "source": [
    "Defining the functions that we will run:"
   ]
  },
  {
   "cell_type": "code",
   "execution_count": 22,
   "metadata": {},
   "outputs": [],
   "source": [
    "def clean_html(box_score):\n",
    "    \"\"\" Info:\n",
    "        This function will clean the html file and return a soup object\n",
    "        ---------------------------------------------------------------\n",
    "        Input:\n",
    "        box_score: html file\n",
    "        ---------------------------------------------------------------\n",
    "        Output:\n",
    "        soup: BeautifulSoup object\n",
    "        \"\"\"\n",
    "    \n",
    "    with open(box_score, 'r', encoding=\"utf-8\", errors='ignore') as f:\n",
    "        html = f.read()\n",
    "    \n",
    "    soup = BeautifulSoup(html)\n",
    "    [f.decompose() for f in soup.select('tr.over_header')]\n",
    "    [f.decompose() for f in soup.select('tr.thead')]\n",
    "    print('Box score readed and parsed to soup object')\n",
    "\n",
    "    return soup\n"
   ]
  },
  {
   "cell_type": "code",
   "execution_count": 23,
   "metadata": {},
   "outputs": [],
   "source": [
    "def get_score_line(soup):\n",
    "    \"\"\" Info:\n",
    "        This function will get the score line from the soup object\n",
    "        and return a dataframe with the score line.\n",
    "        ---------------------------------------------------------------\n",
    "        Input:\n",
    "        soup: BeautifulSoup object\n",
    "        ---------------------------------------------------------------\n",
    "        Output:\n",
    "        score_row: Dataframe with the score line of the game with total points.  \"\"\"\n",
    "\n",
    "    score_row = pd.read_html(str(soup), attrs={'id': 'line_score'})[0] # grab the first table, thats actually the table we want\n",
    "    print(score_row)\n",
    "    # we get to change name of first column and last column (total and teams names) because colunns dinamically change in between\n",
    "    try:\n",
    "        print('entering the try block for score line function')\n",
    "        score_row.columns.values[0] = 'Team' # first column with the teams name\n",
    "        score_row.columns.values[-1] = 'Total' # switch name of T for Total\n",
    "        score_row = score_row[['Team', 'Total']] # we get only the important values for us, and ignore the partial scores.\n",
    "    # if we get a key error, it means that \"None of [Index(['Team', 'Total'], dtype='object')] are in the [columns]\" so we need to change the name of the columns\n",
    "    except KeyError:\n",
    "        print('entering the except block')\n",
    "        #renaming the columns, 0 is the first column and we renaming to team, 'T' is the last column and we rename to 'Total'\n",
    "        score_row.rename(columns={0: 'Team', 'T': 'Total'}, inplace=True)\n",
    "        score_row = score_row[['Team', 'Total']] # we get only the important values for us, and ignore the partial scores.\n",
    "        print('Score line extracted under exception error')\n",
    "\n",
    "\n",
    "        \n",
    "     \n",
    "    return score_row\n",
    "\n"
   ]
  },
  {
   "cell_type": "code",
   "execution_count": 24,
   "metadata": {},
   "outputs": [],
   "source": [
    "#Now, we gonna create a function to grab the basic and advanced stats by team, in a list of the 2 teams that are playing each other\n",
    "def get_stats(soup, team, stat):\n",
    "    \"\"\" Info:\n",
    "        This function will get the stats from the soup object\n",
    "        and return a dataframe with the stats.\n",
    "        ---------------------------------------------------------------\n",
    "        Input:\n",
    "        soup: BeautifulSoup object\n",
    "        team: string with the team name\n",
    "        stat: string with the type of stats (basic or advanced)\n",
    "        ---------------------------------------------------------------\n",
    "        Output:\n",
    "        df: Dataframe with the stats of the game.  \"\"\"\n",
    "    \n",
    "    df = pd.read_html(str(soup), attrs={'id':f'box-{team}-game-{stat}'}, index_col=0)[0] # indexcol will be the players column\n",
    "    \n",
    "    df = df.apply(pd.to_numeric, errors='coerce')\n",
    "    return df"
   ]
  },
  {
   "cell_type": "code",
   "execution_count": 25,
   "metadata": {},
   "outputs": [],
   "source": [
    "#Function to get the season of that game.\n",
    "def get_game_season(soup):\n",
    "    \"\"\" Info:\n",
    "        This function will get the season of the game from the soup object\n",
    "        and return a string with the season.\n",
    "        ---------------------------------------------------------------\n",
    "        Input:\n",
    "        soup: BeautifulSoup object\n",
    "        ---------------------------------------------------------------\n",
    "        Output:\n",
    "        string: string with the season of the game.  \"\"\"\n",
    "    id = soup.select('#bottom_nav_container')[0]\n",
    "    string= id.find_all('u')[3] # this u tag has the exact season, so we use regex to extract it\n",
    "    return re.findall(r'\\d{4}-\\d{2}', str(string))[0]"
   ]
  },
  {
   "attachments": {},
   "cell_type": "markdown",
   "metadata": {},
   "source": [
    "We will have to run the following cell in order to build our initial database, which does not include the data from the current month.\n",
    "This will erase any previous database that we have created.\n",
    "\n",
    "We run this in 2 conditions:\n",
    "\n",
    "1 - First time we run the notebook\n",
    "\n",
    "2 - We havent run the notebook for a month or more, meaning that our past data is not up to date.\n",
    "\n"
   ]
  },
  {
   "cell_type": "code",
   "execution_count": 26,
   "metadata": {},
   "outputs": [],
   "source": [
    "# #Getting the names of or downloaded boxscore in a list if it is the first time running the code\n",
    "\n",
    "# #first, we decompress the compressed_games.zip file\n",
    "# import zipfile\n",
    "# import os\n",
    "# with zipfile.ZipFile('data/compressed_games.zip', 'r') as zip_ref:\n",
    "#     zip_ref.extractall('data/scores')\n",
    "\n",
    "# #then, we get the names of the files in the directory\n",
    "# box_scores_old = os.listdir(SCORE_DIR)\n",
    "\n",
    "# # joining the names of the boxscores with ther directory to a list of html files\n",
    "# box_scores_old = [os.path.join(SCORE_DIR, file) for file in box_scores_old if file.endswith('.html')] # file names\n",
    "\n",
    "# print(f'we have {len(box_scores_old)} games scraped')\n",
    "\n",
    "# games_scores = box_scores_old\n",
    "\n"
   ]
  },
  {
   "attachments": {},
   "cell_type": "markdown",
   "metadata": {},
   "source": [
    "## boxscores from actual month\n",
    "\n",
    "We are going to automactically update our database with the new data that we have scraped from the web. This will be done on a daily basis. We will have to run the following cell in order to update our database with the new data.\n",
    "\n",
    "If we have not run the notebook for a month or more, we will have to run the cell above in order to build our initial database, which does not include the data from the current month, and we run this cell after we are done with our first sql database."
   ]
  },
  {
   "cell_type": "code",
   "execution_count": 27,
   "metadata": {},
   "outputs": [
    {
     "name": "stdout",
     "output_type": "stream",
     "text": [
      "we have 80 games scraped\n"
     ]
    }
   ],
   "source": [
    "\n",
    "box_scores = os.listdir(SCORE_DIR_ACTUAL)\n",
    "\n",
    "# joining the names of the boxscores with ther directory\n",
    "box_scores = [os.path.join(SCORE_DIR_ACTUAL, file) for file in box_scores if file.endswith('.html')] # file names\n",
    "\n",
    "print(f'we have {len(box_scores)} games scraped')\n",
    "\n",
    "\n",
    "games_scores = box_scores"
   ]
  },
  {
   "cell_type": "code",
   "execution_count": 28,
   "metadata": {},
   "outputs": [
    {
     "data": {
      "text/plain": [
       "['c:\\\\Users\\\\joaot\\\\1 notebooks\\\\NBA-game-outcome\\\\Web Scraping\\\\data\\\\actual_month_scores\\\\202304010MIA.html',\n",
       " 'c:\\\\Users\\\\joaot\\\\1 notebooks\\\\NBA-game-outcome\\\\Web Scraping\\\\data\\\\actual_month_scores\\\\202304010NOP.html',\n",
       " 'c:\\\\Users\\\\joaot\\\\1 notebooks\\\\NBA-game-outcome\\\\Web Scraping\\\\data\\\\actual_month_scores\\\\202304020ATL.html',\n",
       " 'c:\\\\Users\\\\joaot\\\\1 notebooks\\\\NBA-game-outcome\\\\Web Scraping\\\\data\\\\actual_month_scores\\\\202304020BRK.html',\n",
       " 'c:\\\\Users\\\\joaot\\\\1 notebooks\\\\NBA-game-outcome\\\\Web Scraping\\\\data\\\\actual_month_scores\\\\202304020CHI.html',\n",
       " 'c:\\\\Users\\\\joaot\\\\1 notebooks\\\\NBA-game-outcome\\\\Web Scraping\\\\data\\\\actual_month_scores\\\\202304020CHO.html',\n",
       " 'c:\\\\Users\\\\joaot\\\\1 notebooks\\\\NBA-game-outcome\\\\Web Scraping\\\\data\\\\actual_month_scores\\\\202304020CLE.html',\n",
       " 'c:\\\\Users\\\\joaot\\\\1 notebooks\\\\NBA-game-outcome\\\\Web Scraping\\\\data\\\\actual_month_scores\\\\202304020DEN.html',\n",
       " 'c:\\\\Users\\\\joaot\\\\1 notebooks\\\\NBA-game-outcome\\\\Web Scraping\\\\data\\\\actual_month_scores\\\\202304020HOU.html',\n",
       " 'c:\\\\Users\\\\joaot\\\\1 notebooks\\\\NBA-game-outcome\\\\Web Scraping\\\\data\\\\actual_month_scores\\\\202304020MIL.html',\n",
       " 'c:\\\\Users\\\\joaot\\\\1 notebooks\\\\NBA-game-outcome\\\\Web Scraping\\\\data\\\\actual_month_scores\\\\202304020MIN.html',\n",
       " 'c:\\\\Users\\\\joaot\\\\1 notebooks\\\\NBA-game-outcome\\\\Web Scraping\\\\data\\\\actual_month_scores\\\\202304020NYK.html',\n",
       " 'c:\\\\Users\\\\joaot\\\\1 notebooks\\\\NBA-game-outcome\\\\Web Scraping\\\\data\\\\actual_month_scores\\\\202304020OKC.html',\n",
       " 'c:\\\\Users\\\\joaot\\\\1 notebooks\\\\NBA-game-outcome\\\\Web Scraping\\\\data\\\\actual_month_scores\\\\202304020ORL.html',\n",
       " 'c:\\\\Users\\\\joaot\\\\1 notebooks\\\\NBA-game-outcome\\\\Web Scraping\\\\data\\\\actual_month_scores\\\\202304020SAC.html',\n",
       " 'c:\\\\Users\\\\joaot\\\\1 notebooks\\\\NBA-game-outcome\\\\Web Scraping\\\\data\\\\actual_month_scores\\\\202304040BRK.html',\n",
       " 'c:\\\\Users\\\\joaot\\\\1 notebooks\\\\NBA-game-outcome\\\\Web Scraping\\\\data\\\\actual_month_scores\\\\202304040CHI.html',\n",
       " 'c:\\\\Users\\\\joaot\\\\1 notebooks\\\\NBA-game-outcome\\\\Web Scraping\\\\data\\\\actual_month_scores\\\\202304040CHO.html',\n",
       " 'c:\\\\Users\\\\joaot\\\\1 notebooks\\\\NBA-game-outcome\\\\Web Scraping\\\\data\\\\actual_month_scores\\\\202304040DET.html',\n",
       " 'c:\\\\Users\\\\joaot\\\\1 notebooks\\\\NBA-game-outcome\\\\Web Scraping\\\\data\\\\actual_month_scores\\\\202304040GSW.html',\n",
       " 'c:\\\\Users\\\\joaot\\\\1 notebooks\\\\NBA-game-outcome\\\\Web Scraping\\\\data\\\\actual_month_scores\\\\202304040HOU.html',\n",
       " 'c:\\\\Users\\\\joaot\\\\1 notebooks\\\\NBA-game-outcome\\\\Web Scraping\\\\data\\\\actual_month_scores\\\\202304040MEM.html',\n",
       " 'c:\\\\Users\\\\joaot\\\\1 notebooks\\\\NBA-game-outcome\\\\Web Scraping\\\\data\\\\actual_month_scores\\\\202304040NOP.html',\n",
       " 'c:\\\\Users\\\\joaot\\\\1 notebooks\\\\NBA-game-outcome\\\\Web Scraping\\\\data\\\\actual_month_scores\\\\202304040ORL.html',\n",
       " 'c:\\\\Users\\\\joaot\\\\1 notebooks\\\\NBA-game-outcome\\\\Web Scraping\\\\data\\\\actual_month_scores\\\\202304040PHI.html',\n",
       " 'c:\\\\Users\\\\joaot\\\\1 notebooks\\\\NBA-game-outcome\\\\Web Scraping\\\\data\\\\actual_month_scores\\\\202304040PHO.html',\n",
       " 'c:\\\\Users\\\\joaot\\\\1 notebooks\\\\NBA-game-outcome\\\\Web Scraping\\\\data\\\\actual_month_scores\\\\202304040UTA.html',\n",
       " 'c:\\\\Users\\\\joaot\\\\1 notebooks\\\\NBA-game-outcome\\\\Web Scraping\\\\data\\\\actual_month_scores\\\\202304040WAS.html',\n",
       " 'c:\\\\Users\\\\joaot\\\\1 notebooks\\\\NBA-game-outcome\\\\Web Scraping\\\\data\\\\actual_month_scores\\\\202304050ATL.html',\n",
       " 'c:\\\\Users\\\\joaot\\\\1 notebooks\\\\NBA-game-outcome\\\\Web Scraping\\\\data\\\\actual_month_scores\\\\202304050BOS.html',\n",
       " 'c:\\\\Users\\\\joaot\\\\1 notebooks\\\\NBA-game-outcome\\\\Web Scraping\\\\data\\\\actual_month_scores\\\\202304050DAL.html',\n",
       " 'c:\\\\Users\\\\joaot\\\\1 notebooks\\\\NBA-game-outcome\\\\Web Scraping\\\\data\\\\actual_month_scores\\\\202304050DET.html',\n",
       " 'c:\\\\Users\\\\joaot\\\\1 notebooks\\\\NBA-game-outcome\\\\Web Scraping\\\\data\\\\actual_month_scores\\\\202304050IND.html',\n",
       " 'c:\\\\Users\\\\joaot\\\\1 notebooks\\\\NBA-game-outcome\\\\Web Scraping\\\\data\\\\actual_month_scores\\\\202304050LAC.html',\n",
       " 'c:\\\\Users\\\\joaot\\\\1 notebooks\\\\NBA-game-outcome\\\\Web Scraping\\\\data\\\\actual_month_scores\\\\202304050MIL.html',\n",
       " 'c:\\\\Users\\\\joaot\\\\1 notebooks\\\\NBA-game-outcome\\\\Web Scraping\\\\data\\\\actual_month_scores\\\\202304050NOP.html',\n",
       " 'c:\\\\Users\\\\joaot\\\\1 notebooks\\\\NBA-game-outcome\\\\Web Scraping\\\\data\\\\actual_month_scores\\\\202304060ORL.html',\n",
       " 'c:\\\\Users\\\\joaot\\\\1 notebooks\\\\NBA-game-outcome\\\\Web Scraping\\\\data\\\\actual_month_scores\\\\202304060PHI.html',\n",
       " 'c:\\\\Users\\\\joaot\\\\1 notebooks\\\\NBA-game-outcome\\\\Web Scraping\\\\data\\\\actual_month_scores\\\\202304060PHO.html',\n",
       " 'c:\\\\Users\\\\joaot\\\\1 notebooks\\\\NBA-game-outcome\\\\Web Scraping\\\\data\\\\actual_month_scores\\\\202304060SAS.html',\n",
       " 'c:\\\\Users\\\\joaot\\\\1 notebooks\\\\NBA-game-outcome\\\\Web Scraping\\\\data\\\\actual_month_scores\\\\202304060UTA.html',\n",
       " 'c:\\\\Users\\\\joaot\\\\1 notebooks\\\\NBA-game-outcome\\\\Web Scraping\\\\data\\\\actual_month_scores\\\\202304070ATL.html',\n",
       " 'c:\\\\Users\\\\joaot\\\\1 notebooks\\\\NBA-game-outcome\\\\Web Scraping\\\\data\\\\actual_month_scores\\\\202304070BOS.html',\n",
       " 'c:\\\\Users\\\\joaot\\\\1 notebooks\\\\NBA-game-outcome\\\\Web Scraping\\\\data\\\\actual_month_scores\\\\202304070BRK.html',\n",
       " 'c:\\\\Users\\\\joaot\\\\1 notebooks\\\\NBA-game-outcome\\\\Web Scraping\\\\data\\\\actual_month_scores\\\\202304070CHO.html',\n",
       " 'c:\\\\Users\\\\joaot\\\\1 notebooks\\\\NBA-game-outcome\\\\Web Scraping\\\\data\\\\actual_month_scores\\\\202304070DAL.html',\n",
       " 'c:\\\\Users\\\\joaot\\\\1 notebooks\\\\NBA-game-outcome\\\\Web Scraping\\\\data\\\\actual_month_scores\\\\202304070IND.html',\n",
       " 'c:\\\\Users\\\\joaot\\\\1 notebooks\\\\NBA-game-outcome\\\\Web Scraping\\\\data\\\\actual_month_scores\\\\202304070LAL.html',\n",
       " 'c:\\\\Users\\\\joaot\\\\1 notebooks\\\\NBA-game-outcome\\\\Web Scraping\\\\data\\\\actual_month_scores\\\\202304070MIL.html',\n",
       " 'c:\\\\Users\\\\joaot\\\\1 notebooks\\\\NBA-game-outcome\\\\Web Scraping\\\\data\\\\actual_month_scores\\\\202304070NOP.html',\n",
       " 'c:\\\\Users\\\\joaot\\\\1 notebooks\\\\NBA-game-outcome\\\\Web Scraping\\\\data\\\\actual_month_scores\\\\202304070SAC.html',\n",
       " 'c:\\\\Users\\\\joaot\\\\1 notebooks\\\\NBA-game-outcome\\\\Web Scraping\\\\data\\\\actual_month_scores\\\\202304070WAS.html',\n",
       " 'c:\\\\Users\\\\joaot\\\\1 notebooks\\\\NBA-game-outcome\\\\Web Scraping\\\\data\\\\actual_month_scores\\\\202304080LAC.html',\n",
       " 'c:\\\\Users\\\\joaot\\\\1 notebooks\\\\NBA-game-outcome\\\\Web Scraping\\\\data\\\\actual_month_scores\\\\202304080SAS.html',\n",
       " 'c:\\\\Users\\\\joaot\\\\1 notebooks\\\\NBA-game-outcome\\\\Web Scraping\\\\data\\\\actual_month_scores\\\\202304080UTA.html',\n",
       " 'c:\\\\Users\\\\joaot\\\\1 notebooks\\\\NBA-game-outcome\\\\Web Scraping\\\\data\\\\actual_month_scores\\\\202304090BOS.html',\n",
       " 'c:\\\\Users\\\\joaot\\\\1 notebooks\\\\NBA-game-outcome\\\\Web Scraping\\\\data\\\\actual_month_scores\\\\202304090BRK.html',\n",
       " 'c:\\\\Users\\\\joaot\\\\1 notebooks\\\\NBA-game-outcome\\\\Web Scraping\\\\data\\\\actual_month_scores\\\\202304090CHI.html',\n",
       " 'c:\\\\Users\\\\joaot\\\\1 notebooks\\\\NBA-game-outcome\\\\Web Scraping\\\\data\\\\actual_month_scores\\\\202304090CLE.html',\n",
       " 'c:\\\\Users\\\\joaot\\\\1 notebooks\\\\NBA-game-outcome\\\\Web Scraping\\\\data\\\\actual_month_scores\\\\202304090DAL.html',\n",
       " 'c:\\\\Users\\\\joaot\\\\1 notebooks\\\\NBA-game-outcome\\\\Web Scraping\\\\data\\\\actual_month_scores\\\\202304090DEN.html',\n",
       " 'c:\\\\Users\\\\joaot\\\\1 notebooks\\\\NBA-game-outcome\\\\Web Scraping\\\\data\\\\actual_month_scores\\\\202304090LAL.html',\n",
       " 'c:\\\\Users\\\\joaot\\\\1 notebooks\\\\NBA-game-outcome\\\\Web Scraping\\\\data\\\\actual_month_scores\\\\202304090MIA.html',\n",
       " 'c:\\\\Users\\\\joaot\\\\1 notebooks\\\\NBA-game-outcome\\\\Web Scraping\\\\data\\\\actual_month_scores\\\\202304090MIN.html',\n",
       " 'c:\\\\Users\\\\joaot\\\\1 notebooks\\\\NBA-game-outcome\\\\Web Scraping\\\\data\\\\actual_month_scores\\\\202304090NYK.html',\n",
       " 'c:\\\\Users\\\\joaot\\\\1 notebooks\\\\NBA-game-outcome\\\\Web Scraping\\\\data\\\\actual_month_scores\\\\202304090OKC.html',\n",
       " 'c:\\\\Users\\\\joaot\\\\1 notebooks\\\\NBA-game-outcome\\\\Web Scraping\\\\data\\\\actual_month_scores\\\\202304090PHO.html',\n",
       " 'c:\\\\Users\\\\joaot\\\\1 notebooks\\\\NBA-game-outcome\\\\Web Scraping\\\\data\\\\actual_month_scores\\\\202304090POR.html',\n",
       " 'c:\\\\Users\\\\joaot\\\\1 notebooks\\\\NBA-game-outcome\\\\Web Scraping\\\\data\\\\actual_month_scores\\\\202304090TOR.html',\n",
       " 'c:\\\\Users\\\\joaot\\\\1 notebooks\\\\NBA-game-outcome\\\\Web Scraping\\\\data\\\\actual_month_scores\\\\202304090WAS.html',\n",
       " 'c:\\\\Users\\\\joaot\\\\1 notebooks\\\\NBA-game-outcome\\\\Web Scraping\\\\data\\\\actual_month_scores\\\\202304110LAL.html',\n",
       " 'c:\\\\Users\\\\joaot\\\\1 notebooks\\\\NBA-game-outcome\\\\Web Scraping\\\\data\\\\actual_month_scores\\\\202304110MIA.html',\n",
       " 'c:\\\\Users\\\\joaot\\\\1 notebooks\\\\NBA-game-outcome\\\\Web Scraping\\\\data\\\\actual_month_scores\\\\202304120NOP.html',\n",
       " 'c:\\\\Users\\\\joaot\\\\1 notebooks\\\\NBA-game-outcome\\\\Web Scraping\\\\data\\\\actual_month_scores\\\\202304120TOR.html',\n",
       " 'c:\\\\Users\\\\joaot\\\\1 notebooks\\\\NBA-game-outcome\\\\Web Scraping\\\\data\\\\actual_month_scores\\\\202304140MIA.html',\n",
       " 'c:\\\\Users\\\\joaot\\\\1 notebooks\\\\NBA-game-outcome\\\\Web Scraping\\\\data\\\\actual_month_scores\\\\202304140MIN.html',\n",
       " 'c:\\\\Users\\\\joaot\\\\1 notebooks\\\\NBA-game-outcome\\\\Web Scraping\\\\data\\\\actual_month_scores\\\\202304150BOS.html',\n",
       " 'c:\\\\Users\\\\joaot\\\\1 notebooks\\\\NBA-game-outcome\\\\Web Scraping\\\\data\\\\actual_month_scores\\\\202304150CLE.html',\n",
       " 'c:\\\\Users\\\\joaot\\\\1 notebooks\\\\NBA-game-outcome\\\\Web Scraping\\\\data\\\\actual_month_scores\\\\202304150PHI.html',\n",
       " 'c:\\\\Users\\\\joaot\\\\1 notebooks\\\\NBA-game-outcome\\\\Web Scraping\\\\data\\\\actual_month_scores\\\\202304150SAC.html']"
      ]
     },
     "execution_count": 28,
     "metadata": {},
     "output_type": "execute_result"
    }
   ],
   "source": [
    "box_scores"
   ]
  },
  {
   "attachments": {
    "image.png": {
     "image/png": "[encoded data removed]"
    }
   },
   "cell_type": "markdown",
   "metadata": {},
   "source": [
    "we want to grab\n",
    " 1 -  who win\n",
    "\n",
    "![image.png](attachment:image.png)\n",
    " \n",
    " Here, the home team is always in the second line.\n"
   ]
  },
  {
   "attachments": {
    "image.png": {
     "image/png": "[encoded data removed]"
    }
   },
   "cell_type": "markdown",
   "metadata": {},
   "source": [
    "\n",
    "2- basic and advanced scores\n",
    "\n",
    "![image.png](attachment:image.png)\n",
    "\n",
    "We want to remove the\n",
    "'Basic Box Score Stats' table title\n",
    "and the columns names that appear in the reserves section of the table\n",
    "\n"
   ]
  },
  {
   "attachments": {
    "image.png": {
     "image/png": "[encoded data removed]"
    }
   },
   "cell_type": "markdown",
   "metadata": {},
   "source": [
    "![image.png](attachment:image.png)"
   ]
  },
  {
   "attachments": {},
   "cell_type": "markdown",
   "metadata": {},
   "source": [
    "# With the get stats function, we have the tables of the basic and advanced stats.\n",
    "\n",
    "I will now concatenate these 2 tables, and only with the content of the last line of the table, the team totals. taht gonna be the feature row per team.\n",
    "\n",
    "Now we can approach our data in 2 different ways, to get the team stats of that match taking in account if the team is home ou away, the win ou loss target, and the opponent team stats, in a single row for that team name:\n",
    "\n",
    "1 - The team 1 stats + CONCATENATING + the team 2 stats to get the 1 team feature in one row, and inverting to get the same for team 2\n",
    "\n",
    "2 - The team 1 stats / the team 2 stats to get the 1 team feature in one row, and inverting to get the same for team 2\n",
    "\n",
    "\n"
   ]
  },
  {
   "attachments": {},
   "cell_type": "markdown",
   "metadata": {},
   "source": [
    "Lets first create a id to check if a game is already parsed. We gonna call it as games_ids."
   ]
  },
  {
   "cell_type": "code",
   "execution_count": 29,
   "metadata": {},
   "outputs": [],
   "source": [
    "if 'games_ids.pkl' not in os.listdir():\n",
    "    games_ids = []\n",
    "else:\n",
    "    games_ids = pickle.load(open('games_ids.pkl', 'rb'))"
   ]
  },
  {
   "cell_type": "code",
   "execution_count": 30,
   "metadata": {},
   "outputs": [],
   "source": [
    "#%pip install lxml"
   ]
  },
  {
   "cell_type": "code",
   "execution_count": 31,
   "metadata": {},
   "outputs": [
    {
     "name": "stdout",
     "output_type": "stream",
     "text": [
      "Box score readed and parsed to soup object\n",
      "  Unnamed: 0   1   2   3   4    T\n",
      "0        GSW  29  32  29  33  123\n",
      "1        SAC  29  26  36  35  126\n",
      "entering the try block for score line function\n",
      "entering the except block\n",
      "Score line extracted under exception error\n"
     ]
    }
   ],
   "source": [
    "#test cell to cat playoff games possible errors\n",
    "box_score = games_scores[-1]    \n",
    "soup = clean_html(box_score)\n",
    "score_row = get_score_line(soup)"
   ]
  },
  {
   "cell_type": "code",
   "execution_count": 32,
   "metadata": {},
   "outputs": [
    {
     "name": "stderr",
     "output_type": "stream",
     "text": [
      "  0%|          | 0/80 [00:00<?, ?it/s]"
     ]
    },
    {
     "name": "stdout",
     "output_type": "stream",
     "text": [
      "202304010MIA.html already parsed!\n",
      "202304010NOP.html already parsed!\n",
      "202304020ATL.html already parsed!\n",
      "202304020BRK.html already parsed!\n",
      "202304020CHI.html already parsed!\n",
      "202304020CHO.html already parsed!\n",
      "202304020CLE.html already parsed!\n",
      "202304020DEN.html already parsed!\n",
      "202304020HOU.html already parsed!\n",
      "202304020MIL.html already parsed!\n",
      "202304020MIN.html already parsed!\n",
      "202304020NYK.html already parsed!\n",
      "202304020OKC.html already parsed!\n",
      "202304020ORL.html already parsed!\n",
      "202304020SAC.html already parsed!\n",
      "202304040BRK.html already parsed!\n",
      "202304040CHI.html already parsed!\n",
      "202304040CHO.html already parsed!\n",
      "202304040DET.html already parsed!\n",
      "202304040GSW.html already parsed!\n",
      "202304040HOU.html already parsed!\n",
      "202304040MEM.html already parsed!\n",
      "202304040NOP.html already parsed!\n",
      "202304040ORL.html already parsed!\n",
      "202304040PHI.html already parsed!\n",
      "202304040PHO.html already parsed!\n",
      "202304040UTA.html already parsed!\n",
      "202304040WAS.html already parsed!\n",
      "202304050ATL.html already parsed!\n",
      "202304050BOS.html already parsed!\n",
      "202304050DAL.html already parsed!\n",
      "202304050DET.html already parsed!\n",
      "202304050IND.html already parsed!\n",
      "202304050LAC.html already parsed!\n",
      "202304050MIL.html already parsed!\n",
      "202304050NOP.html already parsed!\n",
      "202304060ORL.html already parsed!\n",
      "202304060PHI.html already parsed!\n",
      "202304060PHO.html already parsed!\n",
      "202304060SAS.html already parsed!\n",
      "202304060UTA.html already parsed!\n",
      "202304070ATL.html already parsed!\n",
      "202304070BOS.html already parsed!\n",
      "202304070BRK.html already parsed!\n",
      "202304070CHO.html already parsed!\n",
      "202304070DAL.html already parsed!\n",
      "202304070IND.html already parsed!\n",
      "202304070LAL.html already parsed!\n",
      "202304070MIL.html already parsed!\n",
      "202304070NOP.html already parsed!\n",
      "202304070SAC.html already parsed!\n",
      "202304070WAS.html already parsed!\n",
      "202304080LAC.html already parsed!\n",
      "202304080SAS.html already parsed!\n",
      "202304080UTA.html already parsed!\n",
      "202304090BOS.html already parsed!\n",
      "202304090BRK.html already parsed!\n",
      "202304090CHI.html already parsed!\n",
      "202304090CLE.html already parsed!\n",
      "202304090DAL.html already parsed!\n",
      "202304090DEN.html already parsed!\n",
      "202304090LAL.html already parsed!\n",
      "202304090MIA.html already parsed!\n",
      "202304090MIN.html already parsed!\n",
      "202304090NYK.html already parsed!\n",
      "202304090OKC.html already parsed!\n",
      "202304090PHO.html already parsed!\n",
      "202304090POR.html already parsed!\n",
      "202304090TOR.html already parsed!\n",
      "202304090WAS.html already parsed!\n",
      "202304110LAL.html already parsed!\n",
      "202304110MIA.html already parsed!\n",
      "202304120NOP.html already parsed!\n",
      "202304120TOR.html already parsed!\n",
      "202304140MIA.html already parsed!\n",
      "Box score readed and parsed to soup object\n",
      "  Unnamed: 0   1   2   3   4    T\n",
      "0        OKC  23  24  31  17   95\n",
      "1        MIN  24  33  38  25  120\n",
      "entering the try block for score line function\n",
      "entering the except block\n",
      "Score line extracted under exception error\n"
     ]
    },
    {
     "name": "stderr",
     "output_type": "stream",
     "text": [
      " 95%|█████████▌| 76/80 [00:01<00:00, 66.74it/s]"
     ]
    },
    {
     "name": "stdout",
     "output_type": "stream",
     "text": [
      "Box score readed and parsed to soup object\n",
      "  Unnamed: 0   1   2   3   4    T\n",
      "0        ATL  19  25  31  24   99\n",
      "1        BOS  29  45  20  18  112\n",
      "entering the try block for score line function\n",
      "entering the except block\n",
      "Score line extracted under exception error\n",
      "Box score readed and parsed to soup object\n",
      "  Unnamed: 0   1   2   3   4    T\n",
      "0        NYK  30  20  28  23  101\n",
      "1        CLE  24  21  25  27   97\n",
      "entering the try block for score line function\n",
      "entering the except block\n",
      "Score line extracted under exception error\n",
      "Box score readed and parsed to soup object\n",
      "  Unnamed: 0   1   2   3   4    T\n",
      "0        BRK  25  33  23  20  101\n",
      "1        PHI  30  37  26  28  121\n",
      "entering the try block for score line function\n",
      "entering the except block\n",
      "Score line extracted under exception error\n",
      "Box score readed and parsed to soup object\n",
      "  Unnamed: 0   1   2   3   4    T\n",
      "0        GSW  29  32  29  33  123\n",
      "1        SAC  29  26  36  35  126\n",
      "entering the try block for score line function\n",
      "entering the except block\n",
      "Score line extracted under exception error\n"
     ]
    },
    {
     "name": "stderr",
     "output_type": "stream",
     "text": [
      "100%|██████████| 80/80 [00:05<00:00, 14.85it/s]\n"
     ]
    }
   ],
   "source": [
    "base_cols = None\n",
    "games = []\n",
    "count = 0 # coounting the number of corrupted html files\n",
    "\n",
    "for box_score in tqdm(games_scores): # tqm to track progress.\n",
    "    # we get the name of the file, and we check if it was already parsed\n",
    "    game_file_name = os.path.basename(box_score)\n",
    "\n",
    "    if game_file_name in games_ids: # if this data was aready grabbed of the box downloaded, go to next\n",
    "        print(f'{game_file_name} already parsed!')\n",
    "        continue\n",
    "\n",
    "    \n",
    "    try:  # if html is somewaht corrupted, we go to the next\n",
    "        \n",
    "        soup = clean_html(box_score)\n",
    "        score_row = get_score_line(soup)\n",
    "        \n",
    "        all_stats = [] # this is resposible to store data from both teams\n",
    "\n",
    "        for team in score_row['Team']:\n",
    "            \n",
    "            # we do not need the +/- and BPM columns, as they are not present in totals of the team standings\n",
    "            basic_df = get_stats(soup, team, 'basic')      \n",
    "            advanced_df = get_stats(soup, team, 'advanced')\n",
    "            \n",
    "\n",
    "            # we only need the totals row of the stats table, and we need to concatenated both basic and advanced table\n",
    "            totals = pd.concat([basic_df.iloc[-1], advanced_df.iloc[-1]], axis=0)# concat 2 series\n",
    "            totals.index = totals.index.str.lower()\n",
    "            \n",
    "            \n",
    "            \n",
    "\n",
    "            # getting also the coluns of te max individual stat per player, so we exclude totals. This line , maxes, is optional.\n",
    "            maxes = pd.concat([basic_df.iloc[:-1].max(), advanced_df.iloc[:-1].max()], axis=0)\n",
    "            maxes.index =  maxes.index.str.lower() + '_max' \n",
    "\n",
    "            stats = pd.concat([totals, maxes], axis=0)\n",
    "            \n",
    "\n",
    "            #some tables do not have the same rows, with a variable named bpm, and duplicates, so we gonna deal with\n",
    "\n",
    "            if base_cols is None:\n",
    "                base_cols = list(stats.index.drop_duplicates(keep='first'))\n",
    "                base_cols = [col for col in base_cols if 'bpm' not in col]\n",
    "\n",
    "            stats = stats[base_cols]\n",
    "\n",
    "            # append for both teams\n",
    "\n",
    "            all_stats.append(stats)\n",
    "\n",
    "        stats = pd.concat(all_stats, axis=1).T # stacking rows of teams\n",
    "\n",
    "        # combining the score row with stats to get the points and the name of the team\n",
    "        game_stats = pd.concat([stats, score_row], axis=1) # stacking columns of dfs\n",
    "        game_stats['season'] = get_game_season(soup)\n",
    "\n",
    "        # getting just the date of the file name\n",
    "        \n",
    "        game_stats['date'] = pd.to_datetime(game_file_name[:8])\n",
    "        \n",
    "        \n",
    "\n",
    "        game_stats['home'] = [0, 1]  # as the home team is always second in the list, we just index this way\n",
    "        \n",
    "        game_stats_opponent = game_stats.iloc[::-1].reset_index() # let us concatenate later\n",
    "        game_stats_opponent.columns = 'opponent_' + game_stats_opponent.columns \n",
    "\n",
    "        \n",
    "\n",
    "        full_game_stats = pd.concat([game_stats, game_stats_opponent], axis=1)\n",
    "        full_game_stats['ID'] = game_file_name\n",
    "        full_game_stats['WIN'] = full_game_stats['Total'] > full_game_stats['opponent_Total'] #adding the target column WIN (1) or LOSS (0)\n",
    "\n",
    "        games.append(full_game_stats)\n",
    "        games_ids.append(game_file_name) # appending the game unique file name\n",
    "\n",
    "        \n",
    "    except:\n",
    "        count += 1\n",
    "        print(f'Number of corrupted boxes: {count}')\n",
    "        print(f'Corrupted box: {game_file_name}')\n",
    "        continue\n",
    "\n",
    "\n",
    "   "
   ]
  },
  {
   "cell_type": "code",
   "execution_count": 33,
   "metadata": {},
   "outputs": [
    {
     "data": {
      "text/plain": [
       "5"
      ]
     },
     "execution_count": 33,
     "metadata": {},
     "output_type": "execute_result"
    }
   ],
   "source": [
    "#checking the shape of all dataframes\n",
    "len(games)"
   ]
  },
  {
   "cell_type": "code",
   "execution_count": 34,
   "metadata": {},
   "outputs": [
    {
     "name": "stdout",
     "output_type": "stream",
     "text": [
      "5 new games added!\n"
     ]
    }
   ],
   "source": [
    "#saving our parsed games in a dataframe\n",
    "if games: \n",
    "    df_games = pd.concat(games, axis=0, ignore_index=True) # stack rows of games, assuming all dfs have the same columns\n",
    "    print(f'{len(games)} new games added!')\n",
    "else:\n",
    "    print('no new games added!')"
   ]
  },
  {
   "cell_type": "code",
   "execution_count": 35,
   "metadata": {},
   "outputs": [],
   "source": [
    "# creating a database\n",
    "engine = sqlalchemy.create_engine('sqlite:///nba_games.db', echo=False)\n",
    "\n",
    "# reading from database\n",
    "df_allgames = pd.read_sql('SELECT * FROM nba_games', con=engine)"
   ]
  },
  {
   "cell_type": "code",
   "execution_count": 36,
   "metadata": {},
   "outputs": [
    {
     "data": {
      "text/plain": [
       "set()"
      ]
     },
     "execution_count": 36,
     "metadata": {},
     "output_type": "execute_result"
    }
   ],
   "source": [
    "#cheking the columns of df_games and df_allgames that are not the same\n",
    "set(df_games.columns) - set(df_allgames.columns)\n",
    "\n",
    "\n"
   ]
  },
  {
   "cell_type": "code",
   "execution_count": 50,
   "metadata": {},
   "outputs": [
    {
     "data": {
      "text/plain": [
       "4"
      ]
     },
     "execution_count": 50,
     "metadata": {},
     "output_type": "execute_result"
    }
   ],
   "source": [
    "#checking if df_games has any duplicated columns\n",
    "df_games.columns.duplicated().sum()"
   ]
  },
  {
   "cell_type": "code",
   "execution_count": 51,
   "metadata": {},
   "outputs": [],
   "source": [
    "#dropping duplicated columns from df_games\n",
    "df_games = df_games.loc[:,~df_games.columns.duplicated()]"
   ]
  },
  {
   "cell_type": "code",
   "execution_count": 52,
   "metadata": {},
   "outputs": [
    {
     "data": {
      "text/plain": [
       "(10, 149)"
      ]
     },
     "execution_count": 52,
     "metadata": {},
     "output_type": "execute_result"
    }
   ],
   "source": [
    "#trating df_games to have the same columns as df_allgames\n",
    "df_games = df_games[df_allgames.columns]\n",
    "df_games.shape"
   ]
  },
  {
   "cell_type": "code",
   "execution_count": 49,
   "metadata": {},
   "outputs": [
    {
     "data": {
      "text/plain": [
       "(14998, 149)"
      ]
     },
     "execution_count": 49,
     "metadata": {},
     "output_type": "execute_result"
    }
   ],
   "source": [
    "df_allgames.shape"
   ]
  },
  {
   "attachments": {},
   "cell_type": "markdown",
   "metadata": {},
   "source": [
    "Storing new data from pandas into a SQL database"
   ]
  },
  {
   "cell_type": "code",
   "execution_count": 39,
   "metadata": {},
   "outputs": [],
   "source": [
    "# creating a database\n",
    "engine = sqlalchemy.create_engine('sqlite:///nba_games.db', echo=False)\n",
    "# saving to database\n",
    "df_games.to_sql('nba_games', con=engine, if_exists='append', index=False)\n",
    "#saving games ids into a file\n",
    "pickle.dump(games_ids, open('games_ids.pkl', 'wb'))\n",
    "# reading from database\n",
    "df_allgames = pd.read_sql('SELECT * FROM nba_games', con=engine)\n"
   ]
  },
  {
   "cell_type": "code",
   "execution_count": 40,
   "metadata": {},
   "outputs": [
    {
     "data": {
      "text/html": [
       "<div>\n",
       "<style scoped>\n",
       "    .dataframe tbody tr th:only-of-type {\n",
       "        vertical-align: middle;\n",
       "    }\n",
       "\n",
       "    .dataframe tbody tr th {\n",
       "        vertical-align: top;\n",
       "    }\n",
       "\n",
       "    .dataframe thead th {\n",
       "        text-align: right;\n",
       "    }\n",
       "</style>\n",
       "<table border=\"1\" class=\"dataframe\">\n",
       "  <thead>\n",
       "    <tr style=\"text-align: right;\">\n",
       "      <th></th>\n",
       "      <th>mp</th>\n",
       "      <th>fg</th>\n",
       "      <th>fga</th>\n",
       "      <th>fg%</th>\n",
       "      <th>3p</th>\n",
       "      <th>3pa</th>\n",
       "      <th>3p%</th>\n",
       "      <th>ft</th>\n",
       "      <th>fta</th>\n",
       "      <th>ft%</th>\n",
       "      <th>...</th>\n",
       "      <th>opponent_usg%_max</th>\n",
       "      <th>opponent_ortg_max</th>\n",
       "      <th>opponent_drtg_max</th>\n",
       "      <th>opponent_Team</th>\n",
       "      <th>opponent_Total</th>\n",
       "      <th>opponent_season</th>\n",
       "      <th>opponent_date</th>\n",
       "      <th>opponent_home</th>\n",
       "      <th>ID</th>\n",
       "      <th>WIN</th>\n",
       "    </tr>\n",
       "  </thead>\n",
       "  <tbody>\n",
       "    <tr>\n",
       "      <th>14993</th>\n",
       "      <td>240.0</td>\n",
       "      <td>36.0</td>\n",
       "      <td>83.0</td>\n",
       "      <td>0.434</td>\n",
       "      <td>10.0</td>\n",
       "      <td>31.0</td>\n",
       "      <td>0.323</td>\n",
       "      <td>15.0</td>\n",
       "      <td>21.0</td>\n",
       "      <td>0.714</td>\n",
       "      <td>...</td>\n",
       "      <td>39.3</td>\n",
       "      <td>191.0</td>\n",
       "      <td>113.0</td>\n",
       "      <td>NYK</td>\n",
       "      <td>101</td>\n",
       "      <td>2022-23</td>\n",
       "      <td>2023-04-15 00:00:00.000000</td>\n",
       "      <td>0</td>\n",
       "      <td>202304150CLE.html</td>\n",
       "      <td>0</td>\n",
       "    </tr>\n",
       "    <tr>\n",
       "      <th>14994</th>\n",
       "      <td>240.0</td>\n",
       "      <td>39.0</td>\n",
       "      <td>70.0</td>\n",
       "      <td>0.557</td>\n",
       "      <td>13.0</td>\n",
       "      <td>29.0</td>\n",
       "      <td>0.448</td>\n",
       "      <td>10.0</td>\n",
       "      <td>15.0</td>\n",
       "      <td>0.667</td>\n",
       "      <td>...</td>\n",
       "      <td>32.0</td>\n",
       "      <td>250.0</td>\n",
       "      <td>124.0</td>\n",
       "      <td>PHI</td>\n",
       "      <td>121</td>\n",
       "      <td>2022-23</td>\n",
       "      <td>2023-04-15 00:00:00.000000</td>\n",
       "      <td>1</td>\n",
       "      <td>202304150PHI.html</td>\n",
       "      <td>0</td>\n",
       "    </tr>\n",
       "    <tr>\n",
       "      <th>14995</th>\n",
       "      <td>240.0</td>\n",
       "      <td>42.0</td>\n",
       "      <td>89.0</td>\n",
       "      <td>0.472</td>\n",
       "      <td>21.0</td>\n",
       "      <td>43.0</td>\n",
       "      <td>0.488</td>\n",
       "      <td>16.0</td>\n",
       "      <td>16.0</td>\n",
       "      <td>1.000</td>\n",
       "      <td>...</td>\n",
       "      <td>42.6</td>\n",
       "      <td>233.0</td>\n",
       "      <td>146.0</td>\n",
       "      <td>BRK</td>\n",
       "      <td>101</td>\n",
       "      <td>2022-23</td>\n",
       "      <td>2023-04-15 00:00:00.000000</td>\n",
       "      <td>0</td>\n",
       "      <td>202304150PHI.html</td>\n",
       "      <td>1</td>\n",
       "    </tr>\n",
       "    <tr>\n",
       "      <th>14996</th>\n",
       "      <td>240.0</td>\n",
       "      <td>43.0</td>\n",
       "      <td>90.0</td>\n",
       "      <td>0.478</td>\n",
       "      <td>16.0</td>\n",
       "      <td>50.0</td>\n",
       "      <td>0.320</td>\n",
       "      <td>21.0</td>\n",
       "      <td>27.0</td>\n",
       "      <td>0.778</td>\n",
       "      <td>...</td>\n",
       "      <td>33.5</td>\n",
       "      <td>206.0</td>\n",
       "      <td>125.0</td>\n",
       "      <td>SAC</td>\n",
       "      <td>126</td>\n",
       "      <td>2022-23</td>\n",
       "      <td>2023-04-15 00:00:00.000000</td>\n",
       "      <td>1</td>\n",
       "      <td>202304150SAC.html</td>\n",
       "      <td>0</td>\n",
       "    </tr>\n",
       "    <tr>\n",
       "      <th>14997</th>\n",
       "      <td>240.0</td>\n",
       "      <td>44.0</td>\n",
       "      <td>98.0</td>\n",
       "      <td>0.449</td>\n",
       "      <td>12.0</td>\n",
       "      <td>32.0</td>\n",
       "      <td>0.375</td>\n",
       "      <td>26.0</td>\n",
       "      <td>32.0</td>\n",
       "      <td>0.813</td>\n",
       "      <td>...</td>\n",
       "      <td>39.3</td>\n",
       "      <td>192.0</td>\n",
       "      <td>127.0</td>\n",
       "      <td>GSW</td>\n",
       "      <td>123</td>\n",
       "      <td>2022-23</td>\n",
       "      <td>2023-04-15 00:00:00.000000</td>\n",
       "      <td>0</td>\n",
       "      <td>202304150SAC.html</td>\n",
       "      <td>1</td>\n",
       "    </tr>\n",
       "  </tbody>\n",
       "</table>\n",
       "<p>5 rows × 149 columns</p>\n",
       "</div>"
      ],
      "text/plain": [
       "          mp    fg   fga    fg%    3p   3pa    3p%    ft   fta    ft%  ...  \\\n",
       "14993  240.0  36.0  83.0  0.434  10.0  31.0  0.323  15.0  21.0  0.714  ...   \n",
       "14994  240.0  39.0  70.0  0.557  13.0  29.0  0.448  10.0  15.0  0.667  ...   \n",
       "14995  240.0  42.0  89.0  0.472  21.0  43.0  0.488  16.0  16.0  1.000  ...   \n",
       "14996  240.0  43.0  90.0  0.478  16.0  50.0  0.320  21.0  27.0  0.778  ...   \n",
       "14997  240.0  44.0  98.0  0.449  12.0  32.0  0.375  26.0  32.0  0.813  ...   \n",
       "\n",
       "       opponent_usg%_max  opponent_ortg_max  opponent_drtg_max  opponent_Team  \\\n",
       "14993               39.3              191.0              113.0            NYK   \n",
       "14994               32.0              250.0              124.0            PHI   \n",
       "14995               42.6              233.0              146.0            BRK   \n",
       "14996               33.5              206.0              125.0            SAC   \n",
       "14997               39.3              192.0              127.0            GSW   \n",
       "\n",
       "       opponent_Total  opponent_season               opponent_date  \\\n",
       "14993             101          2022-23  2023-04-15 00:00:00.000000   \n",
       "14994             121          2022-23  2023-04-15 00:00:00.000000   \n",
       "14995             101          2022-23  2023-04-15 00:00:00.000000   \n",
       "14996             126          2022-23  2023-04-15 00:00:00.000000   \n",
       "14997             123          2022-23  2023-04-15 00:00:00.000000   \n",
       "\n",
       "       opponent_home                 ID WIN  \n",
       "14993              0  202304150CLE.html   0  \n",
       "14994              1  202304150PHI.html   0  \n",
       "14995              0  202304150PHI.html   1  \n",
       "14996              1  202304150SAC.html   0  \n",
       "14997              0  202304150SAC.html   1  \n",
       "\n",
       "[5 rows x 149 columns]"
      ]
     },
     "execution_count": 40,
     "metadata": {},
     "output_type": "execute_result"
    }
   ],
   "source": [
    "#checking if df_all games were appended\n",
    "df_allgames.tail()"
   ]
  },
  {
   "cell_type": "code",
   "execution_count": 41,
   "metadata": {},
   "outputs": [
    {
     "name": "stdout",
     "output_type": "stream",
     "text": [
      "<class 'pandas.core.frame.DataFrame'>\n",
      "RangeIndex: 14998 entries, 0 to 14997\n",
      "Columns: 149 entries, mp to WIN\n",
      "dtypes: float64(132), int64(6), object(11)\n",
      "memory usage: 17.0+ MB\n"
     ]
    }
   ],
   "source": [
    "df_allgames.info()"
   ]
  },
  {
   "cell_type": "code",
   "execution_count": 42,
   "metadata": {},
   "outputs": [
    {
     "name": "stderr",
     "output_type": "stream",
     "text": [
      "0it [00:00, ?it/s]"
     ]
    },
    {
     "name": "stdout",
     "output_type": "stream",
     "text": [
      "All html past files deleted\n"
     ]
    },
    {
     "name": "stderr",
     "output_type": "stream",
     "text": [
      "\n"
     ]
    }
   ],
   "source": [
    "#deleting the extracted html files as we already saved them in a list as objects, in the past data scores directory\n",
    "html_files = [file for file in os.listdir(SCORE_DIR) if file.endswith('.html')]\n",
    "for file in tqdm(html_files):\n",
    "    os.remove(os.path.join(SCORE_DIR, file))\n",
    "print('All html past files deleted')\n"
   ]
  },
  {
   "attachments": {},
   "cell_type": "markdown",
   "metadata": {},
   "source": [
    "# Done! Data is ready!"
   ]
  },
  {
   "attachments": {},
   "cell_type": "markdown",
   "metadata": {},
   "source": [
    "\n",
    "\n",
    "\n",
    "\n",
    "\n",
    "\n"
   ]
  },
  {
   "attachments": {},
   "cell_type": "markdown",
   "metadata": {},
   "source": [
    "#### Below, are some testing that we could do to some invividual data and see if everything is working as intended while we build our parse_data code"
   ]
  },
  {
   "cell_type": "code",
   "execution_count": 43,
   "metadata": {},
   "outputs": [
    {
     "name": "stdout",
     "output_type": "stream",
     "text": [
      "Box score readed and parsed to soup object\n",
      "  Unnamed: 0   1   2   3   4    T\n",
      "0        DAL  31  33  32  26  122\n",
      "1        MIA  44  32  26  27  129\n",
      "entering the try block for score line function\n",
      "entering the except block\n",
      "Score line extracted under exception error\n"
     ]
    }
   ],
   "source": [
    "#testing\n",
    "box_score = box_scores[0] # grab a unique example for testing\n",
    "soup = clean_html(box_score)\n",
    "score_row = get_score_line(soup)\n",
    "\n",
    "teams = score_row['Team']\n",
    "\n",
    "\n",
    "basic_df = get_stats(soup, teams[0], 'basic').drop(labels='+/-', axis=1)\n",
    "advanced_df = get_stats(soup, teams[0], 'advanced').drop(labels='BPM', axis=1)\n",
    "\n",
    "\n"
   ]
  },
  {
   "cell_type": "code",
   "execution_count": 44,
   "metadata": {},
   "outputs": [
    {
     "data": {
      "text/html": [
       "<div>\n",
       "<style scoped>\n",
       "    .dataframe tbody tr th:only-of-type {\n",
       "        vertical-align: middle;\n",
       "    }\n",
       "\n",
       "    .dataframe tbody tr th {\n",
       "        vertical-align: top;\n",
       "    }\n",
       "\n",
       "    .dataframe thead th {\n",
       "        text-align: right;\n",
       "    }\n",
       "</style>\n",
       "<table border=\"1\" class=\"dataframe\">\n",
       "  <thead>\n",
       "    <tr style=\"text-align: right;\">\n",
       "      <th></th>\n",
       "      <th>Team</th>\n",
       "      <th>Total</th>\n",
       "    </tr>\n",
       "  </thead>\n",
       "  <tbody>\n",
       "    <tr>\n",
       "      <th>0</th>\n",
       "      <td>DAL</td>\n",
       "      <td>122</td>\n",
       "    </tr>\n",
       "    <tr>\n",
       "      <th>1</th>\n",
       "      <td>MIA</td>\n",
       "      <td>129</td>\n",
       "    </tr>\n",
       "  </tbody>\n",
       "</table>\n",
       "</div>"
      ],
      "text/plain": [
       "  Team  Total\n",
       "0  DAL    122\n",
       "1  MIA    129"
      ]
     },
     "execution_count": 44,
     "metadata": {},
     "output_type": "execute_result"
    }
   ],
   "source": [
    "score_row\n"
   ]
  },
  {
   "cell_type": "code",
   "execution_count": 45,
   "metadata": {},
   "outputs": [
    {
     "data": {
      "text/html": [
       "<div>\n",
       "<style scoped>\n",
       "    .dataframe tbody tr th:only-of-type {\n",
       "        vertical-align: middle;\n",
       "    }\n",
       "\n",
       "    .dataframe tbody tr th {\n",
       "        vertical-align: top;\n",
       "    }\n",
       "\n",
       "    .dataframe thead th {\n",
       "        text-align: right;\n",
       "    }\n",
       "</style>\n",
       "<table border=\"1\" class=\"dataframe\">\n",
       "  <thead>\n",
       "    <tr style=\"text-align: right;\">\n",
       "      <th></th>\n",
       "      <th>Team</th>\n",
       "      <th>Total</th>\n",
       "    </tr>\n",
       "  </thead>\n",
       "  <tbody>\n",
       "    <tr>\n",
       "      <th>0</th>\n",
       "      <td>DAL</td>\n",
       "      <td>122</td>\n",
       "    </tr>\n",
       "    <tr>\n",
       "      <th>1</th>\n",
       "      <td>MIA</td>\n",
       "      <td>129</td>\n",
       "    </tr>\n",
       "  </tbody>\n",
       "</table>\n",
       "</div>"
      ],
      "text/plain": [
       "  Team  Total\n",
       "0  DAL    122\n",
       "1  MIA    129"
      ]
     },
     "execution_count": 45,
     "metadata": {},
     "output_type": "execute_result"
    }
   ],
   "source": [
    "score_row"
   ]
  },
  {
   "cell_type": "code",
   "execution_count": 46,
   "metadata": {},
   "outputs": [
    {
     "data": {
      "text/html": [
       "<div>\n",
       "<style scoped>\n",
       "    .dataframe tbody tr th:only-of-type {\n",
       "        vertical-align: middle;\n",
       "    }\n",
       "\n",
       "    .dataframe tbody tr th {\n",
       "        vertical-align: top;\n",
       "    }\n",
       "\n",
       "    .dataframe thead th {\n",
       "        text-align: right;\n",
       "    }\n",
       "</style>\n",
       "<table border=\"1\" class=\"dataframe\">\n",
       "  <thead>\n",
       "    <tr style=\"text-align: right;\">\n",
       "      <th></th>\n",
       "      <th>MP</th>\n",
       "      <th>FG</th>\n",
       "      <th>FGA</th>\n",
       "      <th>FG%</th>\n",
       "      <th>3P</th>\n",
       "      <th>3PA</th>\n",
       "      <th>3P%</th>\n",
       "      <th>FT</th>\n",
       "      <th>FTA</th>\n",
       "      <th>FT%</th>\n",
       "      <th>ORB</th>\n",
       "      <th>DRB</th>\n",
       "      <th>TRB</th>\n",
       "      <th>AST</th>\n",
       "      <th>STL</th>\n",
       "      <th>BLK</th>\n",
       "      <th>TOV</th>\n",
       "      <th>PF</th>\n",
       "      <th>PTS</th>\n",
       "    </tr>\n",
       "    <tr>\n",
       "      <th>Starters</th>\n",
       "      <th></th>\n",
       "      <th></th>\n",
       "      <th></th>\n",
       "      <th></th>\n",
       "      <th></th>\n",
       "      <th></th>\n",
       "      <th></th>\n",
       "      <th></th>\n",
       "      <th></th>\n",
       "      <th></th>\n",
       "      <th></th>\n",
       "      <th></th>\n",
       "      <th></th>\n",
       "      <th></th>\n",
       "      <th></th>\n",
       "      <th></th>\n",
       "      <th></th>\n",
       "      <th></th>\n",
       "      <th></th>\n",
       "    </tr>\n",
       "  </thead>\n",
       "  <tbody>\n",
       "    <tr>\n",
       "      <th>Luka Dončić</th>\n",
       "      <td>NaN</td>\n",
       "      <td>17.0</td>\n",
       "      <td>25.0</td>\n",
       "      <td>0.680</td>\n",
       "      <td>2.0</td>\n",
       "      <td>6.0</td>\n",
       "      <td>0.333</td>\n",
       "      <td>6.0</td>\n",
       "      <td>7.0</td>\n",
       "      <td>0.857</td>\n",
       "      <td>0.0</td>\n",
       "      <td>10.0</td>\n",
       "      <td>10.0</td>\n",
       "      <td>8.0</td>\n",
       "      <td>2.0</td>\n",
       "      <td>0.0</td>\n",
       "      <td>3.0</td>\n",
       "      <td>4.0</td>\n",
       "      <td>42.0</td>\n",
       "    </tr>\n",
       "    <tr>\n",
       "      <th>Kyrie Irving</th>\n",
       "      <td>NaN</td>\n",
       "      <td>10.0</td>\n",
       "      <td>17.0</td>\n",
       "      <td>0.588</td>\n",
       "      <td>1.0</td>\n",
       "      <td>4.0</td>\n",
       "      <td>0.250</td>\n",
       "      <td>2.0</td>\n",
       "      <td>2.0</td>\n",
       "      <td>1.000</td>\n",
       "      <td>0.0</td>\n",
       "      <td>3.0</td>\n",
       "      <td>3.0</td>\n",
       "      <td>8.0</td>\n",
       "      <td>0.0</td>\n",
       "      <td>0.0</td>\n",
       "      <td>1.0</td>\n",
       "      <td>3.0</td>\n",
       "      <td>23.0</td>\n",
       "    </tr>\n",
       "    <tr>\n",
       "      <th>Tim Hardaway Jr.</th>\n",
       "      <td>NaN</td>\n",
       "      <td>11.0</td>\n",
       "      <td>15.0</td>\n",
       "      <td>0.733</td>\n",
       "      <td>6.0</td>\n",
       "      <td>10.0</td>\n",
       "      <td>0.600</td>\n",
       "      <td>3.0</td>\n",
       "      <td>4.0</td>\n",
       "      <td>0.750</td>\n",
       "      <td>0.0</td>\n",
       "      <td>6.0</td>\n",
       "      <td>6.0</td>\n",
       "      <td>7.0</td>\n",
       "      <td>0.0</td>\n",
       "      <td>0.0</td>\n",
       "      <td>1.0</td>\n",
       "      <td>2.0</td>\n",
       "      <td>31.0</td>\n",
       "    </tr>\n",
       "  </tbody>\n",
       "</table>\n",
       "</div>"
      ],
      "text/plain": [
       "                  MP    FG   FGA    FG%   3P   3PA    3P%   FT  FTA    FT%  \\\n",
       "Starters                                                                     \n",
       "Luka Dončić      NaN  17.0  25.0  0.680  2.0   6.0  0.333  6.0  7.0  0.857   \n",
       "Kyrie Irving     NaN  10.0  17.0  0.588  1.0   4.0  0.250  2.0  2.0  1.000   \n",
       "Tim Hardaway Jr. NaN  11.0  15.0  0.733  6.0  10.0  0.600  3.0  4.0  0.750   \n",
       "\n",
       "                  ORB   DRB   TRB  AST  STL  BLK  TOV   PF   PTS  \n",
       "Starters                                                          \n",
       "Luka Dončić       0.0  10.0  10.0  8.0  2.0  0.0  3.0  4.0  42.0  \n",
       "Kyrie Irving      0.0   3.0   3.0  8.0  0.0  0.0  1.0  3.0  23.0  \n",
       "Tim Hardaway Jr.  0.0   6.0   6.0  7.0  0.0  0.0  1.0  2.0  31.0  "
      ]
     },
     "execution_count": 46,
     "metadata": {},
     "output_type": "execute_result"
    }
   ],
   "source": [
    "basic_df.head(3)\n",
    "\n"
   ]
  },
  {
   "cell_type": "code",
   "execution_count": 47,
   "metadata": {},
   "outputs": [
    {
     "data": {
      "text/plain": [
       "MP     240.000\n",
       "FG      47.000\n",
       "FGA     77.000\n",
       "FG%      0.610\n",
       "3P      14.000\n",
       "3PA     34.000\n",
       "3P%      0.412\n",
       "FT      14.000\n",
       "FTA     16.000\n",
       "FT%      0.875\n",
       "ORB      1.000\n",
       "DRB     30.000\n",
       "TRB     31.000\n",
       "AST     32.000\n",
       "STL      3.000\n",
       "BLK      2.000\n",
       "TOV     14.000\n",
       "PF      23.000\n",
       "PTS    122.000\n",
       "Name: Team Totals, dtype: float64"
      ]
     },
     "execution_count": 47,
     "metadata": {},
     "output_type": "execute_result"
    }
   ],
   "source": [
    "basic_df.iloc[-1]"
   ]
  },
  {
   "cell_type": "code",
   "execution_count": 48,
   "metadata": {},
   "outputs": [
    {
     "data": {
      "text/html": [
       "<div>\n",
       "<style scoped>\n",
       "    .dataframe tbody tr th:only-of-type {\n",
       "        vertical-align: middle;\n",
       "    }\n",
       "\n",
       "    .dataframe tbody tr th {\n",
       "        vertical-align: top;\n",
       "    }\n",
       "\n",
       "    .dataframe thead th {\n",
       "        text-align: right;\n",
       "    }\n",
       "</style>\n",
       "<table border=\"1\" class=\"dataframe\">\n",
       "  <thead>\n",
       "    <tr style=\"text-align: right;\">\n",
       "      <th></th>\n",
       "      <th>MP</th>\n",
       "      <th>TS%</th>\n",
       "      <th>eFG%</th>\n",
       "      <th>3PAr</th>\n",
       "      <th>FTr</th>\n",
       "      <th>ORB%</th>\n",
       "      <th>DRB%</th>\n",
       "      <th>TRB%</th>\n",
       "      <th>AST%</th>\n",
       "      <th>STL%</th>\n",
       "      <th>BLK%</th>\n",
       "      <th>TOV%</th>\n",
       "      <th>USG%</th>\n",
       "      <th>ORtg</th>\n",
       "      <th>DRtg</th>\n",
       "    </tr>\n",
       "    <tr>\n",
       "      <th>Starters</th>\n",
       "      <th></th>\n",
       "      <th></th>\n",
       "      <th></th>\n",
       "      <th></th>\n",
       "      <th></th>\n",
       "      <th></th>\n",
       "      <th></th>\n",
       "      <th></th>\n",
       "      <th></th>\n",
       "      <th></th>\n",
       "      <th></th>\n",
       "      <th></th>\n",
       "      <th></th>\n",
       "      <th></th>\n",
       "      <th></th>\n",
       "    </tr>\n",
       "  </thead>\n",
       "  <tbody>\n",
       "    <tr>\n",
       "      <th>Luka Dončić</th>\n",
       "      <td>NaN</td>\n",
       "      <td>0.748</td>\n",
       "      <td>0.720</td>\n",
       "      <td>0.240</td>\n",
       "      <td>0.280</td>\n",
       "      <td>0.0</td>\n",
       "      <td>27.0</td>\n",
       "      <td>16.1</td>\n",
       "      <td>30.1</td>\n",
       "      <td>2.3</td>\n",
       "      <td>0.0</td>\n",
       "      <td>9.7</td>\n",
       "      <td>34.2</td>\n",
       "      <td>138.0</td>\n",
       "      <td>130.0</td>\n",
       "    </tr>\n",
       "    <tr>\n",
       "      <th>Kyrie Irving</th>\n",
       "      <td>NaN</td>\n",
       "      <td>0.643</td>\n",
       "      <td>0.618</td>\n",
       "      <td>0.235</td>\n",
       "      <td>0.118</td>\n",
       "      <td>0.0</td>\n",
       "      <td>8.5</td>\n",
       "      <td>5.1</td>\n",
       "      <td>25.3</td>\n",
       "      <td>0.0</td>\n",
       "      <td>0.0</td>\n",
       "      <td>5.3</td>\n",
       "      <td>21.7</td>\n",
       "      <td>132.0</td>\n",
       "      <td>139.0</td>\n",
       "    </tr>\n",
       "    <tr>\n",
       "      <th>Tim Hardaway Jr.</th>\n",
       "      <td>NaN</td>\n",
       "      <td>0.925</td>\n",
       "      <td>0.933</td>\n",
       "      <td>0.667</td>\n",
       "      <td>0.267</td>\n",
       "      <td>0.0</td>\n",
       "      <td>17.8</td>\n",
       "      <td>10.6</td>\n",
       "      <td>24.4</td>\n",
       "      <td>0.0</td>\n",
       "      <td>0.0</td>\n",
       "      <td>5.6</td>\n",
       "      <td>21.5</td>\n",
       "      <td>168.0</td>\n",
       "      <td>137.0</td>\n",
       "    </tr>\n",
       "  </tbody>\n",
       "</table>\n",
       "</div>"
      ],
      "text/plain": [
       "                  MP    TS%   eFG%   3PAr    FTr  ORB%  DRB%  TRB%  AST%  \\\n",
       "Starters                                                                   \n",
       "Luka Dončić      NaN  0.748  0.720  0.240  0.280   0.0  27.0  16.1  30.1   \n",
       "Kyrie Irving     NaN  0.643  0.618  0.235  0.118   0.0   8.5   5.1  25.3   \n",
       "Tim Hardaway Jr. NaN  0.925  0.933  0.667  0.267   0.0  17.8  10.6  24.4   \n",
       "\n",
       "                  STL%  BLK%  TOV%  USG%   ORtg   DRtg  \n",
       "Starters                                                \n",
       "Luka Dončić        2.3   0.0   9.7  34.2  138.0  130.0  \n",
       "Kyrie Irving       0.0   0.0   5.3  21.7  132.0  139.0  \n",
       "Tim Hardaway Jr.   0.0   0.0   5.6  21.5  168.0  137.0  "
      ]
     },
     "execution_count": 48,
     "metadata": {},
     "output_type": "execute_result"
    }
   ],
   "source": [
    "advanced_df.head(3)"
   ]
  }
 ],
 "metadata": {
  "kernelspec": {
   "display_name": "nba",
   "language": "python",
   "name": "python3"
  },
  "language_info": {
   "codemirror_mode": {
    "name": "ipython",
    "version": 3
   },
   "file_extension": ".py",
   "mimetype": "text/x-python",
   "name": "python",
   "nbconvert_exporter": "python",
   "pygments_lexer": "ipython3",
   "version": "3.9.13"
  },
  "orig_nbformat": 4,
  "vscode": {
   "interpreter": {
    "hash": "d9528c813f6a48cfab1172fd036cf045268690b6bda1ab32f27d989456c1f6ca"
   }
  }
 },
 "nbformat": 4,
 "nbformat_minor": 2
}
