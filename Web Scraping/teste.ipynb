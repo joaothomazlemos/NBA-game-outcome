{
 "cells": [
  {
   "cell_type": "code",
   "execution_count": 1,
   "metadata": {},
   "outputs": [],
   "source": [
    "import os\n",
    "\n",
    "\n",
    "DATA_DIR = 'data'\n",
    "STANDINGS_DIR = os.path.join(DATA_DIR, 'standings') # data is a directory where standings will be located inside\n",
    "SCORES_DIR = os.path.join(DATA_DIR, 'scores')"
   ]
  },
  {
   "cell_type": "code",
   "execution_count": null,
   "metadata": {},
   "outputs": [],
   "source": []
  },
  {
   "cell_type": "code",
   "execution_count": 2,
   "metadata": {},
   "outputs": [
    {
     "data": {
      "text/plain": [
       "'data\\\\scores'"
      ]
     },
     "execution_count": 2,
     "metadata": {},
     "output_type": "execute_result"
    }
   ],
   "source": [
    "SCORES_DIR"
   ]
  },
  {
   "cell_type": "code",
   "execution_count": 3,
   "metadata": {},
   "outputs": [
    {
     "data": {
      "text/plain": [
       "'data\\\\scores\\\\compressed_games.zip'"
      ]
     },
     "execution_count": 3,
     "metadata": {},
     "output_type": "execute_result"
    }
   ],
   "source": [
    "os.path.join(SCORES_DIR, 'compressed_games.zip')\n"
   ]
  },
  {
   "cell_type": "code",
   "execution_count": 4,
   "metadata": {},
   "outputs": [],
   "source": [
    "file_names = os.listdir(SCORES_DIR)"
   ]
  },
  {
   "cell_type": "code",
   "execution_count": 12,
   "metadata": {},
   "outputs": [],
   "source": [
    "import datetime\n",
    "\n",
    "\n",
    "now = datetime.datetime.now()\n",
    "ACTUAL_MONTH = str(now.month).zfill(2) # zfill is a method that adds a 0 to the left of the string if it has only one digit\n",
    "ACTUAL_YEAR = str(now.year)"
   ]
  },
  {
   "cell_type": "code",
   "execution_count": 8,
   "metadata": {},
   "outputs": [],
   "source": [
    "from bs4 import BeautifulSoup\n",
    "import os\n",
    "from playwright.sync_api import sync_playwright, TimeoutError as playwrightTimeout\n",
    "import time\n",
    "import datetime\n",
    "import os, sys, shutil, gzip\n",
    "import zlib\n",
    "import zipfile\n",
    "from tqdm import tqdm\n",
    "from IPython.display import clear_output\n",
    "import re\n"
   ]
  },
  {
   "cell_type": "code",
   "execution_count": 13,
   "metadata": {},
   "outputs": [],
   "source": [
    "import time\n",
    "\n",
    "\n",
    "def get_html(url, selector, sleep=7, retries=3): # async allow the code after it to imediatelly execute. \n",
    "    html=None\n",
    "    for i in range(1, retries+1):\n",
    "        time.sleep(sleep * i) # each try is longer by a sleep multiplication factor\n",
    "\n",
    "        try:\n",
    "            with sync_playwright() as p: # istance of playwright object\n",
    "                browser = p.firefox.launch() # await will actually wait for the async load of the website complete to lauch the browser\n",
    "                #context = browser.new_context()\n",
    "                page = browser.new_page() # page will be a new tab\n",
    "                page.goto(url)\n",
    "                print(page.title()) # tracking our webscraping progress of tries and sucess\n",
    "                html = page.inner_html(selector) # we gonna get only part of the html page\n",
    "        except playwrightTimeout:\n",
    "            print(f'TimeoutError on the url {url}')\n",
    "            continue # tries again\n",
    "        else: # if try suceds\n",
    "            break\n",
    "    if html != None:\n",
    "        return html\n",
    "    else:\n",
    "        print('Fail')"
   ]
  },
  {
   "cell_type": "code",
   "execution_count": null,
   "metadata": {},
   "outputs": [],
   "source": [
    "\n",
    "DATA_DIR = 'data'\n",
    "STANDINGS_DIR = os.path.join(DATA_DIR, 'standings') # data is a directory where standings will be located inside\n",
    "SCORES_DIR = os.path.join(DATA_DIR, 'scores')\n",
    "ACTUAL_MONTH_SCORES_DIR = os.path.join(DATA_DIR, 'actual_month_scores') # data is a directory where standings will be located inside\n",
    "#SEASONS = list(range(2016, 2023))\n",
    "SEASONS = [2018, 2019, 2020, 2021, 2022, 2023]"
   ]
  },
  {
   "cell_type": "code",
   "execution_count": 77,
   "metadata": {},
   "outputs": [],
   "source": [
    "ACTUAL_MONTH = str(now.month).zfill(2)\n",
    "SEASONS = [2023]\n",
    "ACTUAL_MONTH_SCORES_DIR = os.path.join(DATA_DIR, 'actual_month_scores')"
   ]
  },
  {
   "cell_type": "code",
   "execution_count": 78,
   "metadata": {},
   "outputs": [],
   "source": [
    "def scrape_boxscores(standing_file, season_year): # getting the paths of the htmls\n",
    "    \"\"\" \n",
    "     Info:\n",
    "        Gets the box scores of a month and saves it. We want to save all data in a directory,\n",
    "        and the data of the actual month in a different directory, to deal with incoming real time data.\n",
    "          Because the domain uses a single year to a single season that actually takes two years,\n",
    "          we have to deal with the transition between seasons.\n",
    "          For this, we are only saving the data of the actual month in the actual_month_scores directory, when\n",
    "          the month == current month, and the year == the last year of the seasons list.\n",
    "         --------------------------------\n",
    "          Input:\n",
    "             standing_file: path to the standings file (type: str)\n",
    "              Example: 'data/standings/NBA_2022_games-june.html'\n",
    "                season_year: year of the season (type: int)\n",
    "               ----------------------------------------\n",
    "                Output:\n",
    "                   box_scores: list of box scores (type: list)\n",
    "                     \"\"\"\n",
    "     # here we grab a month and go trough all the month box scores\n",
    "    with open(standing_file,'r') as f:\n",
    "        html = f.read()\n",
    "\n",
    "    soup = BeautifulSoup(html, 'html.parser')\n",
    "    links = soup.find_all('a')\n",
    "    hrefs = [l.get('href') for l in links]\n",
    "    box_scores = [href for href in hrefs if href and 'boxscore' in href and '.html' in href]\n",
    "    box_scores = [f'https://www.basketball-reference.com/{href}' for href in box_scores ]\n",
    "    #now we have all the links of the box , of all box of the months, of all months together ordered chronologically\n",
    "    print(f'Now scraping the box scores of the {standing_file.split(\"/\")[-1]}')\n",
    "\n",
    "    for url in tqdm(box_scores): # navigate for each month page to save the file name first\n",
    "            #if the file is from the actual month, its only saved on the actual month directory.\n",
    "            #if does not exist, we can scrap and save it. For this to work,\n",
    "            #we have to assume that the actual month is the last one in the list of box_scores\n",
    "            #and is not in scores directory by some mistake\n",
    "\n",
    "            #using regex to check if the url contains the actual month and year concatenated\n",
    "            pattern = re.compile(f'{season_year}{ACTUAL_MONTH}')\n",
    "\n",
    "            if re.search(pattern, url) and season_year == SEASONS[-1]: # if the url contains the actual month and year concatenated\n",
    "                save_path = os.path.join(ACTUAL_MONTH_SCORES_DIR, url.split('/')[-1])\n",
    "                print(\"matchs the actual month and year\")\n",
    "                print(f'saving {url} in {save_path}')\n",
    "                continue\n",
    "            else:\n",
    "                save_path = os.path.join(SCORES_DIR, url.split('/')[-1]) # saving in directory the name of the BOX SCORE\n",
    "                print(\"do not matchs the actual month and year\")\n",
    "                print(  f'saving {url} in {save_path}')\n",
    "                print(pattern)\n",
    "            \n",
    "            if os.path.exists(save_path):# if already saved, do the next ( go out to start the loop)\n",
    "                \n",
    "                continue\n",
    "\n",
    "          \n",
    "\n",
    "            #grabbing table of that box score\n",
    "            html = get_html(url=url, selector='#content') #grabing oly wha we want from id selector\n",
    "            if not html:\n",
    "                print(f'still nothing on the first attempt to get the whole {url} content')\n",
    "                continue # if the link is broken or  laging we go on to the next \n",
    "            else:\n",
    "                print(f'attempt to get the {url} content succeds!')\n",
    "            \n",
    "            # -*- coding: utf-8 -*-\n",
    "            # trying to solve unicode error:\n",
    "            #UnicodeEncodeError: 'charmap' codec can't encode character '\\u0101' in position 346838: character maps to <undefined>\n",
    "            \n",
    "            #We are going to save the all the hmtl files in on directory, except the content of the actual month\n",
    "            #This is because we are going to update the actual month every day, so dont need to compress it in th ecompressed_games.zip file.\n",
    "            #We are going to save the actual month in a different directory, and we are going to compress it in a different zip file.\n",
    "            \n",
    "            with open (save_path, 'w+', encoding=\"utf-8\") as f:\n",
    "                f.write(html) # content to be saved in the file  with specified name\n",
    "\n"
   ]
  },
  {
   "cell_type": "code",
   "execution_count": 65,
   "metadata": {},
   "outputs": [
    {
     "data": {
      "text/plain": [
       "re.compile(r'2023april', re.UNICODE)"
      ]
     },
     "execution_count": 65,
     "metadata": {},
     "output_type": "execute_result"
    }
   ],
   "source": [
    "pattern = re.compile(f'{ACTUAL_YEAR}{ACTUAL_MONTH}')\n",
    "pattern"
   ]
  },
  {
   "cell_type": "code",
   "execution_count": 52,
   "metadata": {},
   "outputs": [
    {
     "name": "stdout",
     "output_type": "stream",
     "text": [
      "yes\n"
     ]
    }
   ],
   "source": [
    "if re.search(pattern, '928392832023Aprilsdhfusdfhsudf'):\n",
    "    print('yes')"
   ]
  },
  {
   "cell_type": "code",
   "execution_count": 80,
   "metadata": {},
   "outputs": [
    {
     "data": {
      "text/plain": [
       "2023"
      ]
     },
     "execution_count": 80,
     "metadata": {},
     "output_type": "execute_result"
    }
   ],
   "source": [
    "SEASONS[-1]"
   ]
  },
  {
   "cell_type": "code",
   "execution_count": 79,
   "metadata": {},
   "outputs": [
    {
     "name": "stdout",
     "output_type": "stream",
     "text": [
      "Now scraping the box scores of the NBA_2023_games-april.html\n"
     ]
    },
    {
     "name": "stderr",
     "output_type": "stream",
     "text": [
      "100%|██████████| 2/2 [00:00<?, ?it/s]"
     ]
    },
    {
     "name": "stdout",
     "output_type": "stream",
     "text": [
      "matchs the actual month and year\n",
      "saving https://www.basketball-reference.com//boxscores/202304010MIA.html in data\\actual_month_scores\\202304010MIA.html\n",
      "matchs the actual month and year\n",
      "saving https://www.basketball-reference.com//boxscores/202304010NOP.html in data\\actual_month_scores\\202304010NOP.html\n"
     ]
    },
    {
     "name": "stderr",
     "output_type": "stream",
     "text": [
      "\n"
     ]
    }
   ],
   "source": [
    "scrape_boxscores('data/standings/NBA_2023_games-april.html', 2023)"
   ]
  },
  {
   "cell_type": "code",
   "execution_count": 53,
   "metadata": {},
   "outputs": [
    {
     "data": {
      "text/plain": [
       "'april'"
      ]
     },
     "execution_count": 53,
     "metadata": {},
     "output_type": "execute_result"
    }
   ],
   "source": [
    "now = datetime.datetime.now()\n",
    "#currenty month name\n",
    "ACTUAL_MONTH = now.strftime(\"%B\").lower()\n",
    "ACTUAL_MONTH "
   ]
  },
  {
   "cell_type": "code",
   "execution_count": 16,
   "metadata": {},
   "outputs": [
    {
     "name": "stdout",
     "output_type": "stream",
     "text": [
      "Help on function scrape_boxscores in module __main__:\n",
      "\n",
      "scrape_boxscores(standing_file)\n",
      "\n"
     ]
    }
   ],
   "source": [
    "help(scrape_boxscores)"
   ]
  }
 ],
 "metadata": {
  "kernelspec": {
   "display_name": "base",
   "language": "python",
   "name": "python3"
  },
  "language_info": {
   "codemirror_mode": {
    "name": "ipython",
    "version": 3
   },
   "file_extension": ".py",
   "mimetype": "text/x-python",
   "name": "python",
   "nbconvert_exporter": "python",
   "pygments_lexer": "ipython3",
   "version": "3.9.13"
  },
  "orig_nbformat": 4
 },
 "nbformat": 4,
 "nbformat_minor": 2
}
