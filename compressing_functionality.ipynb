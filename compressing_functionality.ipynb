{
 "cells": [
  {
   "attachments": {},
   "cell_type": "markdown",
   "metadata": {},
   "source": [
    "Installing needed packages:"
   ]
  },
  {
   "cell_type": "code",
   "execution_count": null,
   "metadata": {},
   "outputs": [],
   "source": [
    "# %pip install gzip-reader\n",
    "# %pip install gzip-reader"
   ]
  },
  {
   "cell_type": "code",
   "execution_count": 1,
   "metadata": {},
   "outputs": [],
   "source": [
    "import os, sys, shutil, gzip\n",
    "import zlib\n",
    "import zipfile\n",
    "from tqdm import tqdm\n",
    "from IPython.display import clear_output"
   ]
  },
  {
   "cell_type": "code",
   "execution_count": 2,
   "metadata": {},
   "outputs": [],
   "source": [
    "#path to box scores html files\n",
    "path = \"data/scores/\""
   ]
  },
  {
   "attachments": {},
   "cell_type": "markdown",
   "metadata": {},
   "source": [
    "Compressing that many files into a sigle zipfile function:"
   ]
  },
  {
   "cell_type": "code",
   "execution_count": 10,
   "metadata": {},
   "outputs": [],
   "source": [
    "def compress(file_names, path):\n",
    "\n",
    "\n",
    "    '''\n",
    "    Info:\n",
    "        Compresses files in the path with the names in the list.\n",
    "    ----------\n",
    "    Input:\n",
    "        file_names: list of file names to compress (type: list)\n",
    "        path: path to the files (type: string)\n",
    "    ----------\n",
    "    Output:\n",
    "        Compressed files in the path with the names in the list, as compressed_games.zip.\n",
    "    '''\n",
    "     \n",
    "  \n",
    "\n",
    "    # Select the compression mode ZIP_DEFLATED for compression\n",
    "    # or zipfile.ZIP_STORED to just store the file\n",
    "    compression = zipfile.ZIP_DEFLATED\n",
    "\n",
    "    # create the zip file first parameter path/name, second mode\n",
    "    zf = zipfile.ZipFile(path+\"compressed_games.zip\", mode=\"w\")\n",
    "    try:\n",
    "        for file_name in tqdm(file_names):\n",
    "            # Add file to the zip file\n",
    "            # first parameter file to zip, second filename in zip\n",
    "            zf.write(path + file_name, file_name, compress_type=compression)\n",
    "\n",
    "    except FileNotFoundError:\n",
    "        print(\"An error occurred, file not found\")\n",
    "    finally:\n",
    "        # Close the zip file to create a fulll compressed object\n",
    "        zf.close()\n",
    "\n",
    "\n"
   ]
  },
  {
   "cell_type": "code",
   "execution_count": 4,
   "metadata": {},
   "outputs": [
    {
     "name": "stderr",
     "output_type": "stream",
     "text": [
      "100%|██████████| 2494/2494 [02:12<00:00, 18.78it/s]"
     ]
    },
    {
     "name": "stdout",
     "output_type": "stream",
     "text": [
      "Compressed to data/scores/ as compressed_games.zip\n"
     ]
    },
    {
     "name": "stderr",
     "output_type": "stream",
     "text": [
      "\n"
     ]
    }
   ],
   "source": [
    "#Compressing\n",
    "for root, dirs, files in os.walk(path):\n",
    "    if len(files) == 1 and files[0].endswith('compressed_games.zip'): # only the compressed file\n",
    "        print(\"Dont have any files to be compressed\")\n",
    "    else:\n",
    "        compress(files, path)\n",
    "        print(f\"Compressed to {path} as compressed_games.zip\")\n",
    "\n",
    "\n"
   ]
  },
  {
   "attachments": {},
   "cell_type": "markdown",
   "metadata": {},
   "source": [
    "As we saved our file into the scores folder, we can delete those files used for compressing, to clean our work space:"
   ]
  },
  {
   "cell_type": "code",
   "execution_count": 6,
   "metadata": {},
   "outputs": [],
   "source": [
    "#deleting files\n",
    "box_scores = os.listdir(path)\n",
    "for file in box_scores:\n",
    "    file_path = os.path.join(path, file)\n",
    "    if file_path.endswith('compressed_games.zip'):\n",
    "        continue\n",
    "    else:\n",
    "        os.remove(file_path)\n",
    "    "
   ]
  },
  {
   "cell_type": "code",
   "execution_count": 37,
   "metadata": {},
   "outputs": [
    {
     "name": "stdout",
     "output_type": "stream",
     "text": [
      "2494\n"
     ]
    }
   ],
   "source": [
    "# Decompression\n",
    "with zipfile.ZipFile(path+'compressed_games.zip', 'r') as zipped:\n",
    "    print(f'{len(zipped.namelist())} files to be extracted')\n",
    "    zipped.extractall(path)"
   ]
  },
  {
   "attachments": {},
   "cell_type": "markdown",
   "metadata": {},
   "source": [
    "Just to be certain that our compressed files are ok in there:"
   ]
  },
  {
   "cell_type": "code",
   "execution_count": 9,
   "metadata": {},
   "outputs": [
    {
     "name": "stdout",
     "output_type": "stream",
     "text": [
      "202012220BRK.html 360535\n",
      "202012220LAL.html 356918\n",
      "202012230BOS.html 353206\n",
      "202012230CHI.html 357409\n",
      "202012230CLE.html 350592\n",
      "202012230DEN.html 380952\n",
      "202012230IND.html 351678\n"
     ]
    }
   ],
   "source": [
    "with zipfile.ZipFile(path+'compressed_games.zip', 'r') as z:\n",
    "    for i, info in enumerate(z.infolist()):\n",
    "        print(info.filename, info.file_size)\n",
    "        if i > 5:\n",
    "            break"
   ]
  }
 ],
 "metadata": {
  "kernelspec": {
   "display_name": "base",
   "language": "python",
   "name": "python3"
  },
  "language_info": {
   "codemirror_mode": {
    "name": "ipython",
    "version": 3
   },
   "file_extension": ".py",
   "mimetype": "text/x-python",
   "name": "python",
   "nbconvert_exporter": "python",
   "pygments_lexer": "ipython3",
   "version": "3.9.13"
  },
  "orig_nbformat": 4,
  "vscode": {
   "interpreter": {
    "hash": "ad2bdc8ecc057115af97d19610ffacc2b4e99fae6737bb82f5d7fb13d2f2c186"
   }
  }
 },
 "nbformat": 4,
 "nbformat_minor": 2
}
