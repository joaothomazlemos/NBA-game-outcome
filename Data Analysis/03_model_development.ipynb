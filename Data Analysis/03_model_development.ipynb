{
 "cells": [
  {
   "attachments": {},
   "cell_type": "markdown",
   "metadata": {},
   "source": [
    "## The objective of this notebook is to develop ML models with tunning parameters to predict the target variable."
   ]
  },
  {
   "cell_type": "code",
   "execution_count": 1,
   "metadata": {},
   "outputs": [],
   "source": [
    "#importing the libraries\n",
    "import pandas as pd\n",
    "import numpy as np\n",
    "import matplotlib.pyplot as plt\n",
    "import seaborn as sns\n",
    "import pickle\n",
    "from sklearn.model_selection import train_test_split\n",
    "from sklearn.preprocessing import StandardScaler\n",
    "from sklearn.linear_model import LogisticRegression\n",
    "from sklearn.metrics import accuracy_score, precision_score, recall_score, f1_score, roc_auc_score, roc_curve, confusion_matrix\n",
    "# importing grid search\n",
    "from sklearn.model_selection import RandomizedSearchCV\n",
    "from sklearn.model_selection import GridSearchCV\n",
    "# import our models\n",
    "#Logistic Regression\n",
    "from sklearn.linear_model import LogisticRegression\n",
    "#linear SVC\n",
    "from sklearn.svm import LinearSVC\n",
    "\n",
    "#ensemble models\n",
    "#random forest\n",
    "from sklearn.ensemble import RandomForestClassifier\n",
    "#gradient boosting\n",
    "from sklearn.ensemble import GradientBoostingClassifier\n",
    "\n",
    "#importing the data scaling and pipeline libraries\n",
    "from sklearn.preprocessing import StandardScaler\n",
    "from sklearn.preprocessing import MinMaxScaler\n",
    "from sklearn.pipeline import make_pipeline\n",
    "#importing test train split\n",
    "from sklearn.model_selection import train_test_split\n",
    "\n",
    "\n",
    "import os\n",
    "#importing time to measure the time of execution\n",
    "import time\n",
    "\n",
    "\n",
    "plt.style.use(\"ggplot\")"
   ]
  },
  {
   "cell_type": "code",
   "execution_count": 2,
   "metadata": {},
   "outputs": [],
   "source": [
    "#%pip install xgboost"
   ]
  },
  {
   "cell_type": "code",
   "execution_count": 3,
   "metadata": {},
   "outputs": [
    {
     "data": {
      "text/html": [
       "<div>\n",
       "<style scoped>\n",
       "    .dataframe tbody tr th:only-of-type {\n",
       "        vertical-align: middle;\n",
       "    }\n",
       "\n",
       "    .dataframe tbody tr th {\n",
       "        vertical-align: top;\n",
       "    }\n",
       "\n",
       "    .dataframe thead th {\n",
       "        text-align: right;\n",
       "    }\n",
       "</style>\n",
       "<table border=\"1\" class=\"dataframe\">\n",
       "  <thead>\n",
       "    <tr style=\"text-align: right;\">\n",
       "      <th></th>\n",
       "      <th>date</th>\n",
       "      <th>home_team</th>\n",
       "      <th>away_team</th>\n",
       "      <th>season</th>\n",
       "      <th>home_win</th>\n",
       "      <th>home_rolling_fg</th>\n",
       "      <th>home_rolling_fga</th>\n",
       "      <th>home_rolling_fg%</th>\n",
       "      <th>home_rolling_3p</th>\n",
       "      <th>home_rolling_3pa</th>\n",
       "      <th>...</th>\n",
       "      <th>away_rolling_opponent_drb%_max</th>\n",
       "      <th>away_rolling_opponent_trb%_max</th>\n",
       "      <th>away_rolling_opponent_ast%_max</th>\n",
       "      <th>away_rolling_opponent_stl%_max</th>\n",
       "      <th>away_rolling_opponent_blk%_max</th>\n",
       "      <th>away_rolling_opponent_tov%_max</th>\n",
       "      <th>away_rolling_opponent_usg%_max</th>\n",
       "      <th>away_rolling_opponent_ortg_max</th>\n",
       "      <th>away_rolling_opponent_drtg_max</th>\n",
       "      <th>away_rolling_opponent_Total</th>\n",
       "    </tr>\n",
       "  </thead>\n",
       "  <tbody>\n",
       "    <tr>\n",
       "      <th>0</th>\n",
       "      <td>2017-11-05 00:00:00.000000</td>\n",
       "      <td>CLE</td>\n",
       "      <td>ATL</td>\n",
       "      <td>2017-18</td>\n",
       "      <td>0</td>\n",
       "      <td>38.333333</td>\n",
       "      <td>85.833333</td>\n",
       "      <td>0.446833</td>\n",
       "      <td>9.166667</td>\n",
       "      <td>30.833333</td>\n",
       "      <td>...</td>\n",
       "      <td>39.733333</td>\n",
       "      <td>24.250000</td>\n",
       "      <td>40.600000</td>\n",
       "      <td>4.966667</td>\n",
       "      <td>9.466667</td>\n",
       "      <td>34.283333</td>\n",
       "      <td>27.466667</td>\n",
       "      <td>153.833333</td>\n",
       "      <td>104.666667</td>\n",
       "      <td>109.000000</td>\n",
       "    </tr>\n",
       "    <tr>\n",
       "      <th>1</th>\n",
       "      <td>2017-11-05 00:00:00.000000</td>\n",
       "      <td>NYK</td>\n",
       "      <td>IND</td>\n",
       "      <td>2017-18</td>\n",
       "      <td>1</td>\n",
       "      <td>41.666667</td>\n",
       "      <td>87.666667</td>\n",
       "      <td>0.476000</td>\n",
       "      <td>8.666667</td>\n",
       "      <td>27.333333</td>\n",
       "      <td>...</td>\n",
       "      <td>38.383333</td>\n",
       "      <td>26.300000</td>\n",
       "      <td>47.133333</td>\n",
       "      <td>5.516667</td>\n",
       "      <td>17.716667</td>\n",
       "      <td>30.066667</td>\n",
       "      <td>33.066667</td>\n",
       "      <td>178.000000</td>\n",
       "      <td>121.000000</td>\n",
       "      <td>111.500000</td>\n",
       "    </tr>\n",
       "    <tr>\n",
       "      <th>2</th>\n",
       "      <td>2017-11-07 00:00:00.000000</td>\n",
       "      <td>DEN</td>\n",
       "      <td>BRK</td>\n",
       "      <td>2017-18</td>\n",
       "      <td>1</td>\n",
       "      <td>40.500000</td>\n",
       "      <td>85.500000</td>\n",
       "      <td>0.473333</td>\n",
       "      <td>9.666667</td>\n",
       "      <td>27.666667</td>\n",
       "      <td>...</td>\n",
       "      <td>33.783333</td>\n",
       "      <td>23.616667</td>\n",
       "      <td>33.050000</td>\n",
       "      <td>6.516667</td>\n",
       "      <td>9.566667</td>\n",
       "      <td>45.466667</td>\n",
       "      <td>32.933333</td>\n",
       "      <td>168.666667</td>\n",
       "      <td>111.333333</td>\n",
       "      <td>116.666667</td>\n",
       "    </tr>\n",
       "    <tr>\n",
       "      <th>3</th>\n",
       "      <td>2017-11-07 00:00:00.000000</td>\n",
       "      <td>NYK</td>\n",
       "      <td>CHO</td>\n",
       "      <td>2017-18</td>\n",
       "      <td>1</td>\n",
       "      <td>43.000000</td>\n",
       "      <td>86.666667</td>\n",
       "      <td>0.499833</td>\n",
       "      <td>9.333333</td>\n",
       "      <td>26.500000</td>\n",
       "      <td>...</td>\n",
       "      <td>41.950000</td>\n",
       "      <td>29.016667</td>\n",
       "      <td>40.916667</td>\n",
       "      <td>6.266667</td>\n",
       "      <td>9.150000</td>\n",
       "      <td>32.133333</td>\n",
       "      <td>36.916667</td>\n",
       "      <td>164.166667</td>\n",
       "      <td>110.166667</td>\n",
       "      <td>107.000000</td>\n",
       "    </tr>\n",
       "    <tr>\n",
       "      <th>4</th>\n",
       "      <td>2017-11-07 00:00:00.000000</td>\n",
       "      <td>UTA</td>\n",
       "      <td>PHI</td>\n",
       "      <td>2017-18</td>\n",
       "      <td>0</td>\n",
       "      <td>36.500000</td>\n",
       "      <td>82.833333</td>\n",
       "      <td>0.446333</td>\n",
       "      <td>10.666667</td>\n",
       "      <td>30.166667</td>\n",
       "      <td>...</td>\n",
       "      <td>38.233333</td>\n",
       "      <td>25.333333</td>\n",
       "      <td>43.900000</td>\n",
       "      <td>6.200000</td>\n",
       "      <td>8.316667</td>\n",
       "      <td>39.966667</td>\n",
       "      <td>31.816667</td>\n",
       "      <td>158.166667</td>\n",
       "      <td>112.833333</td>\n",
       "      <td>108.000000</td>\n",
       "    </tr>\n",
       "  </tbody>\n",
       "</table>\n",
       "<p>5 rows × 269 columns</p>\n",
       "</div>"
      ],
      "text/plain": [
       "                         date home_team away_team   season  home_win  \\\n",
       "0  2017-11-05 00:00:00.000000       CLE       ATL  2017-18         0   \n",
       "1  2017-11-05 00:00:00.000000       NYK       IND  2017-18         1   \n",
       "2  2017-11-07 00:00:00.000000       DEN       BRK  2017-18         1   \n",
       "3  2017-11-07 00:00:00.000000       NYK       CHO  2017-18         1   \n",
       "4  2017-11-07 00:00:00.000000       UTA       PHI  2017-18         0   \n",
       "\n",
       "   home_rolling_fg  home_rolling_fga  home_rolling_fg%  home_rolling_3p  \\\n",
       "0        38.333333         85.833333          0.446833         9.166667   \n",
       "1        41.666667         87.666667          0.476000         8.666667   \n",
       "2        40.500000         85.500000          0.473333         9.666667   \n",
       "3        43.000000         86.666667          0.499833         9.333333   \n",
       "4        36.500000         82.833333          0.446333        10.666667   \n",
       "\n",
       "   home_rolling_3pa  ...  away_rolling_opponent_drb%_max  \\\n",
       "0         30.833333  ...                       39.733333   \n",
       "1         27.333333  ...                       38.383333   \n",
       "2         27.666667  ...                       33.783333   \n",
       "3         26.500000  ...                       41.950000   \n",
       "4         30.166667  ...                       38.233333   \n",
       "\n",
       "   away_rolling_opponent_trb%_max  away_rolling_opponent_ast%_max  \\\n",
       "0                       24.250000                       40.600000   \n",
       "1                       26.300000                       47.133333   \n",
       "2                       23.616667                       33.050000   \n",
       "3                       29.016667                       40.916667   \n",
       "4                       25.333333                       43.900000   \n",
       "\n",
       "   away_rolling_opponent_stl%_max  away_rolling_opponent_blk%_max  \\\n",
       "0                        4.966667                        9.466667   \n",
       "1                        5.516667                       17.716667   \n",
       "2                        6.516667                        9.566667   \n",
       "3                        6.266667                        9.150000   \n",
       "4                        6.200000                        8.316667   \n",
       "\n",
       "   away_rolling_opponent_tov%_max  away_rolling_opponent_usg%_max  \\\n",
       "0                       34.283333                       27.466667   \n",
       "1                       30.066667                       33.066667   \n",
       "2                       45.466667                       32.933333   \n",
       "3                       32.133333                       36.916667   \n",
       "4                       39.966667                       31.816667   \n",
       "\n",
       "   away_rolling_opponent_ortg_max  away_rolling_opponent_drtg_max  \\\n",
       "0                      153.833333                      104.666667   \n",
       "1                      178.000000                      121.000000   \n",
       "2                      168.666667                      111.333333   \n",
       "3                      164.166667                      110.166667   \n",
       "4                      158.166667                      112.833333   \n",
       "\n",
       "   away_rolling_opponent_Total  \n",
       "0                   109.000000  \n",
       "1                   111.500000  \n",
       "2                   116.666667  \n",
       "3                   107.000000  \n",
       "4                   108.000000  \n",
       "\n",
       "[5 rows x 269 columns]"
      ]
     },
     "execution_count": 3,
     "metadata": {},
     "output_type": "execute_result"
    }
   ],
   "source": [
    "# Loading our data\n",
    "data_base = pd.read_pickle('data_base.pkl')\n",
    "data_base.head()"
   ]
  },
  {
   "cell_type": "code",
   "execution_count": 4,
   "metadata": {},
   "outputs": [],
   "source": [
    "info_cols = ['date',\n",
    " 'home_team',\n",
    " 'away_team',\n",
    " 'season',\n",
    " 'home_win' ]\n"
   ]
  },
  {
   "attachments": {},
   "cell_type": "markdown",
   "metadata": {},
   "source": [
    "Creating our list of information columns. Note that these variables are all present before a game actually happens. "
   ]
  },
  {
   "cell_type": "code",
   "execution_count": 5,
   "metadata": {},
   "outputs": [
    {
     "name": "stdout",
     "output_type": "stream",
     "text": [
      "Feature set shape: (5999, 264), target series shape: (5999,)\n"
     ]
    }
   ],
   "source": [
    "# Splitting the data into train and test\n",
    "X = data_base.loc[:, ~data_base.columns.isin(info_cols)] # excluding info_cols\n",
    "y = data_base['home_win']\n",
    "\n",
    "print(f'Feature set shape: {X.shape}, target series shape: {y.shape}')"
   ]
  },
  {
   "cell_type": "code",
   "execution_count": 6,
   "metadata": {},
   "outputs": [],
   "source": [
    "# creating a train test split\n",
    "X_train, X_test, y_train, y_test = train_test_split(X, y, test_size=0.2, random_state=42)"
   ]
  },
  {
   "attachments": {},
   "cell_type": "markdown",
   "metadata": {},
   "source": [
    "We need to perform Feature Scaling when we are dealing with Gradient Descent Based algorithms (Linear and Logistic Regression, Neural Network) and Distance-based algorithms (KNN, K-means, SVM) as these are very sensitive to the range of the data points."
   ]
  },
  {
   "cell_type": "code",
   "execution_count": 7,
   "metadata": {},
   "outputs": [],
   "source": [
    "#Creating a class that initializes the model and the parameters, and we just need to pass the scaling method for the pipeline\n",
    "\n",
    "class ModelParams:\n",
    "        \"\"\" Info:\n",
    "         This class initializes the parameters and scalers for the models, which will be used for gridsearchcv,\n",
    "         and their scaling methods.\n",
    "          Input:\n",
    "           model: the model to be used\n",
    "            scaler: Default = False, if True, the model will be scaled accordily with its respective scaler\n",
    "          Output:\n",
    "           get_pipe: returns the model pipeline and its parameters\n",
    "           model_name: returns the model name\n",
    "             \"\"\"\n",
    "                \n",
    "        #models_list = [LogisticRegression(random_state=42), LinearSVC(random_state=42), RandomForestClassifier(random_state=42), GradientBoostingClassifier(random_state=42)]     \n",
    "    \n",
    "        #creating the models  parameters dictionary\n",
    "        # Parameters of pipelines can be set using '__' separated parameter names:\n",
    "        \n",
    "        models_params = {\n",
    "            'LogisticRegression': {'logisticregression__penalty': ['l1', 'l2', 'elasticnet'],\n",
    "                                      'logisticregression__C': [0.001, 0.01, 0.1, 1, 10, 100],\n",
    "                                        'logisticregression__solver': ['newton-cg', 'lbfgs', 'liblinear', 'sag', 'saga'],\n",
    "                                          'logisticregression__max_iter': [10000]},\n",
    "            'LinearSVC': {'linearsvc__C': [0.0001, 0.001, 0.01, 0.1, 1, 10], 'linearsvc__loss': ['hinge', 'squared_hinge'],\n",
    "                             'linearsvc__max_iter': [100000]},\n",
    "            'RandomForestClassifier': {'randomforestclassifier__bootstrap': [True, False],\n",
    "                                        'randomforestclassifier__n_estimators': [100, 200, 300, 400, 500, 1000, 1500],\n",
    "                                          'randomforestclassifier__criterion':['gini', 'entropy'],\n",
    "                                         'randomforestclassifier__max_depth': [10, 20, 30, 40, 50, 60, 70],\n",
    "                                           'randomforestclassifier__min_samples_split': [2, 5, 10],\n",
    "                                             'randomforestclassifier__min_samples_leaf': [1, 2, 4],\n",
    "                                         'randomforestclassifier__max_features': ['sqrt', None],\n",
    "                                           'randomforestclassifier__min_weight_fraction_leaf': [0.0, 0.25, 0.5],\n",
    "                                         'randomforestclassifier__max_leaf_nodes': [10, 20, 30, 40],\n",
    "                                           'randomforestclassifier__min_impurity_decrease': [0.0, 0.1, 0.2, 0.3, 0.4, 0.5, 1.0]},\n",
    "            'GradientBoostingClassifier': {'gradientboostingclassifier__loss': ['deviance', 'exponential'],\n",
    "                                             'gradientboostingclassifier__learning_rate': [0.001, 0.01, 0.1, 1, 10],\n",
    "                                             'gradientboostingclassifier__subsample': [0.1, 0.2, 0.3, 0.4, 0.5, 0.6, 0.7, 0.8, 0.9, 1.0],\n",
    "                                               'gradientboostingclassifier__n_estimators': [100, 200, 300, 400, 500, 1000, 1500],\n",
    "                                                  'gradientboostingclassifier__criterion': ['friedman_mse', 'squared_error'],\n",
    "                                                    'gradientboostingclassifier__min_samples_split': [2, 5, 10],\n",
    "                                                      'gradientboostingclassifier__min_samples_leaf': [1, 2, 4],\n",
    "                                                        'gradientboostingclassifier__min_weight_fraction_leaf': [0.0, 0.25, 0.5],\n",
    "                                                          'gradientboostingclassifier__max_depth': [10, 20, 30, 40, 50, 60, 70],\n",
    "                                                            'gradientboostingclassifier__min_impurity_decrease': [0.0, 0.1, 0.2, 0.3, 0.4, 0.5, 1.0],\n",
    "                                                              'gradientboostingclassifier__max_features': ['sqrt', None],\n",
    "                                                                'gradientboostingclassifier__max_leaf_nodes': [10, 20, 30, 40]}\n",
    "        }\n",
    "                                               \n",
    "\n",
    "        #creating the models respective scalers:\n",
    "        models_scalers = {\n",
    "                'LogisticRegression': StandardScaler(),\n",
    "                'LinearSVC': StandardScaler(),\n",
    "                'RandomForestClassifier': MinMaxScaler(),\n",
    "                'GradientBoostingClassifier': MinMaxScaler()\n",
    "        }\n",
    "        \n",
    "        #creating the models respective pipelines and its parameters\n",
    "        def __init__(self, model, scaler=False):\n",
    "                \"\"\" Info:\n",
    "                 This method initializes the model and the scaling method\n",
    "                  ---------------------------------------------------------------------------------------------\n",
    "\n",
    "                   Input:\n",
    "                    model: the model to be used\n",
    "                     Scaler: boolean\n",
    "                      -------------------------------------------------------------------------------------------\n",
    "                      \n",
    "                       Output:\n",
    "                        None \"\"\"\n",
    "                \n",
    "                self.model = model\n",
    "                self.scaler = scaler\n",
    "                self.model_name = model.__class__.__name__\n",
    "\n",
    "        def get_pipe(self):\n",
    "                \"\"\" Info:\n",
    "                 This method returns the model pipeline and its parameters and the model name\n",
    "                  ---------------------------------------------------------------------------------------------\n",
    "\n",
    "                   Input:\n",
    "                    None\n",
    "                    ---------------------------------------------------------------------------------------------\n",
    "\n",
    "                     Output:\n",
    "                      model pipeline, model parameters, model name \"\"\"\n",
    "                \n",
    "                self.params = self.models_params[self.model_name]\n",
    "                if self.scaler:\n",
    "                        self.scaler = self.models_scalers[self.model_name]\n",
    "                else:\n",
    "                        self.scaler = None\n",
    "                return make_pipeline(self.scaler, self.model), self.params, self.model_name\n",
    "                \n",
    "\n",
    "       "
   ]
  },
  {
   "cell_type": "code",
   "execution_count": 8,
   "metadata": {},
   "outputs": [],
   "source": [
    "\n",
    "# creating a class to take in the model and return the metrics of this model with the best parameters,\n",
    "# using for this the GridSearchCV function\n",
    "class ModelDevelopment:\n",
    "    \"\"\" Takes in the model, the X and y data and splits the data into train and test sets.\n",
    "    Functions:\n",
    "    - grid_search: Takes in the parameters to be tested and the scoring metric and returns the best model, best parameters and best score\n",
    "    - model_metrics: Prints the accuracy, precision, recall, f1 and auc of best model parameters found by the grid search against the test set\n",
    "    - roc_curve: Plots the ROC curve of the best model parameters found by the grid search against the test set\"\"\"\n",
    "\n",
    "    def __init__(self, model, model_name, X, y):\n",
    "        \"\"\" Info:\n",
    "            Takes in the model, the X and y data and splits the data into train and test sets.\n",
    "\n",
    "            Input:\n",
    "            model: Model to be tested\n",
    "            model_name: Name of the model to be tested\n",
    "            X: Feature set\n",
    "            y: Target series\n",
    "            \n",
    "            \n",
    "\n",
    "            Output:\n",
    "            X_train: Feature set for the train set\n",
    "            X_test: Feature set for the test set\n",
    "            y_train: Target series for the train set\n",
    "            y_test: Target series for the test set\n",
    "            \n",
    "                    \"\"\"\n",
    "        self.model = model\n",
    "        self.model_name = model_name\n",
    "        self.best_model = None\n",
    "        self.X = X\n",
    "        self.y = y\n",
    "        self.X_train, self.X_test, self.y_train, self.y_test = train_test_split(self.X, self.y, test_size=0.2, random_state=42)\n",
    "        \n",
    "\n",
    "        \n",
    "    \n",
    "\n",
    "    def grid_search(self, params: dict, scoring: str): # scoring is the metric we want to optimize, mostly 'roc_auc'\n",
    "        \"\"\" Info:\n",
    "            Takes in the parameters to be tested and the scoring metric and returns the best model, best parameters and best score\n",
    "             Input:\n",
    "              params: Dictionary with the parameters to be tested\n",
    "              scoring: Metric to be optimized\n",
    "             Output:\n",
    "              best_model: Best model found by the grid search\n",
    "              best_params: Best parameters found by the grid search\n",
    "              best_score: Best score found by the grid search \"\"\"\n",
    "        \n",
    "        #measuring the time it takes to run the grid search\n",
    "        #start time\n",
    "        start = time.time()\n",
    "        \n",
    "        grid = GridSearchCV(self.model, params, cv=5, scoring=scoring, n_jobs=-1, verbose=3) #verbose = 2 so we can watch the progress in more detail\n",
    "        #trying to fit the model with the parameters\n",
    "        try:\n",
    "            grid.fit(self.X, self.y)\n",
    "        except Exception as e:\n",
    "            print(\"An error occurred:\", e)\n",
    "            pass\n",
    "        self.best_model = grid.best_estimator_\n",
    "        self.best_params = grid.best_params_\n",
    "        self.best_score = grid.best_score_\n",
    "\n",
    "        #final time\n",
    "        end = time.time()\n",
    "        #print the total time it took to run the grid search in minutes\n",
    "        print('Total time: ', round((end-start)/60), ' minutes')\n",
    "\n",
    "        return self.best_model, self.best_params, self.best_score\n",
    "    \n",
    "    def random_search(self, params_range: dict, scoring: str):\n",
    "        \"\"\" Info:\n",
    "            Takes in the parameters to be tested using the RandomizedSearchCV() funtion and the scoring metric and returns the best model, best parameters and best score. The randomized search allows us to test more parameters in less time.\n",
    "            --------------------------------------------------------------------------------------------------------------------------------------------------------------------------------------------------------------------------------------------------------\n",
    "             Input:\n",
    "              params: Dictionary with the parameters to be tested\n",
    "              scoring: Metric to be optimized\n",
    "            --------------------------------------------------------------------------------------------------------------------------------------------------------------------------------------------------------------------------------------------------------\n",
    "             Output:\n",
    "              best_model: Best model found by the grid search\n",
    "              best_params: Best parameters found by the grid search\n",
    "              best_score: Best score found by the grid search \"\"\"\n",
    "        \n",
    "        #measuring the time it takes to run the grid search\n",
    "        #start time\n",
    "        start = time.time()\n",
    "        \n",
    "        grid = RandomizedSearchCV(self.model, params_range, cv=3, scoring=scoring, n_jobs=-1, verbose=3, n_iter=1000, random_state=42)\n",
    "        #trying to fit the model with the parameters\n",
    "        try:\n",
    "            grid.fit(self.X, self.y)\n",
    "        except Exception as e:\n",
    "            print(\"An error occurred:\", e)\n",
    "            pass\n",
    "        self.best_model = grid.best_estimator_\n",
    "        self.best_params = grid.best_params_\n",
    "        self.best_score = grid.best_score_\n",
    "        #final time\n",
    "        end = time.time()\n",
    "        #print the total time it took to run the grid search in minutes\n",
    "        print('Total time: ', round((end-start)/60), ' minutes')\n",
    "        return self.best_model, self.best_params, self.best_score\n",
    "        \n",
    "        \n",
    "    \n",
    "    def model_metrics(self):\n",
    "        \"\"\" Prints the accuracy, precision, recall, f1 and auc of best model parameters found by the grid search against the test set\n",
    "            For this, we use the pre split X test and y test data, which are 20% of the original data\n",
    "          \"\"\"\n",
    "        y_pred = self.best_model.predict(self.X_test) #type: ignore\n",
    "        accuracy = accuracy_score(self.y_test, y_pred)\n",
    "        precision = precision_score(self.y_test, y_pred)\n",
    "        recall = recall_score(self.y_test, y_pred)\n",
    "        f1 = f1_score(self.y_test, y_pred)\n",
    "        auc = roc_auc_score(self.y_test, y_pred)\n",
    "        print(f'Accuracy: {accuracy:.1%}' )\n",
    "        print(f'Precision: {precision:.1%}')\n",
    "        print(f'Recall: {recall:.1%}')\n",
    "        print(f'F1: {f1:.1%}')\n",
    "        print(f'AUC: {auc:.1%}') #auc score\n",
    "        \n",
    "    \n",
    "    def roc_curve(self):\n",
    "        \"\"\" Plots the ROC curve of the best model parameters found by the grid search against the test set\n",
    "            For this, we use the pre split X test and y test data, which are 20% of the original data\n",
    "          \"\"\"\n",
    "        y_pred_proba = self.best_model.predict_proba(self.X_test)[:,1] #type: ignore\n",
    "        fpr, tpr, thresholds = roc_curve(self.y_test, y_pred_proba)\n",
    "        plt.plot([0,1], [0,1], 'k--')\n",
    "        plt.plot(fpr, tpr, label=self.model_name)\n",
    "        plt.xlabel('False Positive Rate')\n",
    "        plt.ylabel('True Positive Rate')\n",
    "        plt.title(self.model_name+' ROC Curve')\n",
    "        plt.show()\n",
    "\n",
    "    # function to plot the confusion matrix\n",
    "    def plot_confusion_matrix(self):\n",
    "        \"\"\" Plots the confusion matrix of the best model parameters found by the grid search against the test set\n",
    "            For this, we use the pre split X test and y test data, which are 20% of the original data\n",
    "          \"\"\"\n",
    "        y_pred = self.best_model.predict(self.X_test) #type: ignore\n",
    "        cm = confusion_matrix(self.y_test, y_pred)\n",
    "        sns.heatmap(cm, annot=True, fmt='d', cmap='Blues')\n",
    "        plt.title('Confusion Matrix')\n",
    "        plt.xlabel('Predicted')\n",
    "        plt.ylabel('Actual')\n",
    "        plt.show()"
   ]
  },
  {
   "cell_type": "code",
   "execution_count": 9,
   "metadata": {},
   "outputs": [],
   "source": [
    "#creating a function that uses the ModelParams class to instantiates the model, its parameters and its respective scaler. Then, it instantiates the ModelDevelopment class and \n",
    "#uses the grid_search function to find the best parameters for the model.\n",
    "def instantiate_best_model(model, X, y, scoring, scaler=True, random_search=False):\n",
    "        \"\"\" Info:\n",
    "                returns the model tunned with the best parameters\n",
    "            -------------------------------------------------\n",
    "             Input:\n",
    "                model: Model to be tested\n",
    "                X: Feature set\n",
    "                y: Target series\n",
    "                scoring: Metric to be optimized\n",
    "                scaler: Whether to use a scaler or not\n",
    "             ------------------------------------------------\n",
    "             Output:\n",
    "               best_model: Best model found by the grid search\n",
    "               best_params: Best parameters found by the grid search\n",
    "               best_score: Best score found by the grid search \"\"\"\n",
    "        \n",
    "        # Using the ModelParams class to instantiate the model, its parameters and its respective scaler\n",
    "        model_params = ModelParams(model, scaler)\n",
    "        pipe, params, model_name = model_params.get_pipe()\n",
    "        #checking if the model is already saved in the models folder\n",
    "        # if the model is not saved, we instantiate the ModelDevelopment class and use the grid_search function to find the best parameters for the model and then save it\n",
    "        if scaler:\n",
    "                if not os.path.exists('models/'+model_name+'.pkl'): \n",
    "                         # Using the ModelDevelopment class to instantiate the model\n",
    "                        clf_instance = ModelDevelopment(pipe, model_name, X, y)\n",
    "                        # Using the search function to find the best parameters for the model\n",
    "                        if random_search:\n",
    "                                best_model, *_  = clf_instance.random_search(params, scoring)\n",
    "                        else:\n",
    "                                best_model, *_  = clf_instance.grid_search(params, scoring) # This also fits the model instance with a variety of parameters against the dataset\n",
    "                        #saving best model with best parameters to pickle file:\n",
    "                        file_name = 'models/'+model_name+'.pkl'\n",
    "                        instance_name = 'models/'+model_name+'_instance.pkl'\n",
    "                        with open(file_name, 'wb') as f:\n",
    "                                pickle.dump(best_model, f)\n",
    "                        with open(instance_name, 'wb') as f:\n",
    "                                pickle.dump(clf_instance, f) \n",
    "                else:\n",
    "                        print('Model already saved')\n",
    "                        pass\n",
    "                       \n",
    "        else:\n",
    "                if not os.path.exists('models/'+model_name+'_unscaled.pkl'):\n",
    "                         # Using the ModelDevelopment class to instantiate the model\n",
    "                        clf_instance = ModelDevelopment(pipe, model_name, X, y)\n",
    "                        # Using the grid_search function to find the best parameters for the model\n",
    "                        if random_search:\n",
    "                                best_model, *_  = clf_instance.random_search(params, scoring)\n",
    "                        else:\n",
    "                                best_model, *_  = clf_instance.grid_search(params, scoring) # This also fits the model instance with a variety of parameters against the dataset\n",
    "                        #saving best model with best parameters to pickle file:\n",
    "                        file_name = 'models/'+model_name+'_unscaled.pkl'\n",
    "                        instance_name = 'models/'+model_name+'_unscaled_instance.pkl'\n",
    "                        with open(file_name, 'wb') as f:\n",
    "                                pickle.dump(best_model, f)\n",
    "                        with open(instance_name, 'wb') as f:\n",
    "                                pickle.dump(clf_instance, f) \n",
    "                else:\n",
    "                        print('Model already saved')\n",
    "                        pass     \n",
    "                                     "
   ]
  },
  {
   "attachments": {},
   "cell_type": "markdown",
   "metadata": {},
   "source": [
    "## Creating our best models objects with scaled data and saving it with pickle file, With all the propertys included with the class we created, model develpment.\n",
    "\n",
    "### Because emsemble models will have naturally more parameters, and are more complex, we are going to set our search method to random search on these models\n",
    "\n",
    "For this, we are going to create a function that takes in a model, the respective scaler. We are going to train either with the scaler on and off.\n",
    "\n",
    "models_list = [LogisticRegression(random_state=42), LinearSVC(random_state=42), RandomForestClassifier(random_state=42), XGBClassifier(random_state=42)]"
   ]
  },
  {
   "attachments": {},
   "cell_type": "markdown",
   "metadata": {},
   "source": [
    "### Pipeline\n",
    "\n",
    "The only process we did was the scaling of the data before setting the model, because we did not check for outliers and we know thats the are no null values. The scaler is saved with the model and its best parameters, to the pickle file, so we do not need to fit the scaler again."
   ]
  },
  {
   "attachments": {},
   "cell_type": "markdown",
   "metadata": {},
   "source": [
    "### Scaled data\n"
   ]
  },
  {
   "attachments": {},
   "cell_type": "markdown",
   "metadata": {},
   "source": [
    "Creating the best Logistic Regression model"
   ]
  },
  {
   "cell_type": "code",
   "execution_count": 10,
   "metadata": {},
   "outputs": [
    {
     "name": "stdout",
     "output_type": "stream",
     "text": [
      "Model already saved\n"
     ]
    }
   ],
   "source": [
    "instantiate_best_model(LogisticRegression(random_state=42), X, y, 'roc_auc', scaler=True)\n",
    "        "
   ]
  },
  {
   "cell_type": "code",
   "execution_count": 11,
   "metadata": {},
   "outputs": [
    {
     "name": "stdout",
     "output_type": "stream",
     "text": [
      "Accuracy: 76.8%\n",
      "Precision: 77.3%\n",
      "Recall: 82.7%\n",
      "F1: 79.9%\n",
      "AUC: 76.1%\n"
     ]
    },
    {
     "data": {
      "image/png": "[encoded data removed]",
      "text/plain": [
       "<Figure size 640x480 with 1 Axes>"
      ]
     },
     "metadata": {},
     "output_type": "display_data"
    },
    {
     "data": {
      "image/png": "[encoded data removed]",
      "text/plain": [
       "<Figure size 640x480 with 2 Axes>"
      ]
     },
     "metadata": {},
     "output_type": "display_data"
    }
   ],
   "source": [
    "LR_instance = pickle.load(open('models/LogisticRegression_instance.pkl', 'rb'))\n",
    "\n",
    "#ploting metrics\n",
    "LR_instance.model_metrics()\n",
    "LR_instance.roc_curve()\n",
    "LR_instance.plot_confusion_matrix()\n"
   ]
  },
  {
   "cell_type": "code",
   "execution_count": 12,
   "metadata": {},
   "outputs": [
    {
     "data": {
      "text/plain": [
       "{'logisticregression__C': 0.001,\n",
       " 'logisticregression__max_iter': 10000,\n",
       " 'logisticregression__penalty': 'l2',\n",
       " 'logisticregression__solver': 'sag'}"
      ]
     },
     "execution_count": 12,
     "metadata": {},
     "output_type": "execute_result"
    }
   ],
   "source": [
    "#model best params\n",
    "LR_instance.best_params"
   ]
  },
  {
   "attachments": {},
   "cell_type": "markdown",
   "metadata": {},
   "source": [
    "Using these parameters to validate the model ( training and testing)"
   ]
  },
  {
   "cell_type": "code",
   "execution_count": 35,
   "metadata": {},
   "outputs": [],
   "source": [
    "parameters = {'logisticregression__C': 0.001,\n",
    " 'logisticregression__max_iter': 10000,\n",
    " 'logisticregression__penalty': 'l2',\n",
    " 'logisticregression__solver': 'sag'}\n",
    "\n",
    "parameters = {'C': 0.001, 'max_iter': 10000, 'penalty': 'l2', 'solver': 'sag'}\n",
    "\n",
    "model_test = LogisticRegression(**parameters, random_state=42)"
   ]
  },
  {
   "cell_type": "code",
   "execution_count": 36,
   "metadata": {},
   "outputs": [
    {
     "data": {
      "text/plain": [
       "LogisticRegression(C=0.001, max_iter=10000, random_state=42, solver='sag')"
      ]
     },
     "execution_count": 36,
     "metadata": {},
     "output_type": "execute_result"
    }
   ],
   "source": [
    "#training the model with the best parameters\n",
    "model_test.fit(X_train, y_train)"
   ]
  },
  {
   "cell_type": "code",
   "execution_count": 37,
   "metadata": {},
   "outputs": [
    {
     "name": "stdout",
     "output_type": "stream",
     "text": [
      "Accuracy: 72.8%\n",
      "Precision: 73.2%\n",
      "Recall: 79.4%\n",
      "F1: 76.2%\n",
      "AUC: 72.0%\n"
     ]
    }
   ],
   "source": [
    "#ploting metrics\n",
    "y_pred = model_test.predict(X_test)\n",
    "accuracy = accuracy_score(y_test, y_pred)\n",
    "precision = precision_score(y_test, y_pred)\n",
    "recall = recall_score(y_test, y_pred)\n",
    "f1 = f1_score(y_test, y_pred)\n",
    "auc = roc_auc_score(y_test, y_pred)\n",
    "print(f'Accuracy: {accuracy:.1%}' )\n",
    "print(f'Precision: {precision:.1%}')\n",
    "print(f'Recall: {recall:.1%}')\n",
    "print(f'F1: {f1:.1%}')\n",
    "print(f'AUC: {auc:.1%}') #auc score\n"
   ]
  },
  {
   "attachments": {},
   "cell_type": "markdown",
   "metadata": {},
   "source": [
    "Creating the best SVM model"
   ]
  },
  {
   "cell_type": "code",
   "execution_count": 13,
   "metadata": {},
   "outputs": [
    {
     "name": "stdout",
     "output_type": "stream",
     "text": [
      "Model already saved\n"
     ]
    }
   ],
   "source": [
    "instantiate_best_model(LinearSVC(random_state=42), X, y, 'roc_auc', scaler=True)"
   ]
  },
  {
   "cell_type": "code",
   "execution_count": 14,
   "metadata": {},
   "outputs": [
    {
     "name": "stdout",
     "output_type": "stream",
     "text": [
      "Accuracy: 74.9%\n",
      "Precision: 78.4%\n",
      "Recall: 75.7%\n",
      "F1: 77.0%\n",
      "AUC: 74.8%\n"
     ]
    },
    {
     "data": {
      "image/png": "[encoded data removed]",
      "text/plain": [
       "<Figure size 640x480 with 2 Axes>"
      ]
     },
     "metadata": {},
     "output_type": "display_data"
    }
   ],
   "source": [
    "SVM_instance = pickle.load(open('models/LinearSVC_instance.pkl', 'rb'))\n",
    "SVM_instance.model_metrics()\n",
    "SVM_instance.plot_confusion_matrix()"
   ]
  },
  {
   "cell_type": "code",
   "execution_count": 15,
   "metadata": {},
   "outputs": [
    {
     "data": {
      "text/plain": [
       "{'linearsvc__C': 0.0001,\n",
       " 'linearsvc__loss': 'squared_hinge',\n",
       " 'linearsvc__max_iter': 100000}"
      ]
     },
     "execution_count": 15,
     "metadata": {},
     "output_type": "execute_result"
    }
   ],
   "source": [
    "#model best params\n",
    "SVM_instance.best_params"
   ]
  },
  {
   "attachments": {},
   "cell_type": "markdown",
   "metadata": {},
   "source": [
    "Using these parameters to validate the model ( training and testing)"
   ]
  },
  {
   "cell_type": "code",
   "execution_count": 38,
   "metadata": {},
   "outputs": [],
   "source": [
    "parameters = {'linearsvc__C': 0.0001,\n",
    " 'linearsvc__loss': 'squared_hinge',\n",
    " 'linearsvc__max_iter': 100000}\n",
    "\n",
    "parameters = {'C': 0.0001, 'loss': 'squared_hinge', 'max_iter': 100000}\n",
    "\n",
    "model_test = LinearSVC(**parameters, random_state=42)\n"
   ]
  },
  {
   "cell_type": "code",
   "execution_count": 39,
   "metadata": {},
   "outputs": [
    {
     "data": {
      "text/plain": [
       "LinearSVC(C=0.0001, max_iter=100000, random_state=42)"
      ]
     },
     "execution_count": 39,
     "metadata": {},
     "output_type": "execute_result"
    }
   ],
   "source": [
    "model_test.fit(X_train, y_train)"
   ]
  },
  {
   "cell_type": "code",
   "execution_count": 40,
   "metadata": {},
   "outputs": [
    {
     "name": "stdout",
     "output_type": "stream",
     "text": [
      "Accuracy: 73.0%\n",
      "Precision: 73.4%\n",
      "Recall: 79.7%\n",
      "F1: 76.4%\n",
      "AUC: 72.3%\n"
     ]
    }
   ],
   "source": [
    "y_pred = model_test.predict(X_test)\n",
    "accuracy = accuracy_score(y_test, y_pred)\n",
    "precision = precision_score(y_test, y_pred)\n",
    "recall = recall_score(y_test, y_pred)\n",
    "f1 = f1_score(y_test, y_pred)\n",
    "auc = roc_auc_score(y_test, y_pred)\n",
    "print(f'Accuracy: {accuracy:.1%}' )\n",
    "print(f'Precision: {precision:.1%}')\n",
    "print(f'Recall: {recall:.1%}')\n",
    "print(f'F1: {f1:.1%}')\n",
    "print(f'AUC: {auc:.1%}') #auc score\n"
   ]
  },
  {
   "attachments": {},
   "cell_type": "markdown",
   "metadata": {},
   "source": [
    "Creating the best RandomForest model \n"
   ]
  },
  {
   "cell_type": "code",
   "execution_count": 16,
   "metadata": {},
   "outputs": [
    {
     "name": "stdout",
     "output_type": "stream",
     "text": [
      "Model already saved\n"
     ]
    }
   ],
   "source": [
    "instantiate_best_model(RandomForestClassifier(random_state=42), X, y, 'roc_auc', scaler=True, random_search=True)"
   ]
  },
  {
   "cell_type": "code",
   "execution_count": 17,
   "metadata": {},
   "outputs": [
    {
     "name": "stdout",
     "output_type": "stream",
     "text": [
      "Accuracy: 84.5%\n",
      "Precision: 83.8%\n",
      "Recall: 89.4%\n",
      "F1: 86.5%\n",
      "AUC: 83.9%\n"
     ]
    }
   ],
   "source": [
    "forest_instance = pickle.load(open('models/RandomForestClassifier_instance.pkl', 'rb'))\n",
    "forest_instance.model_metrics()"
   ]
  },
  {
   "cell_type": "code",
   "execution_count": 18,
   "metadata": {},
   "outputs": [
    {
     "data": {
      "text/plain": [
       "Pipeline(steps=[('minmaxscaler', MinMaxScaler()),\n",
       "                ('randomforestclassifier',\n",
       "                 RandomForestClassifier(criterion='entropy', max_depth=10,\n",
       "                                        max_features=None, max_leaf_nodes=30,\n",
       "                                        min_samples_split=10, n_estimators=1500,\n",
       "                                        random_state=42))])"
      ]
     },
     "execution_count": 18,
     "metadata": {},
     "output_type": "execute_result"
    }
   ],
   "source": [
    "forest = pickle.load(open('models/RandomForestClassifier.pkl', 'rb'))\n",
    "forest"
   ]
  },
  {
   "attachments": {},
   "cell_type": "markdown",
   "metadata": {},
   "source": [
    "Using these parameters to validate the model ( training and testing)"
   ]
  },
  {
   "cell_type": "code",
   "execution_count": 41,
   "metadata": {},
   "outputs": [],
   "source": [
    "#parameters criterion='entropy', max_depth=10, max_features=None, max_leaf_nodes=30,  min_samples_split=10, n_estimators=1500, random_state=42\n",
    "\n",
    "parameters = {'criterion': 'entropy', 'max_depth': 10, 'max_features': None,\n",
    "               'max_leaf_nodes': 30, 'min_samples_split': 10, 'n_estimators': 1500, 'random_state': 42}\n",
    "\n",
    "model_test = RandomForestClassifier(**parameters)"
   ]
  },
  {
   "cell_type": "code",
   "execution_count": 42,
   "metadata": {},
   "outputs": [
    {
     "data": {
      "text/plain": [
       "RandomForestClassifier(criterion='entropy', max_depth=10, max_features=None,\n",
       "                       max_leaf_nodes=30, min_samples_split=10,\n",
       "                       n_estimators=1500, random_state=42)"
      ]
     },
     "execution_count": 42,
     "metadata": {},
     "output_type": "execute_result"
    }
   ],
   "source": [
    "model_test.fit(X_train, y_train)"
   ]
  },
  {
   "cell_type": "code",
   "execution_count": 43,
   "metadata": {},
   "outputs": [
    {
     "name": "stdout",
     "output_type": "stream",
     "text": [
      "Accuracy: 72.7%\n",
      "Precision: 72.6%\n",
      "Recall: 80.6%\n",
      "F1: 76.4%\n",
      "AUC: 71.8%\n"
     ]
    }
   ],
   "source": [
    "y_pred = model_test.predict(X_test)\n",
    "accuracy = accuracy_score(y_test, y_pred)\n",
    "precision = precision_score(y_test, y_pred)\n",
    "recall = recall_score(y_test, y_pred)\n",
    "f1 = f1_score(y_test, y_pred)\n",
    "auc = roc_auc_score(y_test, y_pred)\n",
    "print(f'Accuracy: {accuracy:.1%}' )\n",
    "print(f'Precision: {precision:.1%}')\n",
    "print(f'Recall: {recall:.1%}')\n",
    "print(f'F1: {f1:.1%}')\n",
    "print(f'AUC: {auc:.1%}') #auc score\n"
   ]
  },
  {
   "attachments": {},
   "cell_type": "markdown",
   "metadata": {},
   "source": [
    "To improve this model, we need to either feed more data  or/and make our model less complex. In the case of trees, the easy solution will be reduce the number of features.\n"
   ]
  },
  {
   "attachments": {},
   "cell_type": "markdown",
   "metadata": {},
   "source": [
    "Using the parematers that we found for the \"prfect model\", we can see that the accuracy is not impressive compared with the simpler models."
   ]
  },
  {
   "attachments": {},
   "cell_type": "markdown",
   "metadata": {},
   "source": [
    "Creating the best GradientBoostingClassifier model with early stoping. If doenst improve by 0.01 acc, it stop training."
   ]
  },
  {
   "cell_type": "code",
   "execution_count": 19,
   "metadata": {},
   "outputs": [
    {
     "name": "stdout",
     "output_type": "stream",
     "text": [
      "Model already saved\n"
     ]
    }
   ],
   "source": [
    "instantiate_best_model(GradientBoostingClassifier(random_state=42, validation_fraction=0.2,\n",
    "        n_iter_no_change=5,\n",
    "        tol=0.01,), X, y, 'roc_auc', scaler=True, random_search=True)"
   ]
  },
  {
   "cell_type": "code",
   "execution_count": 20,
   "metadata": {},
   "outputs": [
    {
     "name": "stdout",
     "output_type": "stream",
     "text": [
      "Accuracy: 76.1%\n",
      "Precision: 73.3%\n",
      "Recall: 89.8%\n",
      "F1: 80.7%\n",
      "AUC: 74.4%\n"
     ]
    }
   ],
   "source": [
    "gradient_instance = pickle.load(open('models/GradientBoostingClassifier_instance.pkl', 'rb'))\n",
    "gradient_instance.model_metrics()\n"
   ]
  },
  {
   "cell_type": "code",
   "execution_count": 51,
   "metadata": {},
   "outputs": [
    {
     "data": {
      "text/plain": [
       "{'gradientboostingclassifier__subsample': 0.4,\n",
       " 'gradientboostingclassifier__n_estimators': 300,\n",
       " 'gradientboostingclassifier__min_weight_fraction_leaf': 0.0,\n",
       " 'gradientboostingclassifier__min_samples_split': 2,\n",
       " 'gradientboostingclassifier__min_samples_leaf': 2,\n",
       " 'gradientboostingclassifier__min_impurity_decrease': 0.3,\n",
       " 'gradientboostingclassifier__max_leaf_nodes': 10,\n",
       " 'gradientboostingclassifier__max_features': None,\n",
       " 'gradientboostingclassifier__max_depth': 30,\n",
       " 'gradientboostingclassifier__loss': 'deviance',\n",
       " 'gradientboostingclassifier__learning_rate': 0.01,\n",
       " 'gradientboostingclassifier__criterion': 'friedman_mse'}"
      ]
     },
     "execution_count": 51,
     "metadata": {},
     "output_type": "execute_result"
    }
   ],
   "source": [
    "gradient_instance.best_params"
   ]
  },
  {
   "cell_type": "code",
   "execution_count": 45,
   "metadata": {},
   "outputs": [
    {
     "data": {
      "text/plain": [
       "Pipeline(steps=[('minmaxscaler', MinMaxScaler()),\n",
       "                ('gradientboostingclassifier',\n",
       "                 GradientBoostingClassifier(learning_rate=0.01, max_depth=30,\n",
       "                                            max_leaf_nodes=10,\n",
       "                                            min_impurity_decrease=0.3,\n",
       "                                            min_samples_leaf=2,\n",
       "                                            n_estimators=300,\n",
       "                                            n_iter_no_change=5, random_state=42,\n",
       "                                            subsample=0.4, tol=0.01,\n",
       "                                            validation_fraction=0.2))])"
      ]
     },
     "execution_count": 45,
     "metadata": {},
     "output_type": "execute_result"
    }
   ],
   "source": [
    "gradient = pickle.load(open('models/GradientBoostingClassifier.pkl', 'rb'))\n",
    "gradient"
   ]
  },
  {
   "cell_type": "code",
   "execution_count": 55,
   "metadata": {},
   "outputs": [
    {
     "data": {
      "text/plain": [
       "{'ccp_alpha': 0.0,\n",
       " 'criterion': 'friedman_mse',\n",
       " 'init': None,\n",
       " 'learning_rate': 0.01,\n",
       " 'loss': 'deviance',\n",
       " 'max_depth': 30,\n",
       " 'max_features': None,\n",
       " 'max_leaf_nodes': 10,\n",
       " 'min_impurity_decrease': 0.3,\n",
       " 'min_samples_leaf': 2,\n",
       " 'min_samples_split': 2,\n",
       " 'min_weight_fraction_leaf': 0.0,\n",
       " 'n_estimators': 300,\n",
       " 'n_iter_no_change': 5,\n",
       " 'random_state': 42,\n",
       " 'subsample': 0.4,\n",
       " 'tol': 0.01,\n",
       " 'validation_fraction': 0.2,\n",
       " 'verbose': 0,\n",
       " 'warm_start': False}"
      ]
     },
     "execution_count": 55,
     "metadata": {},
     "output_type": "execute_result"
    }
   ],
   "source": [
    "gradient[1].get_params()"
   ]
  },
  {
   "cell_type": "code",
   "execution_count": 56,
   "metadata": {},
   "outputs": [],
   "source": [
    "parameters = gradient[1].get_params()\n",
    "\n",
    "model_test = GradientBoostingClassifier(**parameters)"
   ]
  },
  {
   "cell_type": "code",
   "execution_count": 58,
   "metadata": {},
   "outputs": [
    {
     "data": {
      "text/plain": [
       "GradientBoostingClassifier(learning_rate=0.01, max_depth=30, max_leaf_nodes=10,\n",
       "                           min_impurity_decrease=0.3, min_samples_leaf=2,\n",
       "                           n_estimators=300, n_iter_no_change=5,\n",
       "                           random_state=42, subsample=0.4, tol=0.01,\n",
       "                           validation_fraction=0.2)"
      ]
     },
     "execution_count": 58,
     "metadata": {},
     "output_type": "execute_result"
    }
   ],
   "source": [
    "#training the model with the best parameters\n",
    "model_test.fit(X_train, y_train)\n"
   ]
  },
  {
   "cell_type": "code",
   "execution_count": 59,
   "metadata": {},
   "outputs": [
    {
     "name": "stdout",
     "output_type": "stream",
     "text": [
      "Accuracy: 73.0%\n",
      "Precision: 70.5%\n",
      "Recall: 87.4%\n",
      "F1: 78.0%\n",
      "AUC: 71.4%\n"
     ]
    }
   ],
   "source": [
    "y_pred = model_test.predict(X_test)\n",
    "accuracy = accuracy_score(y_test, y_pred)\n",
    "precision = precision_score(y_test, y_pred)\n",
    "recall = recall_score(y_test, y_pred)\n",
    "f1 = f1_score(y_test, y_pred)\n",
    "auc = roc_auc_score(y_test, y_pred)\n",
    "print(f'Accuracy: {accuracy:.1%}' )\n",
    "print(f'Precision: {precision:.1%}')\n",
    "print(f'Recall: {recall:.1%}')\n",
    "print(f'F1: {f1:.1%}')\n",
    "print(f'AUC: {auc:.1%}') #auc score"
   ]
  },
  {
   "attachments": {},
   "cell_type": "markdown",
   "metadata": {},
   "source": [
    "Again, we confirm that we need to further tweak the features on the next notebook\n"
   ]
  },
  {
   "attachments": {},
   "cell_type": "markdown",
   "metadata": {},
   "source": [
    "### Unscaled data"
   ]
  },
  {
   "attachments": {},
   "cell_type": "markdown",
   "metadata": {},
   "source": [
    "Best logistic regression model"
   ]
  },
  {
   "cell_type": "code",
   "execution_count": 21,
   "metadata": {},
   "outputs": [
    {
     "name": "stdout",
     "output_type": "stream",
     "text": [
      "Model already saved\n"
     ]
    }
   ],
   "source": [
    "instantiate_best_model(LogisticRegression(random_state=42), X, y, 'roc_auc', scaler=False)"
   ]
  },
  {
   "cell_type": "code",
   "execution_count": 22,
   "metadata": {},
   "outputs": [
    {
     "name": "stdout",
     "output_type": "stream",
     "text": [
      "Accuracy: 75.4%\n",
      "Precision: 76.2%\n",
      "Recall: 81.0%\n",
      "F1: 78.5%\n",
      "AUC: 74.7%\n"
     ]
    }
   ],
   "source": [
    "LR_instance_unscaled = pickle.load(open('models/LogisticRegression_unscaled_instance.pkl', 'rb'))\n",
    "LR_instance_unscaled.model_metrics()"
   ]
  },
  {
   "attachments": {},
   "cell_type": "markdown",
   "metadata": {},
   "source": [
    "testing model"
   ]
  },
  {
   "cell_type": "code",
   "execution_count": 60,
   "metadata": {},
   "outputs": [],
   "source": [
    "LR_unscaled = pickle.load(open('models/LogisticRegression_unscaled.pkl', 'rb'))\n"
   ]
  },
  {
   "cell_type": "code",
   "execution_count": 66,
   "metadata": {},
   "outputs": [],
   "source": [
    "# takes in the model best parameters, X_train and y_train to fit and X_test and y_test to predict\n",
    "\n",
    "def test_model(model_instance, model, X_train=X_train, X_test=X_test, y_train=y_train, y_test=y_test):\n",
    "    parameters = model_instance[1].get_params()\n",
    "    model_test = model(**parameters)\n",
    "    model_test.fit(X_train, y_train)\n",
    "    y_pred = model_test.predict(X_test)\n",
    "    accuracy = accuracy_score(y_test, y_pred)\n",
    "    precision = precision_score(y_test, y_pred)\n",
    "    recall = recall_score(y_test, y_pred)\n",
    "    f1 = f1_score(y_test, y_pred)\n",
    "    auc = roc_auc_score(y_test, y_pred)\n",
    "    print(f'Accuracy: {accuracy:.1%}' )\n",
    "    print(f'Precision: {precision:.1%}')\n",
    "    print(f'Recall: {recall:.1%}')\n",
    "    print(f'F1: {f1:.1%}')\n",
    "    print(f'AUC: {auc:.1%}') #auc score\n",
    "    "
   ]
  },
  {
   "cell_type": "code",
   "execution_count": 67,
   "metadata": {},
   "outputs": [
    {
     "name": "stdout",
     "output_type": "stream",
     "text": [
      "Accuracy: 73.2%\n",
      "Precision: 73.9%\n",
      "Recall: 79.1%\n",
      "F1: 76.4%\n",
      "AUC: 72.5%\n"
     ]
    }
   ],
   "source": [
    "test_model(LR_unscaled, LogisticRegression)"
   ]
  },
  {
   "attachments": {},
   "cell_type": "markdown",
   "metadata": {},
   "source": [
    "Best svm model"
   ]
  },
  {
   "cell_type": "code",
   "execution_count": 23,
   "metadata": {},
   "outputs": [
    {
     "name": "stdout",
     "output_type": "stream",
     "text": [
      "Model already saved\n"
     ]
    }
   ],
   "source": [
    "instantiate_best_model(LinearSVC(random_state=42), X, y, 'roc_auc', scaler=False)"
   ]
  },
  {
   "cell_type": "code",
   "execution_count": 24,
   "metadata": {},
   "outputs": [
    {
     "name": "stdout",
     "output_type": "stream",
     "text": [
      "Accuracy: 76.4%\n",
      "Precision: 77.5%\n",
      "Recall: 81.0%\n",
      "F1: 79.2%\n",
      "AUC: 75.8%\n"
     ]
    }
   ],
   "source": [
    "svm_instance_unscaled = pickle.load(open('models/LinearSVC_unscaled_instance.pkl', 'rb'))\n",
    "svm_instance_unscaled.model_metrics()"
   ]
  },
  {
   "cell_type": "code",
   "execution_count": 68,
   "metadata": {},
   "outputs": [],
   "source": [
    "svm_unscaled = pickle.load(open('models/LinearSVC_unscaled.pkl', 'rb'))"
   ]
  },
  {
   "cell_type": "code",
   "execution_count": 69,
   "metadata": {},
   "outputs": [
    {
     "name": "stdout",
     "output_type": "stream",
     "text": [
      "Accuracy: 72.7%\n",
      "Precision: 73.2%\n",
      "Recall: 79.2%\n",
      "F1: 76.1%\n",
      "AUC: 72.0%\n"
     ]
    }
   ],
   "source": [
    "test_model(svm_unscaled, LinearSVC)"
   ]
  },
  {
   "attachments": {},
   "cell_type": "markdown",
   "metadata": {},
   "source": [
    "Best random forest model"
   ]
  },
  {
   "cell_type": "code",
   "execution_count": 25,
   "metadata": {},
   "outputs": [
    {
     "name": "stdout",
     "output_type": "stream",
     "text": [
      "Model already saved\n"
     ]
    }
   ],
   "source": [
    "instantiate_best_model(RandomForestClassifier(random_state=42), X, y, 'roc_auc', scaler=False, random_search=True)"
   ]
  },
  {
   "cell_type": "code",
   "execution_count": 26,
   "metadata": {},
   "outputs": [
    {
     "name": "stdout",
     "output_type": "stream",
     "text": [
      "Accuracy: 100.0%\n",
      "Precision: 100.0%\n",
      "Recall: 100.0%\n",
      "F1: 100.0%\n",
      "AUC: 100.0%\n"
     ]
    }
   ],
   "source": [
    "forest_instance_unscaled = pickle.load(open('models/RandomForestClassifier_unscaled_instance.pkl', 'rb'))\n",
    "forest_instance_unscaled.model_metrics()"
   ]
  },
  {
   "cell_type": "code",
   "execution_count": 70,
   "metadata": {},
   "outputs": [],
   "source": [
    "forest_unscaled = pickle.load(open('models/RandomForestClassifier_unscaled.pkl', 'rb'))"
   ]
  },
  {
   "cell_type": "code",
   "execution_count": 71,
   "metadata": {},
   "outputs": [
    {
     "name": "stdout",
     "output_type": "stream",
     "text": [
      "Accuracy: 72.9%\n",
      "Precision: 72.4%\n",
      "Recall: 81.8%\n",
      "F1: 76.8%\n",
      "AUC: 71.9%\n"
     ]
    }
   ],
   "source": [
    "test_model(forest_unscaled, RandomForestClassifier)"
   ]
  },
  {
   "attachments": {},
   "cell_type": "markdown",
   "metadata": {},
   "source": [
    "Best GB model"
   ]
  },
  {
   "cell_type": "code",
   "execution_count": 27,
   "metadata": {},
   "outputs": [
    {
     "name": "stdout",
     "output_type": "stream",
     "text": [
      "Model already saved\n"
     ]
    }
   ],
   "source": [
    "instantiate_best_model(GradientBoostingClassifier(random_state=42,validation_fraction=0.2,\n",
    "        n_iter_no_change=5,\n",
    "        tol=0.001,), X, y, 'roc_auc', scaler=False, random_search=True)"
   ]
  },
  {
   "cell_type": "code",
   "execution_count": 28,
   "metadata": {},
   "outputs": [
    {
     "name": "stdout",
     "output_type": "stream",
     "text": [
      "Accuracy: 75.9%\n",
      "Precision: 72.5%\n",
      "Recall: 91.2%\n",
      "F1: 80.8%\n",
      "AUC: 73.9%\n"
     ]
    }
   ],
   "source": [
    "gradient_instance_unscaled = pickle.load(open('models/GradientBoostingClassifier_unscaled_instance.pkl', 'rb'))\n",
    "gradient_instance_unscaled.model_metrics()"
   ]
  },
  {
   "cell_type": "code",
   "execution_count": 72,
   "metadata": {},
   "outputs": [],
   "source": [
    "gradient_unscaled = pickle.load(open('models/GradientBoostingClassifier_unscaled.pkl', 'rb'))"
   ]
  },
  {
   "cell_type": "code",
   "execution_count": 73,
   "metadata": {},
   "outputs": [
    {
     "name": "stdout",
     "output_type": "stream",
     "text": [
      "Accuracy: 72.9%\n",
      "Precision: 70.1%\n",
      "Recall: 88.5%\n",
      "F1: 78.2%\n",
      "AUC: 71.2%\n"
     ]
    }
   ],
   "source": [
    "test_model(gradient_unscaled, GradientBoostingClassifier)"
   ]
  },
  {
   "attachments": {},
   "cell_type": "markdown",
   "metadata": {},
   "source": [
    "We can conclude that scaled data gives the best performances, and from now on, we gonna try to improve performance by either getting more data or/and decreasing the number of features , thus, models complexity."
   ]
  },
  {
   "attachments": {},
   "cell_type": "markdown",
   "metadata": {},
   "source": [
    "## To finish the notebook, lets show that we can load the fitted model to visualize its attributes, for the previous fitted scaler and model."
   ]
  },
  {
   "cell_type": "code",
   "execution_count": 29,
   "metadata": {},
   "outputs": [
    {
     "data": {
      "text/plain": [
       "Pipeline(steps=[('standardscaler', StandardScaler()),\n",
       "                ('logisticregression',\n",
       "                 LogisticRegression(C=0.001, max_iter=10000, random_state=42,\n",
       "                                    solver='sag'))])"
      ]
     },
     "execution_count": 29,
     "metadata": {},
     "output_type": "execute_result"
    }
   ],
   "source": [
    "model = pickle.load(open('models/LogisticRegression.pkl', 'rb'))\n",
    "model"
   ]
  },
  {
   "cell_type": "code",
   "execution_count": 30,
   "metadata": {},
   "outputs": [
    {
     "data": {
      "text/plain": [
       "array([[ 3.12385005e-02,  1.03038523e-02,  2.80696989e-02,\n",
       "         3.04643527e-02,  5.24554544e-03,  4.29914617e-02,\n",
       "         1.83204349e-02,  6.08693253e-03,  2.35105848e-02,\n",
       "         3.74259784e-03,  3.82339497e-02,  3.37086259e-02,\n",
       "         2.84379301e-02,  7.81863746e-03,  8.85839368e-03,\n",
       "        -1.49464179e-02, -1.19994201e-02,  4.45435394e-02,\n",
       "         3.92778520e-02,  3.48508804e-02,  2.99998792e-03,\n",
       "         5.12147733e-04,  4.43123075e-03,  8.87475713e-03,\n",
       "         2.64847754e-02,  1.18065204e-02,  5.79644317e-03,\n",
       "         1.12566485e-02, -1.56947036e-02,  0.00000000e+00,\n",
       "         4.08764193e-02, -4.30425887e-02,  1.23486461e-02,\n",
       "        -2.39203381e-03, -9.49937384e-03,  3.08793372e-02,\n",
       "        -1.45709566e-03,  1.17275076e-02,  2.82929723e-02,\n",
       "         1.97620747e-02,  2.12917474e-02, -1.23911390e-02,\n",
       "         2.02021825e-02,  1.51613636e-02,  2.64363195e-02,\n",
       "        -1.15607409e-04,  1.14824506e-02, -8.91890471e-03,\n",
       "         8.72923397e-03,  3.23299383e-02,  6.37536994e-02,\n",
       "         3.67702935e-03, -7.44130777e-03,  1.59960982e-02,\n",
       "        -6.48421809e-03, -2.25558165e-03, -8.79578280e-03,\n",
       "         1.36800902e-03,  1.74352694e-03, -8.13563306e-04,\n",
       "        -1.19769660e-02,  2.17404209e-02,  7.84896132e-03,\n",
       "         3.60171796e-03, -4.48023331e-02,  4.45435394e-02,\n",
       "        -3.04736959e-02,  4.74155042e-03, -4.02109072e-02,\n",
       "         2.65080574e-03,  1.41497636e-02, -7.36522076e-03,\n",
       "        -1.71824596e-02, -7.90639089e-03, -3.14218185e-02,\n",
       "         8.52696178e-03, -1.64802874e-02, -9.25265057e-03,\n",
       "        -2.28769807e-02, -9.61291309e-04, -2.32392133e-02,\n",
       "         2.67966435e-02,  2.57261070e-03, -3.12827356e-02,\n",
       "        -3.73203393e-02, -3.32015987e-02,  1.19508926e-02,\n",
       "        -9.09572538e-03, -8.88687187e-03, -4.41901638e-03,\n",
       "        -2.64511502e-02, -1.15929462e-03, -1.43842652e-03,\n",
       "        -2.59173534e-02,  2.35993223e-02,  0.00000000e+00,\n",
       "        -4.30425887e-02,  4.08764193e-02, -8.08863592e-03,\n",
       "         5.42520153e-03,  1.03918756e-03,  3.33920690e-03,\n",
       "         3.63399547e-04, -8.56309763e-03, -9.57515626e-03,\n",
       "        -9.74682779e-03,  1.44743254e-05,  1.50908922e-02,\n",
       "        -1.06907652e-02, -9.12844069e-04, -1.68808923e-02,\n",
       "         9.04494971e-03, -1.53654474e-02,  2.12279191e-02,\n",
       "         6.87295218e-04, -4.53318236e-03, -5.15704068e-02,\n",
       "        -8.30809390e-04,  5.27580412e-03,  9.36657006e-03,\n",
       "         7.12546346e-03, -2.37322886e-02,  2.28199680e-02,\n",
       "        -3.16032640e-03,  2.24255344e-02,  1.69739455e-02,\n",
       "         4.45978027e-03,  2.67653805e-03, -1.08884449e-03,\n",
       "        -1.31695836e-02,  4.62791220e-02, -3.12827356e-02,\n",
       "        -2.79870257e-02,  4.53540056e-05, -3.26137046e-02,\n",
       "        -1.67991351e-02,  4.54443182e-04, -2.44959876e-02,\n",
       "        -1.54659701e-02, -1.12457873e-02, -1.23579583e-02,\n",
       "         2.72078572e-03, -1.35953868e-02, -9.34634246e-03,\n",
       "        -2.14672989e-02, -2.20898583e-02, -1.13606295e-02,\n",
       "         2.82606601e-02,  1.12107891e-02, -3.42255744e-02,\n",
       "        -3.56349212e-02, -3.29014397e-02,  5.56679362e-04,\n",
       "        -1.28644579e-02, -5.00344670e-03, -2.73224926e-03,\n",
       "        -2.19697062e-02, -8.20009337e-03, -2.46700302e-02,\n",
       "        -1.24761365e-02,  2.73401277e-02,  0.00000000e+00,\n",
       "        -4.43257424e-02,  3.93038673e-02, -1.41756693e-02,\n",
       "         3.31749977e-04, -5.20426546e-03, -3.73678012e-03,\n",
       "         4.19475992e-03, -3.12902474e-02, -2.69336060e-02,\n",
       "        -2.76637947e-02, -5.53472435e-03, -4.97316455e-03,\n",
       "        -1.00489762e-02, -1.97801886e-02, -1.54755231e-02,\n",
       "        -2.44009775e-02, -1.13240394e-02,  1.37984382e-02,\n",
       "        -4.06872984e-03, -1.18110724e-02, -7.25015815e-02,\n",
       "         1.27919310e-03,  1.02410307e-03, -5.75439328e-03,\n",
       "         1.72579374e-02, -9.85021660e-03,  5.64675286e-03,\n",
       "        -1.40819157e-02,  1.92771904e-02, -1.99973009e-02,\n",
       "         1.37197386e-02,  1.83378753e-03, -6.24696368e-03,\n",
       "        -6.58365090e-03,  3.63429678e-02, -3.42255744e-02,\n",
       "         3.11557479e-02,  6.13930762e-03,  3.14644468e-02,\n",
       "         1.57354708e-02, -9.46578317e-03,  3.45478122e-02,\n",
       "         1.78651100e-02,  1.67390775e-02,  1.42428108e-03,\n",
       "        -3.69230979e-03,  2.95727832e-02,  2.18145181e-02,\n",
       "         2.28369565e-02,  9.65506426e-03,  1.77627736e-02,\n",
       "        -1.91909264e-02, -4.27413533e-03,  3.81383937e-02,\n",
       "         3.22013152e-02,  3.09088394e-02, -1.27045270e-02,\n",
       "         1.23824179e-02,  2.72416090e-03,  5.01041759e-03,\n",
       "         2.19620082e-02,  6.19179188e-03,  7.94766111e-03,\n",
       "         1.86999436e-02, -2.14790244e-02,  0.00000000e+00,\n",
       "         3.93038673e-02, -4.43257424e-02,  2.13123768e-03,\n",
       "        -8.55744789e-03, -1.61160289e-02,  9.74963523e-03,\n",
       "        -8.34879539e-03,  1.79426298e-02,  1.01311089e-02,\n",
       "         1.91920772e-02,  2.67688304e-04, -8.73156162e-03,\n",
       "         9.83079184e-03,  4.59706330e-03,  1.94047776e-02,\n",
       "         1.15227606e-02,  1.26379860e-02, -2.90484114e-02,\n",
       "        -1.69444570e-02,  9.26735876e-03,  5.85999792e-02,\n",
       "         1.18563814e-02,  1.03986114e-02, -6.43506691e-03,\n",
       "         1.32009094e-02,  1.54815188e-03, -6.06103699e-03,\n",
       "         9.88686082e-03,  1.79382062e-02, -9.29436736e-03,\n",
       "        -3.53641531e-03,  1.94439017e-02, -8.42304716e-03,\n",
       "         5.44640072e-03, -4.19009544e-02,  3.81383937e-02]])"
      ]
     },
     "execution_count": 30,
     "metadata": {},
     "output_type": "execute_result"
    }
   ],
   "source": [
    "model[-1].coef_"
   ]
  },
  {
   "cell_type": "code",
   "execution_count": 31,
   "metadata": {},
   "outputs": [
    {
     "data": {
      "text/plain": [
       "LogisticRegression(C=0.001, max_iter=10000, random_state=42, solver='sag')"
      ]
     },
     "execution_count": 31,
     "metadata": {},
     "output_type": "execute_result"
    }
   ],
   "source": [
    "model[-1]"
   ]
  },
  {
   "cell_type": "code",
   "execution_count": 32,
   "metadata": {},
   "outputs": [
    {
     "data": {
      "text/plain": [
       "array([ 40.88464068,  87.46908403,   0.46830842,  12.68080908,\n",
       "        34.96456175,   0.36205797,  17.20720276,  22.06281862,\n",
       "         0.78060516,  10.06035192,  34.34657129,  44.4069232 ,\n",
       "        24.90494984,   7.43644137,   4.80965302,  12.88102286,\n",
       "        19.32099984, 111.65729321,   0.5756781 ,   0.54106422,\n",
       "         0.40074182,   0.25554605,  22.86830291,  77.70772899,\n",
       "        50.49785397,  60.91374774,   7.59616839,   9.05652853,\n",
       "        11.69162144, 100.        , 114.3128515 , 112.35545963,\n",
       "        10.02269364,  19.43718138,   0.83219429,   4.18138464,\n",
       "         8.97237296,   0.78006833,   6.44861043,   7.79789508,\n",
       "         0.99299671,   3.70235159,   8.75094557,  11.21526065,\n",
       "         7.99457326,   2.51496464,   2.08131886,   3.99580661,\n",
       "         4.28523269,  27.47599079,  14.22019405,   0.96275201,\n",
       "         0.96114784,   0.87780127,   1.06579395,  21.23756783,\n",
       "        39.14412926,  25.92970728,  43.02066272,   5.96857425,\n",
       "         9.7015458 ,  40.13533136,  35.30028778, 183.86844269,\n",
       "       120.38242065, 111.65729321,  40.38036507,  87.65786877,\n",
       "         0.4613927 ,  12.33415557,  34.50320671,   0.35627315,\n",
       "        16.68360467,  21.51356685,   0.7772854 ,   9.96069725,\n",
       "        33.57293208,  43.53362934,  24.15605986,   7.5035356 ,\n",
       "         4.64199967,  12.92402565,  19.54012498, 109.77849038,\n",
       "         0.56617259,   0.53201949,   0.39446925,   0.24820449,\n",
       "        22.29303568,  77.13289755,  49.50394672,  59.8056323 ,\n",
       "         7.65676698,   8.86943759,  11.7382914 , 100.        ,\n",
       "       112.35545963, 114.3128515 ,  10.01216905,  19.67020227,\n",
       "         0.82574593,   4.11100148,   8.9767308 ,   0.78323508,\n",
       "         6.25308337,   7.61207038,   0.99112029,   3.67225785,\n",
       "         8.59924355,  11.02178918,   7.77585923,   2.50526229,\n",
       "         2.04004276,   3.95642164,   4.30036178,  27.29320835,\n",
       "        12.34155567,   0.96405049,   0.96192666,   0.86563674,\n",
       "         1.09251069,  20.15527874,  38.31622266,  24.76117415,\n",
       "        42.80569808,   6.10161158,   9.46942937,  39.72083539,\n",
       "        34.99486926, 183.08501891, 122.30537741, 109.77849038,\n",
       "        40.48700872,  87.65104424,   0.46265762,  12.39927643,\n",
       "        34.57301431,   0.35736663,  16.71854958,  21.50978457,\n",
       "         0.77910549,   9.94910377,  33.65827989,  43.60738365,\n",
       "        24.22693636,   7.52795593,   4.65334649,  12.88899852,\n",
       "        19.52557145, 110.09184345,   0.56786532,   0.5336827 ,\n",
       "         0.39536992,   0.24816576,  22.32383654,  77.18731294,\n",
       "        49.60366716,  59.82691991,   7.68445979,   8.89630817,\n",
       "        11.7117826 , 100.        , 112.70749054, 113.98736228,\n",
       "        10.03552047,  19.66321329,   0.82606644,   4.12358165,\n",
       "         8.99514882,   0.78532782,   6.28695938,   7.63912185,\n",
       "         0.99172792,   3.65605986,   8.63262621,  11.04168722,\n",
       "         7.81729979,   2.50452228,   2.0380694 ,   3.93693471,\n",
       "         4.30159513,  27.35635586,  12.71484953,   0.96615244,\n",
       "         0.96374848,   0.86704563,   1.09202598,  20.24976155,\n",
       "        38.36679822,  24.85942279,  42.76850847,   6.14951488,\n",
       "         9.43274133,  39.57694458,  35.00397961, 183.50213781,\n",
       "       122.01077125, 110.09184345,  40.74856109,  87.42937017,\n",
       "         0.46694927,  12.64545305,  34.96793291,   0.36102138,\n",
       "        17.17793126,  22.04078277,   0.78020909,  10.05870745,\n",
       "        34.24814998,  44.30685742,  24.78827495,   7.39861865,\n",
       "         4.77158362,  12.91045881,  19.31968426, 111.3205065 ,\n",
       "         0.57421378,   0.53953215,   0.40097361,   0.25544688,\n",
       "        22.81383818,  77.67694458,  50.39812531,  60.8323631 ,\n",
       "         7.55838678,   9.00018911,  11.7225703 , 100.        ,\n",
       "       113.98736228, 112.70749054,   9.99309324,  19.44828153,\n",
       "         0.83054514,   4.17612235,   8.97656635,   0.7773002 ,\n",
       "         6.44762375,   7.80751521,   0.99287132,   3.70292715,\n",
       "         8.72364743,  11.17883572,   7.95247492,   2.50312449,\n",
       "         2.07128762,   4.01110015,   4.28893274,  27.40166091,\n",
       "        13.85010689,   0.95938752,   0.95785627,   0.87536943,\n",
       "         1.0669806 ,  21.15693143,  39.13788028,  25.81752179,\n",
       "        42.92358165,   5.94676862,   9.68708272,  39.99403059,\n",
       "        35.4040865 , 183.30200625, 120.67932906, 111.3205065 ])"
      ]
     },
     "execution_count": 32,
     "metadata": {},
     "output_type": "execute_result"
    }
   ],
   "source": [
    "model[0].mean_"
   ]
  },
  {
   "cell_type": "code",
   "execution_count": 33,
   "metadata": {},
   "outputs": [
    {
     "data": {
      "text/plain": [
       "array(['home_rolling_fg', 'home_rolling_fga', 'home_rolling_fg%',\n",
       "       'home_rolling_3p', 'home_rolling_3pa', 'home_rolling_3p%',\n",
       "       'home_rolling_ft', 'home_rolling_fta', 'home_rolling_ft%',\n",
       "       'home_rolling_orb', 'home_rolling_drb', 'home_rolling_trb',\n",
       "       'home_rolling_ast', 'home_rolling_stl', 'home_rolling_blk',\n",
       "       'home_rolling_tov', 'home_rolling_pf', 'home_rolling_pts',\n",
       "       'home_rolling_ts%', 'home_rolling_efg%', 'home_rolling_3par',\n",
       "       'home_rolling_ftr', 'home_rolling_orb%', 'home_rolling_drb%',\n",
       "       'home_rolling_trb%', 'home_rolling_ast%', 'home_rolling_stl%',\n",
       "       'home_rolling_blk%', 'home_rolling_tov%', 'home_rolling_usg%',\n",
       "       'home_rolling_ortg', 'home_rolling_drtg', 'home_rolling_fg_max',\n",
       "       'home_rolling_fga_max', 'home_rolling_fg%_max',\n",
       "       'home_rolling_3p_max', 'home_rolling_3pa_max',\n",
       "       'home_rolling_3p%_max', 'home_rolling_ft_max',\n",
       "       'home_rolling_fta_max', 'home_rolling_ft%_max',\n",
       "       'home_rolling_orb_max', 'home_rolling_drb_max',\n",
       "       'home_rolling_trb_max', 'home_rolling_ast_max',\n",
       "       'home_rolling_stl_max', 'home_rolling_blk_max',\n",
       "       'home_rolling_tov_max', 'home_rolling_pf_max',\n",
       "       'home_rolling_pts_max', 'home_rolling_+/-_max',\n",
       "       'home_rolling_ts%_max', 'home_rolling_efg%_max',\n",
       "       'home_rolling_3par_max', 'home_rolling_ftr_max',\n",
       "       'home_rolling_orb%_max', 'home_rolling_drb%_max',\n",
       "       'home_rolling_trb%_max', 'home_rolling_ast%_max',\n",
       "       'home_rolling_stl%_max', 'home_rolling_blk%_max',\n",
       "       'home_rolling_tov%_max', 'home_rolling_usg%_max',\n",
       "       'home_rolling_ortg_max', 'home_rolling_drtg_max',\n",
       "       'home_rolling_Total', 'home_rolling_opponent_fg',\n",
       "       'home_rolling_opponent_fga', 'home_rolling_opponent_fg%',\n",
       "       'home_rolling_opponent_3p', 'home_rolling_opponent_3pa',\n",
       "       'home_rolling_opponent_3p%', 'home_rolling_opponent_ft',\n",
       "       'home_rolling_opponent_fta', 'home_rolling_opponent_ft%',\n",
       "       'home_rolling_opponent_orb', 'home_rolling_opponent_drb',\n",
       "       'home_rolling_opponent_trb', 'home_rolling_opponent_ast',\n",
       "       'home_rolling_opponent_stl', 'home_rolling_opponent_blk',\n",
       "       'home_rolling_opponent_tov', 'home_rolling_opponent_pf',\n",
       "       'home_rolling_opponent_pts', 'home_rolling_opponent_ts%',\n",
       "       'home_rolling_opponent_efg%', 'home_rolling_opponent_3par',\n",
       "       'home_rolling_opponent_ftr', 'home_rolling_opponent_orb%',\n",
       "       'home_rolling_opponent_drb%', 'home_rolling_opponent_trb%',\n",
       "       'home_rolling_opponent_ast%', 'home_rolling_opponent_stl%',\n",
       "       'home_rolling_opponent_blk%', 'home_rolling_opponent_tov%',\n",
       "       'home_rolling_opponent_usg%', 'home_rolling_opponent_ortg',\n",
       "       'home_rolling_opponent_drtg', 'home_rolling_opponent_fg_max',\n",
       "       'home_rolling_opponent_fga_max', 'home_rolling_opponent_fg%_max',\n",
       "       'home_rolling_opponent_3p_max', 'home_rolling_opponent_3pa_max',\n",
       "       'home_rolling_opponent_3p%_max', 'home_rolling_opponent_ft_max',\n",
       "       'home_rolling_opponent_fta_max', 'home_rolling_opponent_ft%_max',\n",
       "       'home_rolling_opponent_orb_max', 'home_rolling_opponent_drb_max',\n",
       "       'home_rolling_opponent_trb_max', 'home_rolling_opponent_ast_max',\n",
       "       'home_rolling_opponent_stl_max', 'home_rolling_opponent_blk_max',\n",
       "       'home_rolling_opponent_tov_max', 'home_rolling_opponent_pf_max',\n",
       "       'home_rolling_opponent_pts_max', 'home_rolling_opponent_+/-_max',\n",
       "       'home_rolling_opponent_ts%_max', 'home_rolling_opponent_efg%_max',\n",
       "       'home_rolling_opponent_3par_max', 'home_rolling_opponent_ftr_max',\n",
       "       'home_rolling_opponent_orb%_max', 'home_rolling_opponent_drb%_max',\n",
       "       'home_rolling_opponent_trb%_max', 'home_rolling_opponent_ast%_max',\n",
       "       'home_rolling_opponent_stl%_max', 'home_rolling_opponent_blk%_max',\n",
       "       'home_rolling_opponent_tov%_max', 'home_rolling_opponent_usg%_max',\n",
       "       'home_rolling_opponent_ortg_max', 'home_rolling_opponent_drtg_max',\n",
       "       'home_rolling_opponent_Total', 'away_rolling_fg',\n",
       "       'away_rolling_fga', 'away_rolling_fg%', 'away_rolling_3p',\n",
       "       'away_rolling_3pa', 'away_rolling_3p%', 'away_rolling_ft',\n",
       "       'away_rolling_fta', 'away_rolling_ft%', 'away_rolling_orb',\n",
       "       'away_rolling_drb', 'away_rolling_trb', 'away_rolling_ast',\n",
       "       'away_rolling_stl', 'away_rolling_blk', 'away_rolling_tov',\n",
       "       'away_rolling_pf', 'away_rolling_pts', 'away_rolling_ts%',\n",
       "       'away_rolling_efg%', 'away_rolling_3par', 'away_rolling_ftr',\n",
       "       'away_rolling_orb%', 'away_rolling_drb%', 'away_rolling_trb%',\n",
       "       'away_rolling_ast%', 'away_rolling_stl%', 'away_rolling_blk%',\n",
       "       'away_rolling_tov%', 'away_rolling_usg%', 'away_rolling_ortg',\n",
       "       'away_rolling_drtg', 'away_rolling_fg_max', 'away_rolling_fga_max',\n",
       "       'away_rolling_fg%_max', 'away_rolling_3p_max',\n",
       "       'away_rolling_3pa_max', 'away_rolling_3p%_max',\n",
       "       'away_rolling_ft_max', 'away_rolling_fta_max',\n",
       "       'away_rolling_ft%_max', 'away_rolling_orb_max',\n",
       "       'away_rolling_drb_max', 'away_rolling_trb_max',\n",
       "       'away_rolling_ast_max', 'away_rolling_stl_max',\n",
       "       'away_rolling_blk_max', 'away_rolling_tov_max',\n",
       "       'away_rolling_pf_max', 'away_rolling_pts_max',\n",
       "       'away_rolling_+/-_max', 'away_rolling_ts%_max',\n",
       "       'away_rolling_efg%_max', 'away_rolling_3par_max',\n",
       "       'away_rolling_ftr_max', 'away_rolling_orb%_max',\n",
       "       'away_rolling_drb%_max', 'away_rolling_trb%_max',\n",
       "       'away_rolling_ast%_max', 'away_rolling_stl%_max',\n",
       "       'away_rolling_blk%_max', 'away_rolling_tov%_max',\n",
       "       'away_rolling_usg%_max', 'away_rolling_ortg_max',\n",
       "       'away_rolling_drtg_max', 'away_rolling_Total',\n",
       "       'away_rolling_opponent_fg', 'away_rolling_opponent_fga',\n",
       "       'away_rolling_opponent_fg%', 'away_rolling_opponent_3p',\n",
       "       'away_rolling_opponent_3pa', 'away_rolling_opponent_3p%',\n",
       "       'away_rolling_opponent_ft', 'away_rolling_opponent_fta',\n",
       "       'away_rolling_opponent_ft%', 'away_rolling_opponent_orb',\n",
       "       'away_rolling_opponent_drb', 'away_rolling_opponent_trb',\n",
       "       'away_rolling_opponent_ast', 'away_rolling_opponent_stl',\n",
       "       'away_rolling_opponent_blk', 'away_rolling_opponent_tov',\n",
       "       'away_rolling_opponent_pf', 'away_rolling_opponent_pts',\n",
       "       'away_rolling_opponent_ts%', 'away_rolling_opponent_efg%',\n",
       "       'away_rolling_opponent_3par', 'away_rolling_opponent_ftr',\n",
       "       'away_rolling_opponent_orb%', 'away_rolling_opponent_drb%',\n",
       "       'away_rolling_opponent_trb%', 'away_rolling_opponent_ast%',\n",
       "       'away_rolling_opponent_stl%', 'away_rolling_opponent_blk%',\n",
       "       'away_rolling_opponent_tov%', 'away_rolling_opponent_usg%',\n",
       "       'away_rolling_opponent_ortg', 'away_rolling_opponent_drtg',\n",
       "       'away_rolling_opponent_fg_max', 'away_rolling_opponent_fga_max',\n",
       "       'away_rolling_opponent_fg%_max', 'away_rolling_opponent_3p_max',\n",
       "       'away_rolling_opponent_3pa_max', 'away_rolling_opponent_3p%_max',\n",
       "       'away_rolling_opponent_ft_max', 'away_rolling_opponent_fta_max',\n",
       "       'away_rolling_opponent_ft%_max', 'away_rolling_opponent_orb_max',\n",
       "       'away_rolling_opponent_drb_max', 'away_rolling_opponent_trb_max',\n",
       "       'away_rolling_opponent_ast_max', 'away_rolling_opponent_stl_max',\n",
       "       'away_rolling_opponent_blk_max', 'away_rolling_opponent_tov_max',\n",
       "       'away_rolling_opponent_pf_max', 'away_rolling_opponent_pts_max',\n",
       "       'away_rolling_opponent_+/-_max', 'away_rolling_opponent_ts%_max',\n",
       "       'away_rolling_opponent_efg%_max', 'away_rolling_opponent_3par_max',\n",
       "       'away_rolling_opponent_ftr_max', 'away_rolling_opponent_orb%_max',\n",
       "       'away_rolling_opponent_drb%_max', 'away_rolling_opponent_trb%_max',\n",
       "       'away_rolling_opponent_ast%_max', 'away_rolling_opponent_stl%_max',\n",
       "       'away_rolling_opponent_blk%_max', 'away_rolling_opponent_tov%_max',\n",
       "       'away_rolling_opponent_usg%_max', 'away_rolling_opponent_ortg_max',\n",
       "       'away_rolling_opponent_drtg_max', 'away_rolling_opponent_Total'],\n",
       "      dtype=object)"
      ]
     },
     "execution_count": 33,
     "metadata": {},
     "output_type": "execute_result"
    }
   ],
   "source": [
    "model[0].feature_names_in_"
   ]
  }
 ],
 "metadata": {
  "kernelspec": {
   "display_name": "base",
   "language": "python",
   "name": "python3"
  },
  "language_info": {
   "codemirror_mode": {
    "name": "ipython",
    "version": 3
   },
   "file_extension": ".py",
   "mimetype": "text/x-python",
   "name": "python",
   "nbconvert_exporter": "python",
   "pygments_lexer": "ipython3",
   "version": "3.9.13"
  },
  "orig_nbformat": 4,
  "vscode": {
   "interpreter": {
    "hash": "ad2bdc8ecc057115af97d19610ffacc2b4e99fae6737bb82f5d7fb13d2f2c186"
   }
  }
 },
 "nbformat": 4,
 "nbformat_minor": 2
}
