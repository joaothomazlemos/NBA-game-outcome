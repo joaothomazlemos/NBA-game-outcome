{
 "cells": [
  {
   "cell_type": "code",
   "execution_count": 47,
   "metadata": {},
   "outputs": [],
   "source": [
    "#importing the libraries\n",
    "import pandas as pd\n",
    "import numpy as np\n",
    "import matplotlib.pyplot as plt\n",
    "import seaborn as sns\n",
    "import pickle\n",
    "from sklearn.model_selection import train_test_split\n",
    "from sklearn.preprocessing import StandardScaler\n",
    "from sklearn.linear_model import LogisticRegression\n",
    "from sklearn.metrics import accuracy_score, precision_score, recall_score, f1_score, roc_auc_score, roc_curve, confusion_matrix\n",
    "# importing grid search\n",
    "from sklearn.model_selection import RandomizedSearchCV\n",
    "from sklearn.model_selection import GridSearchCV\n",
    "# import our models\n",
    "#Logistic Regression\n",
    "from sklearn.linear_model import LogisticRegression\n",
    "#linear SVC\n",
    "from sklearn.svm import LinearSVC\n",
    "\n",
    "#ensemble models\n",
    "#random forest\n",
    "from sklearn.ensemble import RandomForestClassifier\n",
    "#gradient boosting\n",
    "from sklearn.ensemble import GradientBoostingClassifier\n",
    "\n",
    "#importing the data scaling and pipeline libraries\n",
    "from sklearn.preprocessing import StandardScaler\n",
    "from sklearn.preprocessing import MinMaxScaler\n",
    "from sklearn.pipeline import make_pipeline\n",
    "#importing test train split\n",
    "from sklearn.model_selection import train_test_split\n",
    "\n",
    "\n",
    "import os\n",
    "#importing time to measure the time of execution\n",
    "import time\n",
    "\n",
    "\n",
    "plt.style.use(\"ggplot\")"
   ]
  },
  {
   "cell_type": "code",
   "execution_count": 2,
   "metadata": {},
   "outputs": [],
   "source": [
    "#%pip install xgboost"
   ]
  },
  {
   "cell_type": "code",
   "execution_count": 3,
   "metadata": {},
   "outputs": [
    {
     "data": {
      "text/html": [
       "<div>\n",
       "<style scoped>\n",
       "    .dataframe tbody tr th:only-of-type {\n",
       "        vertical-align: middle;\n",
       "    }\n",
       "\n",
       "    .dataframe tbody tr th {\n",
       "        vertical-align: top;\n",
       "    }\n",
       "\n",
       "    .dataframe thead th {\n",
       "        text-align: right;\n",
       "    }\n",
       "</style>\n",
       "<table border=\"1\" class=\"dataframe\">\n",
       "  <thead>\n",
       "    <tr style=\"text-align: right;\">\n",
       "      <th></th>\n",
       "      <th>date</th>\n",
       "      <th>home_team</th>\n",
       "      <th>away_team</th>\n",
       "      <th>season</th>\n",
       "      <th>home_win</th>\n",
       "      <th>home_rolling_fg</th>\n",
       "      <th>home_rolling_fga</th>\n",
       "      <th>home_rolling_fg%</th>\n",
       "      <th>home_rolling_3p</th>\n",
       "      <th>home_rolling_3pa</th>\n",
       "      <th>...</th>\n",
       "      <th>away_rolling_opponent_drb%_max</th>\n",
       "      <th>away_rolling_opponent_trb%_max</th>\n",
       "      <th>away_rolling_opponent_ast%_max</th>\n",
       "      <th>away_rolling_opponent_stl%_max</th>\n",
       "      <th>away_rolling_opponent_blk%_max</th>\n",
       "      <th>away_rolling_opponent_tov%_max</th>\n",
       "      <th>away_rolling_opponent_usg%_max</th>\n",
       "      <th>away_rolling_opponent_ortg_max</th>\n",
       "      <th>away_rolling_opponent_drtg_max</th>\n",
       "      <th>away_rolling_opponent_Total</th>\n",
       "    </tr>\n",
       "  </thead>\n",
       "  <tbody>\n",
       "    <tr>\n",
       "      <th>0</th>\n",
       "      <td>2021-01-08</td>\n",
       "      <td>LAL</td>\n",
       "      <td>CHI</td>\n",
       "      <td>2020-21</td>\n",
       "      <td>1</td>\n",
       "      <td>44.000000</td>\n",
       "      <td>86.000000</td>\n",
       "      <td>0.510333</td>\n",
       "      <td>12.166667</td>\n",
       "      <td>31.500000</td>\n",
       "      <td>...</td>\n",
       "      <td>37.683333</td>\n",
       "      <td>25.166667</td>\n",
       "      <td>43.016667</td>\n",
       "      <td>5.083333</td>\n",
       "      <td>8.016667</td>\n",
       "      <td>47.266667</td>\n",
       "      <td>33.933333</td>\n",
       "      <td>193.000000</td>\n",
       "      <td>121.000000</td>\n",
       "      <td>119.333333</td>\n",
       "    </tr>\n",
       "    <tr>\n",
       "      <th>1</th>\n",
       "      <td>2021-01-09</td>\n",
       "      <td>MIL</td>\n",
       "      <td>CLE</td>\n",
       "      <td>2020-21</td>\n",
       "      <td>1</td>\n",
       "      <td>45.166667</td>\n",
       "      <td>88.666667</td>\n",
       "      <td>0.509833</td>\n",
       "      <td>16.666667</td>\n",
       "      <td>39.333333</td>\n",
       "      <td>...</td>\n",
       "      <td>37.966667</td>\n",
       "      <td>25.133333</td>\n",
       "      <td>48.700000</td>\n",
       "      <td>7.500000</td>\n",
       "      <td>6.566667</td>\n",
       "      <td>56.333333</td>\n",
       "      <td>31.833333</td>\n",
       "      <td>176.000000</td>\n",
       "      <td>109.500000</td>\n",
       "      <td>101.333333</td>\n",
       "    </tr>\n",
       "    <tr>\n",
       "      <th>2</th>\n",
       "      <td>2021-01-10</td>\n",
       "      <td>BRK</td>\n",
       "      <td>OKC</td>\n",
       "      <td>2020-21</td>\n",
       "      <td>0</td>\n",
       "      <td>44.666667</td>\n",
       "      <td>90.333333</td>\n",
       "      <td>0.493333</td>\n",
       "      <td>13.166667</td>\n",
       "      <td>36.166667</td>\n",
       "      <td>...</td>\n",
       "      <td>43.883333</td>\n",
       "      <td>25.016667</td>\n",
       "      <td>60.833333</td>\n",
       "      <td>5.333333</td>\n",
       "      <td>5.883333</td>\n",
       "      <td>47.533333</td>\n",
       "      <td>34.033333</td>\n",
       "      <td>169.833333</td>\n",
       "      <td>113.166667</td>\n",
       "      <td>106.500000</td>\n",
       "    </tr>\n",
       "    <tr>\n",
       "      <th>3</th>\n",
       "      <td>2021-01-10</td>\n",
       "      <td>GSW</td>\n",
       "      <td>TOR</td>\n",
       "      <td>2020-21</td>\n",
       "      <td>1</td>\n",
       "      <td>41.333333</td>\n",
       "      <td>87.500000</td>\n",
       "      <td>0.470833</td>\n",
       "      <td>14.000000</td>\n",
       "      <td>38.166667</td>\n",
       "      <td>...</td>\n",
       "      <td>44.950000</td>\n",
       "      <td>26.050000</td>\n",
       "      <td>48.866667</td>\n",
       "      <td>5.050000</td>\n",
       "      <td>12.916667</td>\n",
       "      <td>56.100000</td>\n",
       "      <td>32.033333</td>\n",
       "      <td>187.500000</td>\n",
       "      <td>123.166667</td>\n",
       "      <td>115.166667</td>\n",
       "    </tr>\n",
       "    <tr>\n",
       "      <th>4</th>\n",
       "      <td>2021-01-11</td>\n",
       "      <td>WAS</td>\n",
       "      <td>PHO</td>\n",
       "      <td>2020-21</td>\n",
       "      <td>1</td>\n",
       "      <td>44.000000</td>\n",
       "      <td>91.833333</td>\n",
       "      <td>0.479167</td>\n",
       "      <td>12.500000</td>\n",
       "      <td>34.833333</td>\n",
       "      <td>...</td>\n",
       "      <td>45.833333</td>\n",
       "      <td>25.966667</td>\n",
       "      <td>40.816667</td>\n",
       "      <td>4.550000</td>\n",
       "      <td>8.533333</td>\n",
       "      <td>38.566667</td>\n",
       "      <td>38.783333</td>\n",
       "      <td>208.333333</td>\n",
       "      <td>119.833333</td>\n",
       "      <td>108.166667</td>\n",
       "    </tr>\n",
       "  </tbody>\n",
       "</table>\n",
       "<p>5 rows × 269 columns</p>\n",
       "</div>"
      ],
      "text/plain": [
       "         date home_team away_team   season  home_win  home_rolling_fg  \\\n",
       "0  2021-01-08       LAL       CHI  2020-21         1        44.000000   \n",
       "1  2021-01-09       MIL       CLE  2020-21         1        45.166667   \n",
       "2  2021-01-10       BRK       OKC  2020-21         0        44.666667   \n",
       "3  2021-01-10       GSW       TOR  2020-21         1        41.333333   \n",
       "4  2021-01-11       WAS       PHO  2020-21         1        44.000000   \n",
       "\n",
       "   home_rolling_fga  home_rolling_fg%  home_rolling_3p  home_rolling_3pa  ...  \\\n",
       "0         86.000000          0.510333        12.166667         31.500000  ...   \n",
       "1         88.666667          0.509833        16.666667         39.333333  ...   \n",
       "2         90.333333          0.493333        13.166667         36.166667  ...   \n",
       "3         87.500000          0.470833        14.000000         38.166667  ...   \n",
       "4         91.833333          0.479167        12.500000         34.833333  ...   \n",
       "\n",
       "   away_rolling_opponent_drb%_max  away_rolling_opponent_trb%_max  \\\n",
       "0                       37.683333                       25.166667   \n",
       "1                       37.966667                       25.133333   \n",
       "2                       43.883333                       25.016667   \n",
       "3                       44.950000                       26.050000   \n",
       "4                       45.833333                       25.966667   \n",
       "\n",
       "   away_rolling_opponent_ast%_max  away_rolling_opponent_stl%_max  \\\n",
       "0                       43.016667                        5.083333   \n",
       "1                       48.700000                        7.500000   \n",
       "2                       60.833333                        5.333333   \n",
       "3                       48.866667                        5.050000   \n",
       "4                       40.816667                        4.550000   \n",
       "\n",
       "   away_rolling_opponent_blk%_max  away_rolling_opponent_tov%_max  \\\n",
       "0                        8.016667                       47.266667   \n",
       "1                        6.566667                       56.333333   \n",
       "2                        5.883333                       47.533333   \n",
       "3                       12.916667                       56.100000   \n",
       "4                        8.533333                       38.566667   \n",
       "\n",
       "   away_rolling_opponent_usg%_max  away_rolling_opponent_ortg_max  \\\n",
       "0                       33.933333                      193.000000   \n",
       "1                       31.833333                      176.000000   \n",
       "2                       34.033333                      169.833333   \n",
       "3                       32.033333                      187.500000   \n",
       "4                       38.783333                      208.333333   \n",
       "\n",
       "   away_rolling_opponent_drtg_max  away_rolling_opponent_Total  \n",
       "0                      121.000000                   119.333333  \n",
       "1                      109.500000                   101.333333  \n",
       "2                      113.166667                   106.500000  \n",
       "3                      123.166667                   115.166667  \n",
       "4                      119.833333                   108.166667  \n",
       "\n",
       "[5 rows x 269 columns]"
      ]
     },
     "execution_count": 3,
     "metadata": {},
     "output_type": "execute_result"
    }
   ],
   "source": [
    "# Loading our data\n",
    "data_base = pd.read_pickle('data_base.pkl')\n",
    "data_base.head()"
   ]
  },
  {
   "cell_type": "code",
   "execution_count": 4,
   "metadata": {},
   "outputs": [],
   "source": [
    "info_cols = ['date',\n",
    " 'home_team',\n",
    " 'away_team',\n",
    " 'season',\n",
    " 'home_win' ]\n"
   ]
  },
  {
   "cell_type": "markdown",
   "metadata": {},
   "source": [
    "Creating our list of information columns. Note that these variables are all present before a game actually happens. "
   ]
  },
  {
   "cell_type": "code",
   "execution_count": 5,
   "metadata": {},
   "outputs": [
    {
     "name": "stdout",
     "output_type": "stream",
     "text": [
      "Feature set shape: (2027, 264), target series shape: (2027,)\n"
     ]
    }
   ],
   "source": [
    "# Splitting the data into train and test\n",
    "X = data_base.loc[:, ~data_base.columns.isin(info_cols)] # excluding info_cols\n",
    "y = data_base['home_win']\n",
    "\n",
    "print(f'Feature set shape: {X.shape}, target series shape: {y.shape}')"
   ]
  },
  {
   "cell_type": "code",
   "execution_count": 29,
   "metadata": {},
   "outputs": [],
   "source": [
    "# creating a train test split\n",
    "X_train, X_test, y_train, y_test = train_test_split(X, y, test_size=0.2, random_state=42)"
   ]
  },
  {
   "attachments": {},
   "cell_type": "markdown",
   "metadata": {},
   "source": [
    "We need to perform Feature Scaling when we are dealing with Gradient Descent Based algorithms (Linear and Logistic Regression, Neural Network) and Distance-based algorithms (KNN, K-means, SVM) as these are very sensitive to the range of the data points."
   ]
  },
  {
   "cell_type": "code",
   "execution_count": null,
   "metadata": {},
   "outputs": [],
   "source": [
    "#Creating a class that initializes the model and the parameters, and we just need to pass the scaling method for the pipeline\n",
    "\n",
    "class ModelParams:\n",
    "        \"\"\" Info:\n",
    "         This class initializes the parameters and scalers for the models, which will be used for gridsearchcv,\n",
    "         and their scaling methods.\n",
    "          Input:\n",
    "           model: the model to be used\n",
    "            scaler: Default = False, if True, the model will be scaled accordily with its respective scaler\n",
    "          Output:\n",
    "           get_pipe: returns the model pipeline and its parameters\n",
    "           model_name: returns the model name\n",
    "             \"\"\"\n",
    "                \n",
    "        #models_list = [LogisticRegression(random_state=42), LinearSVC(random_state=42), RandomForestClassifier(random_state=42), GradientBoostingClassifier(random_state=42)]     \n",
    "    \n",
    "        #creating the models  parameters dictionary\n",
    "        # Parameters of pipelines can be set using '__' separated parameter names:\n",
    "        \n",
    "        models_params = {\n",
    "            'LogisticRegression': {'logisticregression__penalty': ['l1', 'l2', 'elasticnet'],\n",
    "                                      'logisticregression__C': [0.001, 0.01, 0.1, 1, 10, 100],\n",
    "                                        'logisticregression__solver': ['newton-cg', 'lbfgs', 'liblinear', 'sag', 'saga'],\n",
    "                                          'logisticregression__max_iter': [10000]},\n",
    "            'LinearSVC': {'linearsvc__C': [0.0001, 0.001, 0.01, 0.1, 1, 10], 'linearsvc__loss': ['hinge', 'squared_hinge'],\n",
    "                             'linearsvc__max_iter': [100000]},\n",
    "            'RandomForestClassifier': {'randomforestclassifier__bootstrap': [True, False],\n",
    "                                        'randomforestclassifier__n_estimators': [100, 200, 300, 400, 500, 1000, 1500],\n",
    "                                          'randomforestclassifier__criterion':['gini', 'entropy'],\n",
    "                                         'randomforestclassifier__max_depth': [10, 20, 30, 40, 50, 60, 70, 80, 90, 100],\n",
    "                                           'randomforestclassifier__min_samples_split': [2, 5, 10],\n",
    "                                             'randomforestclassifier__min_samples_leaf': [1, 2, 4],\n",
    "                                         'randomforestclassifier__max_features': ['sqrt', None],\n",
    "                                           'randomforestclassifier__min_weight_fraction_leaf': [0.0, 0.25, 0.5],\n",
    "                                         'randomforestclassifier__max_leaf_nodes': [None, 10, 20, 30, 40, 50, 60, 70, 80, 90, 100],\n",
    "                                           'randomforestclassifier__min_impurity_decrease': [0.0, 0.1, 0.2, 0.3, 0.4, 0.5, 1.0]},\n",
    "            'GradientBoostingClassifier': {'gradientboostingclassifier__loss': ['deviance', 'exponential'],\n",
    "                                             'gradientboostingclassifier__learning_rate': [0.001, 0.01, 0.1, 1, 10],\n",
    "                                             'gradientboostingclassifier__subsample': [0.1, 0.2, 0.3, 0.4, 0.5, 0.6, 0.7, 0.8, 0.9, 1.0],\n",
    "                                               'gradientboostingclassifier__n_estimators': [100, 200, 300, 400, 500, 1000, 1500],\n",
    "                                                  'gradientboostingclassifier__criterion': ['friedman_mse', 'squared_error'],\n",
    "                                                    'gradientboostingclassifier__min_samples_split': [2, 5, 10],\n",
    "                                                      'gradientboostingclassifier__min_samples_leaf': [1, 2, 4],\n",
    "                                                        'gradientboostingclassifier__min_weight_fraction_leaf': [0.0, 0.25, 0.5],\n",
    "                                                          'gradientboostingclassifier__max_depth': [10, 20, 30, 40, 50, 60, 70, 80, 90, 100],\n",
    "                                                            'gradientboostingclassifier__min_impurity_decrease': [0.0, 0.1, 0.2, 0.3, 0.4, 0.5, 1.0],\n",
    "                                                              'gradientboostingclassifier__max_features': ['sqrt', None],\n",
    "                                                                'gradientboostingclassifier__max_leaf_nodes': [None, 10, 20, 30, 40, 50, 60, 70, 80, 90, 100]}\n",
    "        }\n",
    "                                               \n",
    "\n",
    "        #creating the models respective scalers:\n",
    "        models_scalers = {\n",
    "                'LogisticRegression': StandardScaler(),\n",
    "                'LinearSVC': StandardScaler(),\n",
    "                'RandomForestClassifier': MinMaxScaler(),\n",
    "                'GradientBoostingClassifier': MinMaxScaler()\n",
    "        }\n",
    "        \n",
    "        #creating the models respective pipelines and its parameters\n",
    "        def __init__(self, model, scaler=False):\n",
    "                \"\"\" Info:\n",
    "                 This method initializes the model and the scaling method\n",
    "                  ---------------------------------------------------------------------------------------------\n",
    "\n",
    "                   Input:\n",
    "                    model: the model to be used\n",
    "                     Scaler: boolean\n",
    "                      -------------------------------------------------------------------------------------------\n",
    "                      \n",
    "                       Output:\n",
    "                        None \"\"\"\n",
    "                \n",
    "                self.model = model\n",
    "                self.scaler = scaler\n",
    "                self.model_name = model.__class__.__name__\n",
    "\n",
    "        def get_pipe(self):\n",
    "                \"\"\" Info:\n",
    "                 This method returns the model pipeline and its parameters and the model name\n",
    "                  ---------------------------------------------------------------------------------------------\n",
    "\n",
    "                   Input:\n",
    "                    None\n",
    "                    ---------------------------------------------------------------------------------------------\n",
    "\n",
    "                     Output:\n",
    "                      model pipeline, model parameters, model name \"\"\"\n",
    "                \n",
    "                self.params = self.models_params[self.model_name]\n",
    "                if self.scaler:\n",
    "                        self.scaler = self.models_scalers[self.model_name]\n",
    "                else:\n",
    "                        self.scaler = None\n",
    "                return make_pipeline(self.scaler, self.model), self.params, self.model_name\n",
    "                \n",
    "\n",
    "       "
   ]
  },
  {
   "cell_type": "code",
   "execution_count": 49,
   "metadata": {},
   "outputs": [],
   "source": [
    "\n",
    "# creating a class to take in the model and return the metrics of this model with the best parameters,\n",
    "# using for this the GridSearchCV function\n",
    "class ModelDevelopment:\n",
    "    \"\"\" Takes in the model, the X and y data and splits the data into train and test sets.\n",
    "    Functions:\n",
    "    - grid_search: Takes in the parameters to be tested and the scoring metric and returns the best model, best parameters and best score\n",
    "    - model_metrics: Prints the accuracy, precision, recall, f1 and auc of best model parameters found by the grid search against the test set\n",
    "    - roc_curve: Plots the ROC curve of the best model parameters found by the grid search against the test set\"\"\"\n",
    "\n",
    "    def __init__(self, model, model_name, X, y):\n",
    "        \"\"\" Info:\n",
    "            Takes in the model, the X and y data and splits the data into train and test sets.\n",
    "\n",
    "            Input:\n",
    "            model: Model to be tested\n",
    "            model_name: Name of the model to be tested\n",
    "            X: Feature set\n",
    "            y: Target series\n",
    "            \n",
    "            \n",
    "\n",
    "            Output:\n",
    "            X_train: Feature set for the train set\n",
    "            X_test: Feature set for the test set\n",
    "            y_train: Target series for the train set\n",
    "            y_test: Target series for the test set\n",
    "            \n",
    "                    \"\"\"\n",
    "        self.model = model\n",
    "        self.model_name = model_name\n",
    "        self.best_model = None\n",
    "        self.X = X\n",
    "        self.y = y\n",
    "        self.X_train, self.X_test, self.y_train, self.y_test = train_test_split(self.X, self.y, test_size=0.2, random_state=42)\n",
    "        \n",
    "\n",
    "        \n",
    "    \n",
    "\n",
    "    def grid_search(self, params: dict, scoring: str): # scoring is the metric we want to optimize, mostly 'roc_auc'\n",
    "        \"\"\" Info:\n",
    "            Takes in the parameters to be tested and the scoring metric and returns the best model, best parameters and best score\n",
    "             Input:\n",
    "              params: Dictionary with the parameters to be tested\n",
    "              scoring: Metric to be optimized\n",
    "             Output:\n",
    "              best_model: Best model found by the grid search\n",
    "              best_params: Best parameters found by the grid search\n",
    "              best_score: Best score found by the grid search \"\"\"\n",
    "        \n",
    "        #measuring the time it takes to run the grid search\n",
    "        #start time\n",
    "        start = time.time()\n",
    "        \n",
    "        grid = GridSearchCV(self.model, params, cv=5, scoring=scoring, n_jobs=-1, verbose=3) #verbose = 2 so we can watch the progress in more detail\n",
    "        #trying to fit the model with the parameters\n",
    "        try:\n",
    "            grid.fit(self.X, self.y)\n",
    "        except Exception as e:\n",
    "            print(\"An error occurred:\", e)\n",
    "            pass\n",
    "        self.best_model = grid.best_estimator_\n",
    "        self.best_params = grid.best_params_\n",
    "        self.best_score = grid.best_score_\n",
    "\n",
    "        #final time\n",
    "        end = time.time()\n",
    "        #print the total time it took to run the grid search in minutes\n",
    "        print('Total time: ', round((end-start)/60), ' minutes')\n",
    "\n",
    "        return self.best_model, self.best_params, self.best_score\n",
    "    \n",
    "    def random_search(self, params_range: dict, scoring: str):\n",
    "        \"\"\" Info:\n",
    "            Takes in the parameters to be tested using the RandomizedSearchCV() funtion and the scoring metric and returns the best model, best parameters and best score. The randomized search allows us to test more parameters in less time.\n",
    "            --------------------------------------------------------------------------------------------------------------------------------------------------------------------------------------------------------------------------------------------------------\n",
    "             Input:\n",
    "              params: Dictionary with the parameters to be tested\n",
    "              scoring: Metric to be optimized\n",
    "            --------------------------------------------------------------------------------------------------------------------------------------------------------------------------------------------------------------------------------------------------------\n",
    "             Output:\n",
    "              best_model: Best model found by the grid search\n",
    "              best_params: Best parameters found by the grid search\n",
    "              best_score: Best score found by the grid search \"\"\"\n",
    "        \n",
    "        #measuring the time it takes to run the grid search\n",
    "        #start time\n",
    "        start = time.time()\n",
    "        \n",
    "        grid = RandomizedSearchCV(self.model, params_range, cv=3, scoring=scoring, n_jobs=-1, verbose=3, n_iter=1000, random_state=42)\n",
    "        #trying to fit the model with the parameters\n",
    "        try:\n",
    "            grid.fit(self.X, self.y)\n",
    "        except Exception as e:\n",
    "            print(\"An error occurred:\", e)\n",
    "            pass\n",
    "        self.best_model = grid.best_estimator_\n",
    "        self.best_params = grid.best_params_\n",
    "        self.best_score = grid.best_score_\n",
    "        #final time\n",
    "        end = time.time()\n",
    "        #print the total time it took to run the grid search in minutes\n",
    "        print('Total time: ', round((end-start)/60), ' minutes')\n",
    "        return self.best_model, self.best_params, self.best_score\n",
    "        \n",
    "        \n",
    "    \n",
    "    def model_metrics(self):\n",
    "        \"\"\" Prints the accuracy, precision, recall, f1 and auc of best model parameters found by the grid search against the test set\n",
    "            For this, we use the pre split X test and y test data, which are 20% of the original data\n",
    "          \"\"\"\n",
    "        y_pred = self.best_model.predict(self.X_test) #type: ignore\n",
    "        accuracy = accuracy_score(self.y_test, y_pred)\n",
    "        precision = precision_score(self.y_test, y_pred)\n",
    "        recall = recall_score(self.y_test, y_pred)\n",
    "        f1 = f1_score(self.y_test, y_pred)\n",
    "        auc = roc_auc_score(self.y_test, y_pred)\n",
    "        print(f'Accuracy: {accuracy:.1%}' )\n",
    "        print(f'Precision: {precision:.1%}')\n",
    "        print(f'Recall: {recall:.1%}')\n",
    "        print(f'F1: {f1:.1%}')\n",
    "        print(f'AUC: {auc:.1%}') #auc score\n",
    "        \n",
    "    \n",
    "    def roc_curve(self):\n",
    "        \"\"\" Plots the ROC curve of the best model parameters found by the grid search against the test set\n",
    "            For this, we use the pre split X test and y test data, which are 20% of the original data\n",
    "          \"\"\"\n",
    "        y_pred_proba = self.best_model.predict_proba(self.X_test)[:,1] #type: ignore\n",
    "        fpr, tpr, thresholds = roc_curve(self.y_test, y_pred_proba)\n",
    "        plt.plot([0,1], [0,1], 'k--')\n",
    "        plt.plot(fpr, tpr, label=self.model_name)\n",
    "        plt.xlabel('False Positive Rate')\n",
    "        plt.ylabel('True Positive Rate')\n",
    "        plt.title(self.model_name+' ROC Curve')\n",
    "        plt.show()\n",
    "\n",
    "    # function to plot the confusion matrix\n",
    "    def plot_confusion_matrix(self):\n",
    "        \"\"\" Plots the confusion matrix of the best model parameters found by the grid search against the test set\n",
    "            For this, we use the pre split X test and y test data, which are 20% of the original data\n",
    "          \"\"\"\n",
    "        y_pred = self.best_model.predict(self.X_test) #type: ignore\n",
    "        cm = confusion_matrix(self.y_test, y_pred)\n",
    "        sns.heatmap(cm, annot=True, fmt='d', cmap='Blues')\n",
    "        plt.title('Confusion Matrix')\n",
    "        plt.xlabel('Predicted')\n",
    "        plt.ylabel('Actual')\n",
    "        plt.show()"
   ]
  },
  {
   "cell_type": "code",
   "execution_count": 50,
   "metadata": {},
   "outputs": [],
   "source": [
    "#creating a function that uses the ModelParams class to instantiates the model, its parameters and its respective scaler. Then, it instantiates the ModelDevelopment class and \n",
    "#uses the grid_search function to find the best parameters for the model.\n",
    "def instantiate_best_model(model, X, y, scoring, scaler=True, random_search=False):\n",
    "        \"\"\" Info:\n",
    "                returns the model tunned with the best parameters\n",
    "            -------------------------------------------------\n",
    "             Input:\n",
    "                model: Model to be tested\n",
    "                X: Feature set\n",
    "                y: Target series\n",
    "                scoring: Metric to be optimized\n",
    "                scaler: Whether to use a scaler or not\n",
    "             ------------------------------------------------\n",
    "             Output:\n",
    "               best_model: Best model found by the grid search\n",
    "               best_params: Best parameters found by the grid search\n",
    "               best_score: Best score found by the grid search \"\"\"\n",
    "        \n",
    "        # Using the ModelParams class to instantiate the model, its parameters and its respective scaler\n",
    "        model_params = ModelParams(model, scaler)\n",
    "        pipe, params, model_name = model_params.get_pipe()\n",
    "        #checking if the model is already saved in the models folder\n",
    "        # if the model is not saved, we instantiate the ModelDevelopment class and use the grid_search function to find the best parameters for the model and then save it\n",
    "        if scaler:\n",
    "                if not os.path.exists('models/'+model_name+'.pkl'): \n",
    "                         # Using the ModelDevelopment class to instantiate the model\n",
    "                        clf_instance = ModelDevelopment(pipe, model_name, X, y)\n",
    "                        # Using the search function to find the best parameters for the model\n",
    "                        if random_search:\n",
    "                                best_model, *_  = clf_instance.random_search(params, scoring)\n",
    "                        else:\n",
    "                                best_model, *_  = clf_instance.grid_search(params, scoring) # This also fits the model instance with a variety of parameters against the dataset\n",
    "                        #saving best model with best parameters to pickle file:\n",
    "                        file_name = 'models/'+model_name+'.pkl'\n",
    "                        instance_name = 'models/'+model_name+'_instance.pkl'\n",
    "                        with open(file_name, 'wb') as f:\n",
    "                                pickle.dump(best_model, f)\n",
    "                        with open(instance_name, 'wb') as f:\n",
    "                                pickle.dump(clf_instance, f) \n",
    "                else:\n",
    "                        pass\n",
    "                       \n",
    "        else:\n",
    "                if not os.path.exists('models/'+model_name+'_unscaled.pkl'):\n",
    "                         # Using the ModelDevelopment class to instantiate the model\n",
    "                        clf_instance = ModelDevelopment(pipe, model_name, X, y)\n",
    "                        # Using the grid_search function to find the best parameters for the model\n",
    "                        if random_search:\n",
    "                                best_model, *_  = clf_instance.random_search(params, scoring)\n",
    "                        else:\n",
    "                                best_model, *_  = clf_instance.grid_search(params, scoring) # This also fits the model instance with a variety of parameters against the dataset\n",
    "                        #saving best model with best parameters to pickle file:\n",
    "                        file_name = 'models/'+model_name+'_unscaled.pkl'\n",
    "                        instance_name = 'models/'+model_name+'_unscaled_instance.pkl'\n",
    "                        with open(file_name, 'wb') as f:\n",
    "                                pickle.dump(best_model, f)\n",
    "                        with open(instance_name, 'wb') as f:\n",
    "                                pickle.dump(clf_instance, f) \n",
    "                else:\n",
    "                        pass     \n",
    "                                     "
   ]
  },
  {
   "attachments": {},
   "cell_type": "markdown",
   "metadata": {},
   "source": [
    "## Creating our best models objects with scaled data and saving it with pickle file, With all the propertys included with the class we created, model develpment.\n",
    "\n",
    "### Because emsemble models will have naturally more parameters, and are more complex, we are going to set our search method to random search on these models\n",
    "\n",
    "For this, we are going to create a function that takes in a model, the respective scaler. We are going to train either with the scaler on and off.\n",
    "\n",
    "models_list = [LogisticRegression(random_state=42), LinearSVC(random_state=42), RandomForestClassifier(random_state=42), XGBClassifier(random_state=42)]"
   ]
  },
  {
   "attachments": {},
   "cell_type": "markdown",
   "metadata": {},
   "source": [
    "### Scaled data\n"
   ]
  },
  {
   "attachments": {},
   "cell_type": "markdown",
   "metadata": {},
   "source": [
    "Creating the best Logistic Regression model"
   ]
  },
  {
   "cell_type": "code",
   "execution_count": 9,
   "metadata": {},
   "outputs": [],
   "source": [
    "instantiate_best_model(LogisticRegression(random_state=42), X, y, 'roc_auc', scaler=True)\n",
    "        "
   ]
  },
  {
   "cell_type": "code",
   "execution_count": 10,
   "metadata": {},
   "outputs": [
    {
     "name": "stdout",
     "output_type": "stream",
     "text": [
      "Accuracy: 76.8%\n",
      "Precision: 77.3%\n",
      "Recall: 82.7%\n",
      "F1: 79.9%\n",
      "AUC: 76.1%\n"
     ]
    },
    {
     "data": {
      "image/png": "[encoded data removed]",
      "text/plain": [
       "<Figure size 640x480 with 1 Axes>"
      ]
     },
     "metadata": {},
     "output_type": "display_data"
    },
    {
     "data": {
      "image/png": "[encoded data removed]",
      "text/plain": [
       "<Figure size 640x480 with 2 Axes>"
      ]
     },
     "metadata": {},
     "output_type": "display_data"
    }
   ],
   "source": [
    "LR_instance = pickle.load(open('models/LogisticRegression_instance.pkl', 'rb'))\n",
    "\n",
    "#ploting metrics\n",
    "LR_instance.model_metrics()\n",
    "LR_instance.roc_curve()\n",
    "LR_instance.plot_confusion_matrix()\n"
   ]
  },
  {
   "cell_type": "code",
   "execution_count": 11,
   "metadata": {},
   "outputs": [
    {
     "data": {
      "text/plain": [
       "{'logisticregression__C': 0.001,\n",
       " 'logisticregression__max_iter': 10000,\n",
       " 'logisticregression__penalty': 'l2',\n",
       " 'logisticregression__solver': 'sag'}"
      ]
     },
     "execution_count": 11,
     "metadata": {},
     "output_type": "execute_result"
    }
   ],
   "source": [
    "#model best params\n",
    "LR_instance.best_params"
   ]
  },
  {
   "attachments": {},
   "cell_type": "markdown",
   "metadata": {},
   "source": [
    "Creating the best SVM model"
   ]
  },
  {
   "cell_type": "code",
   "execution_count": 12,
   "metadata": {},
   "outputs": [],
   "source": [
    "instantiate_best_model(LinearSVC(random_state=42), X, y, 'roc_auc', scaler=True)"
   ]
  },
  {
   "cell_type": "code",
   "execution_count": 13,
   "metadata": {},
   "outputs": [
    {
     "name": "stdout",
     "output_type": "stream",
     "text": [
      "Accuracy: 74.9%\n",
      "Precision: 78.4%\n",
      "Recall: 75.7%\n",
      "F1: 77.0%\n",
      "AUC: 74.8%\n"
     ]
    },
    {
     "data": {
      "image/png": "[encoded data removed]",
      "text/plain": [
       "<Figure size 640x480 with 2 Axes>"
      ]
     },
     "metadata": {},
     "output_type": "display_data"
    }
   ],
   "source": [
    "SVM_instance = pickle.load(open('models/LinearSVC_instance.pkl', 'rb'))\n",
    "SVM_instance.model_metrics()\n",
    "SVM_instance.plot_confusion_matrix()"
   ]
  },
  {
   "cell_type": "code",
   "execution_count": 14,
   "metadata": {},
   "outputs": [
    {
     "data": {
      "text/plain": [
       "{'linearsvc__C': 0.0001,\n",
       " 'linearsvc__loss': 'squared_hinge',\n",
       " 'linearsvc__max_iter': 100000}"
      ]
     },
     "execution_count": 14,
     "metadata": {},
     "output_type": "execute_result"
    }
   ],
   "source": [
    "#model best params\n",
    "SVM_instance.best_params"
   ]
  },
  {
   "attachments": {},
   "cell_type": "markdown",
   "metadata": {},
   "source": [
    "Creating the best RandomForest model\n"
   ]
  },
  {
   "cell_type": "code",
   "execution_count": 15,
   "metadata": {},
   "outputs": [],
   "source": [
    "instantiate_best_model(RandomForestClassifier(random_state=42), X, y, 'roc_auc', scaler=True, random_search=True)"
   ]
  },
  {
   "cell_type": "code",
   "execution_count": 16,
   "metadata": {},
   "outputs": [
    {
     "name": "stdout",
     "output_type": "stream",
     "text": [
      "Accuracy: 100.0%\n",
      "Precision: 100.0%\n",
      "Recall: 100.0%\n",
      "F1: 100.0%\n",
      "AUC: 100.0%\n"
     ]
    }
   ],
   "source": [
    "forest_instance = pickle.load(open('models/RandomForestClassifier_instance.pkl', 'rb'))\n",
    "forest_instance.model_metrics()"
   ]
  },
  {
   "cell_type": "code",
   "execution_count": 32,
   "metadata": {},
   "outputs": [
    {
     "data": {
      "text/plain": [
       "Pipeline(steps=[('minmaxscaler', MinMaxScaler()),\n",
       "                ('randomforestclassifier',\n",
       "                 RandomForestClassifier(bootstrap=False, criterion='entropy',\n",
       "                                        max_depth=10, max_features='sqrt',\n",
       "                                        min_samples_leaf=4, min_samples_split=5,\n",
       "                                        n_estimators=1000, random_state=42))])"
      ]
     },
     "execution_count": 32,
     "metadata": {},
     "output_type": "execute_result"
    }
   ],
   "source": [
    "forest = pickle.load(open('models/RandomForestClassifier.pkl', 'rb'))\n",
    "forest"
   ]
  },
  {
   "attachments": {},
   "cell_type": "markdown",
   "metadata": {},
   "source": [
    "By these metrics, we can see that the model overfits. To improve this model, we need to either feed more data  or/and make our model less complex. In the case of trees, the easy solution will be reduce the number of features.\n"
   ]
  },
  {
   "cell_type": "code",
   "execution_count": 40,
   "metadata": {},
   "outputs": [
    {
     "name": "stdout",
     "output_type": "stream",
     "text": [
      "Accuracy: 73.2%\n"
     ]
    },
    {
     "data": {
      "text/plain": [
       "0.77015732546706"
      ]
     },
     "execution_count": 40,
     "metadata": {},
     "output_type": "execute_result"
    }
   ],
   "source": [
    "forest.fit(X_train, y_train)\n",
    "#print the accuracy of the model\n",
    "print(f'Accuracy: {forest.score(X_test, y_test):.1%}')\n",
    "roc_auc_score(y_test, forest.predict_proba(X_test)[:,1])"
   ]
  },
  {
   "attachments": {},
   "cell_type": "markdown",
   "metadata": {},
   "source": [
    "Using the parematers that we found for the \"prfect model\", we can see that the accuracy is not impressive compared with the simpler models, corfirming our hipotesys that it is overfitted."
   ]
  },
  {
   "attachments": {},
   "cell_type": "markdown",
   "metadata": {},
   "source": [
    "Creating the best GradientBoostingClassifier model"
   ]
  },
  {
   "cell_type": "code",
   "execution_count": 54,
   "metadata": {},
   "outputs": [
    {
     "data": {
      "text/plain": [
       "'Pipeline'"
      ]
     },
     "execution_count": 54,
     "metadata": {},
     "output_type": "execute_result"
    }
   ],
   "source": [
    "#getting model name\n",
    "model_name = forest.__class__.__name__\n",
    "model_name"
   ]
  },
  {
   "cell_type": "code",
   "execution_count": 59,
   "metadata": {},
   "outputs": [
    {
     "name": "stdout",
     "output_type": "stream",
     "text": [
      "Fitting 3 folds for each of 1000 candidates, totalling 3000 fits\n"
     ]
    },
    {
     "name": "stderr",
     "output_type": "stream",
     "text": [
      "c:\\Users\\Usuario\\anaconda3\\envs\\nba\\lib\\site-packages\\sklearn\\model_selection\\_validation.py:372: FitFailedWarning: \n",
      "951 fits failed out of a total of 3000.\n",
      "The score on these train-test partitions for these parameters will be set to nan.\n",
      "If these failures are not expected, you can try to debug them by setting error_score='raise'.\n",
      "\n",
      "Below are more details about the failures:\n",
      "--------------------------------------------------------------------------------\n",
      "951 fits failed with the following error:\n",
      "Traceback (most recent call last):\n",
      "  File \"c:\\Users\\Usuario\\anaconda3\\envs\\nba\\lib\\site-packages\\sklearn\\model_selection\\_validation.py\", line 680, in _fit_and_score\n",
      "    estimator.fit(X_train, y_train, **fit_params)\n",
      "  File \"c:\\Users\\Usuario\\anaconda3\\envs\\nba\\lib\\site-packages\\sklearn\\pipeline.py\", line 394, in fit\n",
      "    self._final_estimator.fit(Xt, y, **fit_params_last_step)\n",
      "  File \"c:\\Users\\Usuario\\anaconda3\\envs\\nba\\lib\\site-packages\\sklearn\\ensemble\\_gb.py\", line 525, in fit\n",
      "    self._check_params()\n",
      "  File \"c:\\Users\\Usuario\\anaconda3\\envs\\nba\\lib\\site-packages\\sklearn\\ensemble\\_gb.py\", line 282, in _check_params\n",
      "    raise ValueError(\"Loss '{0:s}' not supported. \".format(self.loss))\n",
      "ValueError: Loss 'log_loss' not supported. \n",
      "\n",
      "  warnings.warn(some_fits_failed_message, FitFailedWarning)\n",
      "c:\\Users\\Usuario\\anaconda3\\envs\\nba\\lib\\site-packages\\sklearn\\model_selection\\_search.py:969: UserWarning: One or more of the test scores are non-finite: [0.5        0.5        0.5        0.80085437 0.80842169 0.61362102\n",
      " 0.62752273 0.67099249        nan 0.8020341  0.80974896        nan\n",
      " 0.79380035 0.80025555        nan 0.58686519        nan        nan\n",
      " 0.5        0.5        0.5        0.80110975        nan 0.5\n",
      "        nan        nan        nan 0.59427852 0.79568887 0.5\n",
      "        nan        nan 0.5        0.80768231 0.60062815 0.761611\n",
      " 0.796004   0.7867688  0.67530602 0.5               nan        nan\n",
      "        nan 0.79729958        nan 0.5933037  0.64445571 0.80973051\n",
      "        nan 0.49051263 0.74085815 0.68924474 0.5               nan\n",
      " 0.80739186 0.80541121 0.78964851 0.81050211 0.5               nan\n",
      "        nan        nan 0.79507496 0.55005333        nan        nan\n",
      "        nan 0.48049874        nan 0.5        0.80102095        nan\n",
      " 0.45750739        nan 0.5        0.5        0.5               nan\n",
      " 0.76642211 0.59425935        nan        nan        nan 0.5\n",
      "        nan 0.80164368 0.5               nan        nan 0.5\n",
      " 0.80561374 0.5        0.5        0.61873085 0.5               nan\n",
      "        nan 0.5        0.57866109 0.68857005 0.68987139        nan\n",
      " 0.5               nan 0.80717216 0.5        0.5               nan\n",
      " 0.5        0.5        0.5               nan        nan 0.80732066\n",
      " 0.78606892 0.5        0.5        0.70146659        nan 0.53268444\n",
      " 0.5               nan        nan        nan 0.58080148 0.79891338\n",
      " 0.70058477        nan 0.81332971 0.51595718        nan 0.68351274\n",
      " 0.5        0.8016505  0.78781789 0.46984444        nan 0.5\n",
      "        nan 0.75818434 0.5        0.78084571 0.51589934 0.70897215\n",
      " 0.57539556        nan 0.5        0.56529326        nan 0.66249035\n",
      " 0.5        0.5        0.65421918        nan        nan 0.5\n",
      "        nan 0.79899376 0.5        0.63778988 0.5               nan\n",
      " 0.65391293 0.5        0.6950372  0.52173885 0.5        0.80900117\n",
      " 0.5               nan 0.80906837 0.59847111 0.79849537 0.74894504\n",
      "        nan 0.5        0.68167885 0.5        0.80013983        nan\n",
      " 0.78804331 0.60119704        nan        nan 0.55005333 0.5\n",
      "        nan        nan 0.5               nan        nan 0.69792691\n",
      " 0.77631722        nan        nan 0.80024965        nan 0.5\n",
      "        nan 0.5        0.5               nan 0.5               nan\n",
      " 0.5        0.5               nan 0.64259497 0.5        0.61362102\n",
      " 0.60125333        nan 0.5        0.52455556 0.53113105 0.52573353\n",
      "        nan 0.5        0.79915821        nan 0.58523259        nan\n",
      "        nan 0.78565491        nan 0.79614779        nan 0.80261172\n",
      "        nan        nan        nan 0.5        0.65453547 0.5\n",
      "        nan 0.5        0.5        0.80695497 0.48246783        nan\n",
      "        nan        nan 0.5        0.79524515 0.79091797 0.5\n",
      " 0.5               nan        nan 0.81184464        nan 0.5\n",
      " 0.72119054 0.8139154  0.81546211        nan 0.5        0.79055473\n",
      " 0.75702717 0.77661426 0.68993872 0.5        0.68790107        nan\n",
      " 0.5818282         nan 0.5        0.5        0.78337161 0.59915259\n",
      " 0.80986161 0.79986273 0.5        0.5        0.78905404 0.5\n",
      "        nan        nan        nan 0.5        0.5               nan\n",
      " 0.59224296        nan        nan 0.78870353 0.5904793  0.81669038\n",
      " 0.78389852 0.78677268 0.69533998        nan        nan        nan\n",
      " 0.5        0.62752273        nan 0.67892836 0.8069976         nan\n",
      " 0.79197735 0.5               nan 0.5               nan        nan\n",
      " 0.5        0.5        0.68891842 0.7862546  0.5        0.54054903\n",
      " 0.62674108 0.5        0.59262963        nan        nan        nan\n",
      " 0.59943425 0.5        0.5               nan        nan 0.57441481\n",
      " 0.5        0.78476219 0.5        0.77828247        nan 0.81360692\n",
      " 0.55479779        nan        nan        nan 0.74717423 0.80085721\n",
      " 0.5        0.5        0.5               nan 0.80875801        nan\n",
      " 0.79748567        nan        nan 0.5               nan 0.5\n",
      " 0.78194055 0.5        0.57168593        nan 0.69799053 0.804678\n",
      " 0.79152638 0.59487407        nan 0.8161464  0.5        0.73973787\n",
      " 0.52573353 0.5        0.79160392 0.66986977 0.5               nan\n",
      " 0.79263772 0.5        0.80922588 0.81013643        nan        nan\n",
      " 0.78903036        nan 0.80862567 0.5        0.59679704 0.5\n",
      " 0.5               nan        nan        nan 0.5               nan\n",
      " 0.81627709        nan 0.78292659        nan        nan 0.74627808\n",
      " 0.6935371  0.80689517 0.61518407        nan 0.5        0.5\n",
      " 0.73487562        nan 0.6665129  0.79722614 0.5        0.5\n",
      "        nan        nan        nan        nan 0.79319818 0.5\n",
      " 0.45015394 0.76893042 0.8175663  0.73362081 0.64733432 0.76937701\n",
      " 0.59484148 0.78385588        nan 0.79415532        nan 0.78767356\n",
      " 0.5        0.5        0.60027852 0.81299771        nan 0.5\n",
      " 0.5        0.5               nan 0.5        0.81089457        nan\n",
      " 0.5        0.5        0.59104296 0.6331596         nan 0.5\n",
      "        nan 0.54109037        nan 0.74692491 0.8054171  0.5\n",
      " 0.59826963 0.81113129 0.72891633 0.5               nan        nan\n",
      "        nan        nan 0.5        0.5        0.81357155 0.80844158\n",
      " 0.78964892 0.5               nan 0.81104564 0.78925773        nan\n",
      " 0.75104536 0.5        0.72594629 0.57077037 0.80839556        nan\n",
      " 0.5        0.5        0.5               nan        nan 0.5\n",
      " 0.60522601        nan 0.80296422 0.76055259        nan 0.5\n",
      " 0.61631708 0.58770667 0.69837258 0.80323035        nan        nan\n",
      " 0.80737834 0.58058037 0.61089196 0.5        0.81100712        nan\n",
      " 0.5        0.5        0.69227169 0.61163177 0.79310961        nan\n",
      " 0.81408009        nan 0.5               nan 0.81638806 0.5\n",
      " 0.5        0.59260148        nan 0.80978166 0.59175111 0.53635354\n",
      " 0.80135327 0.80450359        nan 0.59637333        nan 0.81108897\n",
      " 0.5        0.63884846 0.59004618 0.68307567 0.81657256 0.78987181\n",
      "        nan 0.5               nan 0.5        0.67880228        nan\n",
      " 0.5               nan 0.5        0.57441481 0.62649461 0.81316646\n",
      " 0.80760411        nan 0.5        0.73104191 0.5               nan\n",
      " 0.65421918        nan 0.5        0.8192771  0.5        0.5\n",
      " 0.68413141 0.51926126        nan        nan        nan        nan\n",
      "        nan 0.5        0.5        0.66459897 0.5               nan\n",
      " 0.5        0.5        0.68924878        nan 0.5               nan\n",
      " 0.5        0.63252418 0.5        0.5        0.4670948  0.59410667\n",
      " 0.7963938         nan 0.5        0.58149974 0.80196596 0.7802071\n",
      "        nan        nan        nan 0.5        0.79915366 0.57472148\n",
      " 0.81767977 0.61754153 0.68825249 0.5               nan 0.6935371\n",
      "        nan 0.59214222        nan 0.5        0.64567872 0.76630086\n",
      " 0.5        0.52573353 0.67914901 0.7853155  0.75900753        nan\n",
      " 0.60367876 0.80893623        nan 0.5               nan        nan\n",
      " 0.5        0.5        0.5        0.81020104        nan 0.80337451\n",
      " 0.81082216        nan 0.60063407 0.55461437 0.5        0.56411111\n",
      " 0.80255062 0.54081126 0.52598519 0.5               nan 0.50527407\n",
      " 0.5        0.7772804  0.62243955        nan 0.80722321 0.5\n",
      " 0.81613523 0.76113411        nan 0.5               nan 0.5\n",
      " 0.5               nan        nan 0.5               nan 0.5\n",
      " 0.8043329  0.78054862 0.59481481 0.81234504 0.65615315 0.54645016\n",
      " 0.54044444 0.68875157        nan        nan 0.81168884 0.80565403\n",
      " 0.5        0.7194865  0.5               nan 0.5               nan\n",
      "        nan        nan        nan 0.63272139 0.78537623        nan\n",
      "        nan 0.5        0.5               nan 0.78964851        nan\n",
      "        nan 0.80209765 0.5        0.69144302 0.8149998         nan\n",
      " 0.56529326 0.6331596         nan 0.5        0.57408593 0.81038791\n",
      " 0.81117986 0.70146659 0.56652444 0.72454786 0.72385202 0.70273487\n",
      "        nan 0.81632349 0.5        0.5        0.79997022        nan\n",
      " 0.5615913  0.5               nan        nan 0.5        0.5\n",
      " 0.61881052        nan 0.5        0.5               nan 0.5\n",
      "        nan        nan 0.5               nan 0.65421918        nan\n",
      "        nan 0.5        0.55036854 0.58331259 0.5        0.79389455\n",
      "        nan 0.5        0.5        0.5        0.5               nan\n",
      " 0.7465273  0.5               nan 0.70493362        nan 0.691244\n",
      "        nan        nan 0.5        0.6900096  0.79333007 0.5\n",
      " 0.5               nan        nan 0.5        0.5        0.56457689\n",
      "        nan 0.5        0.5               nan        nan 0.57396063\n",
      " 0.55209598 0.55455556        nan        nan 0.81115196        nan\n",
      " 0.5               nan 0.57364784        nan 0.80274545 0.73621436\n",
      " 0.79465891 0.5        0.78127694        nan 0.38878098 0.8021488\n",
      " 0.80729024        nan 0.66664659 0.59216    0.81556648        nan\n",
      " 0.79949722 0.5        0.81442992 0.80565403 0.5        0.69065633\n",
      "        nan        nan 0.5        0.59375852 0.5               nan\n",
      "        nan 0.8003185  0.81170935 0.81507001 0.6318153         nan\n",
      " 0.80526233 0.5        0.80434457 0.8093509         nan 0.5\n",
      " 0.78275604        nan        nan 0.5               nan 0.81310519\n",
      "        nan        nan 0.8069286         nan        nan 0.5\n",
      "        nan 0.81517838 0.5               nan 0.5               nan\n",
      " 0.5        0.52932741 0.5        0.81660405        nan        nan\n",
      "        nan 0.5        0.57567704 0.5        0.5        0.76204384\n",
      " 0.67925877        nan 0.5               nan        nan        nan\n",
      " 0.5               nan 0.80701712 0.64402336        nan 0.62350277\n",
      " 0.5               nan        nan        nan 0.5               nan\n",
      "        nan 0.58141333 0.79569946 0.80382637 0.62534642        nan\n",
      " 0.5               nan        nan 0.78463832 0.50527407        nan\n",
      "        nan 0.81192807 0.7918594  0.5        0.5        0.57493926\n",
      " 0.52198114        nan 0.5        0.78816377 0.5        0.65421918\n",
      "        nan 0.58753341        nan 0.62595054 0.5        0.79667335\n",
      " 0.79868508        nan        nan 0.73135117        nan 0.5\n",
      "        nan 0.67099249 0.5        0.73217682 0.5        0.54733333\n",
      " 0.80866257 0.81325735 0.5        0.61981872 0.5        0.81163732\n",
      "        nan        nan        nan 0.59284148        nan 0.59272\n",
      " 0.5               nan 0.80652756 0.80112495 0.5               nan\n",
      " 0.5        0.79462232 0.5        0.62013541        nan 0.67605906\n",
      "        nan 0.81463135 0.5        0.59638519        nan        nan\n",
      " 0.799799          nan 0.5        0.79020588 0.5        0.54833333\n",
      "        nan 0.79889043        nan        nan 0.74591837 0.80066408\n",
      "        nan 0.80614718 0.5        0.57119277 0.57125067        nan\n",
      " 0.5               nan 0.59630815 0.5        0.76459707 0.5\n",
      "        nan        nan        nan 0.4831483  0.80346499 0.81469483\n",
      " 0.79747994 0.5               nan 0.5        0.68954574 0.72955104\n",
      " 0.5        0.5926637  0.80337451 0.5               nan 0.81163998\n",
      "        nan 0.80614718        nan 0.63344555 0.5        0.5\n",
      " 0.5               nan 0.79533858 0.5        0.5        0.73487562\n",
      " 0.81137551 0.56687407        nan 0.69899299 0.5        0.66137934\n",
      " 0.5               nan 0.80169626 0.63196899 0.64095791 0.5\n",
      " 0.5               nan 0.7986563  0.5        0.6856316  0.5\n",
      " 0.59754815        nan 0.51595718 0.64678986 0.5        0.69287265\n",
      "        nan 0.79899364 0.5               nan]\n",
      "  warnings.warn(\n",
      "c:\\Users\\Usuario\\anaconda3\\envs\\nba\\lib\\site-packages\\sklearn\\model_selection\\_search.py:984: RuntimeWarning: invalid value encountered in cast\n",
      "  results[\"rank_%s\" % key_name] = np.asarray(\n"
     ]
    },
    {
     "name": "stdout",
     "output_type": "stream",
     "text": [
      "Total time:  71  minutes\n"
     ]
    }
   ],
   "source": [
    "instantiate_best_model(GradientBoostingClassifier(random_state=42), X, y, 'roc_auc', scaler=True, random_search=True)"
   ]
  },
  {
   "cell_type": "code",
   "execution_count": 60,
   "metadata": {},
   "outputs": [
    {
     "name": "stdout",
     "output_type": "stream",
     "text": [
      "Accuracy: 55.7%\n",
      "Precision: 55.7%\n",
      "Recall: 100.0%\n",
      "F1: 71.5%\n",
      "AUC: 50.0%\n"
     ]
    }
   ],
   "source": [
    "gradient_instance = pickle.load(open('models/GradientBoostingClassifier_instance.pkl', 'rb'))\n",
    "gradient_instance.model_metrics()\n"
   ]
  },
  {
   "attachments": {},
   "cell_type": "markdown",
   "metadata": {},
   "source": [
    "### Unscaled data"
   ]
  },
  {
   "attachments": {},
   "cell_type": "markdown",
   "metadata": {},
   "source": [
    "Best logistic regression model"
   ]
  },
  {
   "cell_type": "code",
   "execution_count": 61,
   "metadata": {},
   "outputs": [],
   "source": [
    "instantiate_best_model(LogisticRegression(random_state=42), X, y, 'roc_auc', scaler=False)"
   ]
  },
  {
   "cell_type": "code",
   "execution_count": 62,
   "metadata": {},
   "outputs": [
    {
     "name": "stdout",
     "output_type": "stream",
     "text": [
      "Accuracy: 75.4%\n",
      "Precision: 76.2%\n",
      "Recall: 81.0%\n",
      "F1: 78.5%\n",
      "AUC: 74.7%\n"
     ]
    }
   ],
   "source": [
    "LR_instance_unscaled = pickle.load(open('models/LogisticRegression_unscaled_instance.pkl', 'rb'))\n",
    "LR_instance_unscaled.model_metrics()"
   ]
  },
  {
   "attachments": {},
   "cell_type": "markdown",
   "metadata": {},
   "source": [
    "Best svm model"
   ]
  },
  {
   "cell_type": "code",
   "execution_count": 63,
   "metadata": {},
   "outputs": [],
   "source": [
    "instantiate_best_model(LinearSVC(random_state=42), X, y, 'roc_auc', scaler=False)"
   ]
  },
  {
   "cell_type": "code",
   "execution_count": 64,
   "metadata": {},
   "outputs": [
    {
     "name": "stdout",
     "output_type": "stream",
     "text": [
      "Accuracy: 76.4%\n",
      "Precision: 77.5%\n",
      "Recall: 81.0%\n",
      "F1: 79.2%\n",
      "AUC: 75.8%\n"
     ]
    }
   ],
   "source": [
    "svm_instance_unscaled = pickle.load(open('models/LinearSVC_unscaled_instance.pkl', 'rb'))\n",
    "svm_instance_unscaled.model_metrics()"
   ]
  },
  {
   "attachments": {},
   "cell_type": "markdown",
   "metadata": {},
   "source": [
    "Best random forest model"
   ]
  },
  {
   "cell_type": "code",
   "execution_count": 65,
   "metadata": {},
   "outputs": [],
   "source": [
    "instantiate_best_model(RandomForestClassifier(random_state=42), X, y, 'roc_auc', scaler=False, random_search=True)"
   ]
  },
  {
   "cell_type": "code",
   "execution_count": 66,
   "metadata": {},
   "outputs": [
    {
     "name": "stdout",
     "output_type": "stream",
     "text": [
      "Accuracy: 100.0%\n",
      "Precision: 100.0%\n",
      "Recall: 100.0%\n",
      "F1: 100.0%\n",
      "AUC: 100.0%\n"
     ]
    }
   ],
   "source": [
    "forest_instance_unscaled = pickle.load(open('models/RandomForestClassifier_unscaled_instance.pkl', 'rb'))\n",
    "forest_instance_unscaled.model_metrics()"
   ]
  },
  {
   "attachments": {},
   "cell_type": "markdown",
   "metadata": {},
   "source": [
    "Best XGBoost model"
   ]
  },
  {
   "cell_type": "code",
   "execution_count": 67,
   "metadata": {},
   "outputs": [
    {
     "name": "stdout",
     "output_type": "stream",
     "text": [
      "Fitting 3 folds for each of 1000 candidates, totalling 3000 fits\n"
     ]
    },
    {
     "ename": "KeyboardInterrupt",
     "evalue": "",
     "output_type": "error",
     "traceback": [
      "\u001b[1;31m---------------------------------------------------------------------------\u001b[0m",
      "\u001b[1;31mKeyboardInterrupt\u001b[0m                         Traceback (most recent call last)",
      "Cell \u001b[1;32mIn[67], line 1\u001b[0m\n\u001b[1;32m----> 1\u001b[0m instantiate_best_model(GradientBoostingClassifier(random_state\u001b[39m=\u001b[39;49m\u001b[39m42\u001b[39;49m), X, y, \u001b[39m'\u001b[39;49m\u001b[39mroc_auc\u001b[39;49m\u001b[39m'\u001b[39;49m, scaler\u001b[39m=\u001b[39;49m\u001b[39mFalse\u001b[39;49;00m, random_search\u001b[39m=\u001b[39;49m\u001b[39mTrue\u001b[39;49;00m)\n",
      "Cell \u001b[1;32mIn[50], line 49\u001b[0m, in \u001b[0;36minstantiate_best_model\u001b[1;34m(model, X, y, scoring, scaler, random_search)\u001b[0m\n\u001b[0;32m     47\u001b[0m \u001b[39m# Using the grid_search function to find the best parameters for the model\u001b[39;00m\n\u001b[0;32m     48\u001b[0m \u001b[39mif\u001b[39;00m random_search:\n\u001b[1;32m---> 49\u001b[0m         best_model, \u001b[39m*\u001b[39m_  \u001b[39m=\u001b[39m clf_instance\u001b[39m.\u001b[39;49mrandom_search(params, scoring)\n\u001b[0;32m     50\u001b[0m \u001b[39melse\u001b[39;00m:\n\u001b[0;32m     51\u001b[0m         best_model, \u001b[39m*\u001b[39m_  \u001b[39m=\u001b[39m clf_instance\u001b[39m.\u001b[39mgrid_search(params, scoring) \u001b[39m# This also fits the model instance with a variety of parameters against the dataset\u001b[39;00m\n",
      "Cell \u001b[1;32mIn[49], line 93\u001b[0m, in \u001b[0;36mModelDevelopment.random_search\u001b[1;34m(self, params_range, scoring)\u001b[0m\n\u001b[0;32m     91\u001b[0m \u001b[39m#trying to fit the model with the parameters\u001b[39;00m\n\u001b[0;32m     92\u001b[0m \u001b[39mtry\u001b[39;00m:\n\u001b[1;32m---> 93\u001b[0m     grid\u001b[39m.\u001b[39;49mfit(\u001b[39mself\u001b[39;49m\u001b[39m.\u001b[39;49mX, \u001b[39mself\u001b[39;49m\u001b[39m.\u001b[39;49my)\n\u001b[0;32m     94\u001b[0m \u001b[39mexcept\u001b[39;00m \u001b[39mException\u001b[39;00m \u001b[39mas\u001b[39;00m e:\n\u001b[0;32m     95\u001b[0m     \u001b[39mprint\u001b[39m(\u001b[39m\"\u001b[39m\u001b[39mAn error occurred:\u001b[39m\u001b[39m\"\u001b[39m, e)\n",
      "File \u001b[1;32mc:\\Users\\Usuario\\anaconda3\\envs\\nba\\lib\\site-packages\\sklearn\\model_selection\\_search.py:891\u001b[0m, in \u001b[0;36mBaseSearchCV.fit\u001b[1;34m(self, X, y, groups, **fit_params)\u001b[0m\n\u001b[0;32m    885\u001b[0m     results \u001b[39m=\u001b[39m \u001b[39mself\u001b[39m\u001b[39m.\u001b[39m_format_results(\n\u001b[0;32m    886\u001b[0m         all_candidate_params, n_splits, all_out, all_more_results\n\u001b[0;32m    887\u001b[0m     )\n\u001b[0;32m    889\u001b[0m     \u001b[39mreturn\u001b[39;00m results\n\u001b[1;32m--> 891\u001b[0m \u001b[39mself\u001b[39;49m\u001b[39m.\u001b[39;49m_run_search(evaluate_candidates)\n\u001b[0;32m    893\u001b[0m \u001b[39m# multimetric is determined here because in the case of a callable\u001b[39;00m\n\u001b[0;32m    894\u001b[0m \u001b[39m# self.scoring the return type is only known after calling\u001b[39;00m\n\u001b[0;32m    895\u001b[0m first_test_score \u001b[39m=\u001b[39m all_out[\u001b[39m0\u001b[39m][\u001b[39m\"\u001b[39m\u001b[39mtest_scores\u001b[39m\u001b[39m\"\u001b[39m]\n",
      "File \u001b[1;32mc:\\Users\\Usuario\\anaconda3\\envs\\nba\\lib\\site-packages\\sklearn\\model_selection\\_search.py:1766\u001b[0m, in \u001b[0;36mRandomizedSearchCV._run_search\u001b[1;34m(self, evaluate_candidates)\u001b[0m\n\u001b[0;32m   1764\u001b[0m \u001b[39mdef\u001b[39;00m \u001b[39m_run_search\u001b[39m(\u001b[39mself\u001b[39m, evaluate_candidates):\n\u001b[0;32m   1765\u001b[0m \u001b[39m    \u001b[39m\u001b[39m\"\"\"Search n_iter candidates from param_distributions\"\"\"\u001b[39;00m\n\u001b[1;32m-> 1766\u001b[0m     evaluate_candidates(\n\u001b[0;32m   1767\u001b[0m         ParameterSampler(\n\u001b[0;32m   1768\u001b[0m             \u001b[39mself\u001b[39;49m\u001b[39m.\u001b[39;49mparam_distributions, \u001b[39mself\u001b[39;49m\u001b[39m.\u001b[39;49mn_iter, random_state\u001b[39m=\u001b[39;49m\u001b[39mself\u001b[39;49m\u001b[39m.\u001b[39;49mrandom_state\n\u001b[0;32m   1769\u001b[0m         )\n\u001b[0;32m   1770\u001b[0m     )\n",
      "File \u001b[1;32mc:\\Users\\Usuario\\anaconda3\\envs\\nba\\lib\\site-packages\\sklearn\\model_selection\\_search.py:838\u001b[0m, in \u001b[0;36mBaseSearchCV.fit.<locals>.evaluate_candidates\u001b[1;34m(candidate_params, cv, more_results)\u001b[0m\n\u001b[0;32m    830\u001b[0m \u001b[39mif\u001b[39;00m \u001b[39mself\u001b[39m\u001b[39m.\u001b[39mverbose \u001b[39m>\u001b[39m \u001b[39m0\u001b[39m:\n\u001b[0;32m    831\u001b[0m     \u001b[39mprint\u001b[39m(\n\u001b[0;32m    832\u001b[0m         \u001b[39m\"\u001b[39m\u001b[39mFitting \u001b[39m\u001b[39m{0}\u001b[39;00m\u001b[39m folds for each of \u001b[39m\u001b[39m{1}\u001b[39;00m\u001b[39m candidates,\u001b[39m\u001b[39m\"\u001b[39m\n\u001b[0;32m    833\u001b[0m         \u001b[39m\"\u001b[39m\u001b[39m totalling \u001b[39m\u001b[39m{2}\u001b[39;00m\u001b[39m fits\u001b[39m\u001b[39m\"\u001b[39m\u001b[39m.\u001b[39mformat(\n\u001b[0;32m    834\u001b[0m             n_splits, n_candidates, n_candidates \u001b[39m*\u001b[39m n_splits\n\u001b[0;32m    835\u001b[0m         )\n\u001b[0;32m    836\u001b[0m     )\n\u001b[1;32m--> 838\u001b[0m out \u001b[39m=\u001b[39m parallel(\n\u001b[0;32m    839\u001b[0m     delayed(_fit_and_score)(\n\u001b[0;32m    840\u001b[0m         clone(base_estimator),\n\u001b[0;32m    841\u001b[0m         X,\n\u001b[0;32m    842\u001b[0m         y,\n\u001b[0;32m    843\u001b[0m         train\u001b[39m=\u001b[39;49mtrain,\n\u001b[0;32m    844\u001b[0m         test\u001b[39m=\u001b[39;49mtest,\n\u001b[0;32m    845\u001b[0m         parameters\u001b[39m=\u001b[39;49mparameters,\n\u001b[0;32m    846\u001b[0m         split_progress\u001b[39m=\u001b[39;49m(split_idx, n_splits),\n\u001b[0;32m    847\u001b[0m         candidate_progress\u001b[39m=\u001b[39;49m(cand_idx, n_candidates),\n\u001b[0;32m    848\u001b[0m         \u001b[39m*\u001b[39;49m\u001b[39m*\u001b[39;49mfit_and_score_kwargs,\n\u001b[0;32m    849\u001b[0m     )\n\u001b[0;32m    850\u001b[0m     \u001b[39mfor\u001b[39;49;00m (cand_idx, parameters), (split_idx, (train, test)) \u001b[39min\u001b[39;49;00m product(\n\u001b[0;32m    851\u001b[0m         \u001b[39menumerate\u001b[39;49m(candidate_params), \u001b[39menumerate\u001b[39;49m(cv\u001b[39m.\u001b[39;49msplit(X, y, groups))\n\u001b[0;32m    852\u001b[0m     )\n\u001b[0;32m    853\u001b[0m )\n\u001b[0;32m    855\u001b[0m \u001b[39mif\u001b[39;00m \u001b[39mlen\u001b[39m(out) \u001b[39m<\u001b[39m \u001b[39m1\u001b[39m:\n\u001b[0;32m    856\u001b[0m     \u001b[39mraise\u001b[39;00m \u001b[39mValueError\u001b[39;00m(\n\u001b[0;32m    857\u001b[0m         \u001b[39m\"\u001b[39m\u001b[39mNo fits were performed. \u001b[39m\u001b[39m\"\u001b[39m\n\u001b[0;32m    858\u001b[0m         \u001b[39m\"\u001b[39m\u001b[39mWas the CV iterator empty? \u001b[39m\u001b[39m\"\u001b[39m\n\u001b[0;32m    859\u001b[0m         \u001b[39m\"\u001b[39m\u001b[39mWere there no candidates?\u001b[39m\u001b[39m\"\u001b[39m\n\u001b[0;32m    860\u001b[0m     )\n",
      "File \u001b[1;32mc:\\Users\\Usuario\\anaconda3\\envs\\nba\\lib\\site-packages\\joblib\\parallel.py:1056\u001b[0m, in \u001b[0;36mParallel.__call__\u001b[1;34m(self, iterable)\u001b[0m\n\u001b[0;32m   1053\u001b[0m     \u001b[39mself\u001b[39m\u001b[39m.\u001b[39m_iterating \u001b[39m=\u001b[39m \u001b[39mFalse\u001b[39;00m\n\u001b[0;32m   1055\u001b[0m \u001b[39mwith\u001b[39;00m \u001b[39mself\u001b[39m\u001b[39m.\u001b[39m_backend\u001b[39m.\u001b[39mretrieval_context():\n\u001b[1;32m-> 1056\u001b[0m     \u001b[39mself\u001b[39;49m\u001b[39m.\u001b[39;49mretrieve()\n\u001b[0;32m   1057\u001b[0m \u001b[39m# Make sure that we get a last message telling us we are done\u001b[39;00m\n\u001b[0;32m   1058\u001b[0m elapsed_time \u001b[39m=\u001b[39m time\u001b[39m.\u001b[39mtime() \u001b[39m-\u001b[39m \u001b[39mself\u001b[39m\u001b[39m.\u001b[39m_start_time\n",
      "File \u001b[1;32mc:\\Users\\Usuario\\anaconda3\\envs\\nba\\lib\\site-packages\\joblib\\parallel.py:935\u001b[0m, in \u001b[0;36mParallel.retrieve\u001b[1;34m(self)\u001b[0m\n\u001b[0;32m    933\u001b[0m \u001b[39mtry\u001b[39;00m:\n\u001b[0;32m    934\u001b[0m     \u001b[39mif\u001b[39;00m \u001b[39mgetattr\u001b[39m(\u001b[39mself\u001b[39m\u001b[39m.\u001b[39m_backend, \u001b[39m'\u001b[39m\u001b[39msupports_timeout\u001b[39m\u001b[39m'\u001b[39m, \u001b[39mFalse\u001b[39;00m):\n\u001b[1;32m--> 935\u001b[0m         \u001b[39mself\u001b[39m\u001b[39m.\u001b[39m_output\u001b[39m.\u001b[39mextend(job\u001b[39m.\u001b[39;49mget(timeout\u001b[39m=\u001b[39;49m\u001b[39mself\u001b[39;49m\u001b[39m.\u001b[39;49mtimeout))\n\u001b[0;32m    936\u001b[0m     \u001b[39melse\u001b[39;00m:\n\u001b[0;32m    937\u001b[0m         \u001b[39mself\u001b[39m\u001b[39m.\u001b[39m_output\u001b[39m.\u001b[39mextend(job\u001b[39m.\u001b[39mget())\n",
      "File \u001b[1;32mc:\\Users\\Usuario\\anaconda3\\envs\\nba\\lib\\site-packages\\joblib\\_parallel_backends.py:542\u001b[0m, in \u001b[0;36mLokyBackend.wrap_future_result\u001b[1;34m(future, timeout)\u001b[0m\n\u001b[0;32m    539\u001b[0m \u001b[39m\u001b[39m\u001b[39m\"\"\"Wrapper for Future.result to implement the same behaviour as\u001b[39;00m\n\u001b[0;32m    540\u001b[0m \u001b[39mAsyncResults.get from multiprocessing.\"\"\"\u001b[39;00m\n\u001b[0;32m    541\u001b[0m \u001b[39mtry\u001b[39;00m:\n\u001b[1;32m--> 542\u001b[0m     \u001b[39mreturn\u001b[39;00m future\u001b[39m.\u001b[39;49mresult(timeout\u001b[39m=\u001b[39;49mtimeout)\n\u001b[0;32m    543\u001b[0m \u001b[39mexcept\u001b[39;00m CfTimeoutError \u001b[39mas\u001b[39;00m e:\n\u001b[0;32m    544\u001b[0m     \u001b[39mraise\u001b[39;00m \u001b[39mTimeoutError\u001b[39;00m \u001b[39mfrom\u001b[39;00m \u001b[39me\u001b[39;00m\n",
      "File \u001b[1;32mc:\\Users\\Usuario\\anaconda3\\envs\\nba\\lib\\concurrent\\futures\\_base.py:441\u001b[0m, in \u001b[0;36mFuture.result\u001b[1;34m(self, timeout)\u001b[0m\n\u001b[0;32m    438\u001b[0m \u001b[39melif\u001b[39;00m \u001b[39mself\u001b[39m\u001b[39m.\u001b[39m_state \u001b[39m==\u001b[39m FINISHED:\n\u001b[0;32m    439\u001b[0m     \u001b[39mreturn\u001b[39;00m \u001b[39mself\u001b[39m\u001b[39m.\u001b[39m__get_result()\n\u001b[1;32m--> 441\u001b[0m \u001b[39mself\u001b[39;49m\u001b[39m.\u001b[39;49m_condition\u001b[39m.\u001b[39;49mwait(timeout)\n\u001b[0;32m    443\u001b[0m \u001b[39mif\u001b[39;00m \u001b[39mself\u001b[39m\u001b[39m.\u001b[39m_state \u001b[39min\u001b[39;00m [CANCELLED, CANCELLED_AND_NOTIFIED]:\n\u001b[0;32m    444\u001b[0m     \u001b[39mraise\u001b[39;00m CancelledError()\n",
      "File \u001b[1;32mc:\\Users\\Usuario\\anaconda3\\envs\\nba\\lib\\threading.py:312\u001b[0m, in \u001b[0;36mCondition.wait\u001b[1;34m(self, timeout)\u001b[0m\n\u001b[0;32m    310\u001b[0m \u001b[39mtry\u001b[39;00m:    \u001b[39m# restore state no matter what (e.g., KeyboardInterrupt)\u001b[39;00m\n\u001b[0;32m    311\u001b[0m     \u001b[39mif\u001b[39;00m timeout \u001b[39mis\u001b[39;00m \u001b[39mNone\u001b[39;00m:\n\u001b[1;32m--> 312\u001b[0m         waiter\u001b[39m.\u001b[39;49macquire()\n\u001b[0;32m    313\u001b[0m         gotit \u001b[39m=\u001b[39m \u001b[39mTrue\u001b[39;00m\n\u001b[0;32m    314\u001b[0m     \u001b[39melse\u001b[39;00m:\n",
      "\u001b[1;31mKeyboardInterrupt\u001b[0m: "
     ]
    }
   ],
   "source": [
    "instantiate_best_model(GradientBoostingClassifier(random_state=42), X, y, 'roc_auc', scaler=False, random_search=True)"
   ]
  },
  {
   "cell_type": "code",
   "execution_count": null,
   "metadata": {},
   "outputs": [],
   "source": [
    "gradient_instance_unscaled = pickle.load(open('models/GradientBoostingClassifier_unscaled_instance.pkl', 'rb'))\n",
    "gradient_instance_unscaled.model_metrics()"
   ]
  },
  {
   "cell_type": "code",
   "execution_count": null,
   "metadata": {},
   "outputs": [],
   "source": []
  }
 ],
 "metadata": {
  "kernelspec": {
   "display_name": "base",
   "language": "python",
   "name": "python3"
  },
  "language_info": {
   "codemirror_mode": {
    "name": "ipython",
    "version": 3
   },
   "file_extension": ".py",
   "mimetype": "text/x-python",
   "name": "python",
   "nbconvert_exporter": "python",
   "pygments_lexer": "ipython3",
   "version": "3.9.16"
  },
  "orig_nbformat": 4,
  "vscode": {
   "interpreter": {
    "hash": "2af2c5b7bb1193408b7423a70bbd1c8b2e4337f6ccafc2523e8be7b83a1592e6"
   }
  }
 },
 "nbformat": 4,
 "nbformat_minor": 2
}
