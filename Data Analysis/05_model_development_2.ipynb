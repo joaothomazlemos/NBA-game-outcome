{
 "cells": [
  {
   "attachments": {},
   "cell_type": "markdown",
   "metadata": {},
   "source": [
    "# Model development with fewer features"
   ]
  },
  {
   "attachments": {},
   "cell_type": "markdown",
   "metadata": {},
   "source": [
    "In this notebook, we are going to get the models best params with our data optimized with less features. For this, we need to load our base dataset (data_base.pkl) and the features from folder best_features."
   ]
  },
  {
   "cell_type": "code",
   "execution_count": 1,
   "metadata": {},
   "outputs": [],
   "source": [
    "#importing necessary libraries\n",
    "#custom classes\n",
    "from custom_class.customClass import ModelParams, ModelDevelopment\n",
    "import pickle\n",
    "import pandas as pd\n",
    "import os\n",
    "\n",
    "#importing our four models\n",
    "from sklearn.linear_model import LogisticRegression\n",
    "from sklearn.ensemble import RandomForestClassifier\n",
    "from sklearn.ensemble import GradientBoostingClassifier\n",
    "from sklearn.svm import LinearSVC\n"
   ]
  },
  {
   "attachments": {},
   "cell_type": "markdown",
   "metadata": {},
   "source": [
    "Loading the 100 best features discovered by the logistic regression model"
   ]
  },
  {
   "cell_type": "code",
   "execution_count": 2,
   "metadata": {},
   "outputs": [
    {
     "data": {
      "text/html": [
       "<div>\n",
       "<style scoped>\n",
       "    .dataframe tbody tr th:only-of-type {\n",
       "        vertical-align: middle;\n",
       "    }\n",
       "\n",
       "    .dataframe tbody tr th {\n",
       "        vertical-align: top;\n",
       "    }\n",
       "\n",
       "    .dataframe thead th {\n",
       "        text-align: right;\n",
       "    }\n",
       "</style>\n",
       "<table border=\"1\" class=\"dataframe\">\n",
       "  <thead>\n",
       "    <tr style=\"text-align: right;\">\n",
       "      <th></th>\n",
       "      <th>0</th>\n",
       "    </tr>\n",
       "  </thead>\n",
       "  <tbody>\n",
       "    <tr>\n",
       "      <th>0</th>\n",
       "      <td>home_rolling_fg</td>\n",
       "    </tr>\n",
       "    <tr>\n",
       "      <th>1</th>\n",
       "      <td>home_rolling_fg%</td>\n",
       "    </tr>\n",
       "    <tr>\n",
       "      <th>2</th>\n",
       "      <td>home_rolling_3p</td>\n",
       "    </tr>\n",
       "    <tr>\n",
       "      <th>3</th>\n",
       "      <td>home_rolling_3p%</td>\n",
       "    </tr>\n",
       "    <tr>\n",
       "      <th>4</th>\n",
       "      <td>home_rolling_ft</td>\n",
       "    </tr>\n",
       "    <tr>\n",
       "      <th>...</th>\n",
       "      <td>...</td>\n",
       "    </tr>\n",
       "    <tr>\n",
       "      <th>95</th>\n",
       "      <td>away_rolling_opponent_+/-_max</td>\n",
       "    </tr>\n",
       "    <tr>\n",
       "      <th>96</th>\n",
       "      <td>away_rolling_opponent_efg%_max</td>\n",
       "    </tr>\n",
       "    <tr>\n",
       "      <th>97</th>\n",
       "      <td>away_rolling_opponent_ast%_max</td>\n",
       "    </tr>\n",
       "    <tr>\n",
       "      <th>98</th>\n",
       "      <td>away_rolling_opponent_drtg_max</td>\n",
       "    </tr>\n",
       "    <tr>\n",
       "      <th>99</th>\n",
       "      <td>away_rolling_opponent_Total</td>\n",
       "    </tr>\n",
       "  </tbody>\n",
       "</table>\n",
       "<p>100 rows × 1 columns</p>\n",
       "</div>"
      ],
      "text/plain": [
       "                                 0\n",
       "0                  home_rolling_fg\n",
       "1                 home_rolling_fg%\n",
       "2                  home_rolling_3p\n",
       "3                 home_rolling_3p%\n",
       "4                  home_rolling_ft\n",
       "..                             ...\n",
       "95   away_rolling_opponent_+/-_max\n",
       "96  away_rolling_opponent_efg%_max\n",
       "97  away_rolling_opponent_ast%_max\n",
       "98  away_rolling_opponent_drtg_max\n",
       "99     away_rolling_opponent_Total\n",
       "\n",
       "[100 rows x 1 columns]"
      ]
     },
     "execution_count": 2,
     "metadata": {},
     "output_type": "execute_result"
    }
   ],
   "source": [
    "best_features = pd.read_csv('best_features/LogisticRegression_100.csv', sep=',')\n",
    "cols = best_features.values.reshape(-1).tolist()\n",
    "best_features "
   ]
  },
  {
   "attachments": {},
   "cell_type": "markdown",
   "metadata": {},
   "source": [
    "Loading our dataset and plugigng in our new columns"
   ]
  },
  {
   "cell_type": "code",
   "execution_count": 3,
   "metadata": {},
   "outputs": [
    {
     "name": "stdout",
     "output_type": "stream",
     "text": [
      "X shape:  (2027, 100)\n",
      "y shape:  (2027,)\n"
     ]
    },
    {
     "data": {
      "text/html": [
       "<div>\n",
       "<style scoped>\n",
       "    .dataframe tbody tr th:only-of-type {\n",
       "        vertical-align: middle;\n",
       "    }\n",
       "\n",
       "    .dataframe tbody tr th {\n",
       "        vertical-align: top;\n",
       "    }\n",
       "\n",
       "    .dataframe thead th {\n",
       "        text-align: right;\n",
       "    }\n",
       "</style>\n",
       "<table border=\"1\" class=\"dataframe\">\n",
       "  <thead>\n",
       "    <tr style=\"text-align: right;\">\n",
       "      <th></th>\n",
       "      <th>home_rolling_fg</th>\n",
       "      <th>home_rolling_fg%</th>\n",
       "      <th>home_rolling_3p</th>\n",
       "      <th>home_rolling_3p%</th>\n",
       "      <th>home_rolling_ft</th>\n",
       "      <th>home_rolling_ft%</th>\n",
       "      <th>home_rolling_trb</th>\n",
       "      <th>home_rolling_ast</th>\n",
       "      <th>home_rolling_pts</th>\n",
       "      <th>home_rolling_efg%</th>\n",
       "      <th>...</th>\n",
       "      <th>away_rolling_opponent_fta_max</th>\n",
       "      <th>away_rolling_opponent_stl_max</th>\n",
       "      <th>away_rolling_opponent_blk_max</th>\n",
       "      <th>away_rolling_opponent_tov_max</th>\n",
       "      <th>away_rolling_opponent_pf_max</th>\n",
       "      <th>away_rolling_opponent_+/-_max</th>\n",
       "      <th>away_rolling_opponent_efg%_max</th>\n",
       "      <th>away_rolling_opponent_ast%_max</th>\n",
       "      <th>away_rolling_opponent_drtg_max</th>\n",
       "      <th>away_rolling_opponent_Total</th>\n",
       "    </tr>\n",
       "  </thead>\n",
       "  <tbody>\n",
       "    <tr>\n",
       "      <th>0</th>\n",
       "      <td>44.000000</td>\n",
       "      <td>0.510333</td>\n",
       "      <td>12.166667</td>\n",
       "      <td>0.380833</td>\n",
       "      <td>17.666667</td>\n",
       "      <td>0.760667</td>\n",
       "      <td>45.833333</td>\n",
       "      <td>24.833333</td>\n",
       "      <td>117.833333</td>\n",
       "      <td>0.580833</td>\n",
       "      <td>...</td>\n",
       "      <td>11.000000</td>\n",
       "      <td>2.666667</td>\n",
       "      <td>2.333333</td>\n",
       "      <td>4.166667</td>\n",
       "      <td>4.666667</td>\n",
       "      <td>13.000000</td>\n",
       "      <td>1.000667</td>\n",
       "      <td>43.016667</td>\n",
       "      <td>121.000000</td>\n",
       "      <td>119.333333</td>\n",
       "    </tr>\n",
       "    <tr>\n",
       "      <th>1</th>\n",
       "      <td>45.166667</td>\n",
       "      <td>0.509833</td>\n",
       "      <td>16.666667</td>\n",
       "      <td>0.423667</td>\n",
       "      <td>15.833333</td>\n",
       "      <td>0.729833</td>\n",
       "      <td>48.333333</td>\n",
       "      <td>27.000000</td>\n",
       "      <td>122.833333</td>\n",
       "      <td>0.604500</td>\n",
       "      <td>...</td>\n",
       "      <td>5.833333</td>\n",
       "      <td>3.166667</td>\n",
       "      <td>1.666667</td>\n",
       "      <td>4.666667</td>\n",
       "      <td>4.666667</td>\n",
       "      <td>16.500000</td>\n",
       "      <td>0.877167</td>\n",
       "      <td>48.700000</td>\n",
       "      <td>109.500000</td>\n",
       "      <td>101.333333</td>\n",
       "    </tr>\n",
       "    <tr>\n",
       "      <th>2</th>\n",
       "      <td>44.666667</td>\n",
       "      <td>0.493333</td>\n",
       "      <td>13.166667</td>\n",
       "      <td>0.363000</td>\n",
       "      <td>19.333333</td>\n",
       "      <td>0.791667</td>\n",
       "      <td>46.333333</td>\n",
       "      <td>26.333333</td>\n",
       "      <td>121.833333</td>\n",
       "      <td>0.565500</td>\n",
       "      <td>...</td>\n",
       "      <td>8.166667</td>\n",
       "      <td>1.833333</td>\n",
       "      <td>1.333333</td>\n",
       "      <td>3.166667</td>\n",
       "      <td>4.166667</td>\n",
       "      <td>9.000000</td>\n",
       "      <td>0.865833</td>\n",
       "      <td>60.833333</td>\n",
       "      <td>113.166667</td>\n",
       "      <td>106.500000</td>\n",
       "    </tr>\n",
       "    <tr>\n",
       "      <th>3</th>\n",
       "      <td>41.333333</td>\n",
       "      <td>0.470833</td>\n",
       "      <td>14.000000</td>\n",
       "      <td>0.359167</td>\n",
       "      <td>19.000000</td>\n",
       "      <td>0.836333</td>\n",
       "      <td>44.833333</td>\n",
       "      <td>27.166667</td>\n",
       "      <td>115.666667</td>\n",
       "      <td>0.550000</td>\n",
       "      <td>...</td>\n",
       "      <td>10.166667</td>\n",
       "      <td>1.833333</td>\n",
       "      <td>2.333333</td>\n",
       "      <td>3.666667</td>\n",
       "      <td>3.666667</td>\n",
       "      <td>12.833333</td>\n",
       "      <td>0.932833</td>\n",
       "      <td>48.866667</td>\n",
       "      <td>123.166667</td>\n",
       "      <td>115.166667</td>\n",
       "    </tr>\n",
       "    <tr>\n",
       "      <th>4</th>\n",
       "      <td>44.000000</td>\n",
       "      <td>0.479167</td>\n",
       "      <td>12.500000</td>\n",
       "      <td>0.361667</td>\n",
       "      <td>19.833333</td>\n",
       "      <td>0.734000</td>\n",
       "      <td>44.333333</td>\n",
       "      <td>26.833333</td>\n",
       "      <td>120.333333</td>\n",
       "      <td>0.547500</td>\n",
       "      <td>...</td>\n",
       "      <td>7.333333</td>\n",
       "      <td>1.666667</td>\n",
       "      <td>1.833333</td>\n",
       "      <td>3.500000</td>\n",
       "      <td>4.166667</td>\n",
       "      <td>9.166667</td>\n",
       "      <td>1.129500</td>\n",
       "      <td>40.816667</td>\n",
       "      <td>119.833333</td>\n",
       "      <td>108.166667</td>\n",
       "    </tr>\n",
       "  </tbody>\n",
       "</table>\n",
       "<p>5 rows × 100 columns</p>\n",
       "</div>"
      ],
      "text/plain": [
       "   home_rolling_fg  home_rolling_fg%  home_rolling_3p  home_rolling_3p%  \\\n",
       "0        44.000000          0.510333        12.166667          0.380833   \n",
       "1        45.166667          0.509833        16.666667          0.423667   \n",
       "2        44.666667          0.493333        13.166667          0.363000   \n",
       "3        41.333333          0.470833        14.000000          0.359167   \n",
       "4        44.000000          0.479167        12.500000          0.361667   \n",
       "\n",
       "   home_rolling_ft  home_rolling_ft%  home_rolling_trb  home_rolling_ast  \\\n",
       "0        17.666667          0.760667         45.833333         24.833333   \n",
       "1        15.833333          0.729833         48.333333         27.000000   \n",
       "2        19.333333          0.791667         46.333333         26.333333   \n",
       "3        19.000000          0.836333         44.833333         27.166667   \n",
       "4        19.833333          0.734000         44.333333         26.833333   \n",
       "\n",
       "   home_rolling_pts  home_rolling_efg%  ...  away_rolling_opponent_fta_max  \\\n",
       "0        117.833333           0.580833  ...                      11.000000   \n",
       "1        122.833333           0.604500  ...                       5.833333   \n",
       "2        121.833333           0.565500  ...                       8.166667   \n",
       "3        115.666667           0.550000  ...                      10.166667   \n",
       "4        120.333333           0.547500  ...                       7.333333   \n",
       "\n",
       "   away_rolling_opponent_stl_max  away_rolling_opponent_blk_max  \\\n",
       "0                       2.666667                       2.333333   \n",
       "1                       3.166667                       1.666667   \n",
       "2                       1.833333                       1.333333   \n",
       "3                       1.833333                       2.333333   \n",
       "4                       1.666667                       1.833333   \n",
       "\n",
       "   away_rolling_opponent_tov_max  away_rolling_opponent_pf_max  \\\n",
       "0                       4.166667                      4.666667   \n",
       "1                       4.666667                      4.666667   \n",
       "2                       3.166667                      4.166667   \n",
       "3                       3.666667                      3.666667   \n",
       "4                       3.500000                      4.166667   \n",
       "\n",
       "   away_rolling_opponent_+/-_max  away_rolling_opponent_efg%_max  \\\n",
       "0                      13.000000                        1.000667   \n",
       "1                      16.500000                        0.877167   \n",
       "2                       9.000000                        0.865833   \n",
       "3                      12.833333                        0.932833   \n",
       "4                       9.166667                        1.129500   \n",
       "\n",
       "   away_rolling_opponent_ast%_max  away_rolling_opponent_drtg_max  \\\n",
       "0                       43.016667                      121.000000   \n",
       "1                       48.700000                      109.500000   \n",
       "2                       60.833333                      113.166667   \n",
       "3                       48.866667                      123.166667   \n",
       "4                       40.816667                      119.833333   \n",
       "\n",
       "   away_rolling_opponent_Total  \n",
       "0                   119.333333  \n",
       "1                   101.333333  \n",
       "2                   106.500000  \n",
       "3                   115.166667  \n",
       "4                   108.166667  \n",
       "\n",
       "[5 rows x 100 columns]"
      ]
     },
     "execution_count": 3,
     "metadata": {},
     "output_type": "execute_result"
    }
   ],
   "source": [
    "data_base = pickle.load(open('data_base.pkl', 'rb'))\n",
    "X = data_base[cols]\n",
    "y = data_base['home_win']\n",
    "\n",
    "#print the shape of the data\n",
    "print('X shape: ', X.shape)\n",
    "print('y shape: ', y.shape)\n",
    "X.head()"
   ]
  },
  {
   "attachments": {},
   "cell_type": "markdown",
   "metadata": {},
   "source": [
    "Allright! Now we are going to do exactly waht we did in notebook 03, but with a subset of features. Our goal is to see if improve the accuracy of logistic regression and linear svc models, and if stops our ensemble to overfit and still get good results.\n",
    "\n",
    "Now, we are going to save the model and their instances in a new folder, model_2. We also are going to include in the model name, the number of features it used to be created with that especif set of best parameters."
   ]
  },
  {
   "cell_type": "code",
   "execution_count": 4,
   "metadata": {},
   "outputs": [],
   "source": [
    "# reusing our model creation function with diferent paths\n",
    "#creating a function that uses the ModelParams class to instantiates the model, its parameters and its respective scaler. Then, it instantiates the ModelDevelopment class and \n",
    "#uses the grid_search function to find the best parameters for the model.\n",
    "def instantiate_best_model(model: object, X, y, scoring, path, n_features, scaler=True, random_search=False):\n",
    "        \"\"\" Info:\n",
    "                returns the model tunned with the best parameters\n",
    "            -------------------------------------------------\n",
    "             Input:\n",
    "                model: Model to be tested\n",
    "                X: Feature set\n",
    "                y: Target series\n",
    "                scoring: Metric to be optimized\n",
    "                path: Path to save the model\n",
    "                scaler: Whether to use a scaler or not\n",
    "                random_search: Whether to use random search or not\n",
    "                n_features: Number of features used in the model training\n",
    "             ------------------------------------------------\n",
    "             Output:\n",
    "               best_model: Best model found by the grid search\n",
    "               best_params: Best parameters found by the grid search\n",
    "               best_score: Best score found by the grid search \"\"\"\n",
    "        \n",
    "        # Using the ModelParams class to instantiate the model, its parameters and its respective scaler\n",
    "        model_params = ModelParams(model, n_features, scaler)\n",
    "        pipe, params, model_name = model_params.get_pipe()\n",
    "        #checking if the model is already saved in the models folder\n",
    "        # if the model is not saved, we instantiate the ModelDevelopment class and use the grid_search function to find the best parameters for the model and then save it\n",
    "        if scaler:\n",
    "                if not os.path.exists(path+model_name+'_'+str(n_features)+'.pkl'): \n",
    "                         # Using the ModelDevelopment class to instantiate the model\n",
    "                        clf_instance = ModelDevelopment(pipe, model_name, X, y)\n",
    "                        # Using the search function to find the best parameters for the model\n",
    "                        if random_search:\n",
    "                                best_model, *_  = clf_instance.random_search(params, scoring)\n",
    "                        else:\n",
    "                                best_model, *_  = clf_instance.grid_search(params, scoring) # This also fits the model instance with a variety of parameters against the dataset\n",
    "                        #saving best model with best parameters to pickle file:\n",
    "                        file_name = path+model_name+'_'+str(n_features)+'.pkl'\n",
    "                        instance_name = path+model_name+'_'+str(n_features)+'_instance.pkl'\n",
    "                        with open(file_name, 'wb') as f:\n",
    "                                pickle.dump(best_model, f)\n",
    "                        with open(instance_name, 'wb') as f:\n",
    "                                pickle.dump(clf_instance, f) \n",
    "                else:\n",
    "                        print('Model already saved')\n",
    "                        pass\n",
    "                       \n",
    "        else:\n",
    "                if not os.path.exists(path+model_name+'_'+str(n_features)+'_unscaled.pkl'):\n",
    "                         # Using the ModelDevelopment class to instantiate the model\n",
    "                        clf_instance = ModelDevelopment(pipe, model_name, X, y)\n",
    "                        # Using the grid_search function to find the best parameters for the model\n",
    "                        if random_search:\n",
    "                                best_model, *_  = clf_instance.random_search(params, scoring)\n",
    "                        else:\n",
    "                                best_model, *_  = clf_instance.grid_search(params, scoring) # This also fits the model instance with a variety of parameters against the dataset\n",
    "                        #saving best model with best parameters to pickle file:\n",
    "                        file_name = path+model_name+'_'+str(n_features)+'_unscaled.pkl'\n",
    "                        instance_name = path+model_name+'_'+str(n_features)+'_unscaled_instance.pkl'\n",
    "                        with open(file_name, 'wb') as f:\n",
    "                                pickle.dump(best_model, f)\n",
    "                        with open(instance_name, 'wb') as f:\n",
    "                                pickle.dump(clf_instance, f) \n",
    "                else:\n",
    "                        print('Model already saved')\n",
    "                        pass     "
   ]
  },
  {
   "attachments": {},
   "cell_type": "markdown",
   "metadata": {},
   "source": [
    "# Trying to find the best parameters models given the 100 best features found by logistic regression"
   ]
  },
  {
   "attachments": {},
   "cell_type": "markdown",
   "metadata": {},
   "source": [
    "Logistic Regression"
   ]
  },
  {
   "cell_type": "code",
   "execution_count": 8,
   "metadata": {},
   "outputs": [
    {
     "name": "stdout",
     "output_type": "stream",
     "text": [
      "Model already saved\n"
     ]
    }
   ],
   "source": [
    "# instantiating the best model for logistic regression\n",
    "instantiate_best_model(LogisticRegression(random_state=42), X, y, 'roc_auc', 'models_2/', scaler=True, random_search=False, n_features=X.shape[1])"
   ]
  },
  {
   "cell_type": "code",
   "execution_count": 9,
   "metadata": {},
   "outputs": [
    {
     "name": "stdout",
     "output_type": "stream",
     "text": [
      "Accuracy: 76.6%\n",
      "Precision: 77.0%\n",
      "Recall: 82.7%\n",
      "F1: 79.7%\n",
      "AUC: 75.8%\n"
     ]
    },
    {
     "data": {
      "image/png": "[encoded data removed]",
      "text/plain": [
       "<Figure size 640x480 with 1 Axes>"
      ]
     },
     "metadata": {},
     "output_type": "display_data"
    },
    {
     "data": {
      "image/png": "[encoded data removed]",
      "text/plain": [
       "<Figure size 640x480 with 2 Axes>"
      ]
     },
     "metadata": {},
     "output_type": "display_data"
    }
   ],
   "source": [
    "LR_instance = pickle.load(open('models_2/LogisticRegression_100_instance.pkl', 'rb'))\n",
    "\n",
    "#ploting metrics\n",
    "LR_instance.model_metrics()\n",
    "LR_instance.roc_curve()\n",
    "LR_instance.plot_confusion_matrix()\n"
   ]
  },
  {
   "cell_type": "code",
   "execution_count": 10,
   "metadata": {},
   "outputs": [
    {
     "data": {
      "text/plain": [
       "{'logisticregression__C': 0.001,\n",
       " 'logisticregression__max_iter': 10000,\n",
       " 'logisticregression__penalty': 'l2',\n",
       " 'logisticregression__solver': 'newton-cg'}"
      ]
     },
     "execution_count": 10,
     "metadata": {},
     "output_type": "execute_result"
    }
   ],
   "source": [
    "LR_instance.best_params"
   ]
  },
  {
   "attachments": {},
   "cell_type": "markdown",
   "metadata": {},
   "source": [
    "The model did worst that the model trained with all the features. Was ROC 76.1% and now 75.8%"
   ]
  },
  {
   "attachments": {},
   "cell_type": "markdown",
   "metadata": {},
   "source": [
    "Linear SVC"
   ]
  },
  {
   "cell_type": "code",
   "execution_count": 11,
   "metadata": {},
   "outputs": [
    {
     "name": "stdout",
     "output_type": "stream",
     "text": [
      "Model already saved\n"
     ]
    }
   ],
   "source": [
    "# instantiating the best model for linear SVC\n",
    "instantiate_best_model(LinearSVC(random_state=42), X, y, 'roc_auc', 'models_2/', scaler=True, random_search=False, n_features=X.shape[1])"
   ]
  },
  {
   "cell_type": "code",
   "execution_count": 12,
   "metadata": {},
   "outputs": [
    {
     "name": "stdout",
     "output_type": "stream",
     "text": [
      "Accuracy: 75.1%\n",
      "Precision: 78.0%\n",
      "Recall: 77.0%\n",
      "F1: 77.5%\n",
      "AUC: 74.9%\n"
     ]
    },
    {
     "data": {
      "image/png": "[encoded data removed]",
      "text/plain": [
       "<Figure size 640x480 with 2 Axes>"
      ]
     },
     "metadata": {},
     "output_type": "display_data"
    }
   ],
   "source": [
    "SVM_instance = pickle.load(open('models_2/LinearSVC_100_instance.pkl', 'rb'))\n",
    "SVM_instance.model_metrics()\n",
    "SVM_instance.plot_confusion_matrix()"
   ]
  },
  {
   "cell_type": "code",
   "execution_count": 13,
   "metadata": {},
   "outputs": [
    {
     "data": {
      "text/plain": [
       "{'linearsvc__C': 0.0001,\n",
       " 'linearsvc__loss': 'squared_hinge',\n",
       " 'linearsvc__max_iter': 100000}"
      ]
     },
     "execution_count": 13,
     "metadata": {},
     "output_type": "execute_result"
    }
   ],
   "source": [
    "#model best params\n",
    "SVM_instance.best_params"
   ]
  },
  {
   "attachments": {},
   "cell_type": "markdown",
   "metadata": {},
   "source": [
    "ROC 0.1% better than with all features dataset."
   ]
  },
  {
   "attachments": {},
   "cell_type": "markdown",
   "metadata": {},
   "source": [
    "Random Forest"
   ]
  },
  {
   "cell_type": "code",
   "execution_count": 14,
   "metadata": {},
   "outputs": [
    {
     "name": "stdout",
     "output_type": "stream",
     "text": [
      "Fitting 3 folds for each of 1000 candidates, totalling 3000 fits\n",
      "Total time:  19  minutes\n"
     ]
    }
   ],
   "source": [
    "# instantiating the best model for random forest\n",
    "instantiate_best_model(RandomForestClassifier(random_state=42), X, y, 'roc_auc', 'models_2/', scaler=True, random_search=True, n_features=X.shape[1])"
   ]
  },
  {
   "cell_type": "code",
   "execution_count": 15,
   "metadata": {},
   "outputs": [
    {
     "name": "stdout",
     "output_type": "stream",
     "text": [
      "Accuracy: 90.4%\n",
      "Precision: 88.2%\n",
      "Recall: 95.6%\n",
      "F1: 91.7%\n",
      "AUC: 89.7%\n"
     ]
    },
    {
     "data": {
      "image/png": "[encoded data removed]",
      "text/plain": [
       "<Figure size 640x480 with 2 Axes>"
      ]
     },
     "metadata": {},
     "output_type": "display_data"
    }
   ],
   "source": [
    "forest_instance = pickle.load(open('models_2/RandomForestClassifier_100_instance.pkl', 'rb'))\n",
    "forest_instance.model_metrics()\n",
    "forest_instance.plot_confusion_matrix()"
   ]
  },
  {
   "cell_type": "code",
   "execution_count": 16,
   "metadata": {},
   "outputs": [
    {
     "data": {
      "text/plain": [
       "{'randomforestclassifier__n_estimators': 1500,\n",
       " 'randomforestclassifier__min_weight_fraction_leaf': 0.0,\n",
       " 'randomforestclassifier__min_samples_split': 5,\n",
       " 'randomforestclassifier__min_samples_leaf': 2,\n",
       " 'randomforestclassifier__min_impurity_decrease': 0.0,\n",
       " 'randomforestclassifier__max_leaf_nodes': 91,\n",
       " 'randomforestclassifier__max_features': 'sqrt',\n",
       " 'randomforestclassifier__max_depth': 9,\n",
       " 'randomforestclassifier__criterion': 'entropy'}"
      ]
     },
     "execution_count": 16,
     "metadata": {},
     "output_type": "execute_result"
    }
   ],
   "source": [
    "forest_instance.best_params"
   ]
  },
  {
   "attachments": {},
   "cell_type": "markdown",
   "metadata": {},
   "source": [
    "Gradient boosting"
   ]
  },
  {
   "cell_type": "code",
   "execution_count": 17,
   "metadata": {},
   "outputs": [
    {
     "name": "stdout",
     "output_type": "stream",
     "text": [
      "Fitting 3 folds for each of 1000 candidates, totalling 3000 fits\n",
      "Total time:  22  minutes\n"
     ]
    }
   ],
   "source": [
    "# instantiating the best model for gradient boosting\n",
    "instantiate_best_model(GradientBoostingClassifier(random_state=42), X, y, 'roc_auc', 'models_2/', scaler=True, random_search=True, n_features=X.shape[1])"
   ]
  },
  {
   "cell_type": "code",
   "execution_count": 18,
   "metadata": {},
   "outputs": [
    {
     "name": "stdout",
     "output_type": "stream",
     "text": [
      "Accuracy: 97.8%\n",
      "Precision: 96.6%\n",
      "Recall: 99.6%\n",
      "F1: 98.0%\n",
      "AUC: 97.6%\n"
     ]
    },
    {
     "data": {
      "image/png": "[encoded data removed]",
      "text/plain": [
       "<Figure size 640x480 with 2 Axes>"
      ]
     },
     "metadata": {},
     "output_type": "display_data"
    }
   ],
   "source": [
    "gb_instance = pickle.load(open('models_2/GradientBoostingClassifier_100_instance.pkl', 'rb'))\n",
    "gb_instance.model_metrics()\n",
    "gb_instance.plot_confusion_matrix()"
   ]
  },
  {
   "attachments": {},
   "cell_type": "markdown",
   "metadata": {},
   "source": [
    "Overfitted."
   ]
  }
 ],
 "metadata": {
  "kernelspec": {
   "display_name": "base",
   "language": "python",
   "name": "python3"
  },
  "language_info": {
   "codemirror_mode": {
    "name": "ipython",
    "version": 3
   },
   "file_extension": ".py",
   "mimetype": "text/x-python",
   "name": "python",
   "nbconvert_exporter": "python",
   "pygments_lexer": "ipython3",
   "version": "3.9.13"
  },
  "orig_nbformat": 4
 },
 "nbformat": 4,
 "nbformat_minor": 2
}
