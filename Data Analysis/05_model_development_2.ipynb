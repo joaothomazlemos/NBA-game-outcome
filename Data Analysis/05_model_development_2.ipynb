{
 "cells": [
  {
   "attachments": {},
   "cell_type": "markdown",
   "metadata": {},
   "source": [
    "# Model development with fewer features"
   ]
  },
  {
   "attachments": {},
   "cell_type": "markdown",
   "metadata": {},
   "source": [
    "In this notebook, we are going to get the models best params with our data optimized with less features. For this, we need to load our base dataset (data_base.pkl) and the features from folder best_features."
   ]
  },
  {
   "cell_type": "code",
   "execution_count": 1,
   "metadata": {},
   "outputs": [],
   "source": [
    "#--------------------------Utilities---------------------#\n",
    "from custom_class.customClass import ModelParams, ModelDevelopment\n",
    "import pickle\n",
    "import pandas as pd\n",
    "import os\n",
    "from sklearn.model_selection import train_test_split\n",
    "\n",
    "\n",
    "\n",
    "#--------------------------Models---------------------#\n",
    "from sklearn.linear_model import LogisticRegression\n",
    "from sklearn.ensemble import RandomForestClassifier\n",
    "from sklearn.ensemble import GradientBoostingClassifier\n",
    "from sklearn.svm import LinearSVC\n",
    "import warnings\n",
    "\n",
    "#------------------------Visualization---------------------#\n",
    "import matplotlib.pyplot as plt\n",
    "import seaborn as sns\n",
    "from sklearn.metrics import confusion_matrix, ConfusionMatrixDisplay, roc_auc_score, accuracy_score, precision_score, recall_score, f1_score\n",
    "\n",
    "\n",
    "\n",
    "#----------Settings----------#\n",
    "%matplotlib inline\n",
    "warnings.filterwarnings(\"ignore\")\n",
    "pd.set_option(\"display.max_columns\", 500)\n",
    "pd.set_option(\"display.max_rows\", 500)\n",
    "\n"
   ]
  },
  {
   "attachments": {},
   "cell_type": "markdown",
   "metadata": {},
   "source": [
    "Loading the 100 best features discovered by the logistic regression model"
   ]
  },
  {
   "cell_type": "code",
   "execution_count": 2,
   "metadata": {},
   "outputs": [
    {
     "data": {
      "text/html": [
       "<div>\n",
       "<style scoped>\n",
       "    .dataframe tbody tr th:only-of-type {\n",
       "        vertical-align: middle;\n",
       "    }\n",
       "\n",
       "    .dataframe tbody tr th {\n",
       "        vertical-align: top;\n",
       "    }\n",
       "\n",
       "    .dataframe thead th {\n",
       "        text-align: right;\n",
       "    }\n",
       "</style>\n",
       "<table border=\"1\" class=\"dataframe\">\n",
       "  <thead>\n",
       "    <tr style=\"text-align: right;\">\n",
       "      <th></th>\n",
       "      <th>0</th>\n",
       "    </tr>\n",
       "  </thead>\n",
       "  <tbody>\n",
       "    <tr>\n",
       "      <th>0</th>\n",
       "      <td>home_rolling_fg</td>\n",
       "    </tr>\n",
       "    <tr>\n",
       "      <th>1</th>\n",
       "      <td>home_rolling_fg%</td>\n",
       "    </tr>\n",
       "    <tr>\n",
       "      <th>2</th>\n",
       "      <td>home_rolling_3p</td>\n",
       "    </tr>\n",
       "    <tr>\n",
       "      <th>3</th>\n",
       "      <td>home_rolling_3p%</td>\n",
       "    </tr>\n",
       "    <tr>\n",
       "      <th>4</th>\n",
       "      <td>home_rolling_ft</td>\n",
       "    </tr>\n",
       "    <tr>\n",
       "      <th>5</th>\n",
       "      <td>home_rolling_ft%</td>\n",
       "    </tr>\n",
       "    <tr>\n",
       "      <th>6</th>\n",
       "      <td>home_rolling_trb</td>\n",
       "    </tr>\n",
       "    <tr>\n",
       "      <th>7</th>\n",
       "      <td>home_rolling_ast</td>\n",
       "    </tr>\n",
       "    <tr>\n",
       "      <th>8</th>\n",
       "      <td>home_rolling_pts</td>\n",
       "    </tr>\n",
       "    <tr>\n",
       "      <th>9</th>\n",
       "      <td>home_rolling_efg%</td>\n",
       "    </tr>\n",
       "  </tbody>\n",
       "</table>\n",
       "</div>"
      ],
      "text/plain": [
       "                   0\n",
       "0    home_rolling_fg\n",
       "1   home_rolling_fg%\n",
       "2    home_rolling_3p\n",
       "3   home_rolling_3p%\n",
       "4    home_rolling_ft\n",
       "5   home_rolling_ft%\n",
       "6   home_rolling_trb\n",
       "7   home_rolling_ast\n",
       "8   home_rolling_pts\n",
       "9  home_rolling_efg%"
      ]
     },
     "execution_count": 2,
     "metadata": {},
     "output_type": "execute_result"
    }
   ],
   "source": [
    "best_features = pd.read_csv('best_features/LogisticRegression_100.csv', sep=',')\n",
    "cols = best_features.values.reshape(-1).tolist()\n",
    "best_features[:10] "
   ]
  },
  {
   "attachments": {},
   "cell_type": "markdown",
   "metadata": {},
   "source": [
    "Loading our dataset and plugigng in our new columns"
   ]
  },
  {
   "cell_type": "code",
   "execution_count": 3,
   "metadata": {},
   "outputs": [
    {
     "name": "stdout",
     "output_type": "stream",
     "text": [
      "X shape:  (5999, 100)\n",
      "y shape:  (5999,)\n"
     ]
    },
    {
     "data": {
      "text/html": [
       "<div>\n",
       "<style scoped>\n",
       "    .dataframe tbody tr th:only-of-type {\n",
       "        vertical-align: middle;\n",
       "    }\n",
       "\n",
       "    .dataframe tbody tr th {\n",
       "        vertical-align: top;\n",
       "    }\n",
       "\n",
       "    .dataframe thead th {\n",
       "        text-align: right;\n",
       "    }\n",
       "</style>\n",
       "<table border=\"1\" class=\"dataframe\">\n",
       "  <thead>\n",
       "    <tr style=\"text-align: right;\">\n",
       "      <th></th>\n",
       "      <th>home_rolling_fg</th>\n",
       "      <th>home_rolling_fg%</th>\n",
       "      <th>home_rolling_3p</th>\n",
       "      <th>home_rolling_3p%</th>\n",
       "      <th>home_rolling_ft</th>\n",
       "      <th>home_rolling_ft%</th>\n",
       "      <th>home_rolling_trb</th>\n",
       "      <th>home_rolling_ast</th>\n",
       "      <th>home_rolling_pts</th>\n",
       "      <th>home_rolling_efg%</th>\n",
       "      <th>home_rolling_trb%</th>\n",
       "      <th>home_rolling_drtg</th>\n",
       "      <th>home_rolling_fg_max</th>\n",
       "      <th>home_rolling_3p_max</th>\n",
       "      <th>home_rolling_ft_max</th>\n",
       "      <th>home_rolling_fta_max</th>\n",
       "      <th>home_rolling_ft%_max</th>\n",
       "      <th>home_rolling_orb_max</th>\n",
       "      <th>home_rolling_drb_max</th>\n",
       "      <th>home_rolling_trb_max</th>\n",
       "      <th>home_rolling_blk_max</th>\n",
       "      <th>home_rolling_+/-_max</th>\n",
       "      <th>home_rolling_drtg_max</th>\n",
       "      <th>home_rolling_Total</th>\n",
       "      <th>home_rolling_opponent_fg</th>\n",
       "      <th>home_rolling_opponent_3pa</th>\n",
       "      <th>home_rolling_opponent_ft</th>\n",
       "      <th>home_rolling_opponent_ft%</th>\n",
       "      <th>home_rolling_opponent_drb</th>\n",
       "      <th>home_rolling_opponent_ast</th>\n",
       "      <th>home_rolling_opponent_blk</th>\n",
       "      <th>home_rolling_opponent_tov</th>\n",
       "      <th>home_rolling_opponent_ts%</th>\n",
       "      <th>home_rolling_opponent_efg%</th>\n",
       "      <th>home_rolling_opponent_trb%</th>\n",
       "      <th>home_rolling_opponent_blk%</th>\n",
       "      <th>home_rolling_opponent_ortg</th>\n",
       "      <th>home_rolling_opponent_drtg</th>\n",
       "      <th>home_rolling_opponent_drb_max</th>\n",
       "      <th>home_rolling_opponent_blk_max</th>\n",
       "      <th>home_rolling_opponent_tov_max</th>\n",
       "      <th>home_rolling_opponent_+/-_max</th>\n",
       "      <th>home_rolling_opponent_orb%_max</th>\n",
       "      <th>home_rolling_opponent_drb%_max</th>\n",
       "      <th>home_rolling_opponent_ast%_max</th>\n",
       "      <th>home_rolling_opponent_stl%_max</th>\n",
       "      <th>home_rolling_opponent_Total</th>\n",
       "      <th>away_rolling_fg%</th>\n",
       "      <th>away_rolling_ast</th>\n",
       "      <th>away_rolling_stl</th>\n",
       "      <th>away_rolling_tov</th>\n",
       "      <th>away_rolling_pts</th>\n",
       "      <th>away_rolling_efg%</th>\n",
       "      <th>away_rolling_trb%</th>\n",
       "      <th>away_rolling_stl%</th>\n",
       "      <th>away_rolling_blk%</th>\n",
       "      <th>away_rolling_tov%</th>\n",
       "      <th>away_rolling_ortg</th>\n",
       "      <th>away_rolling_drtg</th>\n",
       "      <th>away_rolling_fg_max</th>\n",
       "      <th>away_rolling_3p%_max</th>\n",
       "      <th>away_rolling_ft_max</th>\n",
       "      <th>away_rolling_fta_max</th>\n",
       "      <th>away_rolling_drb_max</th>\n",
       "      <th>away_rolling_trb_max</th>\n",
       "      <th>away_rolling_stl_max</th>\n",
       "      <th>away_rolling_tov_max</th>\n",
       "      <th>away_rolling_+/-_max</th>\n",
       "      <th>away_rolling_ftr_max</th>\n",
       "      <th>away_rolling_drtg_max</th>\n",
       "      <th>away_rolling_Total</th>\n",
       "      <th>away_rolling_opponent_fg</th>\n",
       "      <th>away_rolling_opponent_fg%</th>\n",
       "      <th>away_rolling_opponent_3pa</th>\n",
       "      <th>away_rolling_opponent_3p%</th>\n",
       "      <th>away_rolling_opponent_ft</th>\n",
       "      <th>away_rolling_opponent_fta</th>\n",
       "      <th>away_rolling_opponent_drb</th>\n",
       "      <th>away_rolling_opponent_trb</th>\n",
       "      <th>away_rolling_opponent_ast</th>\n",
       "      <th>away_rolling_opponent_tov</th>\n",
       "      <th>away_rolling_opponent_pts</th>\n",
       "      <th>away_rolling_opponent_efg%</th>\n",
       "      <th>away_rolling_opponent_trb%</th>\n",
       "      <th>away_rolling_opponent_tov%</th>\n",
       "      <th>away_rolling_opponent_ortg</th>\n",
       "      <th>away_rolling_opponent_drtg</th>\n",
       "      <th>away_rolling_opponent_fg%_max</th>\n",
       "      <th>away_rolling_opponent_3p%_max</th>\n",
       "      <th>away_rolling_opponent_ft_max</th>\n",
       "      <th>away_rolling_opponent_fta_max</th>\n",
       "      <th>away_rolling_opponent_stl_max</th>\n",
       "      <th>away_rolling_opponent_blk_max</th>\n",
       "      <th>away_rolling_opponent_tov_max</th>\n",
       "      <th>away_rolling_opponent_pf_max</th>\n",
       "      <th>away_rolling_opponent_+/-_max</th>\n",
       "      <th>away_rolling_opponent_efg%_max</th>\n",
       "      <th>away_rolling_opponent_ast%_max</th>\n",
       "      <th>away_rolling_opponent_drtg_max</th>\n",
       "      <th>away_rolling_opponent_Total</th>\n",
       "    </tr>\n",
       "  </thead>\n",
       "  <tbody>\n",
       "    <tr>\n",
       "      <th>0</th>\n",
       "      <td>38.333333</td>\n",
       "      <td>0.446833</td>\n",
       "      <td>9.166667</td>\n",
       "      <td>0.289167</td>\n",
       "      <td>19.333333</td>\n",
       "      <td>0.803167</td>\n",
       "      <td>43.666667</td>\n",
       "      <td>22.333333</td>\n",
       "      <td>105.166667</td>\n",
       "      <td>0.500167</td>\n",
       "      <td>48.983333</td>\n",
       "      <td>115.350000</td>\n",
       "      <td>10.666667</td>\n",
       "      <td>3.166667</td>\n",
       "      <td>6.833333</td>\n",
       "      <td>8.000000</td>\n",
       "      <td>0.972167</td>\n",
       "      <td>3.333333</td>\n",
       "      <td>10.000000</td>\n",
       "      <td>12.000000</td>\n",
       "      <td>1.666667</td>\n",
       "      <td>10.500000</td>\n",
       "      <td>122.666667</td>\n",
       "      <td>105.166667</td>\n",
       "      <td>41.666667</td>\n",
       "      <td>29.833333</td>\n",
       "      <td>16.333333</td>\n",
       "      <td>0.790167</td>\n",
       "      <td>35.666667</td>\n",
       "      <td>27.666667</td>\n",
       "      <td>4.333333</td>\n",
       "      <td>12.166667</td>\n",
       "      <td>0.580333</td>\n",
       "      <td>0.547833</td>\n",
       "      <td>51.016667</td>\n",
       "      <td>7.900000</td>\n",
       "      <td>115.350000</td>\n",
       "      <td>107.166667</td>\n",
       "      <td>8.333333</td>\n",
       "      <td>1.833333</td>\n",
       "      <td>3.166667</td>\n",
       "      <td>16.833333</td>\n",
       "      <td>22.466667</td>\n",
       "      <td>34.016667</td>\n",
       "      <td>44.583333</td>\n",
       "      <td>4.766667</td>\n",
       "      <td>113.333333</td>\n",
       "      <td>0.416833</td>\n",
       "      <td>20.333333</td>\n",
       "      <td>8.500000</td>\n",
       "      <td>15.666667</td>\n",
       "      <td>100.000000</td>\n",
       "      <td>0.466167</td>\n",
       "      <td>45.683333</td>\n",
       "      <td>8.416667</td>\n",
       "      <td>6.500000</td>\n",
       "      <td>13.750000</td>\n",
       "      <td>98.533333</td>\n",
       "      <td>107.283333</td>\n",
       "      <td>8.666667</td>\n",
       "      <td>0.870500</td>\n",
       "      <td>5.666667</td>\n",
       "      <td>7.000000</td>\n",
       "      <td>7.666667</td>\n",
       "      <td>10.833333</td>\n",
       "      <td>2.666667</td>\n",
       "      <td>4.833333</td>\n",
       "      <td>6.166667</td>\n",
       "      <td>1.155500</td>\n",
       "      <td>117.000000</td>\n",
       "      <td>100.000000</td>\n",
       "      <td>39.333333</td>\n",
       "      <td>0.437167</td>\n",
       "      <td>33.833333</td>\n",
       "      <td>0.326500</td>\n",
       "      <td>19.333333</td>\n",
       "      <td>26.500000</td>\n",
       "      <td>38.000000</td>\n",
       "      <td>51.833333</td>\n",
       "      <td>24.666667</td>\n",
       "      <td>16.666667</td>\n",
       "      <td>109.000000</td>\n",
       "      <td>0.498333</td>\n",
       "      <td>54.316667</td>\n",
       "      <td>14.116667</td>\n",
       "      <td>107.283333</td>\n",
       "      <td>98.533333</td>\n",
       "      <td>0.663333</td>\n",
       "      <td>0.688167</td>\n",
       "      <td>6.500000</td>\n",
       "      <td>8.666667</td>\n",
       "      <td>2.500000</td>\n",
       "      <td>2.333333</td>\n",
       "      <td>4.500000</td>\n",
       "      <td>4.333333</td>\n",
       "      <td>19.833333</td>\n",
       "      <td>0.795167</td>\n",
       "      <td>40.600000</td>\n",
       "      <td>104.666667</td>\n",
       "      <td>109.000000</td>\n",
       "    </tr>\n",
       "    <tr>\n",
       "      <th>1</th>\n",
       "      <td>41.666667</td>\n",
       "      <td>0.476000</td>\n",
       "      <td>8.666667</td>\n",
       "      <td>0.313833</td>\n",
       "      <td>17.166667</td>\n",
       "      <td>0.795000</td>\n",
       "      <td>46.666667</td>\n",
       "      <td>22.833333</td>\n",
       "      <td>109.166667</td>\n",
       "      <td>0.525833</td>\n",
       "      <td>53.750000</td>\n",
       "      <td>109.600000</td>\n",
       "      <td>12.500000</td>\n",
       "      <td>3.333333</td>\n",
       "      <td>7.166667</td>\n",
       "      <td>8.500000</td>\n",
       "      <td>1.000000</td>\n",
       "      <td>5.000000</td>\n",
       "      <td>8.000000</td>\n",
       "      <td>12.333333</td>\n",
       "      <td>3.166667</td>\n",
       "      <td>12.500000</td>\n",
       "      <td>118.833333</td>\n",
       "      <td>109.166667</td>\n",
       "      <td>37.000000</td>\n",
       "      <td>35.000000</td>\n",
       "      <td>18.666667</td>\n",
       "      <td>0.802000</td>\n",
       "      <td>29.166667</td>\n",
       "      <td>20.166667</td>\n",
       "      <td>2.833333</td>\n",
       "      <td>12.833333</td>\n",
       "      <td>0.550833</td>\n",
       "      <td>0.508333</td>\n",
       "      <td>46.250000</td>\n",
       "      <td>4.933333</td>\n",
       "      <td>109.600000</td>\n",
       "      <td>113.550000</td>\n",
       "      <td>6.333333</td>\n",
       "      <td>1.333333</td>\n",
       "      <td>4.000000</td>\n",
       "      <td>12.333333</td>\n",
       "      <td>19.950000</td>\n",
       "      <td>33.016667</td>\n",
       "      <td>45.300000</td>\n",
       "      <td>6.733333</td>\n",
       "      <td>105.666667</td>\n",
       "      <td>0.488000</td>\n",
       "      <td>24.333333</td>\n",
       "      <td>8.500000</td>\n",
       "      <td>13.333333</td>\n",
       "      <td>111.500000</td>\n",
       "      <td>0.548333</td>\n",
       "      <td>49.100000</td>\n",
       "      <td>8.566667</td>\n",
       "      <td>4.916667</td>\n",
       "      <td>12.166667</td>\n",
       "      <td>112.533333</td>\n",
       "      <td>112.466667</td>\n",
       "      <td>10.500000</td>\n",
       "      <td>0.743000</td>\n",
       "      <td>5.000000</td>\n",
       "      <td>5.833333</td>\n",
       "      <td>7.833333</td>\n",
       "      <td>10.500000</td>\n",
       "      <td>2.833333</td>\n",
       "      <td>3.333333</td>\n",
       "      <td>14.333333</td>\n",
       "      <td>0.605500</td>\n",
       "      <td>119.666667</td>\n",
       "      <td>111.500000</td>\n",
       "      <td>43.833333</td>\n",
       "      <td>0.498000</td>\n",
       "      <td>29.166667</td>\n",
       "      <td>0.357333</td>\n",
       "      <td>13.166667</td>\n",
       "      <td>19.166667</td>\n",
       "      <td>32.500000</td>\n",
       "      <td>43.000000</td>\n",
       "      <td>26.666667</td>\n",
       "      <td>15.833333</td>\n",
       "      <td>111.500000</td>\n",
       "      <td>0.558500</td>\n",
       "      <td>50.900000</td>\n",
       "      <td>14.033333</td>\n",
       "      <td>112.466667</td>\n",
       "      <td>112.533333</td>\n",
       "      <td>0.805333</td>\n",
       "      <td>0.777833</td>\n",
       "      <td>5.000000</td>\n",
       "      <td>6.666667</td>\n",
       "      <td>2.333333</td>\n",
       "      <td>3.333333</td>\n",
       "      <td>5.166667</td>\n",
       "      <td>4.666667</td>\n",
       "      <td>13.833333</td>\n",
       "      <td>0.849500</td>\n",
       "      <td>47.133333</td>\n",
       "      <td>121.000000</td>\n",
       "      <td>111.500000</td>\n",
       "    </tr>\n",
       "    <tr>\n",
       "      <th>2</th>\n",
       "      <td>40.500000</td>\n",
       "      <td>0.473333</td>\n",
       "      <td>9.666667</td>\n",
       "      <td>0.347833</td>\n",
       "      <td>16.666667</td>\n",
       "      <td>0.693833</td>\n",
       "      <td>46.500000</td>\n",
       "      <td>26.000000</td>\n",
       "      <td>107.333333</td>\n",
       "      <td>0.529833</td>\n",
       "      <td>53.250000</td>\n",
       "      <td>103.916667</td>\n",
       "      <td>9.333333</td>\n",
       "      <td>3.000000</td>\n",
       "      <td>6.166667</td>\n",
       "      <td>7.666667</td>\n",
       "      <td>0.966667</td>\n",
       "      <td>3.666667</td>\n",
       "      <td>9.166667</td>\n",
       "      <td>11.833333</td>\n",
       "      <td>1.666667</td>\n",
       "      <td>18.666667</td>\n",
       "      <td>113.333333</td>\n",
       "      <td>107.333333</td>\n",
       "      <td>39.000000</td>\n",
       "      <td>32.500000</td>\n",
       "      <td>14.000000</td>\n",
       "      <td>0.699833</td>\n",
       "      <td>31.666667</td>\n",
       "      <td>23.666667</td>\n",
       "      <td>4.333333</td>\n",
       "      <td>17.000000</td>\n",
       "      <td>0.554167</td>\n",
       "      <td>0.527833</td>\n",
       "      <td>46.750000</td>\n",
       "      <td>7.483333</td>\n",
       "      <td>103.916667</td>\n",
       "      <td>107.600000</td>\n",
       "      <td>7.166667</td>\n",
       "      <td>1.666667</td>\n",
       "      <td>4.500000</td>\n",
       "      <td>15.833333</td>\n",
       "      <td>18.166667</td>\n",
       "      <td>38.800000</td>\n",
       "      <td>43.666667</td>\n",
       "      <td>6.450000</td>\n",
       "      <td>104.000000</td>\n",
       "      <td>0.422000</td>\n",
       "      <td>21.000000</td>\n",
       "      <td>8.333333</td>\n",
       "      <td>18.000000</td>\n",
       "      <td>108.666667</td>\n",
       "      <td>0.480500</td>\n",
       "      <td>46.733333</td>\n",
       "      <td>7.800000</td>\n",
       "      <td>5.766667</td>\n",
       "      <td>15.066667</td>\n",
       "      <td>101.750000</td>\n",
       "      <td>109.400000</td>\n",
       "      <td>8.500000</td>\n",
       "      <td>0.819500</td>\n",
       "      <td>6.666667</td>\n",
       "      <td>8.333333</td>\n",
       "      <td>6.333333</td>\n",
       "      <td>8.333333</td>\n",
       "      <td>3.000000</td>\n",
       "      <td>4.500000</td>\n",
       "      <td>9.166667</td>\n",
       "      <td>1.062167</td>\n",
       "      <td>117.000000</td>\n",
       "      <td>108.666667</td>\n",
       "      <td>43.333333</td>\n",
       "      <td>0.466000</td>\n",
       "      <td>27.333333</td>\n",
       "      <td>0.313333</td>\n",
       "      <td>21.666667</td>\n",
       "      <td>28.500000</td>\n",
       "      <td>38.833333</td>\n",
       "      <td>50.333333</td>\n",
       "      <td>22.166667</td>\n",
       "      <td>14.666667</td>\n",
       "      <td>116.666667</td>\n",
       "      <td>0.511000</td>\n",
       "      <td>53.266667</td>\n",
       "      <td>12.216667</td>\n",
       "      <td>109.400000</td>\n",
       "      <td>101.750000</td>\n",
       "      <td>0.824167</td>\n",
       "      <td>0.824000</td>\n",
       "      <td>6.000000</td>\n",
       "      <td>7.500000</td>\n",
       "      <td>3.166667</td>\n",
       "      <td>3.000000</td>\n",
       "      <td>3.333333</td>\n",
       "      <td>5.000000</td>\n",
       "      <td>17.166667</td>\n",
       "      <td>0.892667</td>\n",
       "      <td>33.050000</td>\n",
       "      <td>111.333333</td>\n",
       "      <td>116.666667</td>\n",
       "    </tr>\n",
       "    <tr>\n",
       "      <th>3</th>\n",
       "      <td>43.000000</td>\n",
       "      <td>0.499833</td>\n",
       "      <td>9.333333</td>\n",
       "      <td>0.349333</td>\n",
       "      <td>15.666667</td>\n",
       "      <td>0.787667</td>\n",
       "      <td>46.000000</td>\n",
       "      <td>24.333333</td>\n",
       "      <td>111.000000</td>\n",
       "      <td>0.554833</td>\n",
       "      <td>53.600000</td>\n",
       "      <td>109.750000</td>\n",
       "      <td>12.333333</td>\n",
       "      <td>3.500000</td>\n",
       "      <td>6.500000</td>\n",
       "      <td>8.166667</td>\n",
       "      <td>1.000000</td>\n",
       "      <td>4.666667</td>\n",
       "      <td>7.833333</td>\n",
       "      <td>11.666667</td>\n",
       "      <td>3.500000</td>\n",
       "      <td>14.333333</td>\n",
       "      <td>118.833333</td>\n",
       "      <td>111.000000</td>\n",
       "      <td>36.666667</td>\n",
       "      <td>36.166667</td>\n",
       "      <td>18.666667</td>\n",
       "      <td>0.783833</td>\n",
       "      <td>28.333333</td>\n",
       "      <td>20.666667</td>\n",
       "      <td>2.833333</td>\n",
       "      <td>13.000000</td>\n",
       "      <td>0.551667</td>\n",
       "      <td>0.510167</td>\n",
       "      <td>46.400000</td>\n",
       "      <td>4.950000</td>\n",
       "      <td>109.750000</td>\n",
       "      <td>115.333333</td>\n",
       "      <td>5.833333</td>\n",
       "      <td>1.333333</td>\n",
       "      <td>4.000000</td>\n",
       "      <td>10.333333</td>\n",
       "      <td>25.050000</td>\n",
       "      <td>33.950000</td>\n",
       "      <td>45.133333</td>\n",
       "      <td>6.050000</td>\n",
       "      <td>106.000000</td>\n",
       "      <td>0.421167</td>\n",
       "      <td>18.666667</td>\n",
       "      <td>6.166667</td>\n",
       "      <td>13.000000</td>\n",
       "      <td>99.333333</td>\n",
       "      <td>0.475833</td>\n",
       "      <td>50.583333</td>\n",
       "      <td>6.366667</td>\n",
       "      <td>5.966667</td>\n",
       "      <td>12.000000</td>\n",
       "      <td>102.116667</td>\n",
       "      <td>110.033333</td>\n",
       "      <td>7.333333</td>\n",
       "      <td>0.819500</td>\n",
       "      <td>8.000000</td>\n",
       "      <td>11.166667</td>\n",
       "      <td>9.333333</td>\n",
       "      <td>13.000000</td>\n",
       "      <td>2.000000</td>\n",
       "      <td>3.500000</td>\n",
       "      <td>9.500000</td>\n",
       "      <td>1.122333</td>\n",
       "      <td>115.666667</td>\n",
       "      <td>99.333333</td>\n",
       "      <td>39.166667</td>\n",
       "      <td>0.461667</td>\n",
       "      <td>27.166667</td>\n",
       "      <td>0.358500</td>\n",
       "      <td>19.166667</td>\n",
       "      <td>23.000000</td>\n",
       "      <td>36.833333</td>\n",
       "      <td>45.166667</td>\n",
       "      <td>24.166667</td>\n",
       "      <td>12.500000</td>\n",
       "      <td>107.000000</td>\n",
       "      <td>0.517833</td>\n",
       "      <td>49.416667</td>\n",
       "      <td>11.633333</td>\n",
       "      <td>110.033333</td>\n",
       "      <td>102.116667</td>\n",
       "      <td>0.769500</td>\n",
       "      <td>0.771167</td>\n",
       "      <td>5.833333</td>\n",
       "      <td>7.500000</td>\n",
       "      <td>2.500000</td>\n",
       "      <td>2.500000</td>\n",
       "      <td>4.166667</td>\n",
       "      <td>4.500000</td>\n",
       "      <td>16.333333</td>\n",
       "      <td>0.885333</td>\n",
       "      <td>40.916667</td>\n",
       "      <td>110.166667</td>\n",
       "      <td>107.000000</td>\n",
       "    </tr>\n",
       "    <tr>\n",
       "      <th>4</th>\n",
       "      <td>36.500000</td>\n",
       "      <td>0.446333</td>\n",
       "      <td>10.666667</td>\n",
       "      <td>0.356667</td>\n",
       "      <td>16.166667</td>\n",
       "      <td>0.822167</td>\n",
       "      <td>39.833333</td>\n",
       "      <td>19.833333</td>\n",
       "      <td>99.833333</td>\n",
       "      <td>0.511500</td>\n",
       "      <td>48.683333</td>\n",
       "      <td>99.500000</td>\n",
       "      <td>8.000000</td>\n",
       "      <td>3.833333</td>\n",
       "      <td>6.500000</td>\n",
       "      <td>7.833333</td>\n",
       "      <td>1.000000</td>\n",
       "      <td>3.666667</td>\n",
       "      <td>7.833333</td>\n",
       "      <td>11.166667</td>\n",
       "      <td>3.000000</td>\n",
       "      <td>18.666667</td>\n",
       "      <td>108.500000</td>\n",
       "      <td>99.833333</td>\n",
       "      <td>34.166667</td>\n",
       "      <td>27.166667</td>\n",
       "      <td>15.333333</td>\n",
       "      <td>0.775500</td>\n",
       "      <td>33.500000</td>\n",
       "      <td>18.833333</td>\n",
       "      <td>4.000000</td>\n",
       "      <td>19.166667</td>\n",
       "      <td>0.549000</td>\n",
       "      <td>0.513333</td>\n",
       "      <td>51.316667</td>\n",
       "      <td>7.566667</td>\n",
       "      <td>99.500000</td>\n",
       "      <td>105.633333</td>\n",
       "      <td>9.166667</td>\n",
       "      <td>2.000000</td>\n",
       "      <td>5.666667</td>\n",
       "      <td>11.333333</td>\n",
       "      <td>22.483333</td>\n",
       "      <td>49.483333</td>\n",
       "      <td>49.833333</td>\n",
       "      <td>9.933333</td>\n",
       "      <td>94.333333</td>\n",
       "      <td>0.463833</td>\n",
       "      <td>23.833333</td>\n",
       "      <td>7.833333</td>\n",
       "      <td>18.666667</td>\n",
       "      <td>106.166667</td>\n",
       "      <td>0.533667</td>\n",
       "      <td>52.916667</td>\n",
       "      <td>7.850000</td>\n",
       "      <td>6.816667</td>\n",
       "      <td>16.583333</td>\n",
       "      <td>104.683333</td>\n",
       "      <td>106.116667</td>\n",
       "      <td>9.000000</td>\n",
       "      <td>0.817167</td>\n",
       "      <td>5.500000</td>\n",
       "      <td>7.333333</td>\n",
       "      <td>9.333333</td>\n",
       "      <td>11.166667</td>\n",
       "      <td>3.000000</td>\n",
       "      <td>5.500000</td>\n",
       "      <td>15.666667</td>\n",
       "      <td>1.393667</td>\n",
       "      <td>114.666667</td>\n",
       "      <td>106.166667</td>\n",
       "      <td>36.333333</td>\n",
       "      <td>0.418000</td>\n",
       "      <td>37.000000</td>\n",
       "      <td>0.291833</td>\n",
       "      <td>24.333333</td>\n",
       "      <td>31.000000</td>\n",
       "      <td>32.500000</td>\n",
       "      <td>42.500000</td>\n",
       "      <td>18.666667</td>\n",
       "      <td>13.333333</td>\n",
       "      <td>108.000000</td>\n",
       "      <td>0.483167</td>\n",
       "      <td>47.083333</td>\n",
       "      <td>11.833333</td>\n",
       "      <td>106.116667</td>\n",
       "      <td>104.683333</td>\n",
       "      <td>0.879000</td>\n",
       "      <td>0.567667</td>\n",
       "      <td>9.500000</td>\n",
       "      <td>11.500000</td>\n",
       "      <td>3.166667</td>\n",
       "      <td>2.166667</td>\n",
       "      <td>4.000000</td>\n",
       "      <td>4.333333</td>\n",
       "      <td>17.166667</td>\n",
       "      <td>0.941500</td>\n",
       "      <td>43.900000</td>\n",
       "      <td>112.833333</td>\n",
       "      <td>108.000000</td>\n",
       "    </tr>\n",
       "  </tbody>\n",
       "</table>\n",
       "</div>"
      ],
      "text/plain": [
       "   home_rolling_fg  home_rolling_fg%  home_rolling_3p  home_rolling_3p%  \\\n",
       "0        38.333333          0.446833         9.166667          0.289167   \n",
       "1        41.666667          0.476000         8.666667          0.313833   \n",
       "2        40.500000          0.473333         9.666667          0.347833   \n",
       "3        43.000000          0.499833         9.333333          0.349333   \n",
       "4        36.500000          0.446333        10.666667          0.356667   \n",
       "\n",
       "   home_rolling_ft  home_rolling_ft%  home_rolling_trb  home_rolling_ast  \\\n",
       "0        19.333333          0.803167         43.666667         22.333333   \n",
       "1        17.166667          0.795000         46.666667         22.833333   \n",
       "2        16.666667          0.693833         46.500000         26.000000   \n",
       "3        15.666667          0.787667         46.000000         24.333333   \n",
       "4        16.166667          0.822167         39.833333         19.833333   \n",
       "\n",
       "   home_rolling_pts  home_rolling_efg%  home_rolling_trb%  home_rolling_drtg  \\\n",
       "0        105.166667           0.500167          48.983333         115.350000   \n",
       "1        109.166667           0.525833          53.750000         109.600000   \n",
       "2        107.333333           0.529833          53.250000         103.916667   \n",
       "3        111.000000           0.554833          53.600000         109.750000   \n",
       "4         99.833333           0.511500          48.683333          99.500000   \n",
       "\n",
       "   home_rolling_fg_max  home_rolling_3p_max  home_rolling_ft_max  \\\n",
       "0            10.666667             3.166667             6.833333   \n",
       "1            12.500000             3.333333             7.166667   \n",
       "2             9.333333             3.000000             6.166667   \n",
       "3            12.333333             3.500000             6.500000   \n",
       "4             8.000000             3.833333             6.500000   \n",
       "\n",
       "   home_rolling_fta_max  home_rolling_ft%_max  home_rolling_orb_max  \\\n",
       "0              8.000000              0.972167              3.333333   \n",
       "1              8.500000              1.000000              5.000000   \n",
       "2              7.666667              0.966667              3.666667   \n",
       "3              8.166667              1.000000              4.666667   \n",
       "4              7.833333              1.000000              3.666667   \n",
       "\n",
       "   home_rolling_drb_max  home_rolling_trb_max  home_rolling_blk_max  \\\n",
       "0             10.000000             12.000000              1.666667   \n",
       "1              8.000000             12.333333              3.166667   \n",
       "2              9.166667             11.833333              1.666667   \n",
       "3              7.833333             11.666667              3.500000   \n",
       "4              7.833333             11.166667              3.000000   \n",
       "\n",
       "   home_rolling_+/-_max  home_rolling_drtg_max  home_rolling_Total  \\\n",
       "0             10.500000             122.666667          105.166667   \n",
       "1             12.500000             118.833333          109.166667   \n",
       "2             18.666667             113.333333          107.333333   \n",
       "3             14.333333             118.833333          111.000000   \n",
       "4             18.666667             108.500000           99.833333   \n",
       "\n",
       "   home_rolling_opponent_fg  home_rolling_opponent_3pa  \\\n",
       "0                 41.666667                  29.833333   \n",
       "1                 37.000000                  35.000000   \n",
       "2                 39.000000                  32.500000   \n",
       "3                 36.666667                  36.166667   \n",
       "4                 34.166667                  27.166667   \n",
       "\n",
       "   home_rolling_opponent_ft  home_rolling_opponent_ft%  \\\n",
       "0                 16.333333                   0.790167   \n",
       "1                 18.666667                   0.802000   \n",
       "2                 14.000000                   0.699833   \n",
       "3                 18.666667                   0.783833   \n",
       "4                 15.333333                   0.775500   \n",
       "\n",
       "   home_rolling_opponent_drb  home_rolling_opponent_ast  \\\n",
       "0                  35.666667                  27.666667   \n",
       "1                  29.166667                  20.166667   \n",
       "2                  31.666667                  23.666667   \n",
       "3                  28.333333                  20.666667   \n",
       "4                  33.500000                  18.833333   \n",
       "\n",
       "   home_rolling_opponent_blk  home_rolling_opponent_tov  \\\n",
       "0                   4.333333                  12.166667   \n",
       "1                   2.833333                  12.833333   \n",
       "2                   4.333333                  17.000000   \n",
       "3                   2.833333                  13.000000   \n",
       "4                   4.000000                  19.166667   \n",
       "\n",
       "   home_rolling_opponent_ts%  home_rolling_opponent_efg%  \\\n",
       "0                   0.580333                    0.547833   \n",
       "1                   0.550833                    0.508333   \n",
       "2                   0.554167                    0.527833   \n",
       "3                   0.551667                    0.510167   \n",
       "4                   0.549000                    0.513333   \n",
       "\n",
       "   home_rolling_opponent_trb%  home_rolling_opponent_blk%  \\\n",
       "0                   51.016667                    7.900000   \n",
       "1                   46.250000                    4.933333   \n",
       "2                   46.750000                    7.483333   \n",
       "3                   46.400000                    4.950000   \n",
       "4                   51.316667                    7.566667   \n",
       "\n",
       "   home_rolling_opponent_ortg  home_rolling_opponent_drtg  \\\n",
       "0                  115.350000                  107.166667   \n",
       "1                  109.600000                  113.550000   \n",
       "2                  103.916667                  107.600000   \n",
       "3                  109.750000                  115.333333   \n",
       "4                   99.500000                  105.633333   \n",
       "\n",
       "   home_rolling_opponent_drb_max  home_rolling_opponent_blk_max  \\\n",
       "0                       8.333333                       1.833333   \n",
       "1                       6.333333                       1.333333   \n",
       "2                       7.166667                       1.666667   \n",
       "3                       5.833333                       1.333333   \n",
       "4                       9.166667                       2.000000   \n",
       "\n",
       "   home_rolling_opponent_tov_max  home_rolling_opponent_+/-_max  \\\n",
       "0                       3.166667                      16.833333   \n",
       "1                       4.000000                      12.333333   \n",
       "2                       4.500000                      15.833333   \n",
       "3                       4.000000                      10.333333   \n",
       "4                       5.666667                      11.333333   \n",
       "\n",
       "   home_rolling_opponent_orb%_max  home_rolling_opponent_drb%_max  \\\n",
       "0                       22.466667                       34.016667   \n",
       "1                       19.950000                       33.016667   \n",
       "2                       18.166667                       38.800000   \n",
       "3                       25.050000                       33.950000   \n",
       "4                       22.483333                       49.483333   \n",
       "\n",
       "   home_rolling_opponent_ast%_max  home_rolling_opponent_stl%_max  \\\n",
       "0                       44.583333                        4.766667   \n",
       "1                       45.300000                        6.733333   \n",
       "2                       43.666667                        6.450000   \n",
       "3                       45.133333                        6.050000   \n",
       "4                       49.833333                        9.933333   \n",
       "\n",
       "   home_rolling_opponent_Total  away_rolling_fg%  away_rolling_ast  \\\n",
       "0                   113.333333          0.416833         20.333333   \n",
       "1                   105.666667          0.488000         24.333333   \n",
       "2                   104.000000          0.422000         21.000000   \n",
       "3                   106.000000          0.421167         18.666667   \n",
       "4                    94.333333          0.463833         23.833333   \n",
       "\n",
       "   away_rolling_stl  away_rolling_tov  away_rolling_pts  away_rolling_efg%  \\\n",
       "0          8.500000         15.666667        100.000000           0.466167   \n",
       "1          8.500000         13.333333        111.500000           0.548333   \n",
       "2          8.333333         18.000000        108.666667           0.480500   \n",
       "3          6.166667         13.000000         99.333333           0.475833   \n",
       "4          7.833333         18.666667        106.166667           0.533667   \n",
       "\n",
       "   away_rolling_trb%  away_rolling_stl%  away_rolling_blk%  away_rolling_tov%  \\\n",
       "0          45.683333           8.416667           6.500000          13.750000   \n",
       "1          49.100000           8.566667           4.916667          12.166667   \n",
       "2          46.733333           7.800000           5.766667          15.066667   \n",
       "3          50.583333           6.366667           5.966667          12.000000   \n",
       "4          52.916667           7.850000           6.816667          16.583333   \n",
       "\n",
       "   away_rolling_ortg  away_rolling_drtg  away_rolling_fg_max  \\\n",
       "0          98.533333         107.283333             8.666667   \n",
       "1         112.533333         112.466667            10.500000   \n",
       "2         101.750000         109.400000             8.500000   \n",
       "3         102.116667         110.033333             7.333333   \n",
       "4         104.683333         106.116667             9.000000   \n",
       "\n",
       "   away_rolling_3p%_max  away_rolling_ft_max  away_rolling_fta_max  \\\n",
       "0              0.870500             5.666667              7.000000   \n",
       "1              0.743000             5.000000              5.833333   \n",
       "2              0.819500             6.666667              8.333333   \n",
       "3              0.819500             8.000000             11.166667   \n",
       "4              0.817167             5.500000              7.333333   \n",
       "\n",
       "   away_rolling_drb_max  away_rolling_trb_max  away_rolling_stl_max  \\\n",
       "0              7.666667             10.833333              2.666667   \n",
       "1              7.833333             10.500000              2.833333   \n",
       "2              6.333333              8.333333              3.000000   \n",
       "3              9.333333             13.000000              2.000000   \n",
       "4              9.333333             11.166667              3.000000   \n",
       "\n",
       "   away_rolling_tov_max  away_rolling_+/-_max  away_rolling_ftr_max  \\\n",
       "0              4.833333              6.166667              1.155500   \n",
       "1              3.333333             14.333333              0.605500   \n",
       "2              4.500000              9.166667              1.062167   \n",
       "3              3.500000              9.500000              1.122333   \n",
       "4              5.500000             15.666667              1.393667   \n",
       "\n",
       "   away_rolling_drtg_max  away_rolling_Total  away_rolling_opponent_fg  \\\n",
       "0             117.000000          100.000000                 39.333333   \n",
       "1             119.666667          111.500000                 43.833333   \n",
       "2             117.000000          108.666667                 43.333333   \n",
       "3             115.666667           99.333333                 39.166667   \n",
       "4             114.666667          106.166667                 36.333333   \n",
       "\n",
       "   away_rolling_opponent_fg%  away_rolling_opponent_3pa  \\\n",
       "0                   0.437167                  33.833333   \n",
       "1                   0.498000                  29.166667   \n",
       "2                   0.466000                  27.333333   \n",
       "3                   0.461667                  27.166667   \n",
       "4                   0.418000                  37.000000   \n",
       "\n",
       "   away_rolling_opponent_3p%  away_rolling_opponent_ft  \\\n",
       "0                   0.326500                 19.333333   \n",
       "1                   0.357333                 13.166667   \n",
       "2                   0.313333                 21.666667   \n",
       "3                   0.358500                 19.166667   \n",
       "4                   0.291833                 24.333333   \n",
       "\n",
       "   away_rolling_opponent_fta  away_rolling_opponent_drb  \\\n",
       "0                  26.500000                  38.000000   \n",
       "1                  19.166667                  32.500000   \n",
       "2                  28.500000                  38.833333   \n",
       "3                  23.000000                  36.833333   \n",
       "4                  31.000000                  32.500000   \n",
       "\n",
       "   away_rolling_opponent_trb  away_rolling_opponent_ast  \\\n",
       "0                  51.833333                  24.666667   \n",
       "1                  43.000000                  26.666667   \n",
       "2                  50.333333                  22.166667   \n",
       "3                  45.166667                  24.166667   \n",
       "4                  42.500000                  18.666667   \n",
       "\n",
       "   away_rolling_opponent_tov  away_rolling_opponent_pts  \\\n",
       "0                  16.666667                 109.000000   \n",
       "1                  15.833333                 111.500000   \n",
       "2                  14.666667                 116.666667   \n",
       "3                  12.500000                 107.000000   \n",
       "4                  13.333333                 108.000000   \n",
       "\n",
       "   away_rolling_opponent_efg%  away_rolling_opponent_trb%  \\\n",
       "0                    0.498333                   54.316667   \n",
       "1                    0.558500                   50.900000   \n",
       "2                    0.511000                   53.266667   \n",
       "3                    0.517833                   49.416667   \n",
       "4                    0.483167                   47.083333   \n",
       "\n",
       "   away_rolling_opponent_tov%  away_rolling_opponent_ortg  \\\n",
       "0                   14.116667                  107.283333   \n",
       "1                   14.033333                  112.466667   \n",
       "2                   12.216667                  109.400000   \n",
       "3                   11.633333                  110.033333   \n",
       "4                   11.833333                  106.116667   \n",
       "\n",
       "   away_rolling_opponent_drtg  away_rolling_opponent_fg%_max  \\\n",
       "0                   98.533333                       0.663333   \n",
       "1                  112.533333                       0.805333   \n",
       "2                  101.750000                       0.824167   \n",
       "3                  102.116667                       0.769500   \n",
       "4                  104.683333                       0.879000   \n",
       "\n",
       "   away_rolling_opponent_3p%_max  away_rolling_opponent_ft_max  \\\n",
       "0                       0.688167                      6.500000   \n",
       "1                       0.777833                      5.000000   \n",
       "2                       0.824000                      6.000000   \n",
       "3                       0.771167                      5.833333   \n",
       "4                       0.567667                      9.500000   \n",
       "\n",
       "   away_rolling_opponent_fta_max  away_rolling_opponent_stl_max  \\\n",
       "0                       8.666667                       2.500000   \n",
       "1                       6.666667                       2.333333   \n",
       "2                       7.500000                       3.166667   \n",
       "3                       7.500000                       2.500000   \n",
       "4                      11.500000                       3.166667   \n",
       "\n",
       "   away_rolling_opponent_blk_max  away_rolling_opponent_tov_max  \\\n",
       "0                       2.333333                       4.500000   \n",
       "1                       3.333333                       5.166667   \n",
       "2                       3.000000                       3.333333   \n",
       "3                       2.500000                       4.166667   \n",
       "4                       2.166667                       4.000000   \n",
       "\n",
       "   away_rolling_opponent_pf_max  away_rolling_opponent_+/-_max  \\\n",
       "0                      4.333333                      19.833333   \n",
       "1                      4.666667                      13.833333   \n",
       "2                      5.000000                      17.166667   \n",
       "3                      4.500000                      16.333333   \n",
       "4                      4.333333                      17.166667   \n",
       "\n",
       "   away_rolling_opponent_efg%_max  away_rolling_opponent_ast%_max  \\\n",
       "0                        0.795167                       40.600000   \n",
       "1                        0.849500                       47.133333   \n",
       "2                        0.892667                       33.050000   \n",
       "3                        0.885333                       40.916667   \n",
       "4                        0.941500                       43.900000   \n",
       "\n",
       "   away_rolling_opponent_drtg_max  away_rolling_opponent_Total  \n",
       "0                      104.666667                   109.000000  \n",
       "1                      121.000000                   111.500000  \n",
       "2                      111.333333                   116.666667  \n",
       "3                      110.166667                   107.000000  \n",
       "4                      112.833333                   108.000000  "
      ]
     },
     "execution_count": 3,
     "metadata": {},
     "output_type": "execute_result"
    }
   ],
   "source": [
    "data_base = pickle.load(open('data_base.pkl', 'rb'))\n",
    "X = data_base[cols]\n",
    "y = data_base['home_win']\n",
    "\n",
    "#print the shape of the data\n",
    "print('X shape: ', X.shape)\n",
    "print('y shape: ', y.shape)\n",
    "X.head()"
   ]
  },
  {
   "attachments": {},
   "cell_type": "markdown",
   "metadata": {},
   "source": [
    "training and testing dataset"
   ]
  },
  {
   "cell_type": "code",
   "execution_count": 4,
   "metadata": {},
   "outputs": [],
   "source": [
    "#unscaled data\n",
    "X_train, X_test, y_train, y_test = train_test_split(X, y, test_size=0.2, random_state=42)"
   ]
  },
  {
   "attachments": {},
   "cell_type": "markdown",
   "metadata": {},
   "source": [
    "Allright! Now we are going to do exactly waht we did in notebook 03, but with a subset of features. Our goal is to see if improve the accuracy of logistic regression and linear svc models, and if stops our ensemble to overfit and still get good results.\n",
    "\n",
    "Now, we are going to save the model and their instances in a new folder, model_2. We also are going to include in the model name, the number of features it used to be created with that especif set of best parameters."
   ]
  },
  {
   "cell_type": "code",
   "execution_count": 7,
   "metadata": {},
   "outputs": [],
   "source": [
    "# reusing our model creation function with diferent paths\n",
    "#creating a function that uses the ModelParams class to instantiates the model, its parameters and its respective scaler. Then, it instantiates the ModelDevelopment class and \n",
    "#uses the grid_search function to find the best parameters for the model.\n",
    "def instantiate_best_model(model: object, X, y, scoring, path, n_features, scaler=True, random_search=False):\n",
    "        \"\"\" Info:\n",
    "                returns the model tunned with the best parameters\n",
    "            -------------------------------------------------\n",
    "             Input:\n",
    "                model: Model to be tested\n",
    "                X: Feature set\n",
    "                y: Target series\n",
    "                scoring: Metric to be optimized\n",
    "                path: Path to save the model\n",
    "                scaler: Whether to use a scaler or not\n",
    "                random_search: Whether to use random search or not\n",
    "                n_features: Number of features used in the model training\n",
    "             ------------------------------------------------\n",
    "             Output:\n",
    "               best_model: Best model found by the grid search\n",
    "               best_params: Best parameters found by the grid search\n",
    "               best_score: Best score found by the grid search \"\"\"\n",
    "        \n",
    "        # Using the ModelParams class to instantiate the model, its parameters and its respective scaler\n",
    "        model_params = ModelParams(model, n_features, scaler)\n",
    "        pipe, params, model_name = model_params.get_pipe()\n",
    "        #checking if the model is already saved in the models folder\n",
    "        # if the model is not saved, we instantiate the ModelDevelopment class and use the grid_search function to find the best parameters for the model and then save it\n",
    "        if scaler:\n",
    "                if not os.path.exists(path+model_name+'_'+str(n_features)+'.pkl'): \n",
    "                         # Using the ModelDevelopment class to instantiate the model\n",
    "                        clf_instance = ModelDevelopment(pipe, model_name, X, y)\n",
    "                        # Using the search function to find the best parameters for the model\n",
    "                        if random_search:\n",
    "                                best_model, *_  = clf_instance.random_search(params, scoring)\n",
    "                        else:\n",
    "                                best_model, *_  = clf_instance.grid_search(params, scoring) # This also fits the model instance with a variety of parameters against the dataset\n",
    "                        #saving best model with best parameters to pickle file:\n",
    "                        file_name = path+model_name+'_'+str(n_features)+'.pkl'\n",
    "                        instance_name = path+model_name+'_'+str(n_features)+'_instance.pkl'\n",
    "                        with open(file_name, 'wb') as f:\n",
    "                                pickle.dump(best_model, f)\n",
    "                        with open(instance_name, 'wb') as f:\n",
    "                                pickle.dump(clf_instance, f) \n",
    "                else:\n",
    "                        print('Model already saved')\n",
    "                        pass\n",
    "                       \n",
    "        else:\n",
    "                if not os.path.exists(path+model_name+'_'+str(n_features)+'_unscaled.pkl'):\n",
    "                         # Using the ModelDevelopment class to instantiate the model\n",
    "                        clf_instance = ModelDevelopment(pipe, model_name, X, y)\n",
    "                        # Using the grid_search function to find the best parameters for the model\n",
    "                        if random_search:\n",
    "                                best_model, *_  = clf_instance.random_search(params, scoring)\n",
    "                        else:\n",
    "                                best_model, *_  = clf_instance.grid_search(params, scoring) # This also fits the model instance with a variety of parameters against the dataset\n",
    "                        #saving best model with best parameters to pickle file:\n",
    "                        file_name = path+model_name+'_'+str(n_features)+'_unscaled.pkl'\n",
    "                        instance_name = path+model_name+'_'+str(n_features)+'_unscaled_instance.pkl'\n",
    "                        with open(file_name, 'wb') as f:\n",
    "                                pickle.dump(best_model, f)\n",
    "                        with open(instance_name, 'wb') as f:\n",
    "                                pickle.dump(clf_instance, f) \n",
    "                else:\n",
    "                        print('Model already saved')\n",
    "                        pass     "
   ]
  },
  {
   "attachments": {},
   "cell_type": "markdown",
   "metadata": {},
   "source": [
    "# Trying to find the best parameters models given the 100 best features found by logistic regression"
   ]
  },
  {
   "cell_type": "code",
   "execution_count": 8,
   "metadata": {},
   "outputs": [],
   "source": [
    "#model evaluation on ttrain and test set\n",
    "# takes in the model best parameters, X_train and y_train to fit and X_test and y_test to predict\n",
    "\n",
    "def test_model(model_instance, model, X_train=X_train, X_test=X_test, y_train=y_train, y_test=y_test):\n",
    "    \"\"\" Info:\n",
    "                returns the metrics of the  model tunned with the best parameters\n",
    "            -------------------------------------------------\n",
    "             Input:\n",
    "                model_instance: Model instance\n",
    "                model: Model to be tested\n",
    "                X_train: Train feature set\n",
    "                X_test: Test feature set\n",
    "                y_train: Train target series\n",
    "                y_test: Test target series\n",
    "             ------------------------------------------------\n",
    "             Output:\n",
    "               Prints the model metrics \"\"\"\n",
    "\n",
    "    parameters = model_instance[1].get_params()\n",
    "    model_test = model(**parameters)\n",
    "    model_test.fit(X_train, y_train)\n",
    "    y_pred = model_test.predict(X_test)\n",
    "    accuracy = accuracy_score(y_test, y_pred)\n",
    "    precision = precision_score(y_test, y_pred)\n",
    "    recall = recall_score(y_test, y_pred)\n",
    "    f1 = f1_score(y_test, y_pred)\n",
    "    auc = roc_auc_score(y_test, y_pred)\n",
    "    print(f'Accuracy: {accuracy:.1%}' )\n",
    "    print(f'Precision: {precision:.1%}')\n",
    "    print(f'Recall: {recall:.1%}')\n",
    "    print(f'F1: {f1:.1%}')\n",
    "    print(f'AUC: {auc:.1%}') #auc score"
   ]
  },
  {
   "attachments": {},
   "cell_type": "markdown",
   "metadata": {},
   "source": [
    "Logistic Regression"
   ]
  },
  {
   "cell_type": "code",
   "execution_count": 9,
   "metadata": {},
   "outputs": [
    {
     "name": "stdout",
     "output_type": "stream",
     "text": [
      "Model already saved\n"
     ]
    }
   ],
   "source": [
    "# instantiating the best model for logistic regression\n",
    "instantiate_best_model(LogisticRegression(random_state=42), X, y, 'roc_auc', 'models_2/', scaler=True, random_search=False, n_features=X.shape[1])"
   ]
  },
  {
   "cell_type": "code",
   "execution_count": 10,
   "metadata": {},
   "outputs": [
    {
     "name": "stdout",
     "output_type": "stream",
     "text": [
      "Accuracy: 76.6%\n",
      "Precision: 77.0%\n",
      "Recall: 82.7%\n",
      "F1: 79.7%\n",
      "AUC: 75.8%\n"
     ]
    },
    {
     "data": {
      "image/png": "[encoded data removed]",
      "text/plain": [
       "<Figure size 640x480 with 1 Axes>"
      ]
     },
     "metadata": {},
     "output_type": "display_data"
    },
    {
     "data": {
      "image/png": "[encoded data removed]",
      "text/plain": [
       "<Figure size 640x480 with 2 Axes>"
      ]
     },
     "metadata": {},
     "output_type": "display_data"
    }
   ],
   "source": [
    "LR_instance = pickle.load(open('models_2/LogisticRegression_100_instance.pkl', 'rb'))\n",
    "\n",
    "#ploting metrics\n",
    "LR_instance.model_metrics()\n",
    "LR_instance.roc_curve()\n",
    "LR_instance.plot_confusion_matrix()\n"
   ]
  },
  {
   "cell_type": "code",
   "execution_count": 11,
   "metadata": {},
   "outputs": [
    {
     "data": {
      "text/plain": [
       "{'logisticregression__C': 0.001,\n",
       " 'logisticregression__max_iter': 10000,\n",
       " 'logisticregression__penalty': 'l2',\n",
       " 'logisticregression__solver': 'newton-cg'}"
      ]
     },
     "execution_count": 11,
     "metadata": {},
     "output_type": "execute_result"
    }
   ],
   "source": [
    "LR_instance.best_params"
   ]
  },
  {
   "cell_type": "code",
   "execution_count": 15,
   "metadata": {},
   "outputs": [],
   "source": [
    "LR = pickle.load(open('models_2/LogisticRegression_100.pkl', 'rb'))"
   ]
  },
  {
   "cell_type": "code",
   "execution_count": 16,
   "metadata": {},
   "outputs": [
    {
     "name": "stdout",
     "output_type": "stream",
     "text": [
      "Accuracy: 73.2%\n",
      "Precision: 73.1%\n",
      "Recall: 81.0%\n",
      "F1: 76.8%\n",
      "AUC: 72.3%\n"
     ]
    }
   ],
   "source": [
    "#metrics test\n",
    "test_model(LR, LogisticRegression,\n",
    "            X_train=X_train, X_test=X_test, y_train=y_train, y_test=y_test)"
   ]
  },
  {
   "attachments": {},
   "cell_type": "markdown",
   "metadata": {},
   "source": [
    "The model did worst that the model trained with all the features. Was ROC 76.1% and now 75.8%"
   ]
  },
  {
   "attachments": {},
   "cell_type": "markdown",
   "metadata": {},
   "source": [
    "Linear SVC"
   ]
  },
  {
   "cell_type": "code",
   "execution_count": 12,
   "metadata": {},
   "outputs": [
    {
     "name": "stdout",
     "output_type": "stream",
     "text": [
      "Model already saved\n"
     ]
    }
   ],
   "source": [
    "# instantiating the best model for linear SVC\n",
    "instantiate_best_model(LinearSVC(random_state=42), X, y, 'roc_auc', 'models_2/', scaler=True, random_search=False, n_features=X.shape[1])"
   ]
  },
  {
   "cell_type": "code",
   "execution_count": 13,
   "metadata": {},
   "outputs": [
    {
     "name": "stdout",
     "output_type": "stream",
     "text": [
      "Accuracy: 75.1%\n",
      "Precision: 78.0%\n",
      "Recall: 77.0%\n",
      "F1: 77.5%\n",
      "AUC: 74.9%\n"
     ]
    },
    {
     "data": {
      "image/png": "[encoded data removed]",
      "text/plain": [
       "<Figure size 640x480 with 2 Axes>"
      ]
     },
     "metadata": {},
     "output_type": "display_data"
    }
   ],
   "source": [
    "SVM_instance = pickle.load(open('models_2/LinearSVC_100_instance.pkl', 'rb'))\n",
    "SVM_instance.model_metrics()\n",
    "SVM_instance.plot_confusion_matrix()"
   ]
  },
  {
   "cell_type": "code",
   "execution_count": 13,
   "metadata": {},
   "outputs": [
    {
     "data": {
      "text/plain": [
       "{'linearsvc__C': 0.0001,\n",
       " 'linearsvc__loss': 'squared_hinge',\n",
       " 'linearsvc__max_iter': 100000}"
      ]
     },
     "execution_count": 13,
     "metadata": {},
     "output_type": "execute_result"
    }
   ],
   "source": [
    "#model best params\n",
    "SVM_instance.best_params"
   ]
  },
  {
   "cell_type": "code",
   "execution_count": 17,
   "metadata": {},
   "outputs": [],
   "source": [
    "SVM = pickle.load(open('models_2/LinearSVC_100.pkl', 'rb'))"
   ]
  },
  {
   "cell_type": "code",
   "execution_count": 18,
   "metadata": {},
   "outputs": [
    {
     "name": "stdout",
     "output_type": "stream",
     "text": [
      "Accuracy: 73.1%\n",
      "Precision: 75.8%\n",
      "Recall: 74.8%\n",
      "F1: 75.3%\n",
      "AUC: 72.9%\n"
     ]
    }
   ],
   "source": [
    "#metrics test\n",
    "test_model(SVM, LinearSVC, X_train=X_train, X_test=X_test, y_train=y_train, y_test=y_test)"
   ]
  },
  {
   "attachments": {},
   "cell_type": "markdown",
   "metadata": {},
   "source": [
    "ROC 0.1% better than with all features dataset."
   ]
  },
  {
   "attachments": {},
   "cell_type": "markdown",
   "metadata": {},
   "source": [
    "Random Forest"
   ]
  },
  {
   "cell_type": "code",
   "execution_count": null,
   "metadata": {},
   "outputs": [],
   "source": [
    "# instantiating the best model for random forest\n",
    "instantiate_best_model(RandomForestClassifier(random_state=42), X, y, 'roc_auc', 'models_2/', scaler=True, random_search=True, n_features=X.shape[1])"
   ]
  },
  {
   "cell_type": "code",
   "execution_count": null,
   "metadata": {},
   "outputs": [
    {
     "name": "stdout",
     "output_type": "stream",
     "text": [
      "Accuracy: 90.4%\n",
      "Precision: 88.2%\n",
      "Recall: 95.6%\n",
      "F1: 91.7%\n",
      "AUC: 89.7%\n"
     ]
    },
    {
     "data": {
      "image/png": "[encoded data removed]",
      "text/plain": [
       "<Figure size 640x480 with 2 Axes>"
      ]
     },
     "metadata": {},
     "output_type": "display_data"
    }
   ],
   "source": [
    "forest_instance = pickle.load(open('models_2/RandomForestClassifier_100_instance.pkl', 'rb'))\n",
    "forest_instance.model_metrics()\n",
    "forest_instance.plot_confusion_matrix()"
   ]
  },
  {
   "cell_type": "code",
   "execution_count": null,
   "metadata": {},
   "outputs": [
    {
     "data": {
      "text/plain": [
       "{'randomforestclassifier__n_estimators': 1500,\n",
       " 'randomforestclassifier__min_weight_fraction_leaf': 0.0,\n",
       " 'randomforestclassifier__min_samples_split': 5,\n",
       " 'randomforestclassifier__min_samples_leaf': 2,\n",
       " 'randomforestclassifier__min_impurity_decrease': 0.0,\n",
       " 'randomforestclassifier__max_leaf_nodes': 91,\n",
       " 'randomforestclassifier__max_features': 'sqrt',\n",
       " 'randomforestclassifier__max_depth': 9,\n",
       " 'randomforestclassifier__criterion': 'entropy'}"
      ]
     },
     "execution_count": 14,
     "metadata": {},
     "output_type": "execute_result"
    }
   ],
   "source": [
    "forest_instance.best_params"
   ]
  },
  {
   "cell_type": "code",
   "execution_count": 19,
   "metadata": {},
   "outputs": [],
   "source": [
    "forest = pickle.load(open('models_2/RandomForestClassifier_100.pkl', 'rb'))"
   ]
  },
  {
   "cell_type": "code",
   "execution_count": 20,
   "metadata": {},
   "outputs": [
    {
     "name": "stdout",
     "output_type": "stream",
     "text": [
      "Accuracy: 72.1%\n",
      "Precision: 72.0%\n",
      "Recall: 80.6%\n",
      "F1: 76.0%\n",
      "AUC: 71.2%\n"
     ]
    }
   ],
   "source": [
    "#metrics test\n",
    "test_model(forest, RandomForestClassifier, X_train=X_train, X_test=X_test, y_train=y_train, y_test=y_test)"
   ]
  },
  {
   "attachments": {},
   "cell_type": "markdown",
   "metadata": {},
   "source": [
    "Gradient boosting"
   ]
  },
  {
   "cell_type": "code",
   "execution_count": 15,
   "metadata": {},
   "outputs": [
    {
     "name": "stdout",
     "output_type": "stream",
     "text": [
      "Model already saved\n"
     ]
    }
   ],
   "source": [
    "# instantiating the best model for gradient boosting\n",
    "instantiate_best_model(GradientBoostingClassifier(random_state=42), X, y, 'roc_auc', 'models_2/', scaler=True, random_search=True, n_features=X.shape[1])"
   ]
  },
  {
   "cell_type": "code",
   "execution_count": 16,
   "metadata": {},
   "outputs": [
    {
     "name": "stdout",
     "output_type": "stream",
     "text": [
      "Accuracy: 97.8%\n",
      "Precision: 96.6%\n",
      "Recall: 99.6%\n",
      "F1: 98.0%\n",
      "AUC: 97.6%\n"
     ]
    },
    {
     "data": {
      "image/png": "[encoded data removed]",
      "text/plain": [
       "<Figure size 640x480 with 2 Axes>"
      ]
     },
     "metadata": {},
     "output_type": "display_data"
    }
   ],
   "source": [
    "gb_instance = pickle.load(open('models_2/GradientBoostingClassifier_100_instance.pkl', 'rb'))\n",
    "gb_instance.model_metrics()\n",
    "gb_instance.plot_confusion_matrix()"
   ]
  },
  {
   "cell_type": "code",
   "execution_count": 21,
   "metadata": {},
   "outputs": [],
   "source": [
    "gradient = pickle.load(open('models_2/GradientBoostingClassifier_100.pkl', 'rb'))"
   ]
  },
  {
   "cell_type": "code",
   "execution_count": 22,
   "metadata": {},
   "outputs": [
    {
     "name": "stdout",
     "output_type": "stream",
     "text": [
      "Accuracy: 73.0%\n",
      "Precision: 73.2%\n",
      "Recall: 80.3%\n",
      "F1: 76.6%\n",
      "AUC: 72.2%\n"
     ]
    }
   ],
   "source": [
    "#metrics test\n",
    "test_model(gradient, GradientBoostingClassifier, X_train=X_train_minmax, X_test=X_test_minmax, y_train=y_train, y_test=y_test)"
   ]
  },
  {
   "attachments": {},
   "cell_type": "markdown",
   "metadata": {},
   "source": [
    "Overfitted."
   ]
  },
  {
   "attachments": {},
   "cell_type": "markdown",
   "metadata": {},
   "source": [
    "# Trying to find the best parameters models given the 100 best features found by PCA, using random forest"
   ]
  },
  {
   "cell_type": "code",
   "execution_count": 23,
   "metadata": {},
   "outputs": [
    {
     "name": "stdout",
     "output_type": "stream",
     "text": [
      "100\n"
     ]
    },
    {
     "data": {
      "text/html": [
       "<div>\n",
       "<style scoped>\n",
       "    .dataframe tbody tr th:only-of-type {\n",
       "        vertical-align: middle;\n",
       "    }\n",
       "\n",
       "    .dataframe tbody tr th {\n",
       "        vertical-align: top;\n",
       "    }\n",
       "\n",
       "    .dataframe thead th {\n",
       "        text-align: right;\n",
       "    }\n",
       "</style>\n",
       "<table border=\"1\" class=\"dataframe\">\n",
       "  <thead>\n",
       "    <tr style=\"text-align: right;\">\n",
       "      <th></th>\n",
       "      <th>PCA</th>\n",
       "    </tr>\n",
       "  </thead>\n",
       "  <tbody>\n",
       "    <tr>\n",
       "      <th>0</th>\n",
       "      <td>away_rolling_pts</td>\n",
       "    </tr>\n",
       "    <tr>\n",
       "      <th>1</th>\n",
       "      <td>away_rolling_Total</td>\n",
       "    </tr>\n",
       "    <tr>\n",
       "      <th>2</th>\n",
       "      <td>away_rolling_opponent_drtg</td>\n",
       "    </tr>\n",
       "    <tr>\n",
       "      <th>3</th>\n",
       "      <td>away_rolling_ortg</td>\n",
       "    </tr>\n",
       "    <tr>\n",
       "      <th>4</th>\n",
       "      <td>home_rolling_opponent_pts</td>\n",
       "    </tr>\n",
       "  </tbody>\n",
       "</table>\n",
       "</div>"
      ],
      "text/plain": [
       "                          PCA\n",
       "0            away_rolling_pts\n",
       "1          away_rolling_Total\n",
       "2  away_rolling_opponent_drtg\n",
       "3           away_rolling_ortg\n",
       "4   home_rolling_opponent_pts"
      ]
     },
     "execution_count": 23,
     "metadata": {},
     "output_type": "execute_result"
    }
   ],
   "source": [
    "best_features = pd.read_csv('best_features/PCA_100.csv', sep=',')\n",
    "cols = best_features.values.reshape(-1).tolist()\n",
    "print(len(cols))\n",
    "best_features.head() "
   ]
  },
  {
   "cell_type": "code",
   "execution_count": 31,
   "metadata": {},
   "outputs": [],
   "source": [
    "data_base = pickle.load(open('data_base.pkl', 'rb'))\n",
    "X = data_base[cols]\n",
    "y = data_base['home_win']"
   ]
  },
  {
   "cell_type": "code",
   "execution_count": 34,
   "metadata": {},
   "outputs": [],
   "source": [
    "X_PCA_train, X_PCA_test, y_PCA_train, y_PCA_test = train_test_split(X, y, test_size=0.2, random_state=42)"
   ]
  },
  {
   "cell_type": "code",
   "execution_count": 32,
   "metadata": {},
   "outputs": [
    {
     "data": {
      "text/plain": [
       "(5999, 100)"
      ]
     },
     "execution_count": 32,
     "metadata": {},
     "output_type": "execute_result"
    }
   ],
   "source": [
    "X.shape"
   ]
  },
  {
   "cell_type": "code",
   "execution_count": 27,
   "metadata": {},
   "outputs": [
    {
     "name": "stdout",
     "output_type": "stream",
     "text": [
      "Accuracy: 81.6%\n",
      "Precision: 79.9%\n",
      "Recall: 88.8%\n",
      "F1: 84.1%\n",
      "AUC: 80.8%\n"
     ]
    },
    {
     "data": {
      "image/png": "[encoded data removed]",
      "text/plain": [
       "<Figure size 640x480 with 2 Axes>"
      ]
     },
     "metadata": {},
     "output_type": "display_data"
    }
   ],
   "source": [
    "forest_instance = pickle.load(open('models_2/RandomForestClassifier_100_instance.pkl', 'rb'))\n",
    "forest_instance.model_metrics()\n",
    "forest_instance.plot_confusion_matrix()"
   ]
  },
  {
   "cell_type": "code",
   "execution_count": 28,
   "metadata": {},
   "outputs": [
    {
     "data": {
      "text/plain": [
       "{'randomforestclassifier__n_estimators': 1500,\n",
       " 'randomforestclassifier__min_weight_fraction_leaf': 0.0,\n",
       " 'randomforestclassifier__min_samples_split': 5,\n",
       " 'randomforestclassifier__min_samples_leaf': 2,\n",
       " 'randomforestclassifier__min_impurity_decrease': 0.0,\n",
       " 'randomforestclassifier__max_leaf_nodes': 91,\n",
       " 'randomforestclassifier__max_features': 'sqrt',\n",
       " 'randomforestclassifier__max_depth': 8,\n",
       " 'randomforestclassifier__criterion': 'entropy'}"
      ]
     },
     "execution_count": 28,
     "metadata": {},
     "output_type": "execute_result"
    }
   ],
   "source": [
    "forest_instance.best_params"
   ]
  },
  {
   "cell_type": "code",
   "execution_count": 35,
   "metadata": {},
   "outputs": [
    {
     "name": "stdout",
     "output_type": "stream",
     "text": [
      "Accuracy: 71.4%\n",
      "Precision: 71.5%\n",
      "Recall: 79.7%\n",
      "F1: 75.4%\n",
      "AUC: 70.5%\n"
     ]
    }
   ],
   "source": [
    "test_model(forest, RandomForestClassifier, X_train=X_PCA_train, X_test=X_PCA_test, y_train=y_PCA_train, y_test=y_PCA_test)"
   ]
  },
  {
   "attachments": {},
   "cell_type": "markdown",
   "metadata": {},
   "source": [
    "# Trying to find the best parameters models given the 50best features found by logistic regression"
   ]
  },
  {
   "cell_type": "code",
   "execution_count": 36,
   "metadata": {},
   "outputs": [
    {
     "data": {
      "text/html": [
       "<div>\n",
       "<style scoped>\n",
       "    .dataframe tbody tr th:only-of-type {\n",
       "        vertical-align: middle;\n",
       "    }\n",
       "\n",
       "    .dataframe tbody tr th {\n",
       "        vertical-align: top;\n",
       "    }\n",
       "\n",
       "    .dataframe thead th {\n",
       "        text-align: right;\n",
       "    }\n",
       "</style>\n",
       "<table border=\"1\" class=\"dataframe\">\n",
       "  <thead>\n",
       "    <tr style=\"text-align: right;\">\n",
       "      <th></th>\n",
       "      <th>0</th>\n",
       "    </tr>\n",
       "  </thead>\n",
       "  <tbody>\n",
       "    <tr>\n",
       "      <th>0</th>\n",
       "      <td>home_rolling_ft</td>\n",
       "    </tr>\n",
       "    <tr>\n",
       "      <th>1</th>\n",
       "      <td>home_rolling_drb</td>\n",
       "    </tr>\n",
       "    <tr>\n",
       "      <th>2</th>\n",
       "      <td>home_rolling_pts</td>\n",
       "    </tr>\n",
       "    <tr>\n",
       "      <th>3</th>\n",
       "      <td>home_rolling_orb%</td>\n",
       "    </tr>\n",
       "    <tr>\n",
       "      <th>4</th>\n",
       "      <td>home_rolling_ast%</td>\n",
       "    </tr>\n",
       "  </tbody>\n",
       "</table>\n",
       "</div>"
      ],
      "text/plain": [
       "                   0\n",
       "0    home_rolling_ft\n",
       "1   home_rolling_drb\n",
       "2   home_rolling_pts\n",
       "3  home_rolling_orb%\n",
       "4  home_rolling_ast%"
      ]
     },
     "execution_count": 36,
     "metadata": {},
     "output_type": "execute_result"
    }
   ],
   "source": [
    "best_features = pd.read_csv('best_features/LogisticRegression_50.csv', sep=',')\n",
    "cols = best_features.values.reshape(-1).tolist()\n",
    "best_features.head() "
   ]
  },
  {
   "attachments": {},
   "cell_type": "markdown",
   "metadata": {},
   "source": [
    "Loading our dataset and plugigng in our new columns"
   ]
  },
  {
   "cell_type": "code",
   "execution_count": 43,
   "metadata": {},
   "outputs": [
    {
     "name": "stdout",
     "output_type": "stream",
     "text": [
      "X shape:  (5999, 50)\n",
      "y shape:  (5999,)\n"
     ]
    },
    {
     "data": {
      "text/html": [
       "<div>\n",
       "<style scoped>\n",
       "    .dataframe tbody tr th:only-of-type {\n",
       "        vertical-align: middle;\n",
       "    }\n",
       "\n",
       "    .dataframe tbody tr th {\n",
       "        vertical-align: top;\n",
       "    }\n",
       "\n",
       "    .dataframe thead th {\n",
       "        text-align: right;\n",
       "    }\n",
       "</style>\n",
       "<table border=\"1\" class=\"dataframe\">\n",
       "  <thead>\n",
       "    <tr style=\"text-align: right;\">\n",
       "      <th></th>\n",
       "      <th>home_rolling_ft</th>\n",
       "      <th>home_rolling_drb</th>\n",
       "      <th>home_rolling_pts</th>\n",
       "      <th>home_rolling_orb%</th>\n",
       "      <th>home_rolling_ast%</th>\n",
       "      <th>home_rolling_trb_max</th>\n",
       "      <th>home_rolling_pts_max</th>\n",
       "      <th>home_rolling_+/-_max</th>\n",
       "      <th>home_rolling_drb%_max</th>\n",
       "      <th>home_rolling_tov%_max</th>\n",
       "      <th>home_rolling_ortg_max</th>\n",
       "      <th>home_rolling_Total</th>\n",
       "      <th>home_rolling_opponent_3pa</th>\n",
       "      <th>home_rolling_opponent_tov</th>\n",
       "      <th>home_rolling_opponent_pts</th>\n",
       "      <th>home_rolling_opponent_blk%</th>\n",
       "      <th>home_rolling_opponent_pts_max</th>\n",
       "      <th>home_rolling_opponent_orb%_max</th>\n",
       "      <th>home_rolling_opponent_drb%_max</th>\n",
       "      <th>home_rolling_opponent_ast%_max</th>\n",
       "      <th>home_rolling_opponent_stl%_max</th>\n",
       "      <th>home_rolling_opponent_usg%_max</th>\n",
       "      <th>home_rolling_opponent_ortg_max</th>\n",
       "      <th>home_rolling_opponent_drtg_max</th>\n",
       "      <th>home_rolling_opponent_Total</th>\n",
       "      <th>away_rolling_fta</th>\n",
       "      <th>away_rolling_fta_max</th>\n",
       "      <th>away_rolling_trb_max</th>\n",
       "      <th>away_rolling_pts_max</th>\n",
       "      <th>away_rolling_+/-_max</th>\n",
       "      <th>away_rolling_drb%_max</th>\n",
       "      <th>away_rolling_trb%_max</th>\n",
       "      <th>away_rolling_ast%_max</th>\n",
       "      <th>away_rolling_stl%_max</th>\n",
       "      <th>away_rolling_blk%_max</th>\n",
       "      <th>away_rolling_drtg_max</th>\n",
       "      <th>away_rolling_Total</th>\n",
       "      <th>away_rolling_opponent_3pa</th>\n",
       "      <th>away_rolling_opponent_drb%</th>\n",
       "      <th>away_rolling_opponent_blk%</th>\n",
       "      <th>away_rolling_opponent_tov%</th>\n",
       "      <th>away_rolling_opponent_usg%</th>\n",
       "      <th>away_rolling_opponent_drtg</th>\n",
       "      <th>away_rolling_opponent_fta_max</th>\n",
       "      <th>away_rolling_opponent_+/-_max</th>\n",
       "      <th>away_rolling_opponent_ast%_max</th>\n",
       "      <th>away_rolling_opponent_stl%_max</th>\n",
       "      <th>away_rolling_opponent_tov%_max</th>\n",
       "      <th>away_rolling_opponent_drtg_max</th>\n",
       "      <th>away_rolling_opponent_Total</th>\n",
       "    </tr>\n",
       "  </thead>\n",
       "  <tbody>\n",
       "    <tr>\n",
       "      <th>0</th>\n",
       "      <td>19.333333</td>\n",
       "      <td>34.000000</td>\n",
       "      <td>105.166667</td>\n",
       "      <td>21.216667</td>\n",
       "      <td>57.916667</td>\n",
       "      <td>12.000000</td>\n",
       "      <td>27.666667</td>\n",
       "      <td>10.500000</td>\n",
       "      <td>36.766667</td>\n",
       "      <td>31.666667</td>\n",
       "      <td>192.333333</td>\n",
       "      <td>105.166667</td>\n",
       "      <td>29.833333</td>\n",
       "      <td>12.166667</td>\n",
       "      <td>113.333333</td>\n",
       "      <td>7.900000</td>\n",
       "      <td>26.833333</td>\n",
       "      <td>22.466667</td>\n",
       "      <td>34.016667</td>\n",
       "      <td>44.583333</td>\n",
       "      <td>4.766667</td>\n",
       "      <td>34.883333</td>\n",
       "      <td>169.500000</td>\n",
       "      <td>114.666667</td>\n",
       "      <td>113.333333</td>\n",
       "      <td>23.666667</td>\n",
       "      <td>7.000000</td>\n",
       "      <td>10.833333</td>\n",
       "      <td>23.333333</td>\n",
       "      <td>6.166667</td>\n",
       "      <td>48.050000</td>\n",
       "      <td>31.400000</td>\n",
       "      <td>49.700000</td>\n",
       "      <td>5.250000</td>\n",
       "      <td>6.550000</td>\n",
       "      <td>117.000000</td>\n",
       "      <td>100.000000</td>\n",
       "      <td>33.833333</td>\n",
       "      <td>79.850000</td>\n",
       "      <td>8.533333</td>\n",
       "      <td>14.116667</td>\n",
       "      <td>100.0</td>\n",
       "      <td>98.533333</td>\n",
       "      <td>8.666667</td>\n",
       "      <td>19.833333</td>\n",
       "      <td>40.600000</td>\n",
       "      <td>4.966667</td>\n",
       "      <td>34.283333</td>\n",
       "      <td>104.666667</td>\n",
       "      <td>109.000000</td>\n",
       "    </tr>\n",
       "    <tr>\n",
       "      <th>1</th>\n",
       "      <td>17.166667</td>\n",
       "      <td>35.166667</td>\n",
       "      <td>109.166667</td>\n",
       "      <td>28.133333</td>\n",
       "      <td>55.000000</td>\n",
       "      <td>12.333333</td>\n",
       "      <td>33.500000</td>\n",
       "      <td>12.500000</td>\n",
       "      <td>40.116667</td>\n",
       "      <td>39.116667</td>\n",
       "      <td>159.833333</td>\n",
       "      <td>109.166667</td>\n",
       "      <td>35.000000</td>\n",
       "      <td>12.833333</td>\n",
       "      <td>105.666667</td>\n",
       "      <td>4.933333</td>\n",
       "      <td>26.166667</td>\n",
       "      <td>19.950000</td>\n",
       "      <td>33.016667</td>\n",
       "      <td>45.300000</td>\n",
       "      <td>6.733333</td>\n",
       "      <td>38.683333</td>\n",
       "      <td>150.166667</td>\n",
       "      <td>120.833333</td>\n",
       "      <td>105.666667</td>\n",
       "      <td>19.333333</td>\n",
       "      <td>5.833333</td>\n",
       "      <td>10.500000</td>\n",
       "      <td>27.666667</td>\n",
       "      <td>14.333333</td>\n",
       "      <td>40.483333</td>\n",
       "      <td>25.550000</td>\n",
       "      <td>35.116667</td>\n",
       "      <td>8.200000</td>\n",
       "      <td>5.283333</td>\n",
       "      <td>119.666667</td>\n",
       "      <td>111.500000</td>\n",
       "      <td>29.166667</td>\n",
       "      <td>77.833333</td>\n",
       "      <td>11.050000</td>\n",
       "      <td>14.033333</td>\n",
       "      <td>100.0</td>\n",
       "      <td>112.533333</td>\n",
       "      <td>6.666667</td>\n",
       "      <td>13.833333</td>\n",
       "      <td>47.133333</td>\n",
       "      <td>5.516667</td>\n",
       "      <td>30.066667</td>\n",
       "      <td>121.000000</td>\n",
       "      <td>111.500000</td>\n",
       "    </tr>\n",
       "    <tr>\n",
       "      <th>2</th>\n",
       "      <td>16.666667</td>\n",
       "      <td>35.333333</td>\n",
       "      <td>107.333333</td>\n",
       "      <td>26.000000</td>\n",
       "      <td>63.766667</td>\n",
       "      <td>11.833333</td>\n",
       "      <td>26.666667</td>\n",
       "      <td>18.666667</td>\n",
       "      <td>37.250000</td>\n",
       "      <td>41.333333</td>\n",
       "      <td>183.833333</td>\n",
       "      <td>107.333333</td>\n",
       "      <td>32.500000</td>\n",
       "      <td>17.000000</td>\n",
       "      <td>104.000000</td>\n",
       "      <td>7.483333</td>\n",
       "      <td>20.166667</td>\n",
       "      <td>18.166667</td>\n",
       "      <td>38.800000</td>\n",
       "      <td>43.666667</td>\n",
       "      <td>6.450000</td>\n",
       "      <td>34.200000</td>\n",
       "      <td>195.666667</td>\n",
       "      <td>116.166667</td>\n",
       "      <td>104.000000</td>\n",
       "      <td>29.333333</td>\n",
       "      <td>8.333333</td>\n",
       "      <td>8.333333</td>\n",
       "      <td>23.833333</td>\n",
       "      <td>9.166667</td>\n",
       "      <td>28.583333</td>\n",
       "      <td>20.733333</td>\n",
       "      <td>50.416667</td>\n",
       "      <td>6.433333</td>\n",
       "      <td>5.883333</td>\n",
       "      <td>117.000000</td>\n",
       "      <td>108.666667</td>\n",
       "      <td>27.333333</td>\n",
       "      <td>80.383333</td>\n",
       "      <td>13.033333</td>\n",
       "      <td>12.216667</td>\n",
       "      <td>100.0</td>\n",
       "      <td>101.750000</td>\n",
       "      <td>7.500000</td>\n",
       "      <td>17.166667</td>\n",
       "      <td>33.050000</td>\n",
       "      <td>6.516667</td>\n",
       "      <td>45.466667</td>\n",
       "      <td>111.333333</td>\n",
       "      <td>116.666667</td>\n",
       "    </tr>\n",
       "    <tr>\n",
       "      <th>3</th>\n",
       "      <td>15.666667</td>\n",
       "      <td>35.500000</td>\n",
       "      <td>111.000000</td>\n",
       "      <td>26.583333</td>\n",
       "      <td>56.716667</td>\n",
       "      <td>11.666667</td>\n",
       "      <td>32.666667</td>\n",
       "      <td>14.333333</td>\n",
       "      <td>39.983333</td>\n",
       "      <td>36.450000</td>\n",
       "      <td>166.833333</td>\n",
       "      <td>111.000000</td>\n",
       "      <td>36.166667</td>\n",
       "      <td>13.000000</td>\n",
       "      <td>106.000000</td>\n",
       "      <td>4.950000</td>\n",
       "      <td>24.500000</td>\n",
       "      <td>25.050000</td>\n",
       "      <td>33.950000</td>\n",
       "      <td>45.133333</td>\n",
       "      <td>6.050000</td>\n",
       "      <td>38.600000</td>\n",
       "      <td>148.333333</td>\n",
       "      <td>122.333333</td>\n",
       "      <td>106.000000</td>\n",
       "      <td>29.000000</td>\n",
       "      <td>11.166667</td>\n",
       "      <td>13.000000</td>\n",
       "      <td>22.166667</td>\n",
       "      <td>9.500000</td>\n",
       "      <td>33.500000</td>\n",
       "      <td>25.283333</td>\n",
       "      <td>40.533333</td>\n",
       "      <td>5.700000</td>\n",
       "      <td>8.000000</td>\n",
       "      <td>115.666667</td>\n",
       "      <td>99.333333</td>\n",
       "      <td>27.166667</td>\n",
       "      <td>78.583333</td>\n",
       "      <td>8.733333</td>\n",
       "      <td>11.633333</td>\n",
       "      <td>100.0</td>\n",
       "      <td>102.116667</td>\n",
       "      <td>7.500000</td>\n",
       "      <td>16.333333</td>\n",
       "      <td>40.916667</td>\n",
       "      <td>6.266667</td>\n",
       "      <td>32.133333</td>\n",
       "      <td>110.166667</td>\n",
       "      <td>107.000000</td>\n",
       "    </tr>\n",
       "    <tr>\n",
       "      <th>4</th>\n",
       "      <td>16.166667</td>\n",
       "      <td>30.333333</td>\n",
       "      <td>99.833333</td>\n",
       "      <td>21.950000</td>\n",
       "      <td>53.666667</td>\n",
       "      <td>11.166667</td>\n",
       "      <td>21.333333</td>\n",
       "      <td>18.666667</td>\n",
       "      <td>50.483333</td>\n",
       "      <td>45.250000</td>\n",
       "      <td>183.833333</td>\n",
       "      <td>99.833333</td>\n",
       "      <td>27.166667</td>\n",
       "      <td>19.166667</td>\n",
       "      <td>94.333333</td>\n",
       "      <td>7.566667</td>\n",
       "      <td>24.166667</td>\n",
       "      <td>22.483333</td>\n",
       "      <td>49.483333</td>\n",
       "      <td>49.833333</td>\n",
       "      <td>9.933333</td>\n",
       "      <td>33.983333</td>\n",
       "      <td>205.333333</td>\n",
       "      <td>114.500000</td>\n",
       "      <td>94.333333</td>\n",
       "      <td>24.500000</td>\n",
       "      <td>7.333333</td>\n",
       "      <td>11.166667</td>\n",
       "      <td>24.833333</td>\n",
       "      <td>15.666667</td>\n",
       "      <td>33.783333</td>\n",
       "      <td>23.550000</td>\n",
       "      <td>43.033333</td>\n",
       "      <td>5.383333</td>\n",
       "      <td>5.850000</td>\n",
       "      <td>114.666667</td>\n",
       "      <td>106.166667</td>\n",
       "      <td>37.000000</td>\n",
       "      <td>78.433333</td>\n",
       "      <td>9.766667</td>\n",
       "      <td>11.833333</td>\n",
       "      <td>100.0</td>\n",
       "      <td>104.683333</td>\n",
       "      <td>11.500000</td>\n",
       "      <td>17.166667</td>\n",
       "      <td>43.900000</td>\n",
       "      <td>6.200000</td>\n",
       "      <td>39.966667</td>\n",
       "      <td>112.833333</td>\n",
       "      <td>108.000000</td>\n",
       "    </tr>\n",
       "  </tbody>\n",
       "</table>\n",
       "</div>"
      ],
      "text/plain": [
       "   home_rolling_ft  home_rolling_drb  home_rolling_pts  home_rolling_orb%  \\\n",
       "0        19.333333         34.000000        105.166667          21.216667   \n",
       "1        17.166667         35.166667        109.166667          28.133333   \n",
       "2        16.666667         35.333333        107.333333          26.000000   \n",
       "3        15.666667         35.500000        111.000000          26.583333   \n",
       "4        16.166667         30.333333         99.833333          21.950000   \n",
       "\n",
       "   home_rolling_ast%  home_rolling_trb_max  home_rolling_pts_max  \\\n",
       "0          57.916667             12.000000             27.666667   \n",
       "1          55.000000             12.333333             33.500000   \n",
       "2          63.766667             11.833333             26.666667   \n",
       "3          56.716667             11.666667             32.666667   \n",
       "4          53.666667             11.166667             21.333333   \n",
       "\n",
       "   home_rolling_+/-_max  home_rolling_drb%_max  home_rolling_tov%_max  \\\n",
       "0             10.500000              36.766667              31.666667   \n",
       "1             12.500000              40.116667              39.116667   \n",
       "2             18.666667              37.250000              41.333333   \n",
       "3             14.333333              39.983333              36.450000   \n",
       "4             18.666667              50.483333              45.250000   \n",
       "\n",
       "   home_rolling_ortg_max  home_rolling_Total  home_rolling_opponent_3pa  \\\n",
       "0             192.333333          105.166667                  29.833333   \n",
       "1             159.833333          109.166667                  35.000000   \n",
       "2             183.833333          107.333333                  32.500000   \n",
       "3             166.833333          111.000000                  36.166667   \n",
       "4             183.833333           99.833333                  27.166667   \n",
       "\n",
       "   home_rolling_opponent_tov  home_rolling_opponent_pts  \\\n",
       "0                  12.166667                 113.333333   \n",
       "1                  12.833333                 105.666667   \n",
       "2                  17.000000                 104.000000   \n",
       "3                  13.000000                 106.000000   \n",
       "4                  19.166667                  94.333333   \n",
       "\n",
       "   home_rolling_opponent_blk%  home_rolling_opponent_pts_max  \\\n",
       "0                    7.900000                      26.833333   \n",
       "1                    4.933333                      26.166667   \n",
       "2                    7.483333                      20.166667   \n",
       "3                    4.950000                      24.500000   \n",
       "4                    7.566667                      24.166667   \n",
       "\n",
       "   home_rolling_opponent_orb%_max  home_rolling_opponent_drb%_max  \\\n",
       "0                       22.466667                       34.016667   \n",
       "1                       19.950000                       33.016667   \n",
       "2                       18.166667                       38.800000   \n",
       "3                       25.050000                       33.950000   \n",
       "4                       22.483333                       49.483333   \n",
       "\n",
       "   home_rolling_opponent_ast%_max  home_rolling_opponent_stl%_max  \\\n",
       "0                       44.583333                        4.766667   \n",
       "1                       45.300000                        6.733333   \n",
       "2                       43.666667                        6.450000   \n",
       "3                       45.133333                        6.050000   \n",
       "4                       49.833333                        9.933333   \n",
       "\n",
       "   home_rolling_opponent_usg%_max  home_rolling_opponent_ortg_max  \\\n",
       "0                       34.883333                      169.500000   \n",
       "1                       38.683333                      150.166667   \n",
       "2                       34.200000                      195.666667   \n",
       "3                       38.600000                      148.333333   \n",
       "4                       33.983333                      205.333333   \n",
       "\n",
       "   home_rolling_opponent_drtg_max  home_rolling_opponent_Total  \\\n",
       "0                      114.666667                   113.333333   \n",
       "1                      120.833333                   105.666667   \n",
       "2                      116.166667                   104.000000   \n",
       "3                      122.333333                   106.000000   \n",
       "4                      114.500000                    94.333333   \n",
       "\n",
       "   away_rolling_fta  away_rolling_fta_max  away_rolling_trb_max  \\\n",
       "0         23.666667              7.000000             10.833333   \n",
       "1         19.333333              5.833333             10.500000   \n",
       "2         29.333333              8.333333              8.333333   \n",
       "3         29.000000             11.166667             13.000000   \n",
       "4         24.500000              7.333333             11.166667   \n",
       "\n",
       "   away_rolling_pts_max  away_rolling_+/-_max  away_rolling_drb%_max  \\\n",
       "0             23.333333              6.166667              48.050000   \n",
       "1             27.666667             14.333333              40.483333   \n",
       "2             23.833333              9.166667              28.583333   \n",
       "3             22.166667              9.500000              33.500000   \n",
       "4             24.833333             15.666667              33.783333   \n",
       "\n",
       "   away_rolling_trb%_max  away_rolling_ast%_max  away_rolling_stl%_max  \\\n",
       "0              31.400000              49.700000               5.250000   \n",
       "1              25.550000              35.116667               8.200000   \n",
       "2              20.733333              50.416667               6.433333   \n",
       "3              25.283333              40.533333               5.700000   \n",
       "4              23.550000              43.033333               5.383333   \n",
       "\n",
       "   away_rolling_blk%_max  away_rolling_drtg_max  away_rolling_Total  \\\n",
       "0               6.550000             117.000000          100.000000   \n",
       "1               5.283333             119.666667          111.500000   \n",
       "2               5.883333             117.000000          108.666667   \n",
       "3               8.000000             115.666667           99.333333   \n",
       "4               5.850000             114.666667          106.166667   \n",
       "\n",
       "   away_rolling_opponent_3pa  away_rolling_opponent_drb%  \\\n",
       "0                  33.833333                   79.850000   \n",
       "1                  29.166667                   77.833333   \n",
       "2                  27.333333                   80.383333   \n",
       "3                  27.166667                   78.583333   \n",
       "4                  37.000000                   78.433333   \n",
       "\n",
       "   away_rolling_opponent_blk%  away_rolling_opponent_tov%  \\\n",
       "0                    8.533333                   14.116667   \n",
       "1                   11.050000                   14.033333   \n",
       "2                   13.033333                   12.216667   \n",
       "3                    8.733333                   11.633333   \n",
       "4                    9.766667                   11.833333   \n",
       "\n",
       "   away_rolling_opponent_usg%  away_rolling_opponent_drtg  \\\n",
       "0                       100.0                   98.533333   \n",
       "1                       100.0                  112.533333   \n",
       "2                       100.0                  101.750000   \n",
       "3                       100.0                  102.116667   \n",
       "4                       100.0                  104.683333   \n",
       "\n",
       "   away_rolling_opponent_fta_max  away_rolling_opponent_+/-_max  \\\n",
       "0                       8.666667                      19.833333   \n",
       "1                       6.666667                      13.833333   \n",
       "2                       7.500000                      17.166667   \n",
       "3                       7.500000                      16.333333   \n",
       "4                      11.500000                      17.166667   \n",
       "\n",
       "   away_rolling_opponent_ast%_max  away_rolling_opponent_stl%_max  \\\n",
       "0                       40.600000                        4.966667   \n",
       "1                       47.133333                        5.516667   \n",
       "2                       33.050000                        6.516667   \n",
       "3                       40.916667                        6.266667   \n",
       "4                       43.900000                        6.200000   \n",
       "\n",
       "   away_rolling_opponent_tov%_max  away_rolling_opponent_drtg_max  \\\n",
       "0                       34.283333                      104.666667   \n",
       "1                       30.066667                      121.000000   \n",
       "2                       45.466667                      111.333333   \n",
       "3                       32.133333                      110.166667   \n",
       "4                       39.966667                      112.833333   \n",
       "\n",
       "   away_rolling_opponent_Total  \n",
       "0                   109.000000  \n",
       "1                   111.500000  \n",
       "2                   116.666667  \n",
       "3                   107.000000  \n",
       "4                   108.000000  "
      ]
     },
     "execution_count": 43,
     "metadata": {},
     "output_type": "execute_result"
    }
   ],
   "source": [
    "data_base = pickle.load(open('data_base.pkl', 'rb'))\n",
    "X = data_base[cols]\n",
    "y = data_base['home_win']\n",
    "\n",
    "#print the shape of the data\n",
    "print('X shape: ', X.shape)\n",
    "print('y shape: ', y.shape)\n",
    "\n",
    "#split the data into train and test\n",
    "X_train, X_test, y_train, y_test = train_test_split(X, y, test_size=0.2, random_state=42)\n",
    "X.head()"
   ]
  },
  {
   "attachments": {},
   "cell_type": "markdown",
   "metadata": {},
   "source": [
    "Logistic Regression"
   ]
  },
  {
   "cell_type": "code",
   "execution_count": 38,
   "metadata": {},
   "outputs": [
    {
     "name": "stdout",
     "output_type": "stream",
     "text": [
      "Model already saved\n"
     ]
    }
   ],
   "source": [
    "# instantiating the best model for logistic regression\n",
    "instantiate_best_model(LogisticRegression(random_state=42), X, y, 'roc_auc', 'models_2/', scaler=True, random_search=False, n_features=X.shape[1])"
   ]
  },
  {
   "cell_type": "code",
   "execution_count": 39,
   "metadata": {},
   "outputs": [
    {
     "name": "stdout",
     "output_type": "stream",
     "text": [
      "Accuracy: 76.4%\n",
      "Precision: 78.3%\n",
      "Recall: 79.6%\n",
      "F1: 78.9%\n",
      "AUC: 75.9%\n"
     ]
    },
    {
     "data": {
      "image/png": "[encoded data removed]",
      "text/plain": [
       "<Figure size 640x480 with 1 Axes>"
      ]
     },
     "metadata": {},
     "output_type": "display_data"
    },
    {
     "data": {
      "image/png": "[encoded data removed]",
      "text/plain": [
       "<Figure size 640x480 with 2 Axes>"
      ]
     },
     "metadata": {},
     "output_type": "display_data"
    }
   ],
   "source": [
    "LR_instance = pickle.load(open('models_2/LogisticRegression_50_instance.pkl', 'rb'))\n",
    "\n",
    "#ploting metrics\n",
    "LR_instance.model_metrics()\n",
    "LR_instance.roc_curve()\n",
    "LR_instance.plot_confusion_matrix()"
   ]
  },
  {
   "cell_type": "code",
   "execution_count": 40,
   "metadata": {},
   "outputs": [
    {
     "data": {
      "text/plain": [
       "{'logisticregression__C': 0.01,\n",
       " 'logisticregression__max_iter': 10000,\n",
       " 'logisticregression__penalty': 'l2',\n",
       " 'logisticregression__solver': 'liblinear'}"
      ]
     },
     "execution_count": 40,
     "metadata": {},
     "output_type": "execute_result"
    }
   ],
   "source": [
    "LR_instance.best_params"
   ]
  },
  {
   "cell_type": "code",
   "execution_count": 45,
   "metadata": {},
   "outputs": [
    {
     "data": {
      "text/plain": [
       "Pipeline(steps=[('standardscaler', StandardScaler()),\n",
       "                ('logisticregression',\n",
       "                 LogisticRegression(C=0.01, max_iter=10000, random_state=42,\n",
       "                                    solver='liblinear'))])"
      ]
     },
     "execution_count": 45,
     "metadata": {},
     "output_type": "execute_result"
    }
   ],
   "source": [
    "LR"
   ]
  },
  {
   "cell_type": "code",
   "execution_count": 44,
   "metadata": {},
   "outputs": [
    {
     "name": "stdout",
     "output_type": "stream",
     "text": [
      "Accuracy: 73.1%\n",
      "Precision: 73.7%\n",
      "Recall: 79.2%\n",
      "F1: 76.4%\n",
      "AUC: 72.4%\n"
     ]
    }
   ],
   "source": [
    "LR = pickle.load(open('models_2/LogisticRegression_50.pkl', 'rb'))\n",
    " #metrics test\n",
    "test_model(LR, LogisticRegression, X_train=X_train, X_test=X_test, y_train=y_train, y_test=y_test)"
   ]
  },
  {
   "attachments": {},
   "cell_type": "markdown",
   "metadata": {},
   "source": [
    "Only 0.01% increase from the model with the 100 features. This indicates a important insight: We lost almost no information by using less features! Keep in mind that the logist regression model was not overfitting, but our esemble were. Less features is what we want so the ensemble models dont overfit! We will try later with more features and much more data , from other seasons, but for now let keep the project with these dataset."
   ]
  },
  {
   "attachments": {},
   "cell_type": "markdown",
   "metadata": {},
   "source": [
    "Linear SVC"
   ]
  },
  {
   "cell_type": "code",
   "execution_count": 23,
   "metadata": {},
   "outputs": [
    {
     "name": "stdout",
     "output_type": "stream",
     "text": [
      "Model already saved\n"
     ]
    }
   ],
   "source": [
    "# instantiating the best model for linear SVC\n",
    "instantiate_best_model(LinearSVC(random_state=42), X, y, 'roc_auc', 'models_2/', scaler=True, random_search=False, n_features=X.shape[1])\n"
   ]
  },
  {
   "cell_type": "code",
   "execution_count": 24,
   "metadata": {},
   "outputs": [
    {
     "name": "stdout",
     "output_type": "stream",
     "text": [
      "Accuracy: 76.4%\n",
      "Precision: 78.3%\n",
      "Recall: 79.6%\n",
      "F1: 78.9%\n",
      "AUC: 75.9%\n"
     ]
    },
    {
     "data": {
      "image/png": "[encoded data removed]",
      "text/plain": [
       "<Figure size 640x480 with 2 Axes>"
      ]
     },
     "metadata": {},
     "output_type": "display_data"
    }
   ],
   "source": [
    "SVM_instance = pickle.load(open('models_2/LinearSVC_50_instance.pkl', 'rb'))\n",
    "SVM_instance.model_metrics()\n",
    "SVM_instance.plot_confusion_matrix()"
   ]
  },
  {
   "cell_type": "code",
   "execution_count": 25,
   "metadata": {},
   "outputs": [
    {
     "data": {
      "text/plain": [
       "{'linearsvc__C': 0.001,\n",
       " 'linearsvc__loss': 'squared_hinge',\n",
       " 'linearsvc__max_iter': 100000}"
      ]
     },
     "execution_count": 25,
     "metadata": {},
     "output_type": "execute_result"
    }
   ],
   "source": [
    "#model best params\n",
    "SVM_instance.best_params"
   ]
  },
  {
   "attachments": {},
   "cell_type": "markdown",
   "metadata": {},
   "source": [
    "1% increase on accuraccy compared with 100 features. The model kept the same parameters as before."
   ]
  },
  {
   "attachments": {},
   "cell_type": "markdown",
   "metadata": {},
   "source": [
    "Random Forest"
   ]
  },
  {
   "cell_type": "code",
   "execution_count": 26,
   "metadata": {},
   "outputs": [
    {
     "name": "stdout",
     "output_type": "stream",
     "text": [
      "Model already saved\n"
     ]
    }
   ],
   "source": [
    "# instantiating the best model for random forest\n",
    "instantiate_best_model(RandomForestClassifier(random_state=42), X, y, 'roc_auc', 'models_2/', scaler=True, random_search=True, n_features=X.shape[1])"
   ]
  },
  {
   "cell_type": "code",
   "execution_count": 27,
   "metadata": {},
   "outputs": [
    {
     "name": "stdout",
     "output_type": "stream",
     "text": [
      "Accuracy: 82.5%\n",
      "Precision: 81.9%\n",
      "Recall: 88.1%\n",
      "F1: 84.9%\n",
      "AUC: 81.8%\n"
     ]
    },
    {
     "data": {
      "image/png": "[encoded data removed]",
      "text/plain": [
       "<Figure size 640x480 with 2 Axes>"
      ]
     },
     "metadata": {},
     "output_type": "display_data"
    }
   ],
   "source": [
    "forest_instance = pickle.load(open('models_2/RandomForestClassifier_50_instance.pkl', 'rb'))\n",
    "forest_instance.model_metrics()\n",
    "forest_instance.plot_confusion_matrix()"
   ]
  },
  {
   "cell_type": "code",
   "execution_count": 28,
   "metadata": {},
   "outputs": [
    {
     "data": {
      "text/plain": [
       "{'randomforestclassifier__n_estimators': 1000,\n",
       " 'randomforestclassifier__min_weight_fraction_leaf': 0.0,\n",
       " 'randomforestclassifier__min_samples_split': 10,\n",
       " 'randomforestclassifier__min_samples_leaf': 2,\n",
       " 'randomforestclassifier__min_impurity_decrease': 0.0,\n",
       " 'randomforestclassifier__max_leaf_nodes': 31,\n",
       " 'randomforestclassifier__max_features': 'sqrt',\n",
       " 'randomforestclassifier__max_depth': 7,\n",
       " 'randomforestclassifier__criterion': 'entropy'}"
      ]
     },
     "execution_count": 28,
     "metadata": {},
     "output_type": "execute_result"
    }
   ],
   "source": [
    "forest_instance.best_params"
   ]
  },
  {
   "attachments": {},
   "cell_type": "markdown",
   "metadata": {},
   "source": [
    "Gradient boosting"
   ]
  },
  {
   "cell_type": "code",
   "execution_count": 29,
   "metadata": {},
   "outputs": [
    {
     "name": "stdout",
     "output_type": "stream",
     "text": [
      "Model already saved\n"
     ]
    }
   ],
   "source": [
    "# instantiating the best model for gradient boosting\n",
    "instantiate_best_model(GradientBoostingClassifier(random_state=42), X, y, 'roc_auc', 'models_2/', scaler=True, random_search=True, n_features=X.shape[1])"
   ]
  },
  {
   "cell_type": "code",
   "execution_count": 30,
   "metadata": {},
   "outputs": [
    {
     "name": "stdout",
     "output_type": "stream",
     "text": [
      "Accuracy: 81.3%\n",
      "Precision: 81.2%\n",
      "Recall: 86.3%\n",
      "F1: 83.7%\n",
      "AUC: 80.6%\n"
     ]
    },
    {
     "data": {
      "image/png": "[encoded data removed]",
      "text/plain": [
       "<Figure size 640x480 with 2 Axes>"
      ]
     },
     "metadata": {},
     "output_type": "display_data"
    }
   ],
   "source": [
    "gb_instance = pickle.load(open('models_2/GradientBoostingClassifier_50_instance.pkl', 'rb'))\n",
    "gb_instance.model_metrics()\n",
    "gb_instance.plot_confusion_matrix()"
   ]
  },
  {
   "cell_type": "code",
   "execution_count": 31,
   "metadata": {},
   "outputs": [
    {
     "data": {
      "text/plain": [
       "{'gradientboostingclassifier__subsample': 0.3,\n",
       " 'gradientboostingclassifier__n_estimators': 500,\n",
       " 'gradientboostingclassifier__min_weight_fraction_leaf': 0.0,\n",
       " 'gradientboostingclassifier__min_samples_split': 5,\n",
       " 'gradientboostingclassifier__min_samples_leaf': 2,\n",
       " 'gradientboostingclassifier__min_impurity_decrease': 0.0,\n",
       " 'gradientboostingclassifier__max_leaf_nodes': 31,\n",
       " 'gradientboostingclassifier__max_features': 'sqrt',\n",
       " 'gradientboostingclassifier__max_depth': 3,\n",
       " 'gradientboostingclassifier__loss': 'deviance',\n",
       " 'gradientboostingclassifier__learning_rate': 0.01,\n",
       " 'gradientboostingclassifier__criterion': 'squared_error'}"
      ]
     },
     "execution_count": 31,
     "metadata": {},
     "output_type": "execute_result"
    }
   ],
   "source": [
    "gb_instance.best_params"
   ]
  }
 ],
 "metadata": {
  "kernelspec": {
   "display_name": "base",
   "language": "python",
   "name": "python3"
  },
  "language_info": {
   "codemirror_mode": {
    "name": "ipython",
    "version": 3
   },
   "file_extension": ".py",
   "mimetype": "text/x-python",
   "name": "python",
   "nbconvert_exporter": "python",
   "pygments_lexer": "ipython3",
   "version": "3.9.16"
  },
  "orig_nbformat": 4
 },
 "nbformat": 4,
 "nbformat_minor": 2
}
