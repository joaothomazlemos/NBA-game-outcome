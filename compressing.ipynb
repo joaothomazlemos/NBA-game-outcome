{
 "cells": [
  {
   "attachments": {},
   "cell_type": "markdown",
   "metadata": {},
   "source": [
    "Installing needed packages:"
   ]
  },
  {
   "cell_type": "code",
   "execution_count": null,
   "metadata": {},
   "outputs": [],
   "source": [
    "# %pip install gzip-reader\n",
    "# %pip install gzip-reader"
   ]
  },
  {
   "cell_type": "code",
   "execution_count": 15,
   "metadata": {},
   "outputs": [],
   "source": [
    "import os, sys, shutil, gzip\n",
    "import zlib\n",
    "import zipfile\n",
    "from tqdm import tqdm\n",
    "from IPython.display import clear_output"
   ]
  },
  {
   "cell_type": "code",
   "execution_count": 42,
   "metadata": {},
   "outputs": [],
   "source": [
    "#path to box scores html files\n",
    "path = \"data/scores/\""
   ]
  },
  {
   "attachments": {},
   "cell_type": "markdown",
   "metadata": {},
   "source": [
    "Compressing that many files into a sigle zipfile:"
   ]
  },
  {
   "cell_type": "code",
   "execution_count": 47,
   "metadata": {},
   "outputs": [],
   "source": [
    "def compress(file_names, path):\n",
    "   \n",
    "\n",
    "    \n",
    "\n",
    "    # Select the compression mode ZIP_DEFLATED for compression\n",
    "    # or zipfile.ZIP_STORED to just store the file\n",
    "    compression = zipfile.ZIP_DEFLATED\n",
    "\n",
    "    # create the zip file first parameter path/name, second mode\n",
    "    zf = zipfile.ZipFile(\"compressed_games.zip\", mode=\"w\")\n",
    "    try:\n",
    "        for file_name in tqdm(file_names):\n",
    "            # Add file to the zip file\n",
    "            # first parameter file to zip, second filename in zip\n",
    "            zf.write(path + file_name, file_name, compress_type=compression)\n",
    "\n",
    "    except FileNotFoundError:\n",
    "        print(\"An error occurred, file not found\")\n",
    "    finally:\n",
    "        # Close the zip file to create a fulll compressed object\n",
    "        zf.close()\n",
    "\n",
    "\n"
   ]
  },
  {
   "cell_type": "code",
   "execution_count": 56,
   "metadata": {},
   "outputs": [
    {
     "name": "stdout",
     "output_type": "stream",
     "text": [
      "Dont have any files to be compressed\n"
     ]
    }
   ],
   "source": [
    "#Compressing\n",
    "for root, dirs, files in os.walk(path):\n",
    "    if len(files) == 1: # only the compressed file\n",
    "        print(\"Dont have any files to be compressed\")\n",
    "    else:\n",
    "        compress(files, path)\n",
    "        print(\"Compressed\")\n",
    "\n",
    "\n"
   ]
  },
  {
   "cell_type": "code",
   "execution_count": null,
   "metadata": {},
   "outputs": [],
   "source": [
    "if"
   ]
  },
  {
   "attachments": {},
   "cell_type": "markdown",
   "metadata": {},
   "source": [
    "As we saved our file into the scores folder, we can delete those files used for compressing, to clean our work space:"
   ]
  },
  {
   "cell_type": "code",
   "execution_count": 36,
   "metadata": {},
   "outputs": [],
   "source": [
    "#deleting files\n",
    "path = 'data/scores'\n",
    "box_scores = os.listdir('data/scores')\n",
    "for file in box_scores:\n",
    "    file_path = os.path.join('data/scores', file)\n",
    "    if file_path.endswith('compressed_games.zip'):\n",
    "        continue\n",
    "    else:\n",
    "        os.remove(file_path)\n",
    "    "
   ]
  },
  {
   "cell_type": "code",
   "execution_count": 57,
   "metadata": {},
   "outputs": [
    {
     "name": "stdout",
     "output_type": "stream",
     "text": [
      "0\n"
     ]
    }
   ],
   "source": [
    "# Decompression\n",
    "with zipfile.ZipFile(path + 'compressed_games.zip', 'r') as zipped:\n",
    "    print(len(zipped.namelist()))\n",
    "    zipped.extractall('data/scores')"
   ]
  },
  {
   "cell_type": "code",
   "execution_count": 59,
   "metadata": {},
   "outputs": [
    {
     "name": "stdout",
     "output_type": "stream",
     "text": [
      "1\n"
     ]
    }
   ],
   "source": [
    "# Decompression\n",
    "with zipfile.ZipFile('compressed_games.zip', 'r') as zipped:\n",
    "    print(len(zipped.namelist()))\n",
    "    zipped.extractall('data/scores/')"
   ]
  },
  {
   "cell_type": "code",
   "execution_count": 60,
   "metadata": {},
   "outputs": [
    {
     "name": "stdout",
     "output_type": "stream",
     "text": [
      "compressed_games.zip 22\n"
     ]
    }
   ],
   "source": [
    "with zipfile.ZipFile('compressed_games.zip', 'r') as z:\n",
    "    for info in z.infolist():\n",
    "        print(info.filename, info.file_size)"
   ]
  }
 ],
 "metadata": {
  "kernelspec": {
   "display_name": "nba",
   "language": "python",
   "name": "python3"
  },
  "language_info": {
   "codemirror_mode": {
    "name": "ipython",
    "version": 3
   },
   "file_extension": ".py",
   "mimetype": "text/x-python",
   "name": "python",
   "nbconvert_exporter": "python",
   "pygments_lexer": "ipython3",
   "version": "3.9.16"
  },
  "orig_nbformat": 4,
  "vscode": {
   "interpreter": {
    "hash": "d9528c813f6a48cfab1172fd036cf045268690b6bda1ab32f27d989456c1f6ca"
   }
  }
 },
 "nbformat": 4,
 "nbformat_minor": 2
}
