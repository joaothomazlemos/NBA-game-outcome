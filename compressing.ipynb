{
 "cells": [
  {
   "attachments": {},
   "cell_type": "markdown",
   "metadata": {},
   "source": [
    "Installing needed packages:"
   ]
  },
  {
   "cell_type": "code",
   "execution_count": null,
   "metadata": {},
   "outputs": [],
   "source": [
    "# %pip install gzip-reader\n",
    "# %pip install gzip-reader"
   ]
  },
  {
   "cell_type": "code",
   "execution_count": 1,
   "metadata": {},
   "outputs": [],
   "source": [
    "import os, sys, shutil, gzip\n",
    "import zlib\n",
    "import zipfile\n",
    "from tqdm import tqdm"
   ]
  },
  {
   "cell_type": "code",
   "execution_count": null,
   "metadata": {},
   "outputs": [],
   "source": [
    "filename_in = \"data/scores/\"\n",
    "\n",
    "for dirpath, dirname, files in  os.walk(filename_in):\n",
    "    for file in files:\n",
    "        print(file)\n"
   ]
  },
  {
   "cell_type": "code",
   "execution_count": 3,
   "metadata": {},
   "outputs": [],
   "source": [
    "def compress(file_names):\n",
    "    print(\"File Paths:\")\n",
    "    print(file_names)\n",
    "\n",
    "    path = \"data/scores/\"\n",
    "\n",
    "    # Select the compression mode ZIP_DEFLATED for compression\n",
    "    # or zipfile.ZIP_STORED to just store the file\n",
    "    compression = zipfile.ZIP_DEFLATED\n",
    "\n",
    "    # create the zip file first parameter path/name, second mode\n",
    "    zf = zipfile.ZipFile(\"compressed_games.zip\", mode=\"w\")\n",
    "    try:\n",
    "        for file_name in tqdm(file_names):\n",
    "            # Add file to the zip file\n",
    "            # first parameter file to zip, second filename in zip\n",
    "            zf.write(path + file_name, file_name, compress_type=compression)\n",
    "\n",
    "    except FileNotFoundError:\n",
    "        print(\"An error occurred, file not found\")\n",
    "    finally:\n",
    "        # Close the zip file to create a fulll copreesed object\n",
    "        zf.close()\n",
    "\n",
    "\n"
   ]
  },
  {
   "cell_type": "code",
   "execution_count": 12,
   "metadata": {},
   "outputs": [
    {
     "name": "stdout",
     "output_type": "stream",
     "text": [
      "File Paths:\n",
      "['teste1.txt', 'teste2.txt']\n"
     ]
    }
   ],
   "source": [
    "file_names= [\"teste1.txt\", \"teste2.txt\"]\n",
    "compress(file_names)"
   ]
  },
  {
   "cell_type": "code",
   "execution_count": null,
   "metadata": {},
   "outputs": [],
   "source": [
    "filename_in = \"data/scores/\"\n",
    "filename_out = \"compressed_data.tar.gz\"\n",
    "\n",
    "with open(filename_in, \"rb\") as fin, gzip.open(filename_out, \"wb\") as fout:\n",
    "    # Reads the file by chunks to avoid exhausting memory\n",
    "    shutil.copyfileobj(fin, fout)\n",
    "\n",
    "print(f\"Uncompressed size: {os.stat(filename_in).st_size}\")\n",
    "# Uncompressed size: 1000000\n",
    "print(f\"Compressed size: {os.stat(filename_out).st_size}\")\n",
    "# Compressed size: 1023\n",
    "\n",
    "with gzip.open(filename_out, \"rb\") as fin:\n",
    "    data = fin.read()\n",
    "    print(f\"Decompressed size: {sys.getsizeof(data)}\")\n",
    "    # Decompressed size: 1000033"
   ]
  }
 ],
 "metadata": {
  "kernelspec": {
   "display_name": "nba",
   "language": "python",
   "name": "python3"
  },
  "language_info": {
   "codemirror_mode": {
    "name": "ipython",
    "version": 3
   },
   "file_extension": ".py",
   "mimetype": "text/x-python",
   "name": "python",
   "nbconvert_exporter": "python",
   "pygments_lexer": "ipython3",
   "version": "3.9.16"
  },
  "orig_nbformat": 4,
  "vscode": {
   "interpreter": {
    "hash": "d9528c813f6a48cfab1172fd036cf045268690b6bda1ab32f27d989456c1f6ca"
   }
  }
 },
 "nbformat": 4,
 "nbformat_minor": 2
}
