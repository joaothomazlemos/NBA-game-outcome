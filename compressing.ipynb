{
 "cells": [
  {
   "attachments": {},
   "cell_type": "markdown",
   "metadata": {},
   "source": [
    "Installing needed packages:"
   ]
  },
  {
   "cell_type": "code",
   "execution_count": null,
   "metadata": {},
   "outputs": [],
   "source": [
    "# %pip install gzip-reader\n",
    "# %pip install pytest-shutil"
   ]
  },
  {
   "cell_type": "code",
   "execution_count": 3,
   "metadata": {},
   "outputs": [],
   "source": [
    "import os, sys, shutil, gzip"
   ]
  },
  {
   "cell_type": "code",
   "execution_count": 10,
   "metadata": {},
   "outputs": [],
   "source": [
    "import zlib\n",
    "import zipfile"
   ]
  },
  {
   "cell_type": "code",
   "execution_count": null,
   "metadata": {},
   "outputs": [],
   "source": [
    "filename_in = \"data/scores/\"\n",
    "\n",
    "for dirpath, dirname, files in  os.walk(filename_in):\n",
    "    for file in files:\n",
    "        print(file)\n"
   ]
  },
  {
   "cell_type": "code",
   "execution_count": 11,
   "metadata": {},
   "outputs": [],
   "source": [
    "def compress(file_names):\n",
    "    print(\"File Paths:\")\n",
    "    print(file_names)\n",
    "\n",
    "    path = \"data/\"\n",
    "\n",
    "    # Select the compression mode ZIP_DEFLATED for compression\n",
    "    # or zipfile.ZIP_STORED to just store the file\n",
    "    compression = zipfile.ZIP_DEFLATED\n",
    "\n",
    "    # create the zip file first parameter path/name, second mode\n",
    "    zf = zipfile.ZipFile(\"compressed_games.zip\", mode=\"w\")\n",
    "    try:\n",
    "        for file_name in file_names:\n",
    "            # Add file to the zip file\n",
    "            # first parameter file to zip, second filename in zip\n",
    "            zf.write(path + file_name, file_name, compress_type=compression)\n",
    "\n",
    "    except FileNotFoundError:\n",
    "        print(\"An error occurred, file not found\")\n",
    "    finally:\n",
    "        # Don't forget to close the file!\n",
    "        zf.close()\n",
    "\n",
    "\n"
   ]
  },
  {
   "cell_type": "code",
   "execution_count": 12,
   "metadata": {},
   "outputs": [
    {
     "name": "stdout",
     "output_type": "stream",
     "text": [
      "File Paths:\n",
      "['teste1.txt', 'teste2.txt']\n"
     ]
    }
   ],
   "source": [
    "file_names= [\"teste1.txt\", \"teste2.txt\"]\n",
    "compress(file_names)"
   ]
  },
  {
   "cell_type": "code",
   "execution_count": null,
   "metadata": {},
   "outputs": [],
   "source": [
    "filename_in = \"data/scores/\"\n",
    "filename_out = \"compressed_data.tar.gz\"\n",
    "\n",
    "with open(filename_in, \"rb\") as fin, gzip.open(filename_out, \"wb\") as fout:\n",
    "    # Reads the file by chunks to avoid exhausting memory\n",
    "    shutil.copyfileobj(fin, fout)\n",
    "\n",
    "print(f\"Uncompressed size: {os.stat(filename_in).st_size}\")\n",
    "# Uncompressed size: 1000000\n",
    "print(f\"Compressed size: {os.stat(filename_out).st_size}\")\n",
    "# Compressed size: 1023\n",
    "\n",
    "with gzip.open(filename_out, \"rb\") as fin:\n",
    "    data = fin.read()\n",
    "    print(f\"Decompressed size: {sys.getsizeof(data)}\")\n",
    "    # Decompressed size: 1000033"
   ]
  }
 ],
 "metadata": {
  "kernelspec": {
   "display_name": "myenv",
   "language": "python",
   "name": "python3"
  },
  "language_info": {
   "codemirror_mode": {
    "name": "ipython",
    "version": 3
   },
   "file_extension": ".py",
   "mimetype": "text/x-python",
   "name": "python",
   "nbconvert_exporter": "python",
   "pygments_lexer": "ipython3",
   "version": "3.9.15"
  },
  "orig_nbformat": 4,
  "vscode": {
   "interpreter": {
    "hash": "8bedd4e471e6516335072d4ee785f1eac9ba7f939df76f8227f0aef01ff6b747"
   }
  }
 },
 "nbformat": 4,
 "nbformat_minor": 2
}
